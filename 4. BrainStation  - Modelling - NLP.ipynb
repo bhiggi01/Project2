{
 "cells": [
  {
   "cell_type": "markdown",
   "id": "5ad98898",
   "metadata": {},
   "source": [
    " # **Capstone Project: Can Social Media Affect Share Price**"
   ]
  },
  {
   "cell_type": "markdown",
   "id": "403c8d4e",
   "metadata": {},
   "source": [
    "                      Brian Higgins | 4th April 2022 | BrainStation"
   ]
  },
  {
   "cell_type": "markdown",
   "id": "d3292455",
   "metadata": {},
   "source": [
    "---\n",
    "---\n",
    "---"
   ]
  },
  {
   "cell_type": "markdown",
   "id": "d2a123ea",
   "metadata": {
    "toc": true
   },
   "source": [
    "<h1>Table of Contents<span class=\"tocSkip\"></span></h1>\n",
    "<div class=\"toc\"><ul class=\"toc-item\"><li><span><a href=\"#Capstone-Project:-Can-Social-Media-Affect-Share-Price\" data-toc-modified-id=\"Capstone-Project:-Can-Social-Media-Affect-Share-Price-1\"><span class=\"toc-item-num\">1&nbsp;&nbsp;</span><strong>Capstone Project: Can Social Media Affect Share Price</strong></a></span></li><li><span><a href=\"#Modelling\" data-toc-modified-id=\"Modelling-2\"><span class=\"toc-item-num\">2&nbsp;&nbsp;</span><strong>Modelling</strong></a></span><ul class=\"toc-item\"><li><span><a href=\"#Modelling-Results\" data-toc-modified-id=\"Modelling-Results-2.1\"><span class=\"toc-item-num\">2.1&nbsp;&nbsp;</span><strong>Modelling Results</strong></a></span></li><li><span><a href=\"#Modelling-Computation-Power\" data-toc-modified-id=\"Modelling-Computation-Power-2.2\"><span class=\"toc-item-num\">2.2&nbsp;&nbsp;</span><strong>Modelling Computation Power</strong></a></span></li><li><span><a href=\"#Load-Libraries\" data-toc-modified-id=\"Load-Libraries-2.3\"><span class=\"toc-item-num\">2.3&nbsp;&nbsp;</span><strong>Load Libraries</strong></a></span></li><li><span><a href=\"#Library-Module-Issue\" data-toc-modified-id=\"Library-Module-Issue-2.4\"><span class=\"toc-item-num\">2.4&nbsp;&nbsp;</span><strong>Library Module Issue</strong></a></span></li><li><span><a href=\"#Load-Data\" data-toc-modified-id=\"Load-Data-2.5\"><span class=\"toc-item-num\">2.5&nbsp;&nbsp;</span><strong>Load Data</strong></a></span></li><li><span><a href=\"#Comment-out-save-of-plots\" data-toc-modified-id=\"Comment-out-save-of-plots-2.6\"><span class=\"toc-item-num\">2.6&nbsp;&nbsp;</span><strong>Comment out save of plots</strong></a></span></li></ul></li><li><span><a href=\"#Natural-Language-Processing:-Overview\" data-toc-modified-id=\"Natural-Language-Processing:-Overview-3\"><span class=\"toc-item-num\">3&nbsp;&nbsp;</span><strong>Natural Language Processing: Overview</strong></a></span><ul class=\"toc-item\"><li><span><a href=\"#NLP:-Bag-of-words\" data-toc-modified-id=\"NLP:-Bag-of-words-3.1\"><span class=\"toc-item-num\">3.1&nbsp;&nbsp;</span><strong>NLP: Bag of words</strong></a></span></li><li><span><a href=\"#What-kind-of-words-are-appearing\" data-toc-modified-id=\"What-kind-of-words-are-appearing-3.2\"><span class=\"toc-item-num\">3.2&nbsp;&nbsp;</span><strong>What kind of words are appearing</strong></a></span></li></ul></li><li><span><a href=\"#Prep-Data-for-Modelling\" data-toc-modified-id=\"Prep-Data-for-Modelling-4\"><span class=\"toc-item-num\">4&nbsp;&nbsp;</span><strong>Prep Data for Modelling</strong></a></span><ul class=\"toc-item\"><li><span><a href=\"#Splitting-data-by-a-date-range\" data-toc-modified-id=\"Splitting-data-by-a-date-range-4.1\"><span class=\"toc-item-num\">4.1&nbsp;&nbsp;</span><strong>Splitting data by a date range</strong></a></span></li><li><span><a href=\"#Train/-Test-Size-Issue\" data-toc-modified-id=\"Train/-Test-Size-Issue-4.2\"><span class=\"toc-item-num\">4.2&nbsp;&nbsp;</span><strong>Train/ Test Size Issue</strong></a></span><ul class=\"toc-item\"><li><span><a href=\"#A_train-/-A_test-Range\" data-toc-modified-id=\"A_train-/-A_test-Range-4.2.1\"><span class=\"toc-item-num\">4.2.1&nbsp;&nbsp;</span><strong>A_train / A_test Range</strong></a></span></li><li><span><a href=\"#B_train-/-B_test-Range\" data-toc-modified-id=\"B_train-/-B_test-Range-4.2.2\"><span class=\"toc-item-num\">4.2.2&nbsp;&nbsp;</span><strong>B_train / B_test Range</strong></a></span></li><li><span><a href=\"#C_train-/-C_test-Range\" data-toc-modified-id=\"C_train-/-C_test-Range-4.2.3\"><span class=\"toc-item-num\">4.2.3&nbsp;&nbsp;</span><strong>C_train / C_test Range</strong></a></span></li></ul></li><li><span><a href=\"#Preparing-Train-and-Test-Independent-and-Dependent-variables\" data-toc-modified-id=\"Preparing-Train-and-Test-Independent-and-Dependent-variables-4.3\"><span class=\"toc-item-num\">4.3&nbsp;&nbsp;</span><strong>Preparing Train and Test Independent and Dependent variables</strong></a></span><ul class=\"toc-item\"><li><span><a href=\"#A_train-/-A_test-Independent-and-Dependent-variables\" data-toc-modified-id=\"A_train-/-A_test-Independent-and-Dependent-variables-4.3.1\"><span class=\"toc-item-num\">4.3.1&nbsp;&nbsp;</span><strong>A_train / A_test Independent and Dependent variables</strong></a></span></li><li><span><a href=\"#B_train-/-B_test-Range-Independent-and-Dependent-variables\" data-toc-modified-id=\"B_train-/-B_test-Range-Independent-and-Dependent-variables-4.3.2\"><span class=\"toc-item-num\">4.3.2&nbsp;&nbsp;</span><strong>B_train / B_test Range Independent and Dependent variables</strong></a></span></li><li><span><a href=\"#C_train-/-C_test-Range-Independent-and-Dependent-variables\" data-toc-modified-id=\"C_train-/-C_test-Range-Independent-and-Dependent-variables-4.3.3\"><span class=\"toc-item-num\">4.3.3&nbsp;&nbsp;</span><strong>C_train / C_test Range Independent and Dependent variables</strong></a></span></li></ul></li><li><span><a href=\"#Bag-of-Words-on-Train-and-Test-rather-than-doing-before\" data-toc-modified-id=\"Bag-of-Words-on-Train-and-Test-rather-than-doing-before-4.4\"><span class=\"toc-item-num\">4.4&nbsp;&nbsp;</span><strong>Bag of Words on Train and Test rather than doing before</strong></a></span><ul class=\"toc-item\"><li><span><a href=\"#A_X_train-NLP-features\" data-toc-modified-id=\"A_X_train-NLP-features-4.4.1\"><span class=\"toc-item-num\">4.4.1&nbsp;&nbsp;</span><strong>A_X_train NLP features</strong></a></span></li><li><span><a href=\"#A_X_test-NLP-features\" data-toc-modified-id=\"A_X_test-NLP-features-4.4.2\"><span class=\"toc-item-num\">4.4.2&nbsp;&nbsp;</span><strong>A_X_test NLP features</strong></a></span></li><li><span><a href=\"#B_X_train-NLP-features\" data-toc-modified-id=\"B_X_train-NLP-features-4.4.3\"><span class=\"toc-item-num\">4.4.3&nbsp;&nbsp;</span><strong>B_X_train NLP features</strong></a></span></li><li><span><a href=\"#B_X_test-NLP-features\" data-toc-modified-id=\"B_X_test-NLP-features-4.4.4\"><span class=\"toc-item-num\">4.4.4&nbsp;&nbsp;</span><strong>B_X_test NLP features</strong></a></span></li><li><span><a href=\"#C_X_train-NLP-features\" data-toc-modified-id=\"C_X_train-NLP-features-4.4.5\"><span class=\"toc-item-num\">4.4.5&nbsp;&nbsp;</span><strong>C_X_train NLP features</strong></a></span></li><li><span><a href=\"#C_X_test-NLP-features\" data-toc-modified-id=\"C_X_test-NLP-features-4.4.6\"><span class=\"toc-item-num\">4.4.6&nbsp;&nbsp;</span><strong>C_X_test NLP features</strong></a></span></li></ul></li></ul></li><li><span><a href=\"#Standard-Scaler\" data-toc-modified-id=\"Standard-Scaler-5\"><span class=\"toc-item-num\">5&nbsp;&nbsp;</span><strong>Standard Scaler</strong></a></span><ul class=\"toc-item\"><li><ul class=\"toc-item\"><li><span><a href=\"#Standard-Scaler-for-A-Train/Test-data\" data-toc-modified-id=\"Standard-Scaler-for-A-Train/Test-data-5.0.1\"><span class=\"toc-item-num\">5.0.1&nbsp;&nbsp;</span><strong>Standard Scaler for A Train/Test data</strong></a></span></li><li><span><a href=\"#Standard-Scaler-for-B-Train/Test-data\" data-toc-modified-id=\"Standard-Scaler-for-B-Train/Test-data-5.0.2\"><span class=\"toc-item-num\">5.0.2&nbsp;&nbsp;</span><strong>Standard Scaler for B Train/Test data</strong></a></span></li><li><span><a href=\"#Standard-Scaler-for-C-Train/Test-data\" data-toc-modified-id=\"Standard-Scaler-for-C-Train/Test-data-5.0.3\"><span class=\"toc-item-num\">5.0.3&nbsp;&nbsp;</span><strong>Standard Scaler for C Train/Test data</strong></a></span></li></ul></li></ul></li><li><span><a href=\"#Linear-Regression\" data-toc-modified-id=\"Linear-Regression-6\"><span class=\"toc-item-num\">6&nbsp;&nbsp;</span><strong>Linear Regression</strong></a></span><ul class=\"toc-item\"><li><span><a href=\"#Linear-Regression\" data-toc-modified-id=\"Linear-Regression-6.1\"><span class=\"toc-item-num\">6.1&nbsp;&nbsp;</span><strong>Linear Regression</strong></a></span><ul class=\"toc-item\"><li><span><a href=\"#Linear-Regression-on-A_Train/A_Test\" data-toc-modified-id=\"Linear-Regression-on-A_Train/A_Test-6.1.1\"><span class=\"toc-item-num\">6.1.1&nbsp;&nbsp;</span><strong>Linear Regression on A_Train/A_Test</strong></a></span></li><li><span><a href=\"#Linear-Regression-on-B_Train/B_Test\" data-toc-modified-id=\"Linear-Regression-on-B_Train/B_Test-6.1.2\"><span class=\"toc-item-num\">6.1.2&nbsp;&nbsp;</span><strong>Linear Regression on B_Train/B_Test</strong></a></span></li><li><span><a href=\"#Linear-Regression-on-C_Train/C_Test\" data-toc-modified-id=\"Linear-Regression-on-C_Train/C_Test-6.1.3\"><span class=\"toc-item-num\">6.1.3&nbsp;&nbsp;</span><strong>Linear Regression on C_Train/C_Test</strong></a></span></li></ul></li><li><span><a href=\"#Plot-actual-values-vs-predicit-values\" data-toc-modified-id=\"Plot-actual-values-vs-predicit-values-6.2\"><span class=\"toc-item-num\">6.2&nbsp;&nbsp;</span><strong>Plot actual values vs predicit values</strong></a></span><ul class=\"toc-item\"><li><span><a href=\"#A_Train/A_Test\" data-toc-modified-id=\"A_Train/A_Test-6.2.1\"><span class=\"toc-item-num\">6.2.1&nbsp;&nbsp;</span><strong>A_Train/A_Test</strong></a></span></li><li><span><a href=\"#B_Train/B_Test\" data-toc-modified-id=\"B_Train/B_Test-6.2.2\"><span class=\"toc-item-num\">6.2.2&nbsp;&nbsp;</span><strong>B_Train/B_Test</strong></a></span></li><li><span><a href=\"#C_Train/C_Test\" data-toc-modified-id=\"C_Train/C_Test-6.2.3\"><span class=\"toc-item-num\">6.2.3&nbsp;&nbsp;</span><strong>C_Train/C_Test</strong></a></span></li></ul></li></ul></li><li><span><a href=\"#Ridge-Linear-Regression\" data-toc-modified-id=\"Ridge-Linear-Regression-7\"><span class=\"toc-item-num\">7&nbsp;&nbsp;</span><strong>Ridge Linear Regression</strong></a></span><ul class=\"toc-item\"><li><span><a href=\"#Ridge-Linear-Regression\" data-toc-modified-id=\"Ridge-Linear-Regression-7.1\"><span class=\"toc-item-num\">7.1&nbsp;&nbsp;</span><strong>Ridge Linear Regression</strong></a></span><ul class=\"toc-item\"><li><span><a href=\"#Ridge-Linear-Regression-on-A_Train/A_Test\" data-toc-modified-id=\"Ridge-Linear-Regression-on-A_Train/A_Test-7.1.1\"><span class=\"toc-item-num\">7.1.1&nbsp;&nbsp;</span><strong>Ridge Linear Regression on A_Train/A_Test</strong></a></span></li><li><span><a href=\"#Ridge-Linear-Regression-on-B_Train/B_Test\" data-toc-modified-id=\"Ridge-Linear-Regression-on-B_Train/B_Test-7.1.2\"><span class=\"toc-item-num\">7.1.2&nbsp;&nbsp;</span><strong>Ridge Linear Regression on B_Train/B_Test</strong></a></span></li><li><span><a href=\"#Ridge-Linear-Regression-on-C_Train/C_Test\" data-toc-modified-id=\"Ridge-Linear-Regression-on-C_Train/C_Test-7.1.3\"><span class=\"toc-item-num\">7.1.3&nbsp;&nbsp;</span><strong>Ridge Linear Regression on C_Train/C_Test</strong></a></span></li></ul></li><li><span><a href=\"#Hyperparameters\" data-toc-modified-id=\"Hyperparameters-7.2\"><span class=\"toc-item-num\">7.2&nbsp;&nbsp;</span><strong>Hyperparameters</strong></a></span><ul class=\"toc-item\"><li><span><a href=\"#Alpha-Hyperparameter-for-Ridge-Regression-on-A_Train/A_Test\" data-toc-modified-id=\"Alpha-Hyperparameter-for-Ridge-Regression-on-A_Train/A_Test-7.2.1\"><span class=\"toc-item-num\">7.2.1&nbsp;&nbsp;</span><strong>Alpha Hyperparameter for Ridge Regression on A_Train/A_Test</strong></a></span></li></ul></li><li><span><a href=\"#Plot-actual-values-vs-predict-values\" data-toc-modified-id=\"Plot-actual-values-vs-predict-values-7.3\"><span class=\"toc-item-num\">7.3&nbsp;&nbsp;</span><strong>Plot actual values vs predict values</strong></a></span></li></ul></li><li><span><a href=\"#Lasso-Linear-Regression\" data-toc-modified-id=\"Lasso-Linear-Regression-8\"><span class=\"toc-item-num\">8&nbsp;&nbsp;</span><strong>Lasso Linear Regression</strong></a></span><ul class=\"toc-item\"><li><span><a href=\"#Lasso-Linear-Regression\" data-toc-modified-id=\"Lasso-Linear-Regression-8.1\"><span class=\"toc-item-num\">8.1&nbsp;&nbsp;</span><strong>Lasso Linear Regression</strong></a></span><ul class=\"toc-item\"><li><span><a href=\"#Lasso-Linear-Regression-on-A_Train/A_Test\" data-toc-modified-id=\"Lasso-Linear-Regression-on-A_Train/A_Test-8.1.1\"><span class=\"toc-item-num\">8.1.1&nbsp;&nbsp;</span><strong>Lasso Linear Regression on A_Train/A_Test</strong></a></span></li><li><span><a href=\"#Lasso-Linear-Regression-on-B_Train/B_Test\" data-toc-modified-id=\"Lasso-Linear-Regression-on-B_Train/B_Test-8.1.2\"><span class=\"toc-item-num\">8.1.2&nbsp;&nbsp;</span><strong>Lasso Linear Regression on B_Train/B_Test</strong></a></span></li><li><span><a href=\"#Lasso-Linear-Regression-on-C_Train/C_Test\" data-toc-modified-id=\"Lasso-Linear-Regression-on-C_Train/C_Test-8.1.3\"><span class=\"toc-item-num\">8.1.3&nbsp;&nbsp;</span><strong>Lasso Linear Regression on C_Train/C_Test</strong></a></span></li></ul></li><li><span><a href=\"#Hyperparameters\" data-toc-modified-id=\"Hyperparameters-8.2\"><span class=\"toc-item-num\">8.2&nbsp;&nbsp;</span><strong>Hyperparameters</strong></a></span><ul class=\"toc-item\"><li><span><a href=\"#Alpha-Hyperparameter-for-Ridge-Regression-on-A_Train/A_Test\" data-toc-modified-id=\"Alpha-Hyperparameter-for-Ridge-Regression-on-A_Train/A_Test-8.2.1\"><span class=\"toc-item-num\">8.2.1&nbsp;&nbsp;</span><strong>Alpha Hyperparameter for Ridge Regression on A_Train/A_Test</strong></a></span></li></ul></li><li><span><a href=\"#Plot-actural-values-vs-predict-values\" data-toc-modified-id=\"Plot-actural-values-vs-predict-values-8.3\"><span class=\"toc-item-num\">8.3&nbsp;&nbsp;</span><strong>Plot actural values vs predict values</strong></a></span><ul class=\"toc-item\"><li><span><a href=\"#A_Train/A_Test\" data-toc-modified-id=\"A_Train/A_Test-8.3.1\"><span class=\"toc-item-num\">8.3.1&nbsp;&nbsp;</span><strong>A_Train/A_Test</strong></a></span></li></ul></li></ul></li><li><span><a href=\"#Random-Forests\" data-toc-modified-id=\"Random-Forests-9\"><span class=\"toc-item-num\">9&nbsp;&nbsp;</span><strong>Random Forests</strong></a></span><ul class=\"toc-item\"><li><span><a href=\"#Random-Forests\" data-toc-modified-id=\"Random-Forests-9.1\"><span class=\"toc-item-num\">9.1&nbsp;&nbsp;</span><strong>Random Forests</strong></a></span><ul class=\"toc-item\"><li><span><a href=\"#Random-Forest-on-A_Train-/-A_Test\" data-toc-modified-id=\"Random-Forest-on-A_Train-/-A_Test-9.1.1\"><span class=\"toc-item-num\">9.1.1&nbsp;&nbsp;</span><strong>Random Forest on A_Train / A_Test</strong></a></span></li><li><span><a href=\"#Random-Forest-on-B_Train-/-B_Test\" data-toc-modified-id=\"Random-Forest-on-B_Train-/-B_Test-9.1.2\"><span class=\"toc-item-num\">9.1.2&nbsp;&nbsp;</span><strong>Random Forest on B_Train / B_Test</strong></a></span></li><li><span><a href=\"#Random-Forest-on-C_Train-/-C_Test\" data-toc-modified-id=\"Random-Forest-on-C_Train-/-C_Test-9.1.3\"><span class=\"toc-item-num\">9.1.3&nbsp;&nbsp;</span><strong>Random Forest on C_Train / C_Test</strong></a></span></li></ul></li><li><span><a href=\"#Plot-actural-values-vs-predict-values\" data-toc-modified-id=\"Plot-actural-values-vs-predict-values-9.2\"><span class=\"toc-item-num\">9.2&nbsp;&nbsp;</span><strong>Plot actural values vs predict values</strong></a></span></li><li><span><a href=\"#Hyperparameters\" data-toc-modified-id=\"Hyperparameters-9.3\"><span class=\"toc-item-num\">9.3&nbsp;&nbsp;</span><strong>Hyperparameters</strong></a></span><ul class=\"toc-item\"><li><span><a href=\"#Random-Forrest\" data-toc-modified-id=\"Random-Forrest-9.3.1\"><span class=\"toc-item-num\">9.3.1&nbsp;&nbsp;</span><strong>Random Forrest</strong></a></span></li></ul></li></ul></li><li><span><a href=\"#XG-Boast\" data-toc-modified-id=\"XG-Boast-10\"><span class=\"toc-item-num\">10&nbsp;&nbsp;</span><strong>XG Boast</strong></a></span><ul class=\"toc-item\"><li><span><a href=\"#XG-Boast\" data-toc-modified-id=\"XG-Boast-10.1\"><span class=\"toc-item-num\">10.1&nbsp;&nbsp;</span><strong>XG Boast</strong></a></span><ul class=\"toc-item\"><li><span><a href=\"#XG-Boost-on-A_Train-/-A_Test\" data-toc-modified-id=\"XG-Boost-on-A_Train-/-A_Test-10.1.1\"><span class=\"toc-item-num\">10.1.1&nbsp;&nbsp;</span><strong>XG Boost on A_Train / A_Test</strong></a></span></li><li><span><a href=\"#XG-Boost-on-B_Train-/-B_Test\" data-toc-modified-id=\"XG-Boost-on-B_Train-/-B_Test-10.1.2\"><span class=\"toc-item-num\">10.1.2&nbsp;&nbsp;</span><strong>XG Boost on B_Train / B_Test</strong></a></span></li><li><span><a href=\"#XG-Boost-on-C_Train-/-C_Test\" data-toc-modified-id=\"XG-Boost-on-C_Train-/-C_Test-10.1.3\"><span class=\"toc-item-num\">10.1.3&nbsp;&nbsp;</span><strong>XG Boost on C_Train / C_Test</strong></a></span></li></ul></li><li><span><a href=\"#Hyperparameters\" data-toc-modified-id=\"Hyperparameters-10.2\"><span class=\"toc-item-num\">10.2&nbsp;&nbsp;</span><strong>Hyperparameters</strong></a></span><ul class=\"toc-item\"><li><span><a href=\"#Grid-Search-for-XGBoost\" data-toc-modified-id=\"Grid-Search-for-XGBoost-10.2.1\"><span class=\"toc-item-num\">10.2.1&nbsp;&nbsp;</span><strong>Grid Search for XGBoost</strong></a></span></li></ul></li><li><span><a href=\"#Run-the-results-for-the-best-values-of-the-above-hyperparameters\" data-toc-modified-id=\"Run-the-results-for-the-best-values-of-the-above-hyperparameters-10.3\"><span class=\"toc-item-num\">10.3&nbsp;&nbsp;</span><strong>Run the results for the best values of the above hyperparameters</strong></a></span></li><li><span><a href=\"#Plot-Predicit\" data-toc-modified-id=\"Plot-Predicit-10.4\"><span class=\"toc-item-num\">10.4&nbsp;&nbsp;</span><strong>Plot Predicit</strong></a></span><ul class=\"toc-item\"><li><span><a href=\"#A_Train/A_Test\" data-toc-modified-id=\"A_Train/A_Test-10.4.1\"><span class=\"toc-item-num\">10.4.1&nbsp;&nbsp;</span><strong>A_Train/A_Test</strong></a></span></li><li><span><a href=\"#B_Train/B_Test\" data-toc-modified-id=\"B_Train/B_Test-10.4.2\"><span class=\"toc-item-num\">10.4.2&nbsp;&nbsp;</span><strong>B_Train/B_Test</strong></a></span></li></ul></li></ul></li><li><span><a href=\"#Sentiment-Analysis:-Vader-Sentiment\" data-toc-modified-id=\"Sentiment-Analysis:-Vader-Sentiment-11\"><span class=\"toc-item-num\">11&nbsp;&nbsp;</span><strong>Sentiment Analysis: Vader Sentiment</strong></a></span></li><li><span><a href=\"#Code-Rejected\" data-toc-modified-id=\"Code-Rejected-12\"><span class=\"toc-item-num\">12&nbsp;&nbsp;</span><strong>Code Rejected</strong></a></span><ul class=\"toc-item\"><li><span><a href=\"#Splitting-data-by-time-series-on-split()\" data-toc-modified-id=\"Splitting-data-by-time-series-on-split()-12.1\"><span class=\"toc-item-num\">12.1&nbsp;&nbsp;</span><strong>Splitting data by time series on split()</strong></a></span></li></ul></li><li><span><a href=\"#What-factors-can-be-affecting-the-Test-results\" data-toc-modified-id=\"What-factors-can-be-affecting-the-Test-results-13\"><span class=\"toc-item-num\">13&nbsp;&nbsp;</span><strong>What factors can be affecting the Test results</strong></a></span></li><li><span><a href=\"#Future-tasks/jobs\" data-toc-modified-id=\"Future-tasks/jobs-14\"><span class=\"toc-item-num\">14&nbsp;&nbsp;</span><strong>Future tasks/jobs</strong></a></span></li><li><span><a href=\"#Findings-from-models\" data-toc-modified-id=\"Findings-from-models-15\"><span class=\"toc-item-num\">15&nbsp;&nbsp;</span><strong>Findings from models</strong></a></span></li><li><span><a href=\"#Conclusion\" data-toc-modified-id=\"Conclusion-16\"><span class=\"toc-item-num\">16&nbsp;&nbsp;</span><strong>Conclusion</strong></a></span></li></ul></div>"
   ]
  },
  {
   "cell_type": "markdown",
   "id": "200ed7cd",
   "metadata": {},
   "source": [
    "---\n",
    "---\n",
    "---"
   ]
  },
  {
   "cell_type": "markdown",
   "id": "d7a2639b",
   "metadata": {},
   "source": [
    "# **Modelling**"
   ]
  },
  {
   "cell_type": "markdown",
   "id": "96440f7e",
   "metadata": {},
   "source": [
    "This project is looking whether Social Media has an effect on a Share Price. We are looking at Reddit forums to find the count of Game Stop mentions but also looking at the title comments and using Natural Language Processing on these comments to see if they can help us model a change in the Share Price.\n",
    "<br><br>\n",
    "The main technique we will be using is 'Bag of Words' to vectorize the comments to see which words appear the most and create new features with these words.\n",
    "<br><br>\n",
    "We will be looking at Regression Machine Learning Models as we are trying to predict the value of a Game Stop Share:\n",
    "- Linear Regression Models\n",
    "    - Ridge Regression Models\n",
    "    - Lasso Regression Models\n",
    "- Random Forrest Models\n",
    "- XG Boost Models\n",
    "<br><br>\n",
    "\n",
    "We will also try to optimise the above models as best we can to get the best Test results."
   ]
  },
  {
   "cell_type": "markdown",
   "id": "89dddf2d",
   "metadata": {},
   "source": [
    "---"
   ]
  },
  {
   "cell_type": "markdown",
   "id": "f4140fb6",
   "metadata": {},
   "source": [
    "##  **Modelling Results**"
   ]
  },
  {
   "cell_type": "markdown",
   "id": "b02878b5",
   "metadata": {},
   "source": [
    "As it turns out a project like this is difficult to get useful results because there can be so many factors outside of my data that can cause changes to the share price. A big change in the test data can throw off a model. We will discuss what these can be later in Section 13. Large Hedge Funds have spent a lot of time and resources to try what I have tried in this very modest project.\n",
    "<br><br>\n",
    "**Accuracy Score Results**<br>\n",
    "The accuracy scores from the Train Models have often been very high (results in the high 90's at times) but the Test Accuracy Result have been a lot lower, these Test Models are often overfitting to very large amounts. I started with Test results in the minus hundreds ranges, but towards the end with adjustments to my data and trying different models I have had some modest success with Test Model Accuracy.\n",
    "<br><br>\n",
    "**Actual Values V's Predicted Values**<br>\n",
    "Since the Accuracy has not always been a good indicator, I have also looked at the actual values V's the predictor values. My actual value or my Target Dependent Variable is the Closing Share price of a share for Game Stop. These comparisons show the complexity of getting good results by comparing two plot lines of the predictions and the actual values (target). It's much eaiser in see in these plot just how hard it is to get a good prediction. When even a test result is in the 60% its not clear from the plots at all.\n",
    "<br><br>\n",
    "**Complexity of models:**<br>\n",
    "Towards the end of my project I ran smaller Models as I wanted to be able to explore a number of different models rather than have one large model that ran for 8 hours. This was a conscious decision as I knew I was having models that were massively overfitting and I wanted to adjust my data and add in some time ranges. A future step would be to run longer models."
   ]
  },
  {
   "cell_type": "markdown",
   "id": "4c0ae822",
   "metadata": {},
   "source": [
    "---"
   ]
  },
  {
   "cell_type": "markdown",
   "id": "601a304c",
   "metadata": {},
   "source": [
    "## **Modelling Computation Power**"
   ]
  },
  {
   "cell_type": "markdown",
   "id": "fdde7245",
   "metadata": {},
   "source": [
    "My local Computer was not able to model the full large of NLP values so I took a smaller sample. I did look into AWS but was not able to load my data into it, (something I discussed with the TA's and Teachers who were equally stumped). Still taking a small sample of the words should not have lead to any major issues. "
   ]
  },
  {
   "cell_type": "markdown",
   "id": "21cf39a7",
   "metadata": {},
   "source": [
    "---"
   ]
  },
  {
   "cell_type": "markdown",
   "id": "9978308f",
   "metadata": {},
   "source": [
    "## **Load Libraries**"
   ]
  },
  {
   "cell_type": "markdown",
   "id": "81ffbb73",
   "metadata": {},
   "source": [
    "Import the normal libraries as well as a number of SKlearn libraries to help with NLP, modeling and preparing the data."
   ]
  },
  {
   "cell_type": "code",
   "execution_count": 90,
   "id": "3523717f",
   "metadata": {
    "ExecuteTime": {
     "end_time": "2022-04-04T01:03:17.112304Z",
     "start_time": "2022-04-04T01:03:17.090336Z"
    }
   },
   "outputs": [],
   "source": [
    "# Add libraries\n",
    "import pandas as pd\n",
    "import numpy as np\n",
    "import seaborn as sns\n",
    "import matplotlib.pyplot as plt\n",
    "%matplotlib inline\n",
    "\n",
    "# To scale\n",
    "from sklearn.preprocessing import StandardScaler\n",
    "\n",
    "# NLP\n",
    "from sklearn.feature_extraction.text import CountVectorizer\n",
    "from vaderSentiment.vaderSentiment import SentimentIntensityAnalyzer\n",
    "\n",
    "# Classifiers\n",
    "from sklearn.linear_model import Lasso, Ridge\n",
    "from sklearn.linear_model import LinearRegression\n",
    "from sklearn.ensemble import RandomForestRegressor\n",
    "from xgboost import XGBRegressor"
   ]
  },
  {
   "cell_type": "code",
   "execution_count": 91,
   "id": "f870b66d",
   "metadata": {
    "ExecuteTime": {
     "end_time": "2022-04-04T01:03:17.128261Z",
     "start_time": "2022-04-04T01:03:17.113274Z"
    }
   },
   "outputs": [],
   "source": [
    "# Remove warnings. These are not important\n",
    "import warnings\n",
    "warnings.filterwarnings(\"ignore\")"
   ]
  },
  {
   "cell_type": "markdown",
   "id": "5817270b",
   "metadata": {},
   "source": [
    "----"
   ]
  },
  {
   "cell_type": "markdown",
   "id": "0dbef375",
   "metadata": {},
   "source": [
    "## **Library Module Issue**"
   ]
  },
  {
   "cell_type": "markdown",
   "id": "e650174f",
   "metadata": {},
   "source": [
    "**NOTE:**<br>\n",
    "I loaded in the SentimentIntensityAnalyzer and XGboost into the kernel though Git Bash. When I performed a list of the libraries you could see both libraries in the kernel. <br><br>\n",
    "However, this notebook still showed a 'module not found'. If this happens. Uncomment the below code and run them manually and rerun the above libraries."
   ]
  },
  {
   "cell_type": "code",
   "execution_count": 92,
   "id": "a66278a6",
   "metadata": {
    "ExecuteTime": {
     "end_time": "2022-04-04T01:03:17.143223Z",
     "start_time": "2022-04-04T01:03:17.129235Z"
    }
   },
   "outputs": [],
   "source": [
    "#Uncomment if issues with either Vader or XGboost\n",
    "# import pip\n",
    "# pip.main(['install', 'xgboost'])\n",
    "# pip.main(['install', 'vaderSentiment'])"
   ]
  },
  {
   "cell_type": "markdown",
   "id": "9b977e1b",
   "metadata": {},
   "source": [
    "---"
   ]
  },
  {
   "cell_type": "markdown",
   "id": "c2ef40d5",
   "metadata": {},
   "source": [
    "## **Load Data**"
   ]
  },
  {
   "cell_type": "markdown",
   "id": "76bc4deb",
   "metadata": {},
   "source": [
    "We have already prepared our data in the Notebook 2. Processing, Cleaning and EDA"
   ]
  },
  {
   "cell_type": "code",
   "execution_count": 93,
   "id": "751de1c0",
   "metadata": {
    "ExecuteTime": {
     "end_time": "2022-04-04T01:03:17.725667Z",
     "start_time": "2022-04-04T01:03:17.144208Z"
    }
   },
   "outputs": [],
   "source": [
    "# Load the gme_mentions_share_price_df combined df.\n",
    "gme_df = pd.read_csv('Data/capstone_gme_mention_price_df.csv', index_col=0)"
   ]
  },
  {
   "cell_type": "markdown",
   "id": "4beab40f",
   "metadata": {},
   "source": [
    "Look over the shape of the data."
   ]
  },
  {
   "cell_type": "code",
   "execution_count": 94,
   "id": "2b8bac3f",
   "metadata": {
    "ExecuteTime": {
     "end_time": "2022-04-04T01:03:17.741594Z",
     "start_time": "2022-04-04T01:03:17.726634Z"
    }
   },
   "outputs": [
    {
     "data": {
      "text/plain": [
       "(121118, 25)"
      ]
     },
     "execution_count": 94,
     "metadata": {},
     "output_type": "execute_result"
    }
   ],
   "source": [
    "# Lets look over.\n",
    "gme_df.shape"
   ]
  },
  {
   "cell_type": "markdown",
   "id": "74c44a58",
   "metadata": {},
   "source": [
    "We still have our 121,118 rows with mentions of Game Stop. We also have 25 columns. <br><br>\n",
    "\n",
    "**Note:** <br>\n",
    "I discussed this in Notebook '2. Processing, Cleaning and EDA' but while running models there appeared to be an issue with the fillna() method to fill in the days where the markets were closed. This resulted in all 35,000 rows for the weekend been filled in on December 31st which threw off my models. I will look at this as a future task and will remove these rows for now. One positive (as already mentioned) is because these days are all the weekends, the lose of the rows (while not ideal) is at least distributed across the year in equal amounts and will not affect the models results. however this needs to be compared when they are added back in."
   ]
  },
  {
   "cell_type": "markdown",
   "id": "a6e897a0",
   "metadata": {},
   "source": [
    "Look at the columns names, types, etc"
   ]
  },
  {
   "cell_type": "code",
   "execution_count": 95,
   "id": "8148c2aa",
   "metadata": {
    "ExecuteTime": {
     "end_time": "2022-04-04T01:03:17.773539Z",
     "start_time": "2022-04-04T01:03:17.742592Z"
    }
   },
   "outputs": [
    {
     "name": "stdout",
     "output_type": "stream",
     "text": [
      "<class 'pandas.core.frame.DataFrame'>\n",
      "Int64Index: 121118 entries, 0 to 121117\n",
      "Data columns (total 25 columns):\n",
      " #   Column                         Non-Null Count   Dtype  \n",
      "---  ------                         --------------   -----  \n",
      " 0   author                         121118 non-null  object \n",
      " 1   title                          121118 non-null  object \n",
      " 2   upvote_ratio                   121118 non-null  float64\n",
      " 3   score                          121118 non-null  int64  \n",
      " 4   num_comments                   121118 non-null  int64  \n",
      " 5   Date                           121118 non-null  object \n",
      " 6   Low                            121118 non-null  float64\n",
      " 7   Open                           121118 non-null  float64\n",
      " 8   Volume                         121118 non-null  int64  \n",
      " 9   High                           121118 non-null  float64\n",
      " 10  Close                          121118 non-null  float64\n",
      " 11  gme_mention_day_count          121118 non-null  int64  \n",
      " 12  gme_mention_roll_2_days        121118 non-null  float64\n",
      " 13  gme_mention_roll_3_days        121118 non-null  float64\n",
      " 14  gme_mention_roll_4_days        121118 non-null  float64\n",
      " 15  gme_mention_roll_5_days        121118 non-null  float64\n",
      " 16  gme_mention_roll_1_day_before  121118 non-null  float64\n",
      " 17  gme_mention_roll_2_day_before  121118 non-null  float64\n",
      " 18  gme_mention_roll_3_day_before  121118 non-null  float64\n",
      " 19  gme_price_roll_2_days          121118 non-null  float64\n",
      " 20  gme_price_roll_3_days          121118 non-null  float64\n",
      " 21  gme_price_roll_4_days          121118 non-null  float64\n",
      " 22  gme_price_roll_5_days          121118 non-null  float64\n",
      " 23  month_number                   121118 non-null  int64  \n",
      " 24  day_number                     121118 non-null  int64  \n",
      "dtypes: float64(16), int64(6), object(3)\n",
      "memory usage: 24.0+ MB\n"
     ]
    }
   ],
   "source": [
    "# Info of gme_df data\n",
    "gme_df.info()"
   ]
  },
  {
   "cell_type": "markdown",
   "id": "f137ca75",
   "metadata": {},
   "source": [
    "As expected we have the columns from our cleaned Reddit Data, Game Stop Share Price and also a number of new features."
   ]
  },
  {
   "cell_type": "markdown",
   "id": "43d6825b",
   "metadata": {},
   "source": [
    "We can look over the first few rows"
   ]
  },
  {
   "cell_type": "code",
   "execution_count": 96,
   "id": "815156eb",
   "metadata": {
    "ExecuteTime": {
     "end_time": "2022-04-04T01:03:17.805019Z",
     "start_time": "2022-04-04T01:03:17.774525Z"
    }
   },
   "outputs": [
    {
     "data": {
      "text/html": [
       "<div>\n",
       "<style scoped>\n",
       "    .dataframe tbody tr th:only-of-type {\n",
       "        vertical-align: middle;\n",
       "    }\n",
       "\n",
       "    .dataframe tbody tr th {\n",
       "        vertical-align: top;\n",
       "    }\n",
       "\n",
       "    .dataframe thead th {\n",
       "        text-align: right;\n",
       "    }\n",
       "</style>\n",
       "<table border=\"1\" class=\"dataframe\">\n",
       "  <thead>\n",
       "    <tr style=\"text-align: right;\">\n",
       "      <th></th>\n",
       "      <th>author</th>\n",
       "      <th>title</th>\n",
       "      <th>upvote_ratio</th>\n",
       "      <th>score</th>\n",
       "      <th>num_comments</th>\n",
       "      <th>Date</th>\n",
       "      <th>Low</th>\n",
       "      <th>Open</th>\n",
       "      <th>Volume</th>\n",
       "      <th>High</th>\n",
       "      <th>...</th>\n",
       "      <th>gme_mention_roll_5_days</th>\n",
       "      <th>gme_mention_roll_1_day_before</th>\n",
       "      <th>gme_mention_roll_2_day_before</th>\n",
       "      <th>gme_mention_roll_3_day_before</th>\n",
       "      <th>gme_price_roll_2_days</th>\n",
       "      <th>gme_price_roll_3_days</th>\n",
       "      <th>gme_price_roll_4_days</th>\n",
       "      <th>gme_price_roll_5_days</th>\n",
       "      <th>month_number</th>\n",
       "      <th>day_number</th>\n",
       "    </tr>\n",
       "  </thead>\n",
       "  <tbody>\n",
       "    <tr>\n",
       "      <th>0</th>\n",
       "      <td>johneebarnett</td>\n",
       "      <td>my grandma said buy the dip!!!! amc and gme!!!</td>\n",
       "      <td>1.00</td>\n",
       "      <td>1</td>\n",
       "      <td>0</td>\n",
       "      <td>2021-01-04</td>\n",
       "      <td>17.15</td>\n",
       "      <td>19.0</td>\n",
       "      <td>10022500</td>\n",
       "      <td>19.1</td>\n",
       "      <td>...</td>\n",
       "      <td>80.4</td>\n",
       "      <td>51.0</td>\n",
       "      <td>12.0</td>\n",
       "      <td>58.0</td>\n",
       "      <td>17.25</td>\n",
       "      <td>17.25</td>\n",
       "      <td>17.25</td>\n",
       "      <td>17.25</td>\n",
       "      <td>1</td>\n",
       "      <td>4</td>\n",
       "    </tr>\n",
       "    <tr>\n",
       "      <th>1</th>\n",
       "      <td>morgcord89</td>\n",
       "      <td>gme help fund this app!</td>\n",
       "      <td>1.00</td>\n",
       "      <td>1</td>\n",
       "      <td>2</td>\n",
       "      <td>2021-01-04</td>\n",
       "      <td>17.15</td>\n",
       "      <td>19.0</td>\n",
       "      <td>10022500</td>\n",
       "      <td>19.1</td>\n",
       "      <td>...</td>\n",
       "      <td>80.4</td>\n",
       "      <td>51.0</td>\n",
       "      <td>12.0</td>\n",
       "      <td>58.0</td>\n",
       "      <td>17.25</td>\n",
       "      <td>17.25</td>\n",
       "      <td>17.25</td>\n",
       "      <td>17.25</td>\n",
       "      <td>1</td>\n",
       "      <td>4</td>\n",
       "    </tr>\n",
       "    <tr>\n",
       "      <th>2</th>\n",
       "      <td>PotusPlasticSurgery</td>\n",
       "      <td>acy the next gme</td>\n",
       "      <td>1.00</td>\n",
       "      <td>1</td>\n",
       "      <td>2</td>\n",
       "      <td>2021-01-04</td>\n",
       "      <td>17.15</td>\n",
       "      <td>19.0</td>\n",
       "      <td>10022500</td>\n",
       "      <td>19.1</td>\n",
       "      <td>...</td>\n",
       "      <td>80.4</td>\n",
       "      <td>51.0</td>\n",
       "      <td>12.0</td>\n",
       "      <td>58.0</td>\n",
       "      <td>17.25</td>\n",
       "      <td>17.25</td>\n",
       "      <td>17.25</td>\n",
       "      <td>17.25</td>\n",
       "      <td>1</td>\n",
       "      <td>4</td>\n",
       "    </tr>\n",
       "    <tr>\n",
       "      <th>3</th>\n",
       "      <td>Thump4</td>\n",
       "      <td>💎gme ✋ be prepared for an increase in volume a...</td>\n",
       "      <td>1.00</td>\n",
       "      <td>1</td>\n",
       "      <td>1</td>\n",
       "      <td>2021-01-04</td>\n",
       "      <td>17.15</td>\n",
       "      <td>19.0</td>\n",
       "      <td>10022500</td>\n",
       "      <td>19.1</td>\n",
       "      <td>...</td>\n",
       "      <td>80.4</td>\n",
       "      <td>51.0</td>\n",
       "      <td>12.0</td>\n",
       "      <td>58.0</td>\n",
       "      <td>17.25</td>\n",
       "      <td>17.25</td>\n",
       "      <td>17.25</td>\n",
       "      <td>17.25</td>\n",
       "      <td>1</td>\n",
       "      <td>4</td>\n",
       "    </tr>\n",
       "    <tr>\n",
       "      <th>4</th>\n",
       "      <td>walkwil17</td>\n",
       "      <td>happy aperil everyone. just got done eating my...</td>\n",
       "      <td>0.84</td>\n",
       "      <td>4</td>\n",
       "      <td>0</td>\n",
       "      <td>2021-01-04</td>\n",
       "      <td>17.15</td>\n",
       "      <td>19.0</td>\n",
       "      <td>10022500</td>\n",
       "      <td>19.1</td>\n",
       "      <td>...</td>\n",
       "      <td>80.4</td>\n",
       "      <td>51.0</td>\n",
       "      <td>12.0</td>\n",
       "      <td>58.0</td>\n",
       "      <td>17.25</td>\n",
       "      <td>17.25</td>\n",
       "      <td>17.25</td>\n",
       "      <td>17.25</td>\n",
       "      <td>1</td>\n",
       "      <td>4</td>\n",
       "    </tr>\n",
       "  </tbody>\n",
       "</table>\n",
       "<p>5 rows × 25 columns</p>\n",
       "</div>"
      ],
      "text/plain": [
       "                author                                              title  \\\n",
       "0        johneebarnett     my grandma said buy the dip!!!! amc and gme!!!   \n",
       "1           morgcord89                            gme help fund this app!   \n",
       "2  PotusPlasticSurgery                                   acy the next gme   \n",
       "3               Thump4  💎gme ✋ be prepared for an increase in volume a...   \n",
       "4            walkwil17  happy aperil everyone. just got done eating my...   \n",
       "\n",
       "   upvote_ratio  score  num_comments        Date    Low  Open    Volume  High  \\\n",
       "0          1.00      1             0  2021-01-04  17.15  19.0  10022500  19.1   \n",
       "1          1.00      1             2  2021-01-04  17.15  19.0  10022500  19.1   \n",
       "2          1.00      1             2  2021-01-04  17.15  19.0  10022500  19.1   \n",
       "3          1.00      1             1  2021-01-04  17.15  19.0  10022500  19.1   \n",
       "4          0.84      4             0  2021-01-04  17.15  19.0  10022500  19.1   \n",
       "\n",
       "   ...  gme_mention_roll_5_days  gme_mention_roll_1_day_before  \\\n",
       "0  ...                     80.4                           51.0   \n",
       "1  ...                     80.4                           51.0   \n",
       "2  ...                     80.4                           51.0   \n",
       "3  ...                     80.4                           51.0   \n",
       "4  ...                     80.4                           51.0   \n",
       "\n",
       "   gme_mention_roll_2_day_before  gme_mention_roll_3_day_before  \\\n",
       "0                           12.0                           58.0   \n",
       "1                           12.0                           58.0   \n",
       "2                           12.0                           58.0   \n",
       "3                           12.0                           58.0   \n",
       "4                           12.0                           58.0   \n",
       "\n",
       "   gme_price_roll_2_days  gme_price_roll_3_days  gme_price_roll_4_days  \\\n",
       "0                  17.25                  17.25                  17.25   \n",
       "1                  17.25                  17.25                  17.25   \n",
       "2                  17.25                  17.25                  17.25   \n",
       "3                  17.25                  17.25                  17.25   \n",
       "4                  17.25                  17.25                  17.25   \n",
       "\n",
       "   gme_price_roll_5_days  month_number  day_number  \n",
       "0                  17.25             1           4  \n",
       "1                  17.25             1           4  \n",
       "2                  17.25             1           4  \n",
       "3                  17.25             1           4  \n",
       "4                  17.25             1           4  \n",
       "\n",
       "[5 rows x 25 columns]"
      ]
     },
     "execution_count": 96,
     "metadata": {},
     "output_type": "execute_result"
    }
   ],
   "source": [
    "# Explore first few rows of data.\n",
    "gme_df.head()"
   ]
  },
  {
   "cell_type": "markdown",
   "id": "ed0820a2",
   "metadata": {},
   "source": [
    "We have dicussed these columns in the previous notebook."
   ]
  },
  {
   "cell_type": "markdown",
   "id": "0f85eb5e",
   "metadata": {},
   "source": [
    "## **Comment out save of plots**"
   ]
  },
  {
   "cell_type": "markdown",
   "id": "81ca40fb",
   "metadata": {},
   "source": [
    "I have commented out the plot save code so that the code does not run an error when you try and run my code. These saved plots are included in my Google Drive for reference in the Plots folder."
   ]
  },
  {
   "cell_type": "markdown",
   "id": "babe1e72",
   "metadata": {},
   "source": [
    "---\n",
    "---\n",
    "---"
   ]
  },
  {
   "cell_type": "markdown",
   "id": "19bd2426",
   "metadata": {},
   "source": [
    "# **Natural Language Processing: Overview**"
   ]
  },
  {
   "cell_type": "markdown",
   "id": "0712c654",
   "metadata": {},
   "source": [
    "NLP is the application of various computational techniques to try and analysis natural language and speech. In our case the title column of the Reddit data that was a number of comments made by users."
   ]
  },
  {
   "cell_type": "markdown",
   "id": "8d2a7dd3",
   "metadata": {},
   "source": [
    "For NLP I will be looking at:\n",
    "- Vectorizating with Bagofwords to get the most common words."
   ]
  },
  {
   "cell_type": "markdown",
   "id": "1f366e94",
   "metadata": {},
   "source": [
    "I also started some progress into using Vader Sentiment Analysis which can be seen in Section 11. These features will be added in the future."
   ]
  },
  {
   "cell_type": "markdown",
   "id": "dc4343a8",
   "metadata": {},
   "source": [
    "We want to look into the title comments to see what we can find."
   ]
  },
  {
   "cell_type": "code",
   "execution_count": 97,
   "id": "588ffcb3",
   "metadata": {
    "ExecuteTime": {
     "end_time": "2022-04-04T01:03:18.059818Z",
     "start_time": "2022-04-04T01:03:17.806985Z"
    },
    "scrolled": true
   },
   "outputs": [
    {
     "data": {
      "text/plain": [
       "0            my grandma said buy the dip!!!! amc and gme!!!\n",
       "1                                   gme help fund this app!\n",
       "2                                          acy the next gme\n",
       "3         💎gme ✋ be prepared for an increase in volume a...\n",
       "4         happy aperil everyone. just got done eating my...\n",
       "                                ...                        \n",
       "121113                           gme, but what about this…?\n",
       "121114                         any lrc gme announcement yet\n",
       "121115                         $gme is #1 hedge funds stock\n",
       "121116    gme nft game recently had moon version added. ...\n",
       "121117    meme buying gamestop was a terrible fucking idea.\n",
       "Name: title, Length: 121118, dtype: object"
      ]
     },
     "execution_count": 97,
     "metadata": {},
     "output_type": "execute_result"
    }
   ],
   "source": [
    "# Give the title column which is a comment that has been made by users.\n",
    "gme_df['title']"
   ]
  },
  {
   "cell_type": "markdown",
   "id": "3ab77a2a",
   "metadata": {},
   "source": [
    "We can see an example of waht the comments will look like. You can already see several references to Game Stop with its Share Price name being mentioned, GME."
   ]
  },
  {
   "cell_type": "markdown",
   "id": "0dde6d1f",
   "metadata": {
    "ExecuteTime": {
     "end_time": "2022-04-02T13:40:21.701666Z",
     "start_time": "2022-04-02T13:40:21.659749Z"
    }
   },
   "source": [
    "---"
   ]
  },
  {
   "cell_type": "markdown",
   "id": "03e00621",
   "metadata": {},
   "source": [
    "## **NLP: Bag of words**"
   ]
  },
  {
   "cell_type": "markdown",
   "id": "e3d91e8d",
   "metadata": {},
   "source": [
    "The first NLP Technique we will use is Bagofwords which looks for the most common words.\n",
    "<br><br>\n",
    "With Bag of words we take each word that exists in our corpus (entire dataset), count their occurrences in each document (comment) and make this count a feature to form the document-term matrix (encoded text data into a numeric matrix). <br><br>\n",
    "\n",
    "First, we will explore vectorizing the title column to see what kind of results we will get. Later, we will do this for the Train and Test Datasets."
   ]
  },
  {
   "cell_type": "code",
   "execution_count": 98,
   "id": "150ca168",
   "metadata": {
    "ExecuteTime": {
     "end_time": "2022-04-04T01:03:20.424609Z",
     "start_time": "2022-04-04T01:03:18.060816Z"
    }
   },
   "outputs": [
    {
     "data": {
      "text/plain": [
       "<121118x33031 sparse matrix of type '<class 'numpy.int64'>'\n",
       "\twith 1451251 stored elements in Compressed Sparse Row format>"
      ]
     },
     "execution_count": 98,
     "metadata": {},
     "output_type": "execute_result"
    }
   ],
   "source": [
    "# 1. Instantiate \n",
    "bagofwords = CountVectorizer()\n",
    "\n",
    "# 2. Fit \n",
    "bagofwords.fit(gme_df[\"title\"])\n",
    "\n",
    "# 3. Transform\n",
    "nlp_transformed = bagofwords.transform(gme_df[\"title\"])\n",
    "nlp_transformed"
   ]
  },
  {
   "cell_type": "markdown",
   "id": "1acfd3be",
   "metadata": {},
   "source": [
    "The output of the CountVectorizer() is a sparse matrix, which is very large. 155505x37721 rows by columns. A sparse matrix takes up alot less storage space then a dense matrix. A sparse matrix that takes 8MB would take the equevlent of 0.5GB in a dense matrix."
   ]
  },
  {
   "cell_type": "markdown",
   "id": "de518c42",
   "metadata": {},
   "source": [
    "If we have a look at the results we can see all the new features that have been created."
   ]
  },
  {
   "cell_type": "code",
   "execution_count": 99,
   "id": "63d5d30d",
   "metadata": {
    "ExecuteTime": {
     "end_time": "2022-04-04T01:03:20.454529Z",
     "start_time": "2022-04-04T01:03:20.426613Z"
    }
   },
   "outputs": [
    {
     "data": {
      "text/plain": [
       "['00',\n",
       " '000',\n",
       " '0000',\n",
       " '00000',\n",
       " '000000',\n",
       " '000000005',\n",
       " '000001',\n",
       " '0000354204',\n",
       " '0001',\n",
       " '0001192482',\n",
       " '00012',\n",
       " '000127',\n",
       " '0001326380',\n",
       " '000132638021000032',\n",
       " '0002',\n",
       " '000563',\n",
       " '000k',\n",
       " '000usd',\n",
       " '000xxzzsssssajshnsjsnejkdk',\n",
       " '001',\n",
       " '0011',\n",
       " '002',\n",
       " '0024',\n",
       " '002ism',\n",
       " '003',\n",
       " '004871',\n",
       " '005',\n",
       " '005ish',\n",
       " '006316',\n",
       " '0068',\n",
       " '007',\n",
       " '008',\n",
       " '009',\n",
       " '009240',\n",
       " '00am',\n",
       " '00europ',\n",
       " '00h',\n",
       " '00k',\n",
       " '00p',\n",
       " '00pm',\n",
       " '00usd',\n",
       " '01',\n",
       " '010',\n",
       " '012',\n",
       " '0127',\n",
       " '013',\n",
       " '014',\n",
       " '016',\n",
       " '01613168483',\n",
       " '017',\n",
       " '018491',\n",
       " '01am',\n",
       " '01pm',\n",
       " '02',\n",
       " '020930515',\n",
       " '021',\n",
       " '023',\n",
       " '024',\n",
       " '025',\n",
       " '02705',\n",
       " '0274',\n",
       " '028',\n",
       " '028300',\n",
       " '02pm',\n",
       " '03',\n",
       " '03032021',\n",
       " '03242021',\n",
       " '0326',\n",
       " '034',\n",
       " '0359',\n",
       " '036',\n",
       " '03million',\n",
       " '04',\n",
       " '040',\n",
       " '0400',\n",
       " '0420',\n",
       " '046',\n",
       " '049',\n",
       " '04am',\n",
       " '05',\n",
       " '050',\n",
       " '05am',\n",
       " '05c',\n",
       " '05pm',\n",
       " '06',\n",
       " '060',\n",
       " '0639',\n",
       " '0644',\n",
       " '068270',\n",
       " '069',\n",
       " '06am',\n",
       " '06m',\n",
       " '06pm',\n",
       " '07',\n",
       " '071',\n",
       " '077',\n",
       " '07p',\n",
       " '08',\n",
       " '082',\n",
       " '0845',\n",
       " '085430511',\n",
       " '086',\n",
       " '087',\n",
       " '08m',\n",
       " '09',\n",
       " '090',\n",
       " '0904',\n",
       " '094',\n",
       " '097',\n",
       " '0a6l',\n",
       " '0chain',\n",
       " '0da2fa97',\n",
       " '0dte',\n",
       " '0fc39786a542935c2675069116d693be',\n",
       " '0k',\n",
       " '0le',\n",
       " '0m',\n",
       " '0p000002ch',\n",
       " '0x',\n",
       " '0x13374200c29c757fdcc72f15da98fb94f286d71e',\n",
       " '0xfoobar',\n",
       " '10',\n",
       " '100',\n",
       " '1000',\n",
       " '10000',\n",
       " '100000',\n",
       " '1000000',\n",
       " '10000000',\n",
       " '1000000000',\n",
       " '10000000000',\n",
       " '1000000000000',\n",
       " '100000000x',\n",
       " '10000th',\n",
       " '10000x',\n",
       " '1000and',\n",
       " '1000c',\n",
       " '1000k',\n",
       " '1000p',\n",
       " '1000pc',\n",
       " '1000s',\n",
       " '1000shares',\n",
       " '1000usd',\n",
       " '1000x',\n",
       " '100b',\n",
       " '100billi',\n",
       " '100billion',\n",
       " '100billions',\n",
       " '100c',\n",
       " '100ish',\n",
       " '100k',\n",
       " '100m',\n",
       " '100mil',\n",
       " '100mili',\n",
       " '100mm',\n",
       " '100pts',\n",
       " '100putoption',\n",
       " '100s',\n",
       " '100shares',\n",
       " '100th',\n",
       " '100usd',\n",
       " '100x',\n",
       " '100xnok',\n",
       " '101',\n",
       " '1011',\n",
       " '1013500',\n",
       " '1014',\n",
       " '1019',\n",
       " '101k',\n",
       " '102',\n",
       " '1020',\n",
       " '1021ad',\n",
       " '1024',\n",
       " '102m',\n",
       " '103',\n",
       " '1030009280',\n",
       " '1030047842',\n",
       " '1030309434',\n",
       " '10367',\n",
       " '1039',\n",
       " '103k',\n",
       " '104',\n",
       " '1040',\n",
       " '1042',\n",
       " '1044',\n",
       " '104k',\n",
       " '105',\n",
       " '1050',\n",
       " '105c',\n",
       " '106',\n",
       " '1069',\n",
       " '106k',\n",
       " '107',\n",
       " '108',\n",
       " '1080p',\n",
       " '108k',\n",
       " '109',\n",
       " '10998',\n",
       " '10am',\n",
       " '10amc',\n",
       " '10b',\n",
       " '10billion',\n",
       " '10bn',\n",
       " '10c',\n",
       " '10cad',\n",
       " '10d',\n",
       " '10est',\n",
       " '10gme',\n",
       " '10k',\n",
       " '10kkk',\n",
       " '10m',\n",
       " '10mil',\n",
       " '10million',\n",
       " '10min',\n",
       " '10mins',\n",
       " '10mm',\n",
       " '10months',\n",
       " '10p',\n",
       " '10pm',\n",
       " '10puts',\n",
       " '10q',\n",
       " '10s',\n",
       " '10sharesgme',\n",
       " '10th',\n",
       " '10x',\n",
       " '10xgme',\n",
       " '10yo',\n",
       " '10yr',\n",
       " '11',\n",
       " '110',\n",
       " '1100',\n",
       " '11000',\n",
       " '110554197',\n",
       " '110c',\n",
       " '110k',\n",
       " '111',\n",
       " '11106290',\n",
       " '1111',\n",
       " '111207',\n",
       " '1113',\n",
       " '111355',\n",
       " '1119579',\n",
       " '111k',\n",
       " '112',\n",
       " '1125',\n",
       " '113',\n",
       " '1130',\n",
       " '113k',\n",
       " '114',\n",
       " '1140',\n",
       " '1141',\n",
       " '114911163',\n",
       " '115',\n",
       " '1150',\n",
       " '1151',\n",
       " '1156',\n",
       " '115c',\n",
       " '115call',\n",
       " '116',\n",
       " '11611747710',\n",
       " '11611750250',\n",
       " '11611842270',\n",
       " '11611931696',\n",
       " '11615235333',\n",
       " '11617301895',\n",
       " '11617659694',\n",
       " '11620158462',\n",
       " '11637285122',\n",
       " '116m',\n",
       " '117',\n",
       " '1170',\n",
       " '117k',\n",
       " '118',\n",
       " '1180',\n",
       " '11837',\n",
       " '118usd',\n",
       " '119',\n",
       " '119686',\n",
       " '119k',\n",
       " '11_tsla',\n",
       " '11am',\n",
       " '11bn',\n",
       " '11eb',\n",
       " '11k',\n",
       " '11m',\n",
       " '11million',\n",
       " '11pm',\n",
       " '11th',\n",
       " '11yo',\n",
       " '12',\n",
       " '120',\n",
       " '1200',\n",
       " '12000',\n",
       " '1203360444',\n",
       " '120k',\n",
       " '121',\n",
       " '1215',\n",
       " '121k',\n",
       " '121m',\n",
       " '121mil',\n",
       " '122',\n",
       " '1220',\n",
       " '1222',\n",
       " '122k',\n",
       " '123',\n",
       " '123000172',\n",
       " '1234591782',\n",
       " '123k',\n",
       " '124',\n",
       " '124400',\n",
       " '1245',\n",
       " '1247',\n",
       " '1248',\n",
       " '125',\n",
       " '1250',\n",
       " '125000',\n",
       " '1259',\n",
       " '125k',\n",
       " '126',\n",
       " '1260',\n",
       " '127',\n",
       " '127632',\n",
       " '128',\n",
       " '1287',\n",
       " '128k',\n",
       " '129',\n",
       " '129k',\n",
       " '12b',\n",
       " '12c',\n",
       " '12calls',\n",
       " '12cs',\n",
       " '12ishk',\n",
       " '12k',\n",
       " '12m',\n",
       " '12month',\n",
       " '12months',\n",
       " '12p',\n",
       " '12pm',\n",
       " '12s',\n",
       " '12th',\n",
       " '12usd',\n",
       " '12v12',\n",
       " '12x',\n",
       " '12yrs',\n",
       " '13',\n",
       " '130',\n",
       " '1300',\n",
       " '13000',\n",
       " '1300km',\n",
       " '1303',\n",
       " '13050',\n",
       " '130k',\n",
       " '130m',\n",
       " '130pm',\n",
       " '131',\n",
       " '132',\n",
       " '133',\n",
       " '1337',\n",
       " '1337ftw',\n",
       " '133k',\n",
       " '134',\n",
       " '134000',\n",
       " '1347',\n",
       " '135',\n",
       " '1351618332303237120',\n",
       " '1353731138271944704',\n",
       " '1354224707969699842',\n",
       " '1358',\n",
       " '135k',\n",
       " '135p',\n",
       " '136',\n",
       " '1364527020244275201hold',\n",
       " '1367613353145880576',\n",
       " '1368',\n",
       " '136k',\n",
       " '137',\n",
       " '13715567',\n",
       " '1371871483824332809',\n",
       " '1371879632778240002',\n",
       " '13720011',\n",
       " '1376901119620882433',\n",
       " '137k',\n",
       " '138',\n",
       " '1383',\n",
       " '13877',\n",
       " '138k',\n",
       " '139',\n",
       " '1392177739193622532',\n",
       " '13am',\n",
       " '13b',\n",
       " '13bn',\n",
       " '13d',\n",
       " '13ds',\n",
       " '13f',\n",
       " '13fs',\n",
       " '13g',\n",
       " '13k',\n",
       " '13m',\n",
       " '13mm',\n",
       " '13pm',\n",
       " '13th',\n",
       " '13x',\n",
       " '14',\n",
       " '140',\n",
       " '1400',\n",
       " '14000',\n",
       " '1404214894862516226',\n",
       " '140am',\n",
       " '140c',\n",
       " '140k',\n",
       " '140s',\n",
       " '141',\n",
       " '1410',\n",
       " '142',\n",
       " '1420',\n",
       " '1422416441966415872',\n",
       " '1426203696728248322',\n",
       " '142m',\n",
       " '143',\n",
       " '1432',\n",
       " '143761',\n",
       " '143k',\n",
       " '144',\n",
       " '1443371740302913536',\n",
       " '144c',\n",
       " '145',\n",
       " '145k',\n",
       " '145m',\n",
       " '145x',\n",
       " '145xkpg2nwcmv',\n",
       " '146',\n",
       " '1460',\n",
       " '147',\n",
       " '147m',\n",
       " '148',\n",
       " '149',\n",
       " '14935',\n",
       " '14a',\n",
       " '14am',\n",
       " '14k',\n",
       " '14m',\n",
       " '14million',\n",
       " '14p',\n",
       " '14pm',\n",
       " '14start',\n",
       " '14th',\n",
       " '15',\n",
       " '150',\n",
       " '1500',\n",
       " '15000',\n",
       " '150000',\n",
       " '150by',\n",
       " '150c',\n",
       " '150ish',\n",
       " '150k',\n",
       " '150million',\n",
       " '150s',\n",
       " '150share',\n",
       " '151',\n",
       " '1510',\n",
       " '152',\n",
       " '152k',\n",
       " '153',\n",
       " '154',\n",
       " '154k',\n",
       " '155',\n",
       " '1550',\n",
       " '155k',\n",
       " '156',\n",
       " '157',\n",
       " '158',\n",
       " '158m',\n",
       " '159',\n",
       " '15a',\n",
       " '15am',\n",
       " '15b',\n",
       " '15c',\n",
       " '15call',\n",
       " '15ft',\n",
       " '15jan21',\n",
       " '15k',\n",
       " '15m',\n",
       " '15min',\n",
       " '15minutes',\n",
       " '15pm',\n",
       " '15th',\n",
       " '15y',\n",
       " '15yo',\n",
       " '16',\n",
       " '160',\n",
       " '1600',\n",
       " '1603',\n",
       " '1607',\n",
       " '160ish',\n",
       " '160k',\n",
       " '160s',\n",
       " '161',\n",
       " '1611766525',\n",
       " '16160059381954',\n",
       " '161k',\n",
       " '162',\n",
       " '1624',\n",
       " '1629',\n",
       " '163',\n",
       " '1635',\n",
       " '163k',\n",
       " '164',\n",
       " '1640',\n",
       " '164mm',\n",
       " '165',\n",
       " '165k',\n",
       " '166',\n",
       " '167',\n",
       " '167k',\n",
       " '168',\n",
       " '1688',\n",
       " '169',\n",
       " '16am',\n",
       " '16c',\n",
       " '16in',\n",
       " '16july2021',\n",
       " '16k',\n",
       " '16m',\n",
       " '16p',\n",
       " '16pm',\n",
       " '16th',\n",
       " '16x',\n",
       " '17',\n",
       " '170',\n",
       " '1700',\n",
       " '17000',\n",
       " '1700s',\n",
       " '170ish',\n",
       " '170k',\n",
       " '170mil',\n",
       " '171',\n",
       " '172',\n",
       " '173',\n",
       " '1738',\n",
       " '173k',\n",
       " '174',\n",
       " '174542296',\n",
       " '175',\n",
       " '1750',\n",
       " '175k',\n",
       " '176',\n",
       " '177',\n",
       " '1775',\n",
       " '1776',\n",
       " '178',\n",
       " '178k',\n",
       " '179',\n",
       " '179m',\n",
       " '17am',\n",
       " '17c',\n",
       " '17k',\n",
       " '17kbananasonopen',\n",
       " '17m',\n",
       " '17th',\n",
       " '17yo',\n",
       " '17yrs',\n",
       " '18',\n",
       " '180',\n",
       " '1800',\n",
       " '180b',\n",
       " '180ish',\n",
       " '180k',\n",
       " '180m',\n",
       " '180x',\n",
       " '181',\n",
       " '181m',\n",
       " '182',\n",
       " '182k',\n",
       " '183',\n",
       " '18300',\n",
       " '18382',\n",
       " '184',\n",
       " '185',\n",
       " '1850',\n",
       " '185b',\n",
       " '185m',\n",
       " '186',\n",
       " '1862',\n",
       " '1865',\n",
       " '18661',\n",
       " '187',\n",
       " '1875',\n",
       " '188',\n",
       " '18846',\n",
       " '1889',\n",
       " '189',\n",
       " '18am',\n",
       " '18b',\n",
       " '18c',\n",
       " '18k',\n",
       " '18m',\n",
       " '18pm',\n",
       " '18th',\n",
       " '18yo',\n",
       " '18yr',\n",
       " '18yrs',\n",
       " '19',\n",
       " '190',\n",
       " '1900',\n",
       " '1901',\n",
       " '1905',\n",
       " '1906',\n",
       " '1907',\n",
       " '1909',\n",
       " '190k',\n",
       " '190lb',\n",
       " '190nok',\n",
       " '190usd',\n",
       " '191',\n",
       " '1913',\n",
       " '192',\n",
       " '1921',\n",
       " '1927',\n",
       " '1929',\n",
       " '193',\n",
       " '1930',\n",
       " '1930s',\n",
       " '193213870',\n",
       " '193ea',\n",
       " '194',\n",
       " '1940',\n",
       " '1945',\n",
       " '195',\n",
       " '196',\n",
       " '1960',\n",
       " '1966',\n",
       " '1969',\n",
       " '197',\n",
       " '1975',\n",
       " '1978',\n",
       " '198',\n",
       " '1980',\n",
       " '19800',\n",
       " '1980s',\n",
       " '1984',\n",
       " '19863',\n",
       " '1987',\n",
       " '1988',\n",
       " '199',\n",
       " '1990s',\n",
       " '1992',\n",
       " '1993',\n",
       " '1995',\n",
       " '1996',\n",
       " '19969',\n",
       " '1997',\n",
       " '1998',\n",
       " '1999',\n",
       " '199k',\n",
       " '19am',\n",
       " '19b',\n",
       " '19bn',\n",
       " '19c',\n",
       " '19ea',\n",
       " '19k',\n",
       " '19m',\n",
       " '19mar21',\n",
       " '19may200csp',\n",
       " '19mil',\n",
       " '19mm',\n",
       " '19th',\n",
       " '19yr',\n",
       " '1am',\n",
       " '1amc',\n",
       " '1b',\n",
       " '1bil',\n",
       " '1bill',\n",
       " '1billion',\n",
       " '1bitcoin',\n",
       " '1bn',\n",
       " '1broadway',\n",
       " '1cm',\n",
       " '1day',\n",
       " '1does',\n",
       " '1dollardoge',\n",
       " '1dte',\n",
       " '1eth',\n",
       " '1f522366148b',\n",
       " '1faipqlsdy76axsbs9n',\n",
       " '1faipqlsdy76axsbs9n_mugu',\n",
       " '1for',\n",
       " '1gme',\n",
       " '1googol',\n",
       " '1h',\n",
       " '1hour',\n",
       " '1hr',\n",
       " '1jan20',\n",
       " '1k',\n",
       " '1lofq1uqs1mhobpv7dzqd1qdrb8ngmzdbp',\n",
       " '1m',\n",
       " '1mea',\n",
       " '1mil',\n",
       " '1mill',\n",
       " '1million',\n",
       " '1min',\n",
       " '1mio',\n",
       " '1mm',\n",
       " '1month',\n",
       " '1n',\n",
       " '1nd',\n",
       " '1outa8odges',\n",
       " '1oz',\n",
       " '1p',\n",
       " '1ply',\n",
       " '1pm',\n",
       " '1q',\n",
       " '1ronyman',\n",
       " '1share',\n",
       " '1sharegang',\n",
       " '1shjbvwqvpk',\n",
       " '1st',\n",
       " '1stock',\n",
       " '1t',\n",
       " '1tb',\n",
       " '1tde',\n",
       " '1trillion',\n",
       " '1undred',\n",
       " '1up',\n",
       " '1v1',\n",
       " '1vhtno44uiy3w',\n",
       " '1vquqnpqc6c',\n",
       " '1whole',\n",
       " '1x',\n",
       " '1x1',\n",
       " '1x300',\n",
       " '1xjlopiq5pfc9',\n",
       " '1y',\n",
       " '1year',\n",
       " '1yr',\n",
       " '20',\n",
       " '200',\n",
       " '2000',\n",
       " '20000',\n",
       " '2000p',\n",
       " '2000s',\n",
       " '2001',\n",
       " '2002',\n",
       " '2003',\n",
       " '2004',\n",
       " '200479641',\n",
       " '2005',\n",
       " '2006',\n",
       " '2007',\n",
       " '2008',\n",
       " '2009',\n",
       " '200c',\n",
       " '200call',\n",
       " '200eod',\n",
       " '200gme',\n",
       " '200k',\n",
       " '200m',\n",
       " '200mil',\n",
       " '200mn',\n",
       " '200put',\n",
       " '200s',\n",
       " '200th',\n",
       " '200usd',\n",
       " '200x',\n",
       " '201',\n",
       " '2010',\n",
       " '2011',\n",
       " '2012',\n",
       " '2013',\n",
       " '2014',\n",
       " '2015',\n",
       " '2016',\n",
       " '2017',\n",
       " '2018',\n",
       " '2019',\n",
       " '202',\n",
       " '2020',\n",
       " '20201',\n",
       " '2020ish',\n",
       " '2021',\n",
       " '2021003',\n",
       " '202101280920',\n",
       " '20210130',\n",
       " '20210312',\n",
       " '2021042516194',\n",
       " '202112',\n",
       " '2021f',\n",
       " '2021farms',\n",
       " '2021q1',\n",
       " '2022',\n",
       " '2023',\n",
       " '2024',\n",
       " '2025',\n",
       " '2026',\n",
       " '203',\n",
       " '2030',\n",
       " '2031',\n",
       " '2032',\n",
       " '204',\n",
       " '2040',\n",
       " '205',\n",
       " '2050',\n",
       " '2056',\n",
       " '206',\n",
       " '2060',\n",
       " '2069',\n",
       " '207',\n",
       " '2070',\n",
       " '2073',\n",
       " '2077',\n",
       " '208',\n",
       " '208k',\n",
       " '209',\n",
       " '2099055',\n",
       " '20am',\n",
       " '20b',\n",
       " '20bln',\n",
       " '20c',\n",
       " '20d',\n",
       " '20each',\n",
       " '20k',\n",
       " '20m',\n",
       " '20mil',\n",
       " '20mill',\n",
       " '20millisthefloor',\n",
       " '20min',\n",
       " '20minutes',\n",
       " '20p',\n",
       " '20pm',\n",
       " '20pst',\n",
       " '20s',\n",
       " '20teenz',\n",
       " '20th',\n",
       " '20usd',\n",
       " '20x',\n",
       " '20yr',\n",
       " '20yrs',\n",
       " '21',\n",
       " '210',\n",
       " '2100',\n",
       " '210m',\n",
       " '211',\n",
       " '2112',\n",
       " '212',\n",
       " '212s',\n",
       " '212trading',\n",
       " '213',\n",
       " '214',\n",
       " '2140',\n",
       " '214509325',\n",
       " '215',\n",
       " '215000',\n",
       " '2159',\n",
       " '215c',\n",
       " '215k',\n",
       " '216',\n",
       " '216k',\n",
       " '217',\n",
       " '218',\n",
       " '218ish',\n",
       " '219',\n",
       " '21b',\n",
       " '21c',\n",
       " '21f',\n",
       " '21gme',\n",
       " '21gme37p',\n",
       " '21k',\n",
       " '21m',\n",
       " '21pm',\n",
       " '21st',\n",
       " '22',\n",
       " '220',\n",
       " '2200',\n",
       " '220606787',\n",
       " '220k',\n",
       " '221',\n",
       " '221657404',\n",
       " '222',\n",
       " '22206455',\n",
       " '2222',\n",
       " '223',\n",
       " '2232',\n",
       " '224',\n",
       " '224m',\n",
       " '225',\n",
       " '2250',\n",
       " '22500',\n",
       " '225k',\n",
       " '225x100',\n",
       " '226',\n",
       " '226k',\n",
       " '227',\n",
       " '22745579',\n",
       " '228',\n",
       " '228k',\n",
       " '229',\n",
       " '22am',\n",
       " '22b',\n",
       " '22c',\n",
       " '22feb2020',\n",
       " '22hrs',\n",
       " '22k',\n",
       " '22m',\n",
       " '22mil',\n",
       " '22million',\n",
       " '22mm',\n",
       " '22nd',\n",
       " '22pm',\n",
       " '23',\n",
       " '230',\n",
       " '2300',\n",
       " '2301',\n",
       " '230120',\n",
       " '230k',\n",
       " '231',\n",
       " '232',\n",
       " '233',\n",
       " '234',\n",
       " '2340',\n",
       " '234600703',\n",
       " '235',\n",
       " '23500',\n",
       " '2357',\n",
       " '235k',\n",
       " '236',\n",
       " '237',\n",
       " '237k',\n",
       " '238',\n",
       " '239',\n",
       " '239m',\n",
       " '23b',\n",
       " '23bil',\n",
       " '23billion',\n",
       " '23c',\n",
       " '23d',\n",
       " '23k',\n",
       " '23p',\n",
       " '23rd',\n",
       " '23st',\n",
       " '23yo',\n",
       " '24',\n",
       " '240',\n",
       " '2400',\n",
       " '24000',\n",
       " '240970',\n",
       " '240s',\n",
       " '241',\n",
       " '242',\n",
       " '2420',\n",
       " '242k',\n",
       " '243',\n",
       " '244',\n",
       " '244m',\n",
       " '245',\n",
       " '245k',\n",
       " '246',\n",
       " '247',\n",
       " '2473',\n",
       " '2475399251',\n",
       " '247k',\n",
       " '248',\n",
       " '249',\n",
       " '2490',\n",
       " '2495',\n",
       " '2498',\n",
       " '24am',\n",
       " '24b',\n",
       " '24c',\n",
       " '24ct',\n",
       " '24f',\n",
       " '24h',\n",
       " '24hours',\n",
       " '24hr',\n",
       " '24hrs',\n",
       " '24k',\n",
       " '24million',\n",
       " '24min_11sec',\n",
       " '24p',\n",
       " '24s',\n",
       " '24th',\n",
       " '25',\n",
       " '250',\n",
       " '2500',\n",
       " '25000',\n",
       " '250000',\n",
       " '250c',\n",
       " '250ish',\n",
       " '250k',\n",
       " '250m',\n",
       " '250mil',\n",
       " '250mmm',\n",
       " '250p',\n",
       " '251',\n",
       " '25166',\n",
       " '252',\n",
       " '252m',\n",
       " '253',\n",
       " '254',\n",
       " '254k',\n",
       " '255',\n",
       " '2550',\n",
       " '255k',\n",
       " ...]"
      ]
     },
     "execution_count": 99,
     "metadata": {},
     "output_type": "execute_result"
    }
   ],
   "source": [
    "# look at the new features that have been created by bag of words.\n",
    "bagofwords.get_feature_names()"
   ]
  },
  {
   "cell_type": "markdown",
   "id": "c2d0defa",
   "metadata": {
    "ExecuteTime": {
     "end_time": "2022-03-26T19:13:03.328746Z",
     "start_time": "2022-03-26T19:13:03.320768Z"
    }
   },
   "source": [
    "We can see we have a sample list of the first features that have extracted. "
   ]
  },
  {
   "cell_type": "markdown",
   "id": "b2e02e4d",
   "metadata": {},
   "source": [
    "**Note:** <br>\n",
    "Due to the amount of rows we have, over 120,000 rows and the amount of different words in each title, there is potential a massive spare matrix. My computer would not be able to run this. However, we have options to trim a lot of these words as we want to only take words that are relevant or that are in a certain amount to make them useful.<br>\n",
    "\n",
    "**Stopwords**<br>\n",
    "The stopwords removes the most frequent words that would not have a lot of extra content or improve on your understanding of the text. Things like, articles ('the'), prepositions ('ago'), pronouns ('her'), conjunctions ('or'), and simple verbs like 'be' and 'have' will be removed.\n",
    "\n",
    "**min_df**<br>\n",
    "min_df is a parameter to exclude any token that occurs less than the number specfied. Since I have 120,000 rows, anything less than 5 times would not be useful.\n",
    "<br>\n",
    "\n",
    "**max_features**<br>\n",
    "max_features is a parameter to restrict vertorization to the 1000. these will be the most frequent tokens."
   ]
  },
  {
   "cell_type": "code",
   "execution_count": 100,
   "id": "78b070ca",
   "metadata": {
    "ExecuteTime": {
     "end_time": "2022-04-04T01:03:22.705212Z",
     "start_time": "2022-04-04T01:03:20.455526Z"
    }
   },
   "outputs": [
    {
     "data": {
      "text/plain": [
       "<121118x1000 sparse matrix of type '<class 'numpy.int64'>'\n",
       "\twith 635887 stored elements in Compressed Sparse Row format>"
      ]
     },
     "execution_count": 100,
     "metadata": {},
     "output_type": "execute_result"
    }
   ],
   "source": [
    "# 1. Instantiate\n",
    "bagofwords = CountVectorizer(stop_words=\"english\", min_df=5, max_features=1000)\n",
    "\n",
    "# 2. Fit - extracts the unique tokens from all the titles (creating the vocabulary from the corpus)\n",
    "bagofwords.fit(gme_df[\"title\"])\n",
    "\n",
    "# 3. Transform - creates vectors of word counts\n",
    "nlp_transformed = bagofwords.transform(gme_df[\"title\"])\n",
    "nlp_transformed"
   ]
  },
  {
   "cell_type": "markdown",
   "id": "842c7a0e",
   "metadata": {},
   "source": [
    "We now have a smaller and more revelant spare matrics. The number of columns is now only 1000."
   ]
  },
  {
   "cell_type": "markdown",
   "id": "fe6610e6",
   "metadata": {},
   "source": [
    "---"
   ]
  },
  {
   "cell_type": "markdown",
   "id": "37c9ab42",
   "metadata": {},
   "source": [
    "## **What kind of words are appearing**"
   ]
  },
  {
   "cell_type": "markdown",
   "id": "6261ba44",
   "metadata": {},
   "source": [
    "Let's have a look at the most common words and their count"
   ]
  },
  {
   "cell_type": "code",
   "execution_count": 101,
   "id": "9ccf5759",
   "metadata": {
    "ExecuteTime": {
     "end_time": "2022-04-04T01:03:22.720175Z",
     "start_time": "2022-04-04T01:03:22.706210Z"
    },
    "scrolled": true
   },
   "outputs": [
    {
     "name": "stdout",
     "output_type": "stream",
     "text": [
      "['000', 'average', 'closing', 'endgame', 'green', 'koss', 'nakd', 'purchased', 'shorted', 'time']\n"
     ]
    }
   ],
   "source": [
    "# Look at some random examples of words that are appearing\n",
    "words = bagofwords.get_feature_names()\n",
    "some_indices = range(1, 1000, round(1000/10))\n",
    "\n",
    "samples = [words[i] for i in some_indices]\n",
    "print(samples)"
   ]
  },
  {
   "cell_type": "markdown",
   "id": "05a5b9f3",
   "metadata": {},
   "source": [
    "We can see some examples of words, 'average', 'closing', 'endgame', 'koss', 'green', 'purchased', 'shorted', 'time', etc<br>\n",
    "\n",
    "'Bag of Words' only gets the count of the words. But from this random selection we can see 'shorted' a reference to Traders betting on a hare price dropping and buying or selling it. So, we can see some benefit from this approach already."
   ]
  },
  {
   "cell_type": "markdown",
   "id": "f67cba89",
   "metadata": {},
   "source": [
    "We can plot the 20 most common words and there counts to see which words appear the most."
   ]
  },
  {
   "cell_type": "code",
   "execution_count": 102,
   "id": "7bf96134",
   "metadata": {
    "ExecuteTime": {
     "end_time": "2022-04-04T01:03:23.257673Z",
     "start_time": "2022-04-04T01:03:22.721174Z"
    }
   },
   "outputs": [
    {
     "data": {
      "image/png": "[encoded data removed]",
      "text/plain": [
       "<Figure size 1080x360 with 1 Axes>"
      ]
     },
     "metadata": {
      "needs_background": "light"
     },
     "output_type": "display_data"
    }
   ],
   "source": [
    "# plot the most common words.\n",
    "word_counts = nlp_transformed.toarray().sum(axis=0)\n",
    "\n",
    "def plot_most_frequent(words, word_counts, top=20):\n",
    "    words_df = pd.DataFrame({\"token\": words, \n",
    "                             \"count\": word_counts})\n",
    "    \n",
    "    fig, ax = plt.subplots(figsize=(0.75*top, 5))\n",
    "    words_df.sort_values(by=\"count\", ascending=False).head(top)\\\n",
    "        .set_index(\"token\")\\\n",
    "        .plot(kind=\"bar\", rot=45, ax=ax, color='b')\n",
    "    sns.despine()\n",
    "    plt.title(\"Most frequent tokens\")\n",
    "    \n",
    "plot_most_frequent(words, word_counts)\n",
    "\n",
    "#Save the plot\n",
    "#plt.savefig(\"/Users/Kolobane/Documents/BrainStation Data Science Course/Project Capstone/Plots/NLP_Word_Examples.png\")"
   ]
  },
  {
   "cell_type": "markdown",
   "id": "a6d819c8",
   "metadata": {
    "ExecuteTime": {
     "end_time": "2022-03-27T10:34:28.149410Z",
     "start_time": "2022-03-27T10:34:28.136473Z"
    }
   },
   "source": [
    "**Observations:**<br>\n",
    "- Its not a surprise that the most common comment is a reference to GME, which is the share price or Game Stop itself as these were the keywords we used to get a subset of the full Reddit data.\n",
    "- Other possible shorted shares:\n",
    "    - amc is the share name for AMCE entertainment Holdings. This is interesting as it could be a good test for our completed model to look to see if this also had a short squeeze on it.\n",
    "    - We would need to use the other keywords for our model but remove the GME words and add in AMC. A future direction for the project\n",
    "- We can also see some interesting words mentioned. \n",
    "    - Hold, moon, short, squeeze, buying, shares, buy, sell, market.\n",
    "    - These words would be also helpful in future models to create a univeral model that could be applied to other shares."
   ]
  },
  {
   "cell_type": "markdown",
   "id": "a521a09d",
   "metadata": {},
   "source": [
    "---\n",
    "---\n",
    "---"
   ]
  },
  {
   "cell_type": "markdown",
   "id": "5d509ec7",
   "metadata": {},
   "source": [
    "# **Prep Data for Modelling**"
   ]
  },
  {
   "cell_type": "markdown",
   "id": "feab2919",
   "metadata": {},
   "source": [
    "Since we are looking to predict a share price we will be looking to divide our Train and Test Data by a time period rather then use sklearn's random Spliter for example. This way we can look at the previous Train period to see how it compares to the Test Period to find a value for the Target variable, which again is the Closing Price of the share."
   ]
  },
  {
   "cell_type": "markdown",
   "id": "b6a0bbfc",
   "metadata": {},
   "source": [
    "---"
   ]
  },
  {
   "cell_type": "markdown",
   "id": "f7c634c7",
   "metadata": {},
   "source": [
    "## **Splitting data by a date range**"
   ]
  },
  {
   "cell_type": "markdown",
   "id": "c1de3791",
   "metadata": {},
   "source": [
    "---"
   ]
  },
  {
   "cell_type": "markdown",
   "id": "a97a1573",
   "metadata": {},
   "source": [
    "## **Train/ Test Size Issue**"
   ]
  },
  {
   "cell_type": "markdown",
   "id": "d2ab179e",
   "metadata": {},
   "source": [
    "As we have already seen in the table below, that most of the mentions of the game stop are in January. This means if we used a normal Train/Test split of 0.8/0.2 on the time range. There will be very little data in the test set as the number of mentions are heavily skewed to the start of the year, especially in January. Not having enough data to Test the model on is not ideal in Machine Learning Models."
   ]
  },
  {
   "attachments": {
    "SNS_Bar_Mentions_by_Year.png": {
     "image/png": "[encoded data removed]"
    }
   },
   "cell_type": "markdown",
   "id": "3f8cf865",
   "metadata": {},
   "source": [
    "![SNS_Bar_Mentions_by_Year.png](attachment:SNS_Bar_Mentions_by_Year.png)"
   ]
  },
  {
   "cell_type": "markdown",
   "id": "32c0fd30",
   "metadata": {},
   "source": [
    "Since we have a skewed data but still want to use a Time Range as a Train and Test splitter we will will create three Train/Test ranges to Train and Test on. We will then run models on these Ranges and see what results we get.\n",
    "<br><br>\n",
    "There is a total of 121,118 rows in the full data.\n",
    "\n",
    "**A_train / A_test:** \n",
    "- 10 month/2 month split of time range\n",
    "- Train/ Test split (114979/5926) \n",
    "- Test data 0.05% - **Small Test Data Set**\n",
    "<br>\n",
    "\n",
    "**B_train / B_test:**\n",
    "- 8 month / 4 month split of time range\n",
    "- Train/ Test split (109957/11008)\n",
    "- Test data 0.09% - **Still a small Test Data set**\n",
    "<br>\n",
    "\n",
    "**C_train / C_test:**\n",
    "- 4 month /8 month split of time range\n",
    "- Train/ Test split (96345/24720)\n",
    "- Test data 0.205% - **A more normal Test Data set but the time range is heavily skewed now to Test**\n",
    "<br><br>\n",
    "\n",
    "We now have three Time Range Train and Test Datasets of A, B and C which we will model on. It will be interesting comparing the different results as they are quiet different in regards to the time range vs data split. \n",
    "<br><br>\n",
    "Also, remember we have not included our NLP features yet.\n"
   ]
  },
  {
   "cell_type": "markdown",
   "id": "edb78af5",
   "metadata": {},
   "source": [
    "---"
   ]
  },
  {
   "cell_type": "markdown",
   "id": "6b19eed5",
   "metadata": {
    "ExecuteTime": {
     "end_time": "2022-04-02T15:25:50.066144Z",
     "start_time": "2022-04-02T15:25:50.058166Z"
    }
   },
   "source": [
    "### **A_train / A_test Range**"
   ]
  },
  {
   "cell_type": "markdown",
   "id": "c2413f46",
   "metadata": {},
   "source": [
    "The A_train/A_test will be based on a 10 month / 2 month split of the data."
   ]
  },
  {
   "cell_type": "code",
   "execution_count": 103,
   "id": "721cad8d",
   "metadata": {
    "ExecuteTime": {
     "end_time": "2022-04-04T01:03:23.384850Z",
     "start_time": "2022-04-04T01:03:23.258670Z"
    }
   },
   "outputs": [
    {
     "data": {
      "text/plain": [
       "((114979, 25), (5926, 25))"
      ]
     },
     "execution_count": 103,
     "metadata": {},
     "output_type": "execute_result"
    }
   ],
   "source": [
    "# Split data into a Train set for Jan to Sept\n",
    "train_month_10 = gme_df['Date'] < '2021-11-01'\n",
    "A_train = gme_df[train_month_10]\n",
    "\n",
    "# Spilt data into a Test set from Nov to Dec\n",
    "test_month_2 = (gme_df['Date'] > '2021-11-01') & (gme_df['Date'] < '2021-12-31')\n",
    "A_test = gme_df[test_month_2]\n",
    "\n",
    "# Check shape of Train and Test data\n",
    "A_train.shape, A_test.shape"
   ]
  },
  {
   "cell_type": "markdown",
   "id": "9353f7c7",
   "metadata": {},
   "source": [
    "As you can see there are 114,979 rows in the Train and 5,926 rows in the Test Data. This is a very small Train/Test Split of only 0.05% in the Test data set."
   ]
  },
  {
   "cell_type": "markdown",
   "id": "a5978799",
   "metadata": {},
   "source": [
    "---"
   ]
  },
  {
   "cell_type": "markdown",
   "id": "9b4ffdca",
   "metadata": {},
   "source": [
    "### **B_train / B_test Range**"
   ]
  },
  {
   "cell_type": "markdown",
   "id": "b8e6252c",
   "metadata": {
    "ExecuteTime": {
     "end_time": "2022-04-02T15:31:10.580252Z",
     "start_time": "2022-04-02T15:31:10.570247Z"
    }
   },
   "source": [
    "The B_train/B_test will be based on a 8 month / 4 month split of the data."
   ]
  },
  {
   "cell_type": "code",
   "execution_count": 104,
   "id": "b5148d3e",
   "metadata": {
    "ExecuteTime": {
     "end_time": "2022-04-04T01:03:23.448641Z",
     "start_time": "2022-04-04T01:03:23.386832Z"
    }
   },
   "outputs": [
    {
     "data": {
      "text/plain": [
       "((109957, 25), (11008, 25))"
      ]
     },
     "execution_count": 104,
     "metadata": {},
     "output_type": "execute_result"
    }
   ],
   "source": [
    "# Split data into a Train set for Jan to Sept\n",
    "train_month_8= gme_df['Date'] < '2021-09-01'\n",
    "B_train = gme_df[train_month_8]\n",
    "\n",
    "# Spilt data into a Test set from Nov to Dec\n",
    "test_month_4 = (gme_df['Date'] > '2021-09-01') & (gme_df['Date'] < '2021-12-31')\n",
    "B_test = gme_df[test_month_4]\n",
    "\n",
    "# Check shape of Train and Test data\n",
    "B_train.shape, B_test.shape"
   ]
  },
  {
   "cell_type": "markdown",
   "id": "1f03e460",
   "metadata": {
    "ExecuteTime": {
     "end_time": "2022-04-02T15:33:57.971730Z",
     "start_time": "2022-04-02T15:33:57.953780Z"
    }
   },
   "source": [
    "This time the Train and Test split is 109,957 rows and 11,008 for the Train/Test Split. This a Test Data size of 0.09%."
   ]
  },
  {
   "cell_type": "markdown",
   "id": "140f7fbe",
   "metadata": {},
   "source": [
    "---"
   ]
  },
  {
   "cell_type": "markdown",
   "id": "2889d492",
   "metadata": {},
   "source": [
    "### **C_train / C_test Range**"
   ]
  },
  {
   "cell_type": "code",
   "execution_count": 105,
   "id": "c2ab20db",
   "metadata": {
    "ExecuteTime": {
     "end_time": "2022-04-04T01:03:23.496514Z",
     "start_time": "2022-04-04T01:03:23.449610Z"
    },
    "scrolled": true
   },
   "outputs": [
    {
     "data": {
      "text/plain": [
       "((96345, 25), (24720, 25))"
      ]
     },
     "execution_count": 105,
     "metadata": {},
     "output_type": "execute_result"
    }
   ],
   "source": [
    "# Split data into a Train set for Jan to Sept\n",
    "train_month_5 = gme_df['Date'] < '2021-05-01'\n",
    "C_train = gme_df[train_month_5]\n",
    "\n",
    "# Spilt data into a Test set from Nov to Dec\n",
    "test_month_5 = (gme_df['Date'] > '2021-05-01') & (gme_df['Date'] < '2021-12-31')\n",
    "C_test = gme_df[test_month_5]\n",
    "\n",
    "# Check shape of Train and Test data\n",
    "C_train.shape, C_test.shape"
   ]
  },
  {
   "cell_type": "markdown",
   "id": "b17fb167",
   "metadata": {},
   "source": [
    "The C_train and C_test time range is now heavily towards the Test set with 96,345 rows in the Train data and 24,720 rows in the Test Data. This gives us a more normally industry Test size of 0.20%. However our Time Range is only 4 months for the Train Data and 8 months for the Test data. \n",
    "<br><br>\n",
    "It will be interesting to see what results generated for our models."
   ]
  },
  {
   "cell_type": "markdown",
   "id": "34ed97ab",
   "metadata": {},
   "source": [
    "---"
   ]
  },
  {
   "cell_type": "markdown",
   "id": "52774284",
   "metadata": {},
   "source": [
    "## **Preparing Train and Test Independent and Dependent variables**"
   ]
  },
  {
   "cell_type": "markdown",
   "id": "e4c33382",
   "metadata": {},
   "source": [
    "**Next:**<br>\n",
    "We will look to assign the Independent and Dependent Variables:\n",
    "- Assign our features and target variables to X and y\n",
    "    - X - Independent Variable - All our feature columns minus any object columns\n",
    "    - y - Dependent Variable - Target Variable - This is the Closing Price of the Share\n",
    "- Create our training ( X_train ) and test ( X_test ) sets for each of the three Time Range Data Splits of A, B and C."
   ]
  },
  {
   "cell_type": "markdown",
   "id": "726d2841",
   "metadata": {},
   "source": [
    "**NOTE:** <br>\n",
    "At this point I want to get my Train and Test sets and I want to split my independent and dependent variables but I need to keep my title column so that I can vectorize my comments with NLP. I will drop the title column after I get my bagofwords.\n",
    "<br><br>\n",
    "We also need to do the NLP work on the Train and Test data separately to prevent any data leakage."
   ]
  },
  {
   "cell_type": "markdown",
   "id": "b4e6ecdb",
   "metadata": {},
   "source": [
    "---"
   ]
  },
  {
   "cell_type": "markdown",
   "id": "a4326329",
   "metadata": {},
   "source": [
    "### **A_train / A_test Independent and Dependent variables**"
   ]
  },
  {
   "cell_type": "code",
   "execution_count": 106,
   "id": "138e0aa5",
   "metadata": {
    "ExecuteTime": {
     "end_time": "2022-04-04T01:03:23.559877Z",
     "start_time": "2022-04-04T01:03:23.497482Z"
    }
   },
   "outputs": [
    {
     "data": {
      "text/plain": [
       "((114979, 18), (5926, 18), (114979,), (5926,))"
      ]
     },
     "execution_count": 106,
     "metadata": {},
     "output_type": "execute_result"
    }
   ],
   "source": [
    "# Drop some of the columns for modelling to get independent variables\n",
    "# As noted we will not drop the 'title' column yet\n",
    "X_A_train = A_train.drop(['Close', 'author', 'Low', 'Date','Open', 'High', 'Volume'], axis=1)\n",
    "X_A_test = A_test.drop(['Close', 'author', 'Low', 'Date', 'Open', 'High', 'Volume'], axis=1)\n",
    "\n",
    "# get the dependent target, which is the 'Close' Share price\n",
    "y_A_train = A_train['Close']\n",
    "y_A_test = A_test['Close']\n",
    "\n",
    "# Look at the shapes\n",
    "X_A_train.shape, X_A_test.shape, y_A_train.shape, y_A_test.shape "
   ]
  },
  {
   "cell_type": "markdown",
   "id": "006428d6",
   "metadata": {},
   "source": [
    "Why did we drop these particular columns(features)?\n",
    "- Close is our dependent variable\n",
    "- Low, Open, High, Volume are all related to the Share and would be correlated to the Share price\n",
    "- Author is an object and we are using Regression models and so need numeric columns\n",
    "- Date is a time series but we have already taken some Month and Day columns in our features in Notebook 2.\n",
    "    - We do not need to take year at this time as we only have one year, 2021."
   ]
  },
  {
   "cell_type": "markdown",
   "id": "847e9eaf",
   "metadata": {},
   "source": [
    "---"
   ]
  },
  {
   "cell_type": "markdown",
   "id": "ca58d04d",
   "metadata": {},
   "source": [
    "### **B_train / B_test Range Independent and Dependent variables**"
   ]
  },
  {
   "cell_type": "code",
   "execution_count": 107,
   "id": "c512555e",
   "metadata": {
    "ExecuteTime": {
     "end_time": "2022-04-04T01:03:23.591832Z",
     "start_time": "2022-04-04T01:03:23.560876Z"
    },
    "scrolled": true
   },
   "outputs": [
    {
     "data": {
      "text/plain": [
       "((109957, 18), (11008, 18), (109957,), (11008,))"
      ]
     },
     "execution_count": 107,
     "metadata": {},
     "output_type": "execute_result"
    }
   ],
   "source": [
    "# Drop some of the columns for modelling to get independent variables\n",
    "X_B_train = B_train.drop(['Close', 'author', 'Low', 'Date','Open', 'High', 'Volume'], axis=1)\n",
    "X_B_test = B_test.drop(['Close', 'author', 'Low', 'Date', 'Open', 'High', 'Volume'], axis=1)\n",
    "# ADDED date back into both\n",
    "\n",
    "# get the dependent target, which is the 'Close' Share price\n",
    "y_B_train = B_train['Close']\n",
    "y_B_test = B_test['Close']\n",
    "\n",
    "# Look at the shapes\n",
    "X_B_train.shape, X_B_test.shape, y_B_train.shape, y_B_test.shape "
   ]
  },
  {
   "cell_type": "markdown",
   "id": "19c35a19",
   "metadata": {},
   "source": [
    "---"
   ]
  },
  {
   "cell_type": "markdown",
   "id": "3c55022e",
   "metadata": {},
   "source": [
    "### **C_train / C_test Range Independent and Dependent variables**"
   ]
  },
  {
   "cell_type": "code",
   "execution_count": 108,
   "id": "e57bbcc1",
   "metadata": {
    "ExecuteTime": {
     "end_time": "2022-04-04T01:03:23.623735Z",
     "start_time": "2022-04-04T01:03:23.594812Z"
    }
   },
   "outputs": [
    {
     "data": {
      "text/plain": [
       "((96345, 18), (24720, 18), (96345,), (24720,))"
      ]
     },
     "execution_count": 108,
     "metadata": {},
     "output_type": "execute_result"
    }
   ],
   "source": [
    "# Drop some of the columns for modelling to get independent variables\n",
    "X_C_train = C_train.drop(['Close', 'author', 'Low', 'Date','Open', 'High', 'Volume'], axis=1)\n",
    "X_C_test = C_test.drop(['Close', 'author', 'Low', 'Date', 'Open', 'High', 'Volume'], axis=1)\n",
    "# ADDED date back into both\n",
    "\n",
    "# get the dependent target, which is the 'Close' Share price\n",
    "y_C_train = C_train['Close']\n",
    "y_C_test = C_test['Close']\n",
    "\n",
    "# Look at the shapes\n",
    "X_C_train.shape, X_C_test.shape, y_C_train.shape, y_C_test.shape "
   ]
  },
  {
   "cell_type": "markdown",
   "id": "f916f94d",
   "metadata": {},
   "source": [
    "---"
   ]
  },
  {
   "cell_type": "markdown",
   "id": "c1fb54d7",
   "metadata": {},
   "source": [
    "We can now see our Train and Test data for the Independent and Dependent variable for three ranges.\n",
    "<br><br>\n",
    "**Note:** <br>\n",
    "I could have used SKlearn's built in function but since I wanted to take Train and Test data on a time range rather than take random points so I had to manually do this."
   ]
  },
  {
   "cell_type": "markdown",
   "id": "cbdd69c7",
   "metadata": {},
   "source": [
    "---"
   ]
  },
  {
   "cell_type": "markdown",
   "id": "8fe1dd32",
   "metadata": {
    "ExecuteTime": {
     "end_time": "2022-03-30T20:38:47.275363Z",
     "start_time": "2022-03-30T20:38:47.271403Z"
    }
   },
   "source": [
    "## **Bag of Words on Train and Test rather than doing before**"
   ]
  },
  {
   "cell_type": "markdown",
   "id": "9ba3905f",
   "metadata": {},
   "source": [
    "Next, we need to Take our Three Train/Test Ranges and add the NLP bagofwords to each data set."
   ]
  },
  {
   "cell_type": "markdown",
   "id": "cffcc503",
   "metadata": {},
   "source": [
    "Due to my computer limaitations I will only be taking 500 max features as I want to be able to run my models fast due to time constraints. "
   ]
  },
  {
   "cell_type": "markdown",
   "id": "e051306a",
   "metadata": {},
   "source": [
    "---"
   ]
  },
  {
   "cell_type": "markdown",
   "id": "15142cb0",
   "metadata": {},
   "source": [
    "### **A_X_train NLP features**"
   ]
  },
  {
   "cell_type": "markdown",
   "id": "e1a67707",
   "metadata": {},
   "source": [
    "For the First Train Set and joining with the NLP data I will write out the steps. After that I will complete them in one go."
   ]
  },
  {
   "cell_type": "markdown",
   "id": "c6b2d705",
   "metadata": {},
   "source": [
    "Like above we need to get our bagofwords for the X_A_train data."
   ]
  },
  {
   "cell_type": "code",
   "execution_count": 109,
   "id": "5bfc15b5",
   "metadata": {
    "ExecuteTime": {
     "end_time": "2022-04-04T01:03:25.753451Z",
     "start_time": "2022-04-04T01:03:23.624704Z"
    }
   },
   "outputs": [
    {
     "data": {
      "text/plain": [
       "<114979x500 sparse matrix of type '<class 'numpy.int64'>'\n",
       "\twith 519379 stored elements in Compressed Sparse Row format>"
      ]
     },
     "execution_count": 109,
     "metadata": {},
     "output_type": "execute_result"
    }
   ],
   "source": [
    "# 1. Instantiate\n",
    "bagofwords = CountVectorizer(stop_words=\"english\", min_df=5, max_features=500)\n",
    "\n",
    "# 2. Fit\n",
    "bagofwords.fit(X_A_train['title'])\n",
    "\n",
    "# 3. Transform \n",
    "X_A_train_transformed = bagofwords.transform(X_A_train['title'])\n",
    "X_A_train_transformed"
   ]
  },
  {
   "cell_type": "markdown",
   "id": "40f8af64",
   "metadata": {},
   "source": [
    "As you can see we have 500 columns with NLP words."
   ]
  },
  {
   "cell_type": "code",
   "execution_count": 110,
   "id": "49012b96",
   "metadata": {
    "ExecuteTime": {
     "end_time": "2022-04-04T01:03:25.816366Z",
     "start_time": "2022-04-04T01:03:25.754448Z"
    }
   },
   "outputs": [],
   "source": [
    "# Join on the bagofwords data to an NLP_A_df dataframe\n",
    "nlp_A_df = pd.DataFrame(columns=bagofwords.get_feature_names(), data=X_A_train_transformed.toarray())"
   ]
  },
  {
   "cell_type": "markdown",
   "id": "f344adf2",
   "metadata": {},
   "source": [
    "Look into the shape of the NLP words and the X_A_train data"
   ]
  },
  {
   "cell_type": "code",
   "execution_count": 111,
   "id": "28cee019",
   "metadata": {
    "ExecuteTime": {
     "end_time": "2022-04-04T01:03:25.832319Z",
     "start_time": "2022-04-04T01:03:25.818359Z"
    }
   },
   "outputs": [
    {
     "data": {
      "text/plain": [
       "((114979, 500), (114979, 18))"
      ]
     },
     "execution_count": 111,
     "metadata": {},
     "output_type": "execute_result"
    }
   ],
   "source": [
    "# Look at the shape to make sure correct\n",
    "nlp_A_df.shape, X_A_train.shape"
   ]
  },
  {
   "cell_type": "markdown",
   "id": "9630c3b2",
   "metadata": {},
   "source": [
    "The rows are the same, that is good, now we can join the two dataframes together."
   ]
  },
  {
   "cell_type": "code",
   "execution_count": 112,
   "id": "77e2032d",
   "metadata": {
    "ExecuteTime": {
     "end_time": "2022-04-04T01:03:26.447532Z",
     "start_time": "2022-04-04T01:03:25.833316Z"
    }
   },
   "outputs": [],
   "source": [
    "# Join two data frames\n",
    "gme_nlp_A_df = X_A_train.join(nlp_A_df)"
   ]
  },
  {
   "cell_type": "code",
   "execution_count": 113,
   "id": "bf08fce5",
   "metadata": {
    "ExecuteTime": {
     "end_time": "2022-04-04T01:03:26.478413Z",
     "start_time": "2022-04-04T01:03:26.450488Z"
    },
    "scrolled": true
   },
   "outputs": [
    {
     "name": "stdout",
     "output_type": "stream",
     "text": [
      "<class 'pandas.core.frame.DataFrame'>\n",
      "Int64Index: 114979 entries, 0 to 114978\n",
      "Columns: 518 entries, title to yolo\n",
      "dtypes: float64(12), int64(505), object(1)\n",
      "memory usage: 459.3+ MB\n"
     ]
    }
   ],
   "source": [
    "# look at the size and shape of the new dataframe\n",
    "gme_nlp_A_df.info()"
   ]
  },
  {
   "cell_type": "markdown",
   "id": "117b8ab3",
   "metadata": {},
   "source": [
    "We have 114,979 rows and 518 columns with a file size of 459.3Mb. <br>\n",
    "\n",
    "Some early testings had NLP columns in the 35,000 rang and had 18.9GB of file sizes. Much too large for my computer but could try with AWS in the future."
   ]
  },
  {
   "cell_type": "code",
   "execution_count": 114,
   "id": "cb13e7a5",
   "metadata": {
    "ExecuteTime": {
     "end_time": "2022-04-04T01:03:26.875071Z",
     "start_time": "2022-04-04T01:03:26.479410Z"
    }
   },
   "outputs": [],
   "source": [
    "# Drop the title column\n",
    "gme_nlp_A_df.drop(['title'], axis = 1, inplace=True)"
   ]
  },
  {
   "cell_type": "markdown",
   "id": "c26277ae",
   "metadata": {},
   "source": [
    "I have taken the NLP words from 'title' so I can drop it."
   ]
  },
  {
   "cell_type": "code",
   "execution_count": 115,
   "id": "3afdf179",
   "metadata": {
    "ExecuteTime": {
     "end_time": "2022-04-04T01:03:26.891062Z",
     "start_time": "2022-04-04T01:03:26.877099Z"
    }
   },
   "outputs": [],
   "source": [
    "# Put the gme_nlp_A_df temp working dataframe into the X_A_train dataset\n",
    "X_A_train = gme_nlp_A_df"
   ]
  },
  {
   "cell_type": "markdown",
   "id": "4b407694",
   "metadata": {},
   "source": [
    "Ok, done. <br>\n",
    "We now have a Training set for the A time range with 500 NLP feature words added.\n",
    "<br><br>\n",
    "I now need to do the same thing for the X_A_test data and also the B and C time ranges."
   ]
  },
  {
   "cell_type": "markdown",
   "id": "d59f17b8",
   "metadata": {},
   "source": [
    "---"
   ]
  },
  {
   "cell_type": "markdown",
   "id": "3bd59c71",
   "metadata": {},
   "source": [
    "### **A_X_test NLP features**"
   ]
  },
  {
   "cell_type": "code",
   "execution_count": 116,
   "id": "27afcf98",
   "metadata": {
    "ExecuteTime": {
     "end_time": "2022-04-04T01:03:27.081580Z",
     "start_time": "2022-04-04T01:03:26.892059Z"
    },
    "scrolled": true
   },
   "outputs": [],
   "source": [
    "# 1. Instantiate\n",
    "bagofwords = CountVectorizer(stop_words=\"english\", min_df=5, max_features=500)\n",
    "\n",
    "# 2. Fit\n",
    "bagofwords.fit(X_A_test['title'])\n",
    "\n",
    "# 3. Transform \n",
    "X_A_test_transformed = bagofwords.transform(X_A_test['title'])\n",
    "X_A_test_transformed\n",
    "\n",
    "# Join on the bagofwords data to an NLP_A_df dataframe\n",
    "nlp_A_df = pd.DataFrame(columns=bagofwords.get_feature_names(), data=X_A_test_transformed.toarray())\n",
    "\n",
    "# Reset the index after above change.\n",
    "X_A_test.reset_index(drop=True, inplace=True)\n",
    "\n",
    "# Join two data frames\n",
    "gme_nlp_A_df = X_A_test.join(nlp_A_df)\n",
    "\n",
    "# Drop the title column\n",
    "gme_nlp_A_df.drop(['title'], axis = 1, inplace=True)\n",
    "\n",
    "# Becasue I have dropped the 'title', I need to reset the index again or I will get an error on modelling as it will have one more column\n",
    "gme_nlp_A_df.reset_index(drop=True, inplace=True)\n",
    "\n",
    "# put the gme_nlp_A_df temp working dataframe into the X_A_train dataset\n",
    "X_A_test = gme_nlp_A_df\n",
    "X_A_test.reset_index(drop=True, inplace=True, col_level=0)"
   ]
  },
  {
   "cell_type": "markdown",
   "id": "8f537e7b",
   "metadata": {},
   "source": [
    "---"
   ]
  },
  {
   "cell_type": "markdown",
   "id": "33e18af9",
   "metadata": {},
   "source": [
    "### **B_X_train NLP features**"
   ]
  },
  {
   "cell_type": "code",
   "execution_count": 117,
   "id": "2e57240e",
   "metadata": {
    "ExecuteTime": {
     "end_time": "2022-04-04T01:03:29.933523Z",
     "start_time": "2022-04-04T01:03:27.082551Z"
    }
   },
   "outputs": [],
   "source": [
    "# 1. Instantiate\n",
    "bagofwords = CountVectorizer(stop_words=\"english\", min_df=5, max_features=500)\n",
    "\n",
    "# 2. Fit\n",
    "bagofwords.fit(X_B_train['title'])\n",
    "\n",
    "# 3. Transform \n",
    "X_B_train_transformed = bagofwords.transform(X_B_train['title'])\n",
    "X_B_train_transformed\n",
    "\n",
    "# Join on the bagofwords data to an NLP_B_df dataframe\n",
    "nlp_B_df = pd.DataFrame(columns=bagofwords.get_feature_names(), data=X_B_train_transformed.toarray())\n",
    "\n",
    "# Join two data frames\n",
    "gme_nlp_B_df = X_B_train.join(nlp_B_df)\n",
    "\n",
    "# Drop the title column\n",
    "gme_nlp_B_df.drop(['title'], axis = 1, inplace=True)\n",
    "\n",
    "# put the gme_nlp_B_df temp working dataframe into the X_B_train dataset\n",
    "X_B_train = gme_nlp_B_df\n",
    "X_B_train.reset_index(drop=True, inplace=True, col_level=0)"
   ]
  },
  {
   "cell_type": "markdown",
   "id": "2405e7f3",
   "metadata": {},
   "source": [
    "---"
   ]
  },
  {
   "cell_type": "markdown",
   "id": "bde24f71",
   "metadata": {},
   "source": [
    "### **B_X_test NLP features**"
   ]
  },
  {
   "cell_type": "code",
   "execution_count": 118,
   "id": "20368b08",
   "metadata": {
    "ExecuteTime": {
     "end_time": "2022-04-04T01:03:30.249273Z",
     "start_time": "2022-04-04T01:03:29.934006Z"
    }
   },
   "outputs": [],
   "source": [
    "# 1. Instantiate\n",
    "bagofwords = CountVectorizer(stop_words=\"english\", min_df=5, max_features=500)\n",
    "\n",
    "# 2. Fit\n",
    "bagofwords.fit(X_B_test['title'])\n",
    "\n",
    "# 3. Transform \n",
    "X_B_test_transformed = bagofwords.transform(X_B_test['title'])\n",
    "X_B_test_transformed\n",
    "\n",
    "# Join on the bagofwords data to an NLP_B_df dataframe\n",
    "nlp_B_df = pd.DataFrame(columns=bagofwords.get_feature_names(), data=X_B_test_transformed.toarray())\n",
    "\n",
    "# Reset the index after above change.\n",
    "X_B_test.reset_index(drop=True, inplace=True)\n",
    "\n",
    "# Join two data frames\n",
    "gme_nlp_B_df = X_B_test.join(nlp_B_df)\n",
    "\n",
    "# Drop the title column\n",
    "gme_nlp_B_df.drop(['title'], axis = 1, inplace=True)\n",
    "\n",
    "# Becasue I have dropped the 'title', I need to reset the index again or I will get an error on modelling\n",
    "gme_nlp_B_df.reset_index(drop=True, inplace=True)\n",
    "\n",
    "# put the gme_nlp_B_df temp working dataframe into the X_B_train dataset\n",
    "X_B_test = gme_nlp_B_df\n",
    "X_B_test.reset_index(drop=True, inplace=True, col_level=0)"
   ]
  },
  {
   "cell_type": "markdown",
   "id": "c36c1ef9",
   "metadata": {},
   "source": [
    "---"
   ]
  },
  {
   "cell_type": "markdown",
   "id": "65f0cd11",
   "metadata": {},
   "source": [
    "### **C_X_train NLP features**"
   ]
  },
  {
   "cell_type": "code",
   "execution_count": 119,
   "id": "c34a9129",
   "metadata": {
    "ExecuteTime": {
     "end_time": "2022-04-04T01:03:32.691984Z",
     "start_time": "2022-04-04T01:03:30.250180Z"
    }
   },
   "outputs": [],
   "source": [
    "# 1. Instantiate\n",
    "bagofwords = CountVectorizer(stop_words=\"english\", min_df=5, max_features=500)\n",
    "\n",
    "# 2. Fit\n",
    "bagofwords.fit(X_C_train['title'])\n",
    "\n",
    "# 3. Transform \n",
    "X_C_train_transformed = bagofwords.transform(X_C_train['title'])\n",
    "X_C_train_transformed\n",
    "\n",
    "# Join on the bagofwords data to an NLP_C_df dataframe\n",
    "nlp_C_df = pd.DataFrame(columns=bagofwords.get_feature_names(), data=X_C_train_transformed.toarray())\n",
    "\n",
    "# Join two data frames\n",
    "gme_nlp_C_df = X_C_train.join(nlp_C_df)\n",
    "\n",
    "# Drop the title column\n",
    "gme_nlp_C_df.drop(['title'], axis = 1, inplace=True)\n",
    "\n",
    "# put the gme_nlp_C_df temp working dataframe into the X_C_train dataset\n",
    "X_C_train = gme_nlp_C_df"
   ]
  },
  {
   "cell_type": "markdown",
   "id": "7883c7bb",
   "metadata": {},
   "source": [
    "---"
   ]
  },
  {
   "cell_type": "markdown",
   "id": "872a51a6",
   "metadata": {},
   "source": [
    "### **C_X_test NLP features**"
   ]
  },
  {
   "cell_type": "code",
   "execution_count": 120,
   "id": "c834683f",
   "metadata": {
    "ExecuteTime": {
     "end_time": "2022-04-04T01:03:33.359913Z",
     "start_time": "2022-04-04T01:03:32.694981Z"
    }
   },
   "outputs": [],
   "source": [
    "# 1. Instantiate\n",
    "bagofwords = CountVectorizer(stop_words=\"english\", min_df=5, max_features=500)\n",
    "\n",
    "# 2. Fit\n",
    "bagofwords.fit(X_C_test['title'])\n",
    "\n",
    "# 3. Transform \n",
    "X_C_test_transformed = bagofwords.transform(X_C_test['title'])\n",
    "X_C_test_transformed\n",
    "\n",
    "# Join on the bagofwords data to an NLP_B_df dataframe\n",
    "nlp_C_df = pd.DataFrame(columns=bagofwords.get_feature_names(), data=X_C_test_transformed.toarray())\n",
    "\n",
    "# Reset the index after above change.\n",
    "X_C_test.reset_index(drop=True, inplace=True)\n",
    "\n",
    "# Join two data frames\n",
    "gme_nlp_C_df = X_C_test.join(nlp_C_df)\n",
    "\n",
    "# Drop the title column\n",
    "gme_nlp_C_df.drop(['title'], axis = 1, inplace=True)\n",
    "\n",
    "# Becasue I have dropped the 'title', I need to reset the index again or I will get an error on modelling\n",
    "gme_nlp_C_df.reset_index(drop=True, inplace=True)\n",
    "\n",
    "# put the gme_nlp_C_df temp working dataframe into the X_C_train dataset\n",
    "X_C_test = gme_nlp_C_df\n",
    "X_C_test.reset_index(drop=True, inplace=True, col_level=0)"
   ]
  },
  {
   "cell_type": "markdown",
   "id": "8cd1e0cd",
   "metadata": {},
   "source": [
    "---"
   ]
  },
  {
   "cell_type": "markdown",
   "id": "7b22bb75",
   "metadata": {},
   "source": [
    "# **Standard Scaler**"
   ]
  },
  {
   "cell_type": "markdown",
   "id": "9f287565",
   "metadata": {},
   "source": [
    "We will also need to scale our data for all the three ranges"
   ]
  },
  {
   "cell_type": "markdown",
   "id": "79ffef24",
   "metadata": {},
   "source": [
    "Setting up a Scaler follows the following:\n",
    "- Instantiate the scaler\n",
    "- Fit the scaler to the training data\n",
    "- Transform both the training and test features"
   ]
  },
  {
   "cell_type": "markdown",
   "id": "4f42bde2",
   "metadata": {},
   "source": [
    "---"
   ]
  },
  {
   "cell_type": "markdown",
   "id": "407e7fe0",
   "metadata": {},
   "source": [
    "### **Standard Scaler for A Train/Test data**"
   ]
  },
  {
   "cell_type": "code",
   "execution_count": 121,
   "id": "1e7616af",
   "metadata": {
    "ExecuteTime": {
     "end_time": "2022-04-04T01:03:34.864227Z",
     "start_time": "2022-04-04T01:03:33.360629Z"
    }
   },
   "outputs": [],
   "source": [
    "# 1. Instantiate the scaler\n",
    "SS = StandardScaler()\n",
    "\n",
    "# 2. Fit the scaler\n",
    "SS.fit(X_A_train)\n",
    "\n",
    "# Transform the training and test sets \n",
    "X_A_train_ss = SS.transform(X_A_train)\n",
    "X_A_test_ss = SS.transform(X_A_test)"
   ]
  },
  {
   "cell_type": "markdown",
   "id": "96963e6d",
   "metadata": {},
   "source": [
    "---"
   ]
  },
  {
   "cell_type": "markdown",
   "id": "95f87c31",
   "metadata": {},
   "source": [
    "### **Standard Scaler for B Train/Test data**"
   ]
  },
  {
   "cell_type": "code",
   "execution_count": 122,
   "id": "dfc47111",
   "metadata": {
    "ExecuteTime": {
     "end_time": "2022-04-04T01:03:36.273539Z",
     "start_time": "2022-04-04T01:03:34.864809Z"
    }
   },
   "outputs": [],
   "source": [
    "# 2. Fit the scaler\n",
    "SS.fit(X_B_train)\n",
    "\n",
    "# Transform the training and test sets \n",
    "X_B_train_ss = SS.transform(X_B_train)\n",
    "X_B_test_ss = SS.transform(X_B_test)"
   ]
  },
  {
   "cell_type": "markdown",
   "id": "4b112626",
   "metadata": {},
   "source": [
    "---"
   ]
  },
  {
   "cell_type": "markdown",
   "id": "b3bfc7c5",
   "metadata": {},
   "source": [
    "### **Standard Scaler for C Train/Test data**"
   ]
  },
  {
   "cell_type": "code",
   "execution_count": 123,
   "id": "73c8b236",
   "metadata": {
    "ExecuteTime": {
     "end_time": "2022-04-04T01:03:37.649351Z",
     "start_time": "2022-04-04T01:03:36.275565Z"
    }
   },
   "outputs": [],
   "source": [
    "# 2. Fit the scaler\n",
    "SS.fit(X_C_train)\n",
    "\n",
    "# Transform the training and test sets \n",
    "X_C_train_ss = SS.transform(X_C_train)\n",
    "X_C_test_ss = SS.transform(X_C_test)"
   ]
  },
  {
   "cell_type": "markdown",
   "id": "b28f7072",
   "metadata": {},
   "source": [
    "We now have our scaled data with StandardScaler() to model our data on for the three time ranges."
   ]
  },
  {
   "cell_type": "markdown",
   "id": "36cd4d43",
   "metadata": {},
   "source": [
    "---"
   ]
  },
  {
   "cell_type": "markdown",
   "id": "d1c1dfbe",
   "metadata": {},
   "source": [
    "# **Linear Regression**"
   ]
  },
  {
   "cell_type": "markdown",
   "id": "5848a677",
   "metadata": {},
   "source": [
    "The first model we will use is a Linear Regression Model which is one of the simplest Machine Learning Algorthims used for forecasting. \n",
    "<br><br>\n",
    "    \n",
    "We will do a Linear Regression model for all three time ranges to see what results we get back. Due to the size of the test data it is likely that some of the test models will overfit. "
   ]
  },
  {
   "cell_type": "markdown",
   "id": "11b7206c",
   "metadata": {},
   "source": [
    "---"
   ]
  },
  {
   "cell_type": "markdown",
   "id": "c13b7b8c",
   "metadata": {},
   "source": [
    "## **Linear Regression**"
   ]
  },
  {
   "cell_type": "markdown",
   "id": "60b20987",
   "metadata": {},
   "source": [
    "---"
   ]
  },
  {
   "cell_type": "markdown",
   "id": "561aaf94",
   "metadata": {},
   "source": [
    "### **Linear Regression on A_Train/A_Test**"
   ]
  },
  {
   "cell_type": "markdown",
   "id": "0a0241a3",
   "metadata": {},
   "source": [
    "Do a linear Regression on the A Time Range for the Train Data."
   ]
  },
  {
   "cell_type": "code",
   "execution_count": 124,
   "id": "50550842",
   "metadata": {
    "ExecuteTime": {
     "end_time": "2022-04-04T01:03:40.428133Z",
     "start_time": "2022-04-04T01:03:37.649702Z"
    }
   },
   "outputs": [
    {
     "name": "stdout",
     "output_type": "stream",
     "text": [
      "Train score for linear_regression\n",
      "0.9450170890232756\n",
      "Test score for linear_regression\n",
      "0.3952581684569675\n"
     ]
    }
   ],
   "source": [
    "# 1. Instantiate Model\n",
    "linear_regression = LinearRegression()\n",
    "\n",
    "# 2. Fit Model\n",
    "lin_reg_fit = linear_regression.fit(X_A_train_ss, y_A_train)\n",
    "\n",
    "#3. Score on train data and test data\n",
    "print('Train score for linear_regression')\n",
    "print(lin_reg_fit.score(X_A_train_ss, y_A_train))\n",
    "print('Test score for linear_regression')\n",
    "print(lin_reg_fit.score(X_A_test_ss, y_A_test))\n",
    "\n",
    "# Create dict to compare models in conclusion\n",
    "model_dict = {}\n",
    "\n",
    "# Save to model dictionary\n",
    "model_dict['A_Linear_Regresion'] = lin_reg_fit.score(X_A_test_ss, y_A_test)"
   ]
  },
  {
   "cell_type": "markdown",
   "id": "bb797df5",
   "metadata": {
    "ExecuteTime": {
     "end_time": "2022-03-31T14:46:59.597266Z",
     "start_time": "2022-03-31T14:46:59.439105Z"
    }
   },
   "source": [
    "**Observations:**<br>\n",
    "- This is very interesting. The time range for my A_Train and A_Test date was the first range I choose for unseen previous models. For a long time I was always getting big minus numbers, -146 being the biggest. I had come to understand that my models where unlikely to get good test results from accuracy as they were massively over fitting on the test data. \n",
    "<br><br>\n",
    "- While investigating I noticed that my data was showing a huge spike at the end of the Test period. This is when I noticed that when I did the fillna in Notebook 2 on the join of the Reddit and Share Price data it pushed all missing days for the share price on to December 31st. This is talked about more in Section 11.1 in Notebook 2.\n",
    "<br><br>\n",
    "- At the same time I decided to create three time ranges A, B, C previously outlined to look at different amounts of time and data.\n",
    "<br><br>\n",
    "- So this is a very good result considering my previous scores.  \n",
    "<br><br>\n",
    "- Lets look at the other ranges.\n"
   ]
  },
  {
   "cell_type": "markdown",
   "id": "21aad859",
   "metadata": {},
   "source": [
    "---"
   ]
  },
  {
   "cell_type": "markdown",
   "id": "f2266d3b",
   "metadata": {},
   "source": [
    "### **Linear Regression on B_Train/B_Test**"
   ]
  },
  {
   "cell_type": "markdown",
   "id": "4dc09af6",
   "metadata": {},
   "source": [
    "Do a Linear Regression Model for the B Time Range."
   ]
  },
  {
   "cell_type": "code",
   "execution_count": 125,
   "id": "34e5f328",
   "metadata": {
    "ExecuteTime": {
     "end_time": "2022-04-04T01:03:43.136597Z",
     "start_time": "2022-04-04T01:03:40.429130Z"
    }
   },
   "outputs": [
    {
     "name": "stdout",
     "output_type": "stream",
     "text": [
      "Train score for linear_regression\n",
      "0.9460351614627016\n",
      "Test score for linear_regression\n",
      "-0.2186575253407954\n"
     ]
    }
   ],
   "source": [
    "# 1. Instantiate Model\n",
    "linear_regression = LinearRegression()\n",
    "\n",
    "# 2. Fit Model\n",
    "lin_reg_fit = linear_regression.fit(X_B_train_ss, y_B_train)\n",
    "\n",
    "#3. Score on train data and test data\n",
    "print('Train score for linear_regression')\n",
    "print(lin_reg_fit.score(X_B_train_ss, y_B_train))\n",
    "print('Test score for linear_regression')\n",
    "print(lin_reg_fit.score(X_B_test_ss, y_B_test))\n",
    "\n",
    "# Save to model dictionary\n",
    "model_dict['B_Linear_Regresion'] = lin_reg_fit.score(X_B_test_ss, y_B_test)"
   ]
  },
  {
   "cell_type": "markdown",
   "id": "e21b9555",
   "metadata": {},
   "source": [
    "**Observations:**<br>\n",
    "- Our Train Model has trained slightly better even for a reduction in the time range and the amount of data.\n",
    "\n",
    "- However, our Test score is a alot worse and is overfitting. Results like these are what I was seen previously.\n",
    "\n",
    "- As I have mentioned above this is where things can get hard to figure out. There can be alot more factors affecting the share price than just my features. So my Dependent target variable can also have an effect on the Test Model.\n",
    "\n",
    "- After we test the accuracy for the C time range we will look at the actual values (target) vs predict values to see if we can learn more about our predictions."
   ]
  },
  {
   "cell_type": "markdown",
   "id": "11174c96",
   "metadata": {},
   "source": [
    "---"
   ]
  },
  {
   "cell_type": "markdown",
   "id": "e83a68c2",
   "metadata": {},
   "source": [
    "### **Linear Regression on C_Train/C_Test**"
   ]
  },
  {
   "cell_type": "markdown",
   "id": "0e48add9",
   "metadata": {
    "ExecuteTime": {
     "end_time": "2022-04-03T13:29:46.292361Z",
     "start_time": "2022-04-03T13:29:46.282416Z"
    }
   },
   "source": [
    "Do a linear Regression on the C Time range."
   ]
  },
  {
   "cell_type": "code",
   "execution_count": 126,
   "id": "a2aa2a12",
   "metadata": {
    "ExecuteTime": {
     "end_time": "2022-04-04T01:03:45.642957Z",
     "start_time": "2022-04-04T01:03:43.137595Z"
    }
   },
   "outputs": [
    {
     "name": "stdout",
     "output_type": "stream",
     "text": [
      "Train score for linear_regression\n",
      "0.9595037183186637\n",
      "Test score for linear_regression\n",
      "-10.303092605420666\n"
     ]
    }
   ],
   "source": [
    "# 1. Instantiate Model\n",
    "linear_regression = LinearRegression()\n",
    "\n",
    "# 2. Fit Model\n",
    "lin_reg_fit = linear_regression.fit(X_C_train_ss, y_C_train)\n",
    "\n",
    "#3. Score on train data and test data\n",
    "print('Train score for linear_regression')\n",
    "print(lin_reg_fit.score(X_C_train_ss, y_C_train))\n",
    "print('Test score for linear_regression')\n",
    "print(lin_reg_fit.score(X_C_test_ss, y_C_test))\n",
    "\n",
    "# Save to model dictionary\n",
    "model_dict['C_Linear_Regresion'] = lin_reg_fit.score(X_C_test_ss, y_C_test)"
   ]
  },
  {
   "cell_type": "markdown",
   "id": "6981ea20",
   "metadata": {},
   "source": [
    "**Observations:**<br>\n",
    "\n",
    "This is interesting, the longer my time range and the bigger my Test data the larger the overfitting I have been getting. I expected a different result.\n",
    "<br><br>\n",
    "\n",
    "Since my test data is larger there is more data to affect the accuracy score for the Test data and cause an overfit. Other Models and Hyper  parameters may help to reduce this."
   ]
  },
  {
   "cell_type": "markdown",
   "id": "ba840e74",
   "metadata": {},
   "source": [
    "---"
   ]
  },
  {
   "cell_type": "markdown",
   "id": "4c9cca21",
   "metadata": {},
   "source": [
    "## **Plot actual values vs predicit values**"
   ]
  },
  {
   "cell_type": "markdown",
   "id": "cca5afec",
   "metadata": {},
   "source": [
    "Since accuracy is not the best indicator for my data, another option is to try looking at the actual values (this is my Close Share Price) and the predict value (what my model will give me).\n",
    "<br><br>\n",
    "Normally, I would plot these two plots on top of each other but my predictive results are in a much higher range than the actual results so I will plot them side by side. In the future I will look into why my predicted values are so high but as long as they are on separate graphs I should be able to at least compare the results."
   ]
  },
  {
   "cell_type": "markdown",
   "id": "9471db6e",
   "metadata": {},
   "source": [
    "---"
   ]
  },
  {
   "cell_type": "markdown",
   "id": "d7fd9eff",
   "metadata": {},
   "source": [
    "### **A_Train/A_Test**"
   ]
  },
  {
   "cell_type": "markdown",
   "id": "afb2e848",
   "metadata": {},
   "source": [
    "Get the predictions for the A Time Range Test Data."
   ]
  },
  {
   "cell_type": "code",
   "execution_count": 127,
   "id": "09933042",
   "metadata": {
    "ExecuteTime": {
     "end_time": "2022-04-04T01:03:45.673881Z",
     "start_time": "2022-04-04T01:03:45.643954Z"
    }
   },
   "outputs": [],
   "source": [
    "# Make predictions using the testing set\n",
    "lin_model_pred = lin_reg_fit.predict(X_A_test)"
   ]
  },
  {
   "cell_type": "code",
   "execution_count": 128,
   "id": "1ffbedf6",
   "metadata": {
    "ExecuteTime": {
     "end_time": "2022-04-04T01:03:45.832451Z",
     "start_time": "2022-04-04T01:03:45.674872Z"
    }
   },
   "outputs": [
    {
     "data": {
      "image/png": "[encoded data removed]",
      "text/plain": [
       "<Figure size 1152x864 with 2 Axes>"
      ]
     },
     "metadata": {},
     "output_type": "display_data"
    }
   ],
   "source": [
    "# plot both graphs sidde by side\n",
    "plt.figure(figsize=(16,12))\n",
    "\n",
    "plt.subplot(2,2,1);\n",
    "plt.plot(y_A_test, color='r')\n",
    "plt.xticks(())\n",
    "plt.yticks(())\n",
    "plt.title('Linear Regression Actual Values A Data', fontsize=20)\n",
    "plt.xlabel('Time Line', fontsize=15)\n",
    "plt.ylabel('Share Price', fontsize=15)\n",
    "\n",
    "plt.subplot(2,2,2)\n",
    "plt.plot(lin_model_pred, color='b')\n",
    "plt.xticks(())\n",
    "plt.yticks(())\n",
    "plt.title('Linear Regression Predict Values A Data', fontsize=20)\n",
    "plt.xlabel('Time Line', fontsize=15)\n",
    "plt.ylabel('Share Price', fontsize=15)\n",
    "sns.despine()\n",
    "\n",
    "#Save the plot\n",
    "#plt.savefig(\"/Users/Kolobane/Documents/BrainStation Data Science Course/Project Capstone/Plots/lin_reg_actual_value_Vs_predict_A_data.png\")\n",
    "\n",
    "plt.show();"
   ]
  },
  {
   "cell_type": "markdown",
   "id": "341fc5ee",
   "metadata": {},
   "source": [
    "**Observations:**<br>\n",
    "- This is the model that had 39% accuracy and yet it is very hard to see any kind of relationship between the Share Price and the Predicted Share price. but 39% is not a great result.\n",
    "- But as I mentioned larger Hedge Funds have tried these same kind of projects and had limited results. \n",
    "- I will look at other models to see if I get better results."
   ]
  },
  {
   "cell_type": "code",
   "execution_count": 129,
   "id": "086e0478",
   "metadata": {
    "ExecuteTime": {
     "end_time": "2022-04-04T01:03:45.848407Z",
     "start_time": "2022-04-04T01:03:45.833449Z"
    }
   },
   "outputs": [
    {
     "data": {
      "text/plain": [
       "(136.88, 247.55, -54471.12248306357, 132542.14741678096)"
      ]
     },
     "execution_count": 129,
     "metadata": {},
     "output_type": "execute_result"
    }
   ],
   "source": [
    "# Look into the min and max for the Actual Value and the Predict Value\n",
    "y_A_test.min(), y_A_test.max(), lin_model_pred.min(), lin_model_pred.max()"
   ]
  },
  {
   "cell_type": "markdown",
   "id": "ea628830",
   "metadata": {
    "ExecuteTime": {
     "end_time": "2022-04-03T13:43:59.610150Z",
     "start_time": "2022-04-03T13:43:59.593195Z"
    }
   },
   "source": [
    "As you can see above the reason I can not plot these two lines on the same graph is the min/max are vastly different. \n",
    "\n",
    "I did not expect this. I had thought the issue with my fillna on the join was causing this but this does not seem to be the case.\n",
    "\n",
    "Added to future work to investigate this in more detail later."
   ]
  },
  {
   "cell_type": "markdown",
   "id": "fa6117a4",
   "metadata": {},
   "source": [
    "---"
   ]
  },
  {
   "cell_type": "markdown",
   "id": "2547f592",
   "metadata": {},
   "source": [
    "### **B_Train/B_Test**"
   ]
  },
  {
   "cell_type": "markdown",
   "id": "ded4af90",
   "metadata": {},
   "source": [
    "Look into Actual values Vs Predict Values for B Time Range."
   ]
  },
  {
   "cell_type": "code",
   "execution_count": 130,
   "id": "8e66c32f",
   "metadata": {
    "ExecuteTime": {
     "end_time": "2022-04-04T01:03:45.880322Z",
     "start_time": "2022-04-04T01:03:45.849405Z"
    }
   },
   "outputs": [],
   "source": [
    "# Make predictions using the testing set\n",
    "lin_model_pred = lin_reg_fit.predict(X_B_test)"
   ]
  },
  {
   "cell_type": "code",
   "execution_count": 131,
   "id": "211196fc",
   "metadata": {
    "ExecuteTime": {
     "end_time": "2022-04-04T01:03:46.037904Z",
     "start_time": "2022-04-04T01:03:45.881319Z"
    }
   },
   "outputs": [
    {
     "data": {
      "image/png": "[encoded data removed]",
      "text/plain": [
       "<Figure size 1152x864 with 2 Axes>"
      ]
     },
     "metadata": {},
     "output_type": "display_data"
    }
   ],
   "source": [
    "plt.figure(figsize=(16,12))\n",
    "\n",
    "plt.subplot(2,2,1)\n",
    "plt.plot(y_A_test, color='r')\n",
    "plt.xticks(())\n",
    "plt.yticks(())\n",
    "plt.title('Linear Regression Actual Values B Data', fontsize=20)\n",
    "plt.xlabel('Time Line', fontsize=15)\n",
    "plt.ylabel('Share Price', fontsize=15)\n",
    ";\n",
    "plt.subplot(2,2,2)\n",
    "plt.plot(lin_model_pred, color='b')\n",
    "plt.xticks(())\n",
    "plt.yticks(())\n",
    "plt.title('DLinear Regression Predict Values B Data', fontsize=20)\n",
    "plt.xlabel('Time Line', fontsize=15)\n",
    "plt.ylabel('Share Price', fontsize=15)\n",
    "sns.despine()\n",
    "\n",
    "#Save the plot\n",
    "#plt.savefig(\"/Users/Kolobane/Documents/BrainStation Data Science Course/Project Capstone/Plots/lin_reg_actual_value_Vs_predict_B_data.png\")\n",
    "\n",
    "plt.show();"
   ]
  },
  {
   "cell_type": "markdown",
   "id": "3fbf1255",
   "metadata": {},
   "source": [
    "**Observations:**\n",
    "- This one seems slightly better as you can see the spike in the middle on both but there are also dips on the Predict plot that are not in the Actual Value plot."
   ]
  },
  {
   "cell_type": "markdown",
   "id": "52fc77b8",
   "metadata": {},
   "source": [
    "---"
   ]
  },
  {
   "cell_type": "markdown",
   "id": "f088d8f8",
   "metadata": {},
   "source": [
    "### **C_Train/C_Test**"
   ]
  },
  {
   "cell_type": "markdown",
   "id": "0f1f8a06",
   "metadata": {},
   "source": [
    "Do a plot of the actual value and predict value for C time range."
   ]
  },
  {
   "cell_type": "code",
   "execution_count": 132,
   "id": "05bc60d1",
   "metadata": {
    "ExecuteTime": {
     "end_time": "2022-04-04T01:03:46.101246Z",
     "start_time": "2022-04-04T01:03:46.038902Z"
    }
   },
   "outputs": [],
   "source": [
    "# Make predictions using the testing set\n",
    "lin_model_pred = lin_reg_fit.predict(X_C_test)"
   ]
  },
  {
   "cell_type": "code",
   "execution_count": 133,
   "id": "66589203",
   "metadata": {
    "ExecuteTime": {
     "end_time": "2022-04-04T01:03:46.257841Z",
     "start_time": "2022-04-04T01:03:46.102242Z"
    }
   },
   "outputs": [
    {
     "data": {
      "image/png": "[encoded data removed]",
      "text/plain": [
       "<Figure size 1152x864 with 2 Axes>"
      ]
     },
     "metadata": {},
     "output_type": "display_data"
    }
   ],
   "source": [
    "plt.figure(figsize=(16,12))\n",
    "\n",
    "plt.subplot(2,2,1)\n",
    "plt.plot(y_A_test, color='r')\n",
    "plt.xticks(())\n",
    "plt.yticks(())\n",
    "plt.title('Linear Regression Actual Values C Data', fontsize=20)\n",
    "plt.xlabel('Time Line', fontsize=15)\n",
    "plt.ylabel('Share Price', fontsize=15)\n",
    "\n",
    "plt.subplot(2,2,2)\n",
    "plt.plot(lin_model_pred, color='b')\n",
    "plt.xticks(())\n",
    "plt.yticks(())\n",
    "plt.title('Linear Regression Predict Values Data', fontsize=20)\n",
    "plt.xlabel('Time Line', fontsize=15)\n",
    "plt.ylabel('Share Price', fontsize=15)\n",
    "sns.despine()\n",
    "\n",
    "#Save the plot\n",
    "#plt.savefig(\"/Users/Kolobane/Documents/BrainStation Data Science Course/Project Capstone/Plots/lin_reg_actual_value_Vs_predict_C_data.png\")\n",
    "\n",
    "plt.show();"
   ]
  },
  {
   "cell_type": "markdown",
   "id": "3ae60da1",
   "metadata": {},
   "source": [
    "**Observations:**\n",
    "- Not noticeable any better than for the B Time range."
   ]
  },
  {
   "cell_type": "markdown",
   "id": "443eb1d7",
   "metadata": {},
   "source": [
    "---"
   ]
  },
  {
   "cell_type": "markdown",
   "id": "eb6bd144",
   "metadata": {},
   "source": [
    "# **Ridge Linear Regression**"
   ]
  },
  {
   "cell_type": "markdown",
   "id": "f598d60a",
   "metadata": {},
   "source": [
    "Ridge Linear Regression enhances regular Linear Regression by slightly changing its cost function. It is used to reduce multicollinearity in our data models. It does this by trying to estimate the mean of the data. <br><br>\n"
   ]
  },
  {
   "cell_type": "markdown",
   "id": "6d373756",
   "metadata": {},
   "source": [
    "---"
   ]
  },
  {
   "cell_type": "markdown",
   "id": "cc6c5fc8",
   "metadata": {
    "ExecuteTime": {
     "end_time": "2022-04-02T19:14:46.063767Z",
     "start_time": "2022-04-02T19:14:46.051799Z"
    }
   },
   "source": [
    "## **Ridge Linear Regression**"
   ]
  },
  {
   "cell_type": "markdown",
   "id": "71fc6cf5",
   "metadata": {},
   "source": [
    "---"
   ]
  },
  {
   "cell_type": "markdown",
   "id": "78580119",
   "metadata": {},
   "source": [
    "### **Ridge Linear Regression on A_Train/A_Test**"
   ]
  },
  {
   "cell_type": "code",
   "execution_count": 134,
   "id": "9f6c8d20",
   "metadata": {
    "ExecuteTime": {
     "end_time": "2022-04-04T01:03:46.942040Z",
     "start_time": "2022-04-04T01:03:46.258838Z"
    },
    "scrolled": true
   },
   "outputs": [
    {
     "name": "stdout",
     "output_type": "stream",
     "text": [
      "Train score for Ridge Regression\n",
      "0.9450138325473904\n",
      "Test score for Ridge Regression\n",
      "0.39508841432772046\n"
     ]
    }
   ],
   "source": [
    "# 1. Instantiate Model\n",
    "linear_reg_ridge = Ridge()\n",
    "\n",
    "# 2. Fit Model\n",
    "lin_reg_ridge_fit = linear_reg_ridge.fit(X_A_train_ss, y_A_train)\n",
    "\n",
    "#3. Score on train data and test data\n",
    "print('Train score for Ridge Regression')\n",
    "print(lin_reg_ridge_fit.score(X_A_train_ss, y_A_train))\n",
    "print('Test score for Ridge Regression')\n",
    "print(lin_reg_ridge_fit.score(X_A_test_ss, y_A_test))\n",
    "\n",
    "# Save to model dictionary\n",
    "model_dict['A_Ridge_Regression'] = lin_reg_ridge_fit.score(X_A_test_ss, y_A_test)"
   ]
  },
  {
   "cell_type": "markdown",
   "id": "9299913d",
   "metadata": {},
   "source": [
    "**Observations:**\n",
    "- Very similar results to Linear Regression."
   ]
  },
  {
   "cell_type": "markdown",
   "id": "fd908262",
   "metadata": {},
   "source": [
    "---"
   ]
  },
  {
   "cell_type": "markdown",
   "id": "cab2ed90",
   "metadata": {},
   "source": [
    "### **Ridge Linear Regression on B_Train/B_Test**"
   ]
  },
  {
   "cell_type": "code",
   "execution_count": 135,
   "id": "d2bfd88c",
   "metadata": {
    "ExecuteTime": {
     "end_time": "2022-04-04T01:03:47.637182Z",
     "start_time": "2022-04-04T01:03:46.943037Z"
    },
    "scrolled": true
   },
   "outputs": [
    {
     "name": "stdout",
     "output_type": "stream",
     "text": [
      "Train score for Ridge Regression\n",
      "0.9460317064155104\n",
      "Test score for Ridge Regression\n",
      "-0.21717693931926774\n"
     ]
    }
   ],
   "source": [
    "# 1. Instantiate Model\n",
    "linear_reg_ridge = Ridge()\n",
    "\n",
    "# 2. Fit Model\n",
    "lin_reg_ridge_fit = linear_reg_ridge.fit(X_B_train_ss, y_B_train)\n",
    "\n",
    "#3. Score on train data and test data\n",
    "print('Train score for Ridge Regression')\n",
    "print(lin_reg_ridge_fit.score(X_B_train_ss, y_B_train))\n",
    "print('Test score for Ridge Regression')\n",
    "print(lin_reg_ridge_fit.score(X_B_test_ss, y_B_test))\n",
    "\n",
    "# Save to model dictionary\n",
    "model_dict['B_Ridge_Regression'] = lin_reg_ridge_fit.score(X_B_test_ss, y_B_test)"
   ]
  },
  {
   "cell_type": "markdown",
   "id": "1a95d23c",
   "metadata": {},
   "source": [
    "---"
   ]
  },
  {
   "cell_type": "markdown",
   "id": "7b90fd01",
   "metadata": {},
   "source": [
    "### **Ridge Linear Regression on C_Train/C_Test**"
   ]
  },
  {
   "cell_type": "code",
   "execution_count": 136,
   "id": "aaaefbd3",
   "metadata": {
    "ExecuteTime": {
     "end_time": "2022-04-04T01:03:48.272501Z",
     "start_time": "2022-04-04T01:03:47.638179Z"
    },
    "scrolled": false
   },
   "outputs": [
    {
     "name": "stdout",
     "output_type": "stream",
     "text": [
      "Train score for Ridge Regression\n",
      "0.9594971665399219\n",
      "Test score for Ridge Regression\n",
      "-10.345777370943248\n"
     ]
    }
   ],
   "source": [
    "# 1. Instantiate Model\n",
    "linear_reg_ridge = Ridge()\n",
    "\n",
    "# 2. Fit Model\n",
    "lin_reg_ridge_fit = linear_reg_ridge.fit(X_C_train_ss, y_C_train)\n",
    "\n",
    "#3. Score on train data and test data\n",
    "print('Train score for Ridge Regression')\n",
    "print(lin_reg_ridge_fit.score(X_C_train_ss, y_C_train))\n",
    "print('Test score for Ridge Regression')\n",
    "print(lin_reg_ridge_fit.score(X_C_test_ss, y_C_test))\n",
    "\n",
    "# Save to model dictionary\n",
    "model_dict['C_Ridge_Regression'] = lin_reg_ridge_fit.score(X_C_test_ss, y_C_test)"
   ]
  },
  {
   "cell_type": "markdown",
   "id": "a87332a9",
   "metadata": {},
   "source": [
    "---"
   ]
  },
  {
   "cell_type": "markdown",
   "id": "fa2b57eb",
   "metadata": {},
   "source": [
    "## **Hyperparameters**"
   ]
  },
  {
   "cell_type": "markdown",
   "id": "1e3bc987",
   "metadata": {},
   "source": [
    "---"
   ]
  },
  {
   "cell_type": "markdown",
   "id": "c04d858d",
   "metadata": {},
   "source": [
    "### **Alpha Hyperparameter for Ridge Regression on A_Train/A_Test**"
   ]
  },
  {
   "cell_type": "markdown",
   "id": "3b7beaa7",
   "metadata": {
    "ExecuteTime": {
     "end_time": "2022-04-03T15:04:18.099673Z",
     "start_time": "2022-04-03T15:04:18.083716Z"
    }
   },
   "source": [
    "Alpha parameters improves the conditioning of the problem and reduces the variance of the estimates. So it basically tires to prevent overfitting."
   ]
  },
  {
   "cell_type": "code",
   "execution_count": 137,
   "id": "49f8e004",
   "metadata": {
    "ExecuteTime": {
     "end_time": "2022-04-04T01:03:54.817508Z",
     "start_time": "2022-04-04T01:03:48.273500Z"
    }
   },
   "outputs": [],
   "source": [
    "# A list of the alpha rates from 0 to 1\n",
    "alpha = np.arange(0, 1, 0.1)\n",
    "\n",
    "# Lists to put results in\n",
    "train_acc_ss = []\n",
    "test_acc_ss = []\n",
    "\n",
    "# Loop through alphas\n",
    "for al in alpha: \n",
    "    \n",
    "    # 1. Instantiate Model\n",
    "    linear_reg_ridge = Ridge(alpha=al)\n",
    "    \n",
    "    # 2. Fit Model\n",
    "    linear_reg_ridge.fit(X_A_train_ss, y_A_train)\n",
    "    \n",
    "     # 3. Score the model \n",
    "    train_acc_ss.append(linear_reg_ridge.score(X_A_train_ss, y_A_train))\n",
    "    test_acc_ss.append(linear_reg_ridge.score(X_A_test_ss, y_A_test))"
   ]
  },
  {
   "cell_type": "code",
   "execution_count": 138,
   "id": "6ffec6e2",
   "metadata": {
    "ExecuteTime": {
     "end_time": "2022-04-04T01:03:54.975086Z",
     "start_time": "2022-04-04T01:03:54.818505Z"
    },
    "scrolled": true
   },
   "outputs": [
    {
     "data": {
      "image/png": "[encoded data removed]",
      "text/plain": [
       "<Figure size 432x288 with 1 Axes>"
      ]
     },
     "metadata": {
      "needs_background": "light"
     },
     "output_type": "display_data"
    }
   ],
   "source": [
    "# Plotting the accuracies\n",
    "plt.figure()\n",
    "plt.plot(alpha, train_acc_ss, c='red', label='train')\n",
    "plt.plot(alpha, test_acc_ss, c='blue', label='test')\n",
    "plt.title('Alpha rates with Ridge Regression A data')\n",
    "plt.xlabel('Alpha Values')\n",
    "plt.ylabel('Model Precentage')\n",
    "plt.legend()\n",
    "\n",
    "#Save the plot\n",
    "#plt.savefig(\"/Users/Kolobane/Documents/BrainStation Data Science Course/Project Capstone/Plots/ridge_reg_alpha_rates_A_data.png\")\n",
    "sns.despine()\n",
    "plt.show()"
   ]
  },
  {
   "cell_type": "markdown",
   "id": "5f191eb2",
   "metadata": {
    "ExecuteTime": {
     "end_time": "2022-03-29T22:24:45.481464Z",
     "start_time": "2022-03-29T22:24:45.433620Z"
    }
   },
   "source": [
    "**Observations:**\n",
    "- Adding in Alpha values has not helped improve the Test Accuracy.\n",
    "- There is little point in running for other Test Time ranges in this case. We will try other models."
   ]
  },
  {
   "cell_type": "markdown",
   "id": "2514847b",
   "metadata": {},
   "source": [
    "---"
   ]
  },
  {
   "cell_type": "markdown",
   "id": "b627175b",
   "metadata": {
    "ExecuteTime": {
     "end_time": "2022-04-02T14:31:35.295501Z",
     "start_time": "2022-04-02T14:31:35.282536Z"
    }
   },
   "source": [
    "## **Plot actual values vs predict values**"
   ]
  },
  {
   "cell_type": "markdown",
   "id": "f4925e3d",
   "metadata": {},
   "source": [
    "We not going to get any better results for Actual vs predict values with Ridge Regression so this too we will skip."
   ]
  },
  {
   "cell_type": "markdown",
   "id": "b39099e6",
   "metadata": {
    "ExecuteTime": {
     "end_time": "2022-04-03T15:10:14.961694Z",
     "start_time": "2022-04-03T15:10:14.948729Z"
    }
   },
   "source": [
    "---\n",
    "---\n",
    "---"
   ]
  },
  {
   "cell_type": "markdown",
   "id": "047ea5fb",
   "metadata": {},
   "source": [
    "# **Lasso Linear Regression**"
   ]
  },
  {
   "cell_type": "markdown",
   "id": "1685be8d",
   "metadata": {},
   "source": [
    "Lasso Linear regression works by shrinking coefficinets as another way to avoid over fitting. It acts similar to Ridge but this time it tries to estimate the median of the data."
   ]
  },
  {
   "cell_type": "markdown",
   "id": "e3d861b4",
   "metadata": {},
   "source": [
    "---"
   ]
  },
  {
   "cell_type": "markdown",
   "id": "fca70ce3",
   "metadata": {},
   "source": [
    "## **Lasso Linear Regression**"
   ]
  },
  {
   "cell_type": "markdown",
   "id": "602c6e76",
   "metadata": {},
   "source": [
    "---"
   ]
  },
  {
   "cell_type": "markdown",
   "id": "98b32417",
   "metadata": {
    "ExecuteTime": {
     "end_time": "2022-04-02T14:32:14.553819Z",
     "start_time": "2022-04-02T14:32:14.544843Z"
    }
   },
   "source": [
    "### **Lasso Linear Regression on A_Train/A_Test**"
   ]
  },
  {
   "cell_type": "code",
   "execution_count": 139,
   "id": "41900f1e",
   "metadata": {
    "ExecuteTime": {
     "end_time": "2022-04-04T01:04:00.961983Z",
     "start_time": "2022-04-04T01:03:54.976085Z"
    }
   },
   "outputs": [
    {
     "name": "stdout",
     "output_type": "stream",
     "text": [
      "Train score for Lasso Regression\n",
      "0.9063670852974697\n",
      "Test score for Lasso Regression\n",
      "0.597171492647876\n"
     ]
    }
   ],
   "source": [
    "# 1. Instantiate Model\n",
    "linear_reg_lasso = Lasso()\n",
    "\n",
    "# 2. Fit Model\n",
    "linear_reg_lasso.fit(X_A_train_ss, y_A_train)\n",
    "\n",
    "#3. Score on train data and test data\n",
    "print('Train score for Lasso Regression')\n",
    "print(linear_reg_lasso.score(X_A_train_ss, y_A_train))\n",
    "print('Test score for Lasso Regression')\n",
    "print(linear_reg_lasso.score(X_A_test_ss, y_A_test))\n",
    "\n",
    "# Save to model dictionary\n",
    "model_dict['A_Lasso_Regression'] = linear_reg_lasso.score(X_A_test_ss, y_A_test)"
   ]
  },
  {
   "cell_type": "markdown",
   "id": "7ec7c042",
   "metadata": {
    "ExecuteTime": {
     "end_time": "2022-04-03T15:14:05.029208Z",
     "start_time": "2022-04-03T15:14:05.011256Z"
    }
   },
   "source": [
    "**Observations:**\n",
    "- We are seeing some better test accuracy results. \n",
    "- We will check the other time ranges and then look at some Hyperparameters and actual values Vs predict value plots"
   ]
  },
  {
   "cell_type": "markdown",
   "id": "95460e8a",
   "metadata": {},
   "source": [
    "---"
   ]
  },
  {
   "cell_type": "markdown",
   "id": "faa044aa",
   "metadata": {},
   "source": [
    "### **Lasso Linear Regression on B_Train/B_Test**"
   ]
  },
  {
   "cell_type": "code",
   "execution_count": 140,
   "id": "1652f8f1",
   "metadata": {
    "ExecuteTime": {
     "end_time": "2022-04-04T01:04:06.730848Z",
     "start_time": "2022-04-04T01:04:00.962980Z"
    }
   },
   "outputs": [
    {
     "name": "stdout",
     "output_type": "stream",
     "text": [
      "Train score for Lasso Regression\n",
      "0.907315609962466\n",
      "Train score for Lasso Regression\n",
      "0.43601298505117714\n"
     ]
    }
   ],
   "source": [
    "# 1. Instantiate Model\n",
    "linear_reg_lasso = Lasso()\n",
    "\n",
    "# 2. Fit Model\n",
    "linear_reg_lasso.fit(X_B_train_ss, y_B_train)\n",
    "\n",
    "#3. Score on train data and test data\n",
    "print('Train score for Lasso Regression')\n",
    "print(linear_reg_lasso.score(X_B_train_ss, y_B_train))\n",
    "print('Train score for Lasso Regression')\n",
    "print(linear_reg_lasso.score(X_B_test_ss, y_B_test))\n",
    "\n",
    "# Save to model dictionary\n",
    "model_dict['B_Lasso_Regression'] = linear_reg_lasso.score(X_B_test_ss, y_B_test)"
   ]
  },
  {
   "cell_type": "markdown",
   "id": "ed297693",
   "metadata": {},
   "source": [
    "**Observations:**\n",
    "- About the same as a Time Range A with Linear Regression"
   ]
  },
  {
   "cell_type": "markdown",
   "id": "23b7e80f",
   "metadata": {},
   "source": [
    "---"
   ]
  },
  {
   "cell_type": "markdown",
   "id": "b631739a",
   "metadata": {},
   "source": [
    "### **Lasso Linear Regression on C_Train/C_Test**"
   ]
  },
  {
   "cell_type": "code",
   "execution_count": 141,
   "id": "83f1f72f",
   "metadata": {
    "ExecuteTime": {
     "end_time": "2022-04-04T01:04:12.253096Z",
     "start_time": "2022-04-04T01:04:06.735833Z"
    }
   },
   "outputs": [
    {
     "name": "stdout",
     "output_type": "stream",
     "text": [
      "Train score for Lasso Regression\n",
      "0.922988990633364\n",
      "Train score for Lasso Regression\n",
      "-2.1703828125378744\n"
     ]
    }
   ],
   "source": [
    "# 1. Instantiate Model\n",
    "linear_reg_lasso = Lasso()\n",
    "\n",
    "# 2. Fit Model\n",
    "linear_reg_lasso.fit(X_C_train_ss, y_C_train)\n",
    "\n",
    "#3. Score on train data and test data\n",
    "print('Train score for Lasso Regression')\n",
    "print(linear_reg_lasso.score(X_C_train_ss, y_C_train))\n",
    "print('Train score for Lasso Regression')\n",
    "print(linear_reg_lasso.score(X_C_test_ss, y_C_test))\n",
    "\n",
    "# Save to model dictionary\n",
    "model_dict['C_Lasso_Regression'] = linear_reg_lasso.score(X_C_test_ss, y_C_test)"
   ]
  },
  {
   "cell_type": "markdown",
   "id": "d285dd42",
   "metadata": {},
   "source": [
    "**Observations:**\n",
    "- Still better than Linear Regression for Time Range C but the first model on Time Range A has the highest accuarcy.\n",
    "- We will explore that one somemore."
   ]
  },
  {
   "cell_type": "markdown",
   "id": "6eb9004e",
   "metadata": {},
   "source": [
    "---"
   ]
  },
  {
   "cell_type": "markdown",
   "id": "0ff367a2",
   "metadata": {},
   "source": [
    "## **Hyperparameters**"
   ]
  },
  {
   "cell_type": "markdown",
   "id": "468d17fd",
   "metadata": {},
   "source": [
    "---"
   ]
  },
  {
   "cell_type": "markdown",
   "id": "cb7bc156",
   "metadata": {},
   "source": [
    "### **Alpha Hyperparameter for Ridge Regression on A_Train/A_Test**"
   ]
  },
  {
   "cell_type": "markdown",
   "id": "53028e6c",
   "metadata": {},
   "source": [
    "This has been our most sucessful Accuracy result yet."
   ]
  },
  {
   "cell_type": "code",
   "execution_count": 142,
   "id": "b9c39512",
   "metadata": {
    "ExecuteTime": {
     "end_time": "2022-04-04T01:07:19.019697Z",
     "start_time": "2022-04-04T01:04:12.254094Z"
    }
   },
   "outputs": [],
   "source": [
    "# A list of the alpha rates from 0 to 1\n",
    "alpha = np.arange(0, 1, 0.1)\n",
    "\n",
    "# Lists to put results in\n",
    "train_acc_ss = []\n",
    "test_acc_ss = []\n",
    "\n",
    "# Loop through alphas\n",
    "for al in alpha: \n",
    "    \n",
    "    # 1. Instantiate Model\n",
    "    linear_reg_lasso = Lasso(alpha=al)\n",
    "    \n",
    "    # 2. Fit Model\n",
    "    linear_reg_lasso.fit(X_A_train_ss, y_A_train)\n",
    "    \n",
    "     # 3. Score the model \n",
    "    train_acc_ss.append(linear_reg_lasso.score(X_A_train_ss, y_A_train))\n",
    "    test_acc_ss.append(linear_reg_lasso.score(X_A_test_ss, y_A_test))"
   ]
  },
  {
   "cell_type": "code",
   "execution_count": 143,
   "id": "7cef875d",
   "metadata": {
    "ExecuteTime": {
     "end_time": "2022-04-04T01:07:19.162555Z",
     "start_time": "2022-04-04T01:07:19.020695Z"
    }
   },
   "outputs": [
    {
     "data": {
      "image/png": "[encoded data removed]",
      "text/plain": [
       "<Figure size 432x288 with 1 Axes>"
      ]
     },
     "metadata": {
      "needs_background": "light"
     },
     "output_type": "display_data"
    }
   ],
   "source": [
    "# Plotting the accuracies\n",
    "plt.figure()\n",
    "plt.plot(alpha, train_acc_ss, c='red', label='train')\n",
    "plt.plot(alpha, test_acc_ss, c='blue', label='test')\n",
    "plt.title('Alpha rates with Lasso Regression A data')\n",
    "plt.xlabel('Alpha Values')\n",
    "plt.ylabel('Model Precentage')\n",
    "plt.legend()\n",
    "\n",
    "#Save the plot\n",
    "#plt.savefig(\"/Users/Kolobane/Documents/BrainStation Data Science Course/Project Capstone/Plots/lasso_reg_alpha_rates_A_data.png\")\n",
    "sns.despine()\n",
    "plt.show()"
   ]
  },
  {
   "cell_type": "markdown",
   "id": "215050b7",
   "metadata": {},
   "source": [
    "**Observations:**\n",
    "- Lasso Regression has given better results. Around 0.9 looks to be the best alpha as we start to see the Train data drop at that point."
   ]
  },
  {
   "cell_type": "code",
   "execution_count": 144,
   "id": "63450de8",
   "metadata": {
    "ExecuteTime": {
     "end_time": "2022-04-04T01:07:25.941642Z",
     "start_time": "2022-04-04T01:07:19.163552Z"
    },
    "scrolled": true
   },
   "outputs": [
    {
     "name": "stdout",
     "output_type": "stream",
     "text": [
      "Train score for Lasso Regression\n",
      "0.9100752249109682\n",
      "Train score for Lasso Regression\n",
      "0.6001844605023678\n"
     ]
    }
   ],
   "source": [
    "# 1. Instantiate Model\n",
    "linear_reg_lasso = Lasso(alpha=0.9)\n",
    "\n",
    "# 2. Fit Model\n",
    "linear_reg_lasso.fit(X_A_train_ss, y_A_train)\n",
    "\n",
    "#3. Score on train data and test data\n",
    "print('Train score for Lasso Regression')\n",
    "print(linear_reg_lasso.score(X_A_train_ss, y_A_train))\n",
    "print('Train score for Lasso Regression')\n",
    "print(linear_reg_lasso.score(X_A_test_ss, y_A_test))\n",
    "\n",
    "# Save to model dictionary\n",
    "model_dict['A_Lasso_Regression_Alpha_0_9'] = linear_reg_lasso.score(X_A_test_ss, y_A_test)"
   ]
  },
  {
   "cell_type": "markdown",
   "id": "85940bee",
   "metadata": {},
   "source": [
    "---"
   ]
  },
  {
   "cell_type": "markdown",
   "id": "e94bd872",
   "metadata": {
    "ExecuteTime": {
     "end_time": "2022-04-02T14:34:02.100110Z",
     "start_time": "2022-04-02T14:34:02.083158Z"
    }
   },
   "source": [
    "## **Plot actural values vs predict values**"
   ]
  },
  {
   "cell_type": "markdown",
   "id": "ed3c6376",
   "metadata": {},
   "source": [
    "---"
   ]
  },
  {
   "cell_type": "markdown",
   "id": "208f446a",
   "metadata": {},
   "source": [
    "### **A_Train/A_Test**"
   ]
  },
  {
   "cell_type": "markdown",
   "id": "f64cf1c1",
   "metadata": {},
   "source": [
    "We are only going to look at this plot for the A time range data as that has the best resutls. We want to see if we can see an improvement in the actual and predictive values "
   ]
  },
  {
   "cell_type": "code",
   "execution_count": 145,
   "id": "14b31ec8",
   "metadata": {
    "ExecuteTime": {
     "end_time": "2022-04-04T01:07:25.972559Z",
     "start_time": "2022-04-04T01:07:25.942639Z"
    }
   },
   "outputs": [],
   "source": [
    "# Make predictions using the testing set\n",
    "linear_reg_lasso = linear_reg_lasso.predict(X_A_test)"
   ]
  },
  {
   "cell_type": "code",
   "execution_count": 146,
   "id": "3d1f23db",
   "metadata": {
    "ExecuteTime": {
     "end_time": "2022-04-04T01:07:26.115194Z",
     "start_time": "2022-04-04T01:07:25.973556Z"
    }
   },
   "outputs": [
    {
     "data": {
      "image/png": "[encoded data removed]",
      "text/plain": [
       "<Figure size 1152x864 with 2 Axes>"
      ]
     },
     "metadata": {},
     "output_type": "display_data"
    }
   ],
   "source": [
    "plt.figure(figsize=(16,12))\n",
    "\n",
    "plt.subplot(2,2,1)\n",
    "plt.plot(y_A_test, color='r')\n",
    "plt.xticks(())\n",
    "plt.yticks(())\n",
    "plt.title('Lasso Regression Actual Values A Data', fontsize=20)\n",
    "plt.xlabel('Time Line', fontsize=15)\n",
    "plt.ylabel('Share Price', fontsize=15)\n",
    "\n",
    "plt.subplot(2,2,2)\n",
    "plt.plot(linear_reg_lasso, color='b')\n",
    "plt.xticks(())\n",
    "plt.yticks(())\n",
    "plt.title('Lasso Regression Predict Values A Data', fontsize=20)\n",
    "plt.xlabel('Time Line', fontsize=15)\n",
    "plt.ylabel('Share Price', fontsize=15)\n",
    "\n",
    "#Save the plot\n",
    "#plt.savefig(\"/Users/Kolobane/Documents/BrainStation Data Science Course/Project Capstone/Plots/Lasso_Regression_for_10_2_month_split_Train_Test_A_data.png\")\n",
    "sns.despine()\n",
    "plt.show();"
   ]
  },
  {
   "cell_type": "markdown",
   "id": "2f82b66e",
   "metadata": {},
   "source": [
    "**Observations:**\n",
    "- While we now have 60% accuracy it is still hard to see this while looking at the actual values and predictive values."
   ]
  },
  {
   "cell_type": "markdown",
   "id": "1aa0acad",
   "metadata": {},
   "source": [
    "---\n",
    "---\n",
    "---"
   ]
  },
  {
   "cell_type": "markdown",
   "id": "9428a846",
   "metadata": {},
   "source": [
    "# **Random Forests**"
   ]
  },
  {
   "cell_type": "markdown",
   "id": "634c7dd3",
   "metadata": {
    "ExecuteTime": {
     "end_time": "2022-03-30T09:51:55.185832Z",
     "start_time": "2022-03-30T09:51:55.179862Z"
    }
   },
   "source": [
    "Random Forests take Decision trees to the next level. They consist of multiple random Decision Trees. \n",
    "<br><br>\n",
    "Similar as with Decision Trees we do not just want to run one Random Forest, instead we will use the n_estimator to run a range to look for the best model. \n",
    "<br><br>\n"
   ]
  },
  {
   "cell_type": "markdown",
   "id": "dcbfee64",
   "metadata": {},
   "source": [
    "## **Random Forests**"
   ]
  },
  {
   "cell_type": "markdown",
   "id": "c586d80c",
   "metadata": {},
   "source": [
    "---"
   ]
  },
  {
   "cell_type": "markdown",
   "id": "1a68148d",
   "metadata": {},
   "source": [
    "### **Random Forest on A_Train / A_Test**"
   ]
  },
  {
   "cell_type": "code",
   "execution_count": 147,
   "id": "62b1dad1",
   "metadata": {
    "ExecuteTime": {
     "end_time": "2022-04-04T01:07:34.263727Z",
     "start_time": "2022-04-04T01:07:26.116190Z"
    }
   },
   "outputs": [
    {
     "name": "stdout",
     "output_type": "stream",
     "text": [
      "Train score for Random Forest\n",
      "1.0\n",
      "Test score for Random Forest\n",
      "0.5010901482222971\n"
     ]
    }
   ],
   "source": [
    "# 1. initialize\n",
    "random_forest = RandomForestRegressor(n_estimators=5)\n",
    "    \n",
    "# 2. fit\n",
    "random_forest_fit = random_forest.fit(X_A_train_ss, y_A_train)\n",
    "\n",
    "# Score\n",
    "print('Train score for Random Forest')\n",
    "print(random_forest_fit.score(X_A_train_ss, y_A_train))\n",
    "print('Test score for Random Forest')\n",
    "print(random_forest_fit.score(X_A_test_ss, y_A_test))\n",
    "\n",
    "# Save to model dictionary\n",
    "model_dict['A_Random_Forest'] = random_forest_fit.score(X_A_test_ss, y_A_test)"
   ]
  },
  {
   "cell_type": "markdown",
   "id": "4dd9596f",
   "metadata": {},
   "source": [
    "**Observations:**\n",
    "- The Train data trains even better than Linear Regression.\n",
    "- But the Test data is worse.\n",
    "- These values will change depending on the model run.\n",
    "- Lets look at the other Time Ranges next."
   ]
  },
  {
   "cell_type": "markdown",
   "id": "f68b2f07",
   "metadata": {},
   "source": [
    "---"
   ]
  },
  {
   "cell_type": "markdown",
   "id": "58287106",
   "metadata": {},
   "source": [
    "### **Random Forest on B_Train / B_Test**"
   ]
  },
  {
   "cell_type": "code",
   "execution_count": 148,
   "id": "457f0d59",
   "metadata": {
    "ExecuteTime": {
     "end_time": "2022-04-04T01:07:41.500338Z",
     "start_time": "2022-04-04T01:07:34.264725Z"
    },
    "scrolled": true
   },
   "outputs": [
    {
     "name": "stdout",
     "output_type": "stream",
     "text": [
      "Train score for Random Forest\n",
      "1.0\n",
      "Test score for Random Forest\n",
      "0.4036047846935752\n"
     ]
    }
   ],
   "source": [
    "# 1. initialize\n",
    "random_forest = RandomForestRegressor(n_estimators=5)\n",
    "    \n",
    "# 2. fit\n",
    "random_forest_fit = random_forest.fit(X_B_train_ss, y_B_train)\n",
    "\n",
    "# Score\n",
    "print('Train score for Random Forest')\n",
    "print(random_forest_fit.score(X_B_train_ss, y_B_train))\n",
    "print('Test score for Random Forest')\n",
    "print(random_forest_fit.score(X_B_test_ss, y_B_test))\n",
    "\n",
    "# Save to model dictionary\n",
    "model_dict['B_Random_Forest'] = random_forest_fit.score(X_B_test_ss, y_B_test)"
   ]
  },
  {
   "cell_type": "markdown",
   "id": "083cf117",
   "metadata": {},
   "source": [
    "**Observations:**\n",
    "- Very interesting.\n",
    "- For Random forest the larger B Test Time Range data has produced a better linear Regression accuracy.\n",
    "- These values will change depending on the model run."
   ]
  },
  {
   "cell_type": "markdown",
   "id": "da4d56aa",
   "metadata": {},
   "source": [
    "---"
   ]
  },
  {
   "cell_type": "markdown",
   "id": "9c35a175",
   "metadata": {},
   "source": [
    "### **Random Forest on C_Train / C_Test**"
   ]
  },
  {
   "cell_type": "code",
   "execution_count": 149,
   "id": "2d9c4659",
   "metadata": {
    "ExecuteTime": {
     "end_time": "2022-04-04T01:07:46.177221Z",
     "start_time": "2022-04-04T01:07:41.501207Z"
    }
   },
   "outputs": [
    {
     "name": "stdout",
     "output_type": "stream",
     "text": [
      "Train score for Random Forest\n",
      "1.0\n",
      "Test score for Random Forest\n",
      "-0.05948909529931257\n"
     ]
    }
   ],
   "source": [
    "# 1. initialize\n",
    "random_forest = RandomForestRegressor(n_estimators=5)\n",
    "    \n",
    "# 2. fit\n",
    "random_forest_fit = random_forest.fit(X_C_train_ss, y_C_train)\n",
    "\n",
    "# Score\n",
    "print('Train score for Random Forest')\n",
    "print(random_forest_fit.score(X_C_train_ss, y_C_train))\n",
    "print('Test score for Random Forest')\n",
    "print(random_forest_fit.score(X_C_test_ss, y_C_test))\n",
    "\n",
    "\n",
    "# Save to model dictionary\n",
    "model_dict['C_Random_Forest'] = random_forest_fit.score(X_C_test_ss, y_C_test)"
   ]
  },
  {
   "cell_type": "markdown",
   "id": "b94676b3",
   "metadata": {},
   "source": [
    "**Observations:**\n",
    "- For the third Time Range data the accuracy has dropped."
   ]
  },
  {
   "cell_type": "markdown",
   "id": "8c296d6a",
   "metadata": {},
   "source": [
    "---"
   ]
  },
  {
   "cell_type": "markdown",
   "id": "709f7318",
   "metadata": {},
   "source": [
    "## **Plot actural values vs predict values**"
   ]
  },
  {
   "cell_type": "markdown",
   "id": "9e5a1085",
   "metadata": {},
   "source": [
    "Use the B Time Range to look into actual and predict values"
   ]
  },
  {
   "cell_type": "code",
   "execution_count": 150,
   "id": "6a42d48d",
   "metadata": {
    "ExecuteTime": {
     "end_time": "2022-04-04T01:07:46.208014Z",
     "start_time": "2022-04-04T01:07:46.179130Z"
    }
   },
   "outputs": [],
   "source": [
    "# Make predictions using the testing set\n",
    "random_forest_pred = random_forest.predict(X_A_test)"
   ]
  },
  {
   "cell_type": "code",
   "execution_count": 179,
   "id": "dd3e0bb3",
   "metadata": {
    "ExecuteTime": {
     "end_time": "2022-04-04T08:25:46.926888Z",
     "start_time": "2022-04-04T08:25:46.788290Z"
    }
   },
   "outputs": [
    {
     "data": {
      "image/png": "[encoded data removed]",
      "text/plain": [
       "<Figure size 1152x864 with 2 Axes>"
      ]
     },
     "metadata": {},
     "output_type": "display_data"
    }
   ],
   "source": [
    "plt.figure(figsize=(16,12))\n",
    "\n",
    "plt.subplot(2,2,1)\n",
    "plt.plot(y_A_test, color='r')\n",
    "plt.xticks(())\n",
    "plt.yticks(())\n",
    "plt.title('Random Forest Actual Values A Data', fontsize=20)\n",
    "plt.xlabel('Time Line', fontsize=15)\n",
    "plt.ylabel('Share Price', fontsize=15)\n",
    "\n",
    "plt.subplot(2,2,2)\n",
    "plt.plot(random_forest_pred, color='b')\n",
    "plt.xticks(())\n",
    "plt.yticks(())\n",
    "plt.title('Random Forest Predict Values A Data', fontsize=20)\n",
    "plt.xlabel('Time Line', fontsize=15)\n",
    "plt.ylabel('Share Price', fontsize=15)\n",
    "sns.despine()\n",
    "\n",
    "#Save the plot\n",
    "#plt.savefig(\"/Users/Kolobane/Documents/BrainStation Data Science Course/Project Capstone/Plots/Random_Forest_actual_vs_predict_A_data.png\")\n",
    "plt.show()"
   ]
  },
  {
   "cell_type": "markdown",
   "id": "3c38c1b7",
   "metadata": {
    "ExecuteTime": {
     "end_time": "2022-04-03T15:41:24.986224Z",
     "start_time": "2022-04-03T15:41:24.970267Z"
    }
   },
   "source": [
    "**Observations:**\n",
    "- Not the results I expected.\n",
    "- If I am only getting one value for predict then my model is not learning \n",
    "- This can happen if the problem is very hard to learn.\n",
    "- Not going to have time to look into this more. So we will add it as a future job to investigate.\n",
    "    - The difficult I have is in knowing if this is because this is a hard project to model due to the many factors that can affect the share price or if its an issue with my data. Since the predict works (albeit badly) for Linear Regression I believe its because this is a large project to model."
   ]
  },
  {
   "cell_type": "markdown",
   "id": "9a290e62",
   "metadata": {},
   "source": [
    "---"
   ]
  },
  {
   "cell_type": "markdown",
   "id": "b1f45733",
   "metadata": {},
   "source": [
    "## **Hyperparameters**"
   ]
  },
  {
   "cell_type": "markdown",
   "id": "2f44534f",
   "metadata": {},
   "source": [
    "---"
   ]
  },
  {
   "cell_type": "markdown",
   "id": "7549975f",
   "metadata": {},
   "source": [
    "### **Random Forrest**"
   ]
  },
  {
   "cell_type": "markdown",
   "id": "a65147fa",
   "metadata": {},
   "source": [
    "Previously I have ran models up to (1,1000, 50) but I have seen that around n_estimator =150 gives the best results.\n"
   ]
  },
  {
   "cell_type": "code",
   "execution_count": 152,
   "id": "ac425a88",
   "metadata": {
    "ExecuteTime": {
     "end_time": "2022-04-04T02:02:52.263905Z",
     "start_time": "2022-04-04T01:07:46.337436Z"
    }
   },
   "outputs": [
    {
     "name": "stdout",
     "output_type": "stream",
     "text": [
      "Fitting with n=451...\r"
     ]
    }
   ],
   "source": [
    "# Create a range of n_estimator values to test the model\n",
    "n_estimator_values = np.arange(1, 500, 50)\n",
    "\n",
    "results_df = pd.DataFrame(columns=[\"n\", \"train score\", \"test score\"])\n",
    "\n",
    "# loop over different values for the estimators\n",
    "for n in n_estimator_values:\n",
    "    print(f\"Fitting with n={n}...\", end=\"\\r\")\n",
    "    \n",
    "    # 1. Initialize\n",
    "    my_random_forest = RandomForestRegressor(n_estimators=n)\n",
    "    \n",
    "    # 2. Fit\n",
    "    my_random_forest.fit(X_B_train_ss, y_B_train)\n",
    "    \n",
    "    # 3. Score\n",
    "    train_B_score = my_random_forest.score(X_B_train_ss, y_B_train)\n",
    "    test_B_score = my_random_forest.score(X_B_test_ss, y_B_test)\n",
    "    \n",
    "    # 4. Append to results df\n",
    "    results_df = results_df.append({\n",
    "        \"n\": n,\n",
    "        \"train score\": train_B_score,\n",
    "        \"test score\": test_B_score\n",
    "    }, ignore_index=True) "
   ]
  },
  {
   "cell_type": "code",
   "execution_count": 153,
   "id": "9652826d",
   "metadata": {
    "ExecuteTime": {
     "end_time": "2022-04-04T02:02:52.279904Z",
     "start_time": "2022-04-04T02:02:52.264917Z"
    }
   },
   "outputs": [],
   "source": [
    "# save the results of the data frame into a csv file\n",
    "results_df.to_csv('Data/capstone_random_forrest_results_df.csv')"
   ]
  },
  {
   "cell_type": "code",
   "execution_count": 154,
   "id": "bcb50af1",
   "metadata": {
    "ExecuteTime": {
     "end_time": "2022-04-04T02:02:52.404542Z",
     "start_time": "2022-04-04T02:02:52.280879Z"
    }
   },
   "outputs": [
    {
     "data": {
      "image/png": "[encoded data removed]",
      "text/plain": [
       "<Figure size 432x288 with 1 Axes>"
      ]
     },
     "metadata": {
      "needs_background": "light"
     },
     "output_type": "display_data"
    }
   ],
   "source": [
    "plt.figure()\n",
    "plt.plot(results_df.set_index(\"n\"))\n",
    "plt.title('Random Forest for a range of n_estimators B Data')\n",
    "plt.xlabel('n_estimators')\n",
    "plt.ylabel('Model Accuracy')\n",
    "\n",
    "#Save the plot\n",
    "#plt.savefig(\"/Users/Kolobane/Documents/BrainStation Data Science Course/Project Capstone/Plots/Rand_Forest_estimator_Range_B_data.png\")\n",
    "\n",
    "plt.show()"
   ]
  },
  {
   "cell_type": "markdown",
   "id": "625f4e8e",
   "metadata": {},
   "source": [
    "**Observations:**\n",
    "- Once again the Train data has a high accuracy.\n",
    "- The random Forest goes though different values for n_estimator and it looks like 150 gets the best Test accuracy.\n",
    "- But it is not producing any higher results than Lasso Regression"
   ]
  },
  {
   "cell_type": "markdown",
   "id": "7553333d",
   "metadata": {},
   "source": [
    "---\n",
    "---\n",
    "---"
   ]
  },
  {
   "cell_type": "markdown",
   "id": "63dc6e8b",
   "metadata": {},
   "source": [
    "# **XG Boast**"
   ]
  },
  {
   "cell_type": "markdown",
   "id": "1c70428c",
   "metadata": {},
   "source": [
    "The last model we will test on is with eXtreme Gradient Boosting or XGBoost. XGBoost is an implementation of Gradient Boosting which tends to be faster and more accurate.\n",
    "<br><br>\n",
    "XGBoost also uses advanced regularization (Ridge and Lasso) which we saw earlier under Linear Regression which can help to improve the model. XGBoost is also know to work well numeric values only."
   ]
  },
  {
   "cell_type": "markdown",
   "id": "eb6c1a37",
   "metadata": {},
   "source": [
    "---"
   ]
  },
  {
   "cell_type": "markdown",
   "id": "6b54574e",
   "metadata": {
    "ExecuteTime": {
     "end_time": "2022-04-03T19:21:54.480128Z",
     "start_time": "2022-04-03T19:21:54.468160Z"
    }
   },
   "source": [
    "## **XG Boast**"
   ]
  },
  {
   "cell_type": "markdown",
   "id": "48bc86f4",
   "metadata": {},
   "source": [
    "---"
   ]
  },
  {
   "cell_type": "markdown",
   "id": "16c8ae8a",
   "metadata": {
    "ExecuteTime": {
     "end_time": "2022-04-03T15:46:43.941270Z",
     "start_time": "2022-04-03T15:46:43.941270Z"
    }
   },
   "source": [
    "### **XG Boost on A_Train / A_Test**"
   ]
  },
  {
   "cell_type": "code",
   "execution_count": 155,
   "id": "f69bc04b",
   "metadata": {
    "ExecuteTime": {
     "end_time": "2022-04-04T02:03:15.845858Z",
     "start_time": "2022-04-04T02:02:52.405540Z"
    },
    "scrolled": false
   },
   "outputs": [
    {
     "name": "stdout",
     "output_type": "stream",
     "text": [
      "Train Set Scores:\n",
      "XG Boost Train score: 0.9999999999814188\n",
      "Test Set Scores:\n",
      "XG Boost Test score: 0.3964044130329135\n"
     ]
    }
   ],
   "source": [
    "# 1. initialize the model\n",
    "A_XGB_model = XGBRegressor()\n",
    "\n",
    "# 2. fit on train\n",
    "A_XGB_model_fit = A_XGB_model.fit(X_A_train_ss, y_A_train)\n",
    "\n",
    "print(\"Train Set Scores:\")\n",
    "print(f\"XG Boost Train score: {A_XGB_model.score(X_A_train_ss, y_A_train)}\")\n",
    "\n",
    "print(\"Test Set Scores:\")\n",
    "print(f\"XG Boost Test score: {A_XGB_model.score(X_A_test_ss, y_A_test)}\")\n",
    "\n",
    "# Save to model dictionary\n",
    "model_dict['A_XG_Boost'] = A_XGB_model.score(X_A_test_ss, y_A_test)"
   ]
  },
  {
   "cell_type": "markdown",
   "id": "1a62b057",
   "metadata": {},
   "source": [
    "**Observations:**\n",
    "- Get a very high Train result\n",
    "- A Time Range once again gives the best accuracy for the Test data but it is still lower than Random Forest of 0.60."
   ]
  },
  {
   "cell_type": "markdown",
   "id": "5f7838c7",
   "metadata": {},
   "source": [
    "### **XG Boost on B_Train / B_Test**"
   ]
  },
  {
   "cell_type": "code",
   "execution_count": 156,
   "id": "71b40726",
   "metadata": {
    "ExecuteTime": {
     "end_time": "2022-04-04T02:03:38.132263Z",
     "start_time": "2022-04-04T02:03:15.846856Z"
    },
    "scrolled": false
   },
   "outputs": [
    {
     "name": "stdout",
     "output_type": "stream",
     "text": [
      "Train Set Scores:\n",
      "XG Boost Train score: 0.9999999999994663\n",
      "Test Set Scores:\n",
      "XG Boost Test score: 0.340000612706431\n"
     ]
    }
   ],
   "source": [
    "# 1. initialize the model\n",
    "B_XGB_model = XGBRegressor()\n",
    "\n",
    "# 2. fit on train\n",
    "B_XGB_model.fit(X_B_train_ss, y_B_train)\n",
    "\n",
    "print(\"Train Set Scores:\")\n",
    "print(f\"XG Boost Train score: {B_XGB_model.score(X_B_train_ss, y_B_train)}\")\n",
    "\n",
    "print(\"Test Set Scores:\")\n",
    "print(f\"XG Boost Test score: {B_XGB_model.score(X_B_test_ss, y_B_test)}\")\n",
    "\n",
    "# Save to model dictionary\n",
    "model_dict['B_XG_Boost'] = B_XGB_model.score(X_B_test_ss, y_B_test)"
   ]
  },
  {
   "cell_type": "markdown",
   "id": "c379630c",
   "metadata": {
    "ExecuteTime": {
     "end_time": "2022-04-03T18:13:32.538370Z",
     "start_time": "2022-04-03T18:13:32.529393Z"
    }
   },
   "source": [
    "### **XG Boost on C_Train / C_Test**"
   ]
  },
  {
   "cell_type": "code",
   "execution_count": 157,
   "id": "a59337c8",
   "metadata": {
    "ExecuteTime": {
     "end_time": "2022-04-04T02:03:55.385128Z",
     "start_time": "2022-04-04T02:03:38.133261Z"
    },
    "scrolled": true
   },
   "outputs": [
    {
     "name": "stdout",
     "output_type": "stream",
     "text": [
      "Train Set Scores:\n",
      "XG Boost Train score: 0.9999999999999533\n",
      "Test Set Scores:\n",
      "XG Boost Test score: -0.07748479618058335\n"
     ]
    }
   ],
   "source": [
    "# 1. initialize the model\n",
    "C_XGB_model = XGBRegressor()\n",
    "\n",
    "# 2. fit on train\n",
    "C_XGB_model.fit(X_C_train_ss, y_C_train)\n",
    "\n",
    "print(\"Train Set Scores:\")\n",
    "print(f\"XG Boost Train score: {C_XGB_model.score(X_C_train_ss, y_C_train)}\")\n",
    "\n",
    "print(\"Test Set Scores:\")\n",
    "print(f\"XG Boost Test score: {C_XGB_model.score(X_C_test_ss, y_C_test)}\")\n",
    "\n",
    "# Save to model dictionary\n",
    "model_dict['C_XG_Boost'] = C_XGB_model.score(X_C_test_ss, y_C_test)"
   ]
  },
  {
   "cell_type": "markdown",
   "id": "f29e7497",
   "metadata": {},
   "source": [
    "## **Hyperparameters**"
   ]
  },
  {
   "cell_type": "markdown",
   "id": "4625af6a",
   "metadata": {},
   "source": [
    "### **Grid Search for XGBoost**"
   ]
  },
  {
   "cell_type": "markdown",
   "id": "711ba292",
   "metadata": {},
   "source": [
    "Optimize XG Boost by running various parameters."
   ]
  },
  {
   "cell_type": "code",
   "execution_count": 158,
   "id": "f61d48bf",
   "metadata": {
    "ExecuteTime": {
     "end_time": "2022-04-04T02:28:21.870884Z",
     "start_time": "2022-04-04T02:03:55.386126Z"
    }
   },
   "outputs": [
    {
     "name": "stdout",
     "output_type": "stream",
     "text": [
      "Fitting 5 folds for each of 24 candidates, totalling 120 fits\n"
     ]
    },
    {
     "data": {
      "text/plain": [
       "GridSearchCV(estimator=XGBRegressor(base_score=None, booster=None,\n",
       "                                    colsample_bylevel=None,\n",
       "                                    colsample_bynode=None,\n",
       "                                    colsample_bytree=None,\n",
       "                                    enable_categorical=False, gamma=None,\n",
       "                                    gpu_id=None, importance_type=None,\n",
       "                                    interaction_constraints=None,\n",
       "                                    learning_rate=None, max_delta_step=None,\n",
       "                                    max_depth=None, min_child_weight=None,\n",
       "                                    missing=nan, monotone_constraints=None,\n",
       "                                    n_estimators=100, n_jobs=-1,\n",
       "                                    num_parallel_tree=None, predictor=None,\n",
       "                                    random_state=None, reg_alpha=None,\n",
       "                                    reg_lambda=None, scale_pos_weight=None,\n",
       "                                    subsample=None, tree_method=None,\n",
       "                                    validate_parameters=None, verbosity=None),\n",
       "             n_jobs=-1,\n",
       "             param_grid={'max_depth': array([1, 2, 3, 4]),\n",
       "                         'n_estimators': array([  1,  51, 101, 151, 201, 251])},\n",
       "             verbose=1)"
      ]
     },
     "execution_count": 158,
     "metadata": {},
     "output_type": "execute_result"
    }
   ],
   "source": [
    "from sklearn.model_selection import GridSearchCV\n",
    "\n",
    "\n",
    "my_xgb = XGBRegressor(n_jobs=-1)\n",
    "\n",
    "param_grid = {'n_estimators': np.arange(1, 300, 50), 'max_depth': np.arange(1, 5)}\n",
    "grid_xgb = GridSearchCV(my_xgb, param_grid=param_grid, verbose=1, n_jobs=-1)\n",
    "\n",
    "grid_xgb.fit(X_A_train, y_A_train)"
   ]
  },
  {
   "cell_type": "code",
   "execution_count": 159,
   "id": "26ccdb63",
   "metadata": {
    "ExecuteTime": {
     "end_time": "2022-04-04T02:28:22.187039Z",
     "start_time": "2022-04-04T02:28:21.876869Z"
    }
   },
   "outputs": [
    {
     "data": {
      "text/plain": [
       "0.9999697668904921"
      ]
     },
     "execution_count": 159,
     "metadata": {},
     "output_type": "execute_result"
    }
   ],
   "source": [
    "grid_xgb.score(X_A_train, y_A_train)"
   ]
  },
  {
   "cell_type": "code",
   "execution_count": 160,
   "id": "5028061e",
   "metadata": {
    "ExecuteTime": {
     "end_time": "2022-04-04T02:28:22.298702Z",
     "start_time": "2022-04-04T02:28:22.188036Z"
    }
   },
   "outputs": [
    {
     "data": {
      "text/plain": [
       "0.41575202705640757"
      ]
     },
     "execution_count": 160,
     "metadata": {},
     "output_type": "execute_result"
    }
   ],
   "source": [
    "grid_xgb.score(X_A_test, y_A_test)"
   ]
  },
  {
   "cell_type": "code",
   "execution_count": 161,
   "id": "a6377eed",
   "metadata": {
    "ExecuteTime": {
     "end_time": "2022-04-04T02:28:22.314660Z",
     "start_time": "2022-04-04T02:28:22.299700Z"
    }
   },
   "outputs": [
    {
     "data": {
      "text/plain": [
       "dict_keys(['mean_fit_time', 'std_fit_time', 'mean_score_time', 'std_score_time', 'param_max_depth', 'param_n_estimators', 'params', 'split0_test_score', 'split1_test_score', 'split2_test_score', 'split3_test_score', 'split4_test_score', 'mean_test_score', 'std_test_score', 'rank_test_score'])"
      ]
     },
     "execution_count": 161,
     "metadata": {},
     "output_type": "execute_result"
    }
   ],
   "source": [
    "grid_xgb.cv_results_.keys()"
   ]
  },
  {
   "cell_type": "code",
   "execution_count": 162,
   "id": "4dbe42a0",
   "metadata": {
    "ExecuteTime": {
     "end_time": "2022-04-04T02:28:22.345577Z",
     "start_time": "2022-04-04T02:28:22.315657Z"
    }
   },
   "outputs": [
    {
     "data": {
      "text/html": [
       "<div>\n",
       "<style scoped>\n",
       "    .dataframe tbody tr th:only-of-type {\n",
       "        vertical-align: middle;\n",
       "    }\n",
       "\n",
       "    .dataframe tbody tr th {\n",
       "        vertical-align: top;\n",
       "    }\n",
       "\n",
       "    .dataframe thead th {\n",
       "        text-align: right;\n",
       "    }\n",
       "</style>\n",
       "<table border=\"1\" class=\"dataframe\">\n",
       "  <thead>\n",
       "    <tr style=\"text-align: right;\">\n",
       "      <th></th>\n",
       "      <th>n_estimators</th>\n",
       "      <th>max_depth</th>\n",
       "      <th>mean_score</th>\n",
       "    </tr>\n",
       "  </thead>\n",
       "  <tbody>\n",
       "    <tr>\n",
       "      <th>0</th>\n",
       "      <td>1</td>\n",
       "      <td>1</td>\n",
       "      <td>-6.652457</td>\n",
       "    </tr>\n",
       "    <tr>\n",
       "      <th>1</th>\n",
       "      <td>51</td>\n",
       "      <td>1</td>\n",
       "      <td>-0.053937</td>\n",
       "    </tr>\n",
       "    <tr>\n",
       "      <th>2</th>\n",
       "      <td>101</td>\n",
       "      <td>1</td>\n",
       "      <td>-0.201374</td>\n",
       "    </tr>\n",
       "    <tr>\n",
       "      <th>3</th>\n",
       "      <td>151</td>\n",
       "      <td>1</td>\n",
       "      <td>-0.232204</td>\n",
       "    </tr>\n",
       "    <tr>\n",
       "      <th>4</th>\n",
       "      <td>201</td>\n",
       "      <td>1</td>\n",
       "      <td>-0.335360</td>\n",
       "    </tr>\n",
       "  </tbody>\n",
       "</table>\n",
       "</div>"
      ],
      "text/plain": [
       "  n_estimators max_depth  mean_score\n",
       "0            1         1   -6.652457\n",
       "1           51         1   -0.053937\n",
       "2          101         1   -0.201374\n",
       "3          151         1   -0.232204\n",
       "4          201         1   -0.335360"
      ]
     },
     "execution_count": 162,
     "metadata": {},
     "output_type": "execute_result"
    }
   ],
   "source": [
    "# we cast max_depth to str so that seaborn treats it like a category,\n",
    "# which is better for visuals\n",
    "results_df = pd.DataFrame({\n",
    "    \"n_estimators\": grid_xgb.cv_results_[\"param_n_estimators\"],\n",
    "    'max_depth': grid_xgb.cv_results_[\"param_max_depth\"].astype(str),\n",
    "    'mean_score': grid_xgb.cv_results_[\"mean_test_score\"]\n",
    "})\n",
    "\n",
    "results_df.head()"
   ]
  },
  {
   "cell_type": "code",
   "execution_count": 163,
   "id": "b3f69eba",
   "metadata": {
    "ExecuteTime": {
     "end_time": "2022-04-04T02:28:22.361534Z",
     "start_time": "2022-04-04T02:28:22.346574Z"
    }
   },
   "outputs": [],
   "source": [
    "# save the results of the data frame into a csv file\n",
    "results_df.to_csv('Data/capstone_XG_boost_results_df.csv')"
   ]
  },
  {
   "cell_type": "code",
   "execution_count": 164,
   "id": "23825be7",
   "metadata": {
    "ExecuteTime": {
     "end_time": "2022-04-04T02:28:22.675645Z",
     "start_time": "2022-04-04T02:28:22.362532Z"
    }
   },
   "outputs": [
    {
     "data": {
      "image/png": "[encoded data removed]",
      "text/plain": [
       "<Figure size 720x504 with 1 Axes>"
      ]
     },
     "metadata": {
      "needs_background": "light"
     },
     "output_type": "display_data"
    }
   ],
   "source": [
    "# plot the estimators, mean socre and max_depth\n",
    "plt.figure(figsize=(10, 7))\n",
    "sns.lineplot(x=\"n_estimators\", y=\"mean_score\", hue=\"max_depth\", data=results_df)\n",
    "plt.title(\"XGBoost performance over different max_depth and n_estimators values A Data\")\n",
    "\n",
    "#Save the plot\n",
    "#plt.savefig(\"/Users/Kolobane/Documents/BrainStation Data Science Course/Project Capstone/Plots/XG_Boost_hyperparameter_Range_A_data.png\")\n",
    "\n",
    "sns.despine()\n",
    "plt.show()"
   ]
  },
  {
   "cell_type": "code",
   "execution_count": 165,
   "id": "92889d6e",
   "metadata": {
    "ExecuteTime": {
     "end_time": "2022-04-04T02:28:22.691603Z",
     "start_time": "2022-04-04T02:28:22.676643Z"
    }
   },
   "outputs": [
    {
     "data": {
      "text/plain": [
       "XGBRegressor(base_score=0.5, booster='gbtree', colsample_bylevel=1,\n",
       "             colsample_bynode=1, colsample_bytree=1, enable_categorical=False,\n",
       "             gamma=0, gpu_id=-1, importance_type=None,\n",
       "             interaction_constraints='', learning_rate=0.300000012,\n",
       "             max_delta_step=0, max_depth=4, min_child_weight=1, missing=nan,\n",
       "             monotone_constraints='()', n_estimators=51, n_jobs=-1,\n",
       "             num_parallel_tree=1, predictor='auto', random_state=0, reg_alpha=0,\n",
       "             reg_lambda=1, scale_pos_weight=1, subsample=1, tree_method='exact',\n",
       "             validate_parameters=1, verbosity=None)"
      ]
     },
     "execution_count": 165,
     "metadata": {},
     "output_type": "execute_result"
    }
   ],
   "source": [
    "# Gives the best estimator\n",
    "grid_xgb.best_estimator_"
   ]
  },
  {
   "cell_type": "markdown",
   "id": "0ab42018",
   "metadata": {},
   "source": [
    "The best estimator for XGBoost:\n",
    "- n_estimator= 51\n",
    "- max_depth = 4"
   ]
  },
  {
   "cell_type": "markdown",
   "id": "9668b180",
   "metadata": {},
   "source": [
    "## **Run the results for the best values of the above hyperparameters**"
   ]
  },
  {
   "cell_type": "code",
   "execution_count": 166,
   "id": "708cb8bf",
   "metadata": {
    "ExecuteTime": {
     "end_time": "2022-04-04T02:28:40.971721Z",
     "start_time": "2022-04-04T02:28:22.692601Z"
    }
   },
   "outputs": [
    {
     "name": "stdout",
     "output_type": "stream",
     "text": [
      "[03:28:23] WARNING: C:/Users/Administrator/workspace/xgboost-win64_release_1.5.1/src/learner.cc:576: \n",
      "Parameters: { \"n_estimator\" } might not be used.\n",
      "\n",
      "  This could be a false alarm, with some parameters getting used by language bindings but\n",
      "  then being mistakenly passed down to XGBoost core, or some parameter actually being used\n",
      "  but getting flagged wrongly here. Please open an issue if you find any such cases.\n",
      "\n",
      "\n",
      "Train Set Scores:\n",
      "XG Boost Train score: 0.9999995585877149\n",
      "Test Set Scores:\n",
      "XG Boost Test score: 0.3846070168742757\n"
     ]
    }
   ],
   "source": [
    "# 1. initialize the model\n",
    "A_XGB_model = XGBRegressor(n_estimator= 51,max_depth = 4)\n",
    "\n",
    "# 2. fit on train\n",
    "A_XGB_model_fit = A_XGB_model.fit(X_A_train_ss, y_A_train)\n",
    "\n",
    "print(\"Train Set Scores:\")\n",
    "print(f\"XG Boost Train score: {A_XGB_model.score(X_A_train_ss, y_A_train)}\")\n",
    "\n",
    "print(\"Test Set Scores:\")\n",
    "print(f\"XG Boost Test score: {A_XGB_model.score(X_A_test_ss, y_A_test)}\")\n"
   ]
  },
  {
   "cell_type": "markdown",
   "id": "5e5ddb83",
   "metadata": {},
   "source": [
    "**Oberservatons:**\n",
    "- The best model for XG Boost but does not beat Lasso Regression"
   ]
  },
  {
   "cell_type": "markdown",
   "id": "d62cf5e1",
   "metadata": {},
   "source": [
    "---"
   ]
  },
  {
   "cell_type": "markdown",
   "id": "70554f67",
   "metadata": {},
   "source": [
    "## **Plot Predicit**"
   ]
  },
  {
   "cell_type": "markdown",
   "id": "24a9f68c",
   "metadata": {
    "ExecuteTime": {
     "end_time": "2022-04-03T18:52:09.806050Z",
     "start_time": "2022-04-03T18:52:09.792087Z"
    }
   },
   "source": [
    "Lets look at the Actual and Predict Values again and plot these side by side."
   ]
  },
  {
   "cell_type": "markdown",
   "id": "37bae555",
   "metadata": {},
   "source": [
    "### **A_Train/A_Test**"
   ]
  },
  {
   "cell_type": "code",
   "execution_count": 167,
   "id": "e69f14c3",
   "metadata": {
    "ExecuteTime": {
     "end_time": "2022-04-04T02:28:41.019592Z",
     "start_time": "2022-04-04T02:28:40.972718Z"
    }
   },
   "outputs": [],
   "source": [
    "A_XGB_model = A_XGB_model_fit.predict(X_A_test)"
   ]
  },
  {
   "cell_type": "code",
   "execution_count": 168,
   "id": "1fea093a",
   "metadata": {
    "ExecuteTime": {
     "end_time": "2022-04-04T02:28:41.178206Z",
     "start_time": "2022-04-04T02:28:41.020590Z"
    }
   },
   "outputs": [
    {
     "data": {
      "image/png": "[encoded data removed]",
      "text/plain": [
       "<Figure size 1152x864 with 2 Axes>"
      ]
     },
     "metadata": {},
     "output_type": "display_data"
    }
   ],
   "source": [
    "plt.figure(figsize=(16,12))\n",
    "\n",
    "plt.subplot(2,2,1)\n",
    "plt.plot(y_A_test, color='r')\n",
    "plt.xticks(())\n",
    "plt.yticks(())\n",
    "plt.title('XG Boost Actual Values C Data', fontsize=20)\n",
    "plt.xlabel('Time Line', fontsize=15)\n",
    "plt.ylabel('Share Price', fontsize=15)\n",
    "\n",
    "plt.subplot(2,2,2)\n",
    "plt.plot(A_XGB_model, color='b')\n",
    "plt.xticks(())\n",
    "plt.yticks(())\n",
    "plt.title('XG Boost Predict Values Data', fontsize=20)\n",
    "plt.xlabel('Time Line', fontsize=15)\n",
    "plt.ylabel('Share Price', fontsize=15)\n",
    "sns.despine()\n",
    "\n",
    "#Save the plot\n",
    "#plt.savefig(\"/Users/Kolobane/Documents/BrainStation Data Science Course/Project Capstone/Plots/XG_Boost_actual_value_Vs_predict_A_data.png\")\n",
    "\n",
    "plt.show();"
   ]
  },
  {
   "cell_type": "markdown",
   "id": "edb59980",
   "metadata": {},
   "source": [
    "### **B_Train/B_Test**"
   ]
  },
  {
   "cell_type": "code",
   "execution_count": 169,
   "id": "a2a86e7d",
   "metadata": {
    "ExecuteTime": {
     "end_time": "2022-04-04T02:28:41.382753Z",
     "start_time": "2022-04-04T02:28:41.180140Z"
    }
   },
   "outputs": [],
   "source": [
    "B_XGB_model = B_XGB_model.predict(X_B_test)"
   ]
  },
  {
   "cell_type": "code",
   "execution_count": 170,
   "id": "f15fd8a0",
   "metadata": {
    "ExecuteTime": {
     "end_time": "2022-04-04T02:28:41.539874Z",
     "start_time": "2022-04-04T02:28:41.383751Z"
    }
   },
   "outputs": [
    {
     "data": {
      "image/png": "[encoded data removed]",
      "text/plain": [
       "<Figure size 1152x864 with 2 Axes>"
      ]
     },
     "metadata": {},
     "output_type": "display_data"
    }
   ],
   "source": [
    "plt.figure(figsize=(16,12))\n",
    "\n",
    "plt.subplot(2,2,1)\n",
    "plt.plot(y_A_test, color='r')\n",
    "plt.xticks(())\n",
    "plt.yticks(())\n",
    "plt.title('XG Boost Actual Values C Data', fontsize=20)\n",
    "plt.xlabel('Time Line', fontsize=15)\n",
    "plt.ylabel('Share Price', fontsize=15)\n",
    "\n",
    "plt.subplot(2,2,2)\n",
    "plt.plot(B_XGB_model, color='b')\n",
    "plt.xticks(())\n",
    "plt.yticks(())\n",
    "plt.title('XG Boost Predict Values C Data', fontsize=20)\n",
    "plt.xlabel('Time Line', fontsize=15)\n",
    "plt.ylabel('Share Price', fontsize=15)\n",
    "sns.despine()\n",
    "\n",
    "#Save the plot\n",
    "#plt.savefig(\"/Users/Kolobane/Documents/BrainStation Data Science Course/Project Capstone/Plots/XG_Boost_actual_value_Vs_predict_B_data.png\")\n",
    "\n",
    "plt.show();"
   ]
  },
  {
   "cell_type": "markdown",
   "id": "09110b9a",
   "metadata": {},
   "source": [
    "**Observations:**\n",
    "- Again for Both XG Boost on A and B Time Range data we do not get good prediction values.\n",
    "- We see a little more variance in the data than Random Forest but nothing of any note."
   ]
  },
  {
   "cell_type": "markdown",
   "id": "8e66b9f1",
   "metadata": {
    "ExecuteTime": {
     "end_time": "2022-04-03T16:44:06.480535Z",
     "start_time": "2022-04-03T16:44:06.466570Z"
    }
   },
   "source": [
    "---\n",
    "---\n",
    "---"
   ]
  },
  {
   "cell_type": "markdown",
   "id": "006619a5",
   "metadata": {},
   "source": [
    "# **Sentiment Analysis: Vader Sentiment**"
   ]
  },
  {
   "cell_type": "markdown",
   "id": "55f9f1ca",
   "metadata": {},
   "source": [
    "VADER (Valence Aware Dictionary for Sentiment Reasoning) is a model used for text sentiment analysis that is specficially attuned to sentiments in social media, which our Reddit data is. \n",
    "<br><br>\n",
    "VADER's SentimentIntensityAnalyzer() takes in a string and returns a dictionary of scores in each of four categories:\n",
    "- Negative\n",
    "- neutral\n",
    "- positive\n",
    "- compound (normalized by the scores above)"
   ]
  },
  {
   "cell_type": "code",
   "execution_count": 171,
   "id": "04988fc4",
   "metadata": {
    "ExecuteTime": {
     "end_time": "2022-04-04T02:28:41.694779Z",
     "start_time": "2022-04-04T02:28:41.543869Z"
    }
   },
   "outputs": [
    {
     "name": "stdout",
     "output_type": "stream",
     "text": [
      "10 hours a day- for months - i have been reading all of gme/superstonk. im addicted to ya all🤣love you! and thank you❤️ {'neg': 0.0, 'neu': 0.912, 'pos': 0.088, 'compound': 0.4199}\n",
      "mmex resources up 175% today is this the next gme---------------- {'neg': 0.0, 'neu': 1.0, 'pos': 0.0, 'compound': 0.0}\n",
      "am i f*****? 100$ into gme rn------------------------------------ {'neg': 0.0, 'neu': 1.0, 'pos': 0.0, 'compound': 0.0}\n",
      "did anyone else get a random sale from robinhood? i had a limit order on my gme and it just randomly sold for like $290. {'neg': 0.0, 'neu': 0.906, 'pos': 0.094, 'compound': 0.3612}\n",
      "#yolo thread. so i submitted the order on 1250 shares of $nok and they will be done at 9 30 eastern after open. i'm also holding a $gme 22 shares that you can find photo in my profile cause for some reason i cant upload photos to wsb. that's i'm talking to you that you must hold as a lot of others. {'neg': 0.0, 'neu': 0.901, 'pos': 0.099, 'compound': 0.6705}\n",
      "why robinhood was forced to put gme/amc in liquidation only, and how the fed might be forced to step in {'neg': 0.25, 'neu': 0.75, 'pos': 0.0, 'compound': -0.7184}\n",
      "gme general meeting, proxy voting and institutional lenders------ {'neg': 0.0, 'neu': 1.0, 'pos': 0.0, 'compound': 0.0}\n",
      "open gme call options total 46m shares from today through 7/16/21... {'neg': 0.0, 'neu': 0.801, 'pos': 0.199, 'compound': 0.3566}\n",
      "please list broker apps that will let you buy amc, nok, gme, bb??? robinhood is fucked. {'neg': 0.233, 'neu': 0.659, 'pos': 0.108, 'compound': -0.5632}\n",
      "i’m doing my part! gme to the moon!🚀🚀---------------------------- {'neg': 0.0, 'neu': 1.0, 'pos': 0.0, 'compound': 0.0}\n",
      "everyone buy $nok let's make it thr next gamestop---------------- {'neg': 0.0, 'neu': 1.0, 'pos': 0.0, 'compound': 0.0}\n",
      "+$13,237 on trading this week. gme helped but wasn’t all of it.-- {'neg': 0.0, 'neu': 1.0, 'pos': 0.0, 'compound': 0.0}\n",
      "while y'all jerking to gme, pltr is ready for launch. jan 26th is demo day. 600 shares and 10 $40c in 2022 and 2023 {'neg': 0.0, 'neu': 0.824, 'pos': 0.176, 'compound': 0.5719}\n",
      "#gme gamestop buys luca designs with money from wallstreet acceleration. review strategy {'neg': 0.0, 'neu': 1.0, 'pos': 0.0, 'compound': 0.0}\n",
      "gamestop chief customer officer - frank hamlin - resigning 31st march {'neg': 0.16, 'neu': 0.84, 'pos': 0.0, 'compound': -0.2263}\n",
      "robinhood won’t let me buy gme where do i go--------------------- {'neg': 0.0, 'neu': 1.0, 'pos': 0.0, 'compound': 0.0}\n",
      "one way to explain gme price spike------------------------------- {'neg': 0.0, 'neu': 1.0, 'pos': 0.0, 'compound': 0.0}\n",
      "$gmer nft news +100%--------------------------------------------- {'neg': 0.0, 'neu': 1.0, 'pos': 0.0, 'compound': 0.0}\n",
      "remember when rentech bought into gme? here is an easy video explaining more about their historic returns based on their supreme positioning {'neg': 0.0, 'neu': 0.755, 'pos': 0.245, 'compound': 0.7579}\n",
      "$gme number 2 on reddit over the past 72 hours.------------------ {'neg': 0.0, 'neu': 0.874, 'pos': 0.126, 'compound': 0.0772}\n",
      "18 shares gme, 15 shares coin, 8 shares sos holding strong 💪 let’s go fellow apes when gme pumping 🚀🚀🚀🚀😎 {'neg': 0.0, 'neu': 0.641, 'pos': 0.359, 'compound': 0.8979}\n",
      "gme right now.--------------------------------------------------- {'neg': 0.0, 'neu': 1.0, 'pos': 0.0, 'compound': 0.0}\n",
      "should i sell my gamestop stock ?-------------------------------- {'neg': 0.0, 'neu': 1.0, 'pos': 0.0, 'compound': 0.0}\n",
      "right now a gme debit spread 45 long/48 short strikes cost 2 dollars... the delta on both of these calls is 1... which suggests the probability of them expiring itm is 100%... does that mean this debit spread is free money basically??? {'neg': 0.054, 'neu': 0.863, 'pos': 0.083, 'compound': 0.327}\n",
      "why is gme- gamestop banned on wallstreetbets ?------------------ {'neg': 0.3, 'neu': 0.7, 'pos': 0.0, 'compound': -0.4588}\n",
      "gamestop saga inspires generation z to take up investing--------- {'neg': 0.0, 'neu': 0.734, 'pos': 0.266, 'compound': 0.4404}\n",
      "gme trading restrictions march 18, 2021-------------------------- {'neg': 0.0, 'neu': 1.0, 'pos': 0.0, 'compound': 0.0}\n",
      "everyone on this sub now - btw buy more gme 🚀🚀🚀💎👐---------------- {'neg': 0.0, 'neu': 1.0, 'pos': 0.0, 'compound': 0.0}\n",
      "gme needs to split----------------------------------------------- {'neg': 0.0, 'neu': 1.0, 'pos': 0.0, 'compound': 0.0}\n",
      "trading212 has started allowing gme & amc buys! it’s back on 🚀🚀-- {'neg': 0.0, 'neu': 1.0, 'pos': 0.0, 'compound': 0.0}\n",
      "when the news says due to gme massive sell off, they had to halt it,...... but i only buyed more & hodled. {'neg': 0.0, 'neu': 1.0, 'pos': 0.0, 'compound': 0.0}\n",
      "game theory and the psychology of the gme squeeze---------------- {'neg': 0.0, 'neu': 1.0, 'pos': 0.0, 'compound': 0.0}\n",
      "i hope gme drops value... so i can buy more.--------------------- {'neg': 0.0, 'neu': 0.602, 'pos': 0.398, 'compound': 0.6486}\n",
      "1 month on the $gme rollercoaster-------------------------------- {'neg': 0.0, 'neu': 1.0, 'pos': 0.0, 'compound': 0.0}\n",
      "mfw having read so much dd, i can convince 5 people at any given moment to buy $gme. {'neg': 0.0, 'neu': 0.895, 'pos': 0.105, 'compound': 0.25}\n",
      "$gme seems to have halted trading at double rocket digits 🚀 69 🚀 69. {'neg': 0.0, 'neu': 1.0, 'pos': 0.0, 'compound': 0.0}\n",
      "just some ape idea i had - gamestop rentable \"time travel game rooms\" {'neg': 0.0, 'neu': 1.0, 'pos': 0.0, 'compound': 0.0}\n",
      "gme back on rh! buy! hold!--------------------------------------- {'neg': 0.0, 'neu': 1.0, 'pos': 0.0, 'compound': 0.0}\n",
      "gme-------------------------------------------------------------- {'neg': 0.0, 'neu': 1.0, 'pos': 0.0, 'compound': 0.0}\n",
      "hold the fucking line, you classy retards. gme 10,000 💎✋🏻🚀🚀------ {'neg': 0.0, 'neu': 0.715, 'pos': 0.285, 'compound': 0.7479}\n",
      "should we still be holding gme/amc???????------------------------ {'neg': 0.0, 'neu': 1.0, 'pos': 0.0, 'compound': 0.0}\n",
      "gamestop announces voluntary early redemption of senior notes---- {'neg': 0.0, 'neu': 1.0, 'pos': 0.0, 'compound': 0.0}\n",
      "cramer says hodl gme! 🚀🚀💎---------------------------------------- {'neg': 0.0, 'neu': 1.0, 'pos': 0.0, 'compound': 0.0}\n",
      "gme leftovers moved to nakd-------------------------------------- {'neg': 0.0, 'neu': 1.0, 'pos': 0.0, 'compound': 0.0}\n",
      "highest volume gme calls expiring today at 4pm------------------- {'neg': 0.0, 'neu': 1.0, 'pos': 0.0, 'compound': 0.0}\n",
      "you can still trade #gme #nok @ fidelidy!------------------------ {'neg': 0.0, 'neu': 1.0, 'pos': 0.0, 'compound': 0.0}\n",
      "wall street is collecting money for gme holders apes------------- {'neg': 0.0, 'neu': 1.0, 'pos': 0.0, 'compound': 0.0}\n",
      "buy gme or amc or nakd?------------------------------------------ {'neg': 0.0, 'neu': 1.0, 'pos': 0.0, 'compound': 0.0}\n",
      "assignment for those who love gme-------------------------------- {'neg': 0.0, 'neu': 0.543, 'pos': 0.457, 'compound': 0.6369}\n",
      "today’s “move over gamestop” - are they just copy/pasting the same article everyday??? 😂 {'neg': 0.085, 'neu': 0.719, 'pos': 0.195, 'compound': 0.533}\n",
      "gme 🦍🦍🦍🦍🚀🚀🚀🚀----------------------------------------------------- {'neg': 0.0, 'neu': 1.0, 'pos': 0.0, 'compound': 0.0}\n",
      "gme $50 call contract that expires today. you can see both the roc and macd started turning positive 02/18 around 1pm. the contract expires tomorrow and we had over 30,000 contracts traded. this is a positive inflow & everything points to gme going over $50 today representing a 25% gain 🚀 {'neg': 0.0, 'neu': 0.819, 'pos': 0.181, 'compound': 0.891}\n",
      "i’m with portnoy. unblock amc, bb, and gme.---------------------- {'neg': 0.0, 'neu': 1.0, 'pos': 0.0, 'compound': 0.0}\n",
      "🤍🎼gamestop 🎶🖤---------------------------------------------------- {'neg': 0.0, 'neu': 0.588, 'pos': 0.412, 'compound': 0.6369}\n",
      "proof i dropped half my tax return on gme @ 119 averaging up boys 🤙🏻 {'neg': 0.0, 'neu': 0.856, 'pos': 0.144, 'compound': 0.4939}\n",
      "what are the best serious brokers to buy gme? they should allow extended and pre market trading with no commission {'neg': 0.137, 'neu': 0.625, 'pos': 0.238, 'compound': 0.5574}\n",
      "ive never seen so much karma and awards passed around, the community banning together, making stonks..thank you all for this amazing experience no matter what happens! to the moon gme! {'neg': 0.03, 'neu': 0.747, 'pos': 0.224, 'compound': 0.8406}\n",
      "out of the loop with gme----------------------------------------- {'neg': 0.0, 'neu': 1.0, 'pos': 0.0, 'compound': 0.0}\n",
      "“now i have gme calls” - dfv tribute----------------------------- {'neg': 0.0, 'neu': 1.0, 'pos': 0.0, 'compound': 0.0}\n",
      "will gme dip again?---------------------------------------------- {'neg': 0.0, 'neu': 1.0, 'pos': 0.0, 'compound': 0.0}\n",
      "gme halted------------------------------------------------------- {'neg': 0.0, 'neu': 1.0, 'pos': 0.0, 'compound': 0.0}\n",
      "is msrt(massroots) the next gamestop?---------------------------- {'neg': 0.0, 'neu': 1.0, 'pos': 0.0, 'compound': 0.0}\n",
      "gme new position.. thinking about doubling it afterhours. thoughts? please excuse shitty ass robinhood, their existence in my life is limited.. {'neg': 0.315, 'neu': 0.559, 'pos': 0.126, 'compound': -0.7506}\n",
      "can i resell gme on stock x?------------------------------------- {'neg': 0.0, 'neu': 1.0, 'pos': 0.0, 'compound': 0.0}\n",
      "is owning a gamestop share on robinhood risky?------------------- {'neg': 0.18, 'neu': 0.6, 'pos': 0.22, 'compound': 0.1027}\n",
      "gme sub is mainly used to gain karma!---------------------------- {'neg': 0.0, 'neu': 0.655, 'pos': 0.345, 'compound': 0.5707}\n",
      "gme that doge - amateur dd lite tinfoil hat---------------------- {'neg': 0.0, 'neu': 1.0, 'pos': 0.0, 'compound': 0.0}\n",
      "gme turnover ratio at 93%!? rocket is fueled, primed, and waiting for ignition {'neg': 0.0, 'neu': 1.0, 'pos': 0.0, 'compound': 0.0}\n",
      "gme board here is my plan for how to launch gamestop's game delivery engine: #bringbacknapster {'neg': 0.0, 'neu': 1.0, 'pos': 0.0, 'compound': 0.0}\n",
      "gme u beauty. i sold 10 when it was inly £120 😭------------------ {'neg': 0.164, 'neu': 0.635, 'pos': 0.201, 'compound': 0.1779}\n",
      "active duty military that dropped his entire life savings into gme. first pic is morning of jan 28. right is current. still hodling 💎🤲 {'neg': 0.0, 'neu': 0.909, 'pos': 0.091, 'compound': 0.4019}\n",
      "pcg the most shorted stock behind gme---------------------------- {'neg': 0.0, 'neu': 1.0, 'pos': 0.0, 'compound': 0.0}\n",
      "the removed gme from robinhood. wtf------------------------------ {'neg': 0.432, 'neu': 0.568, 'pos': 0.0, 'compound': -0.5859}\n",
      "gme 183 afterhours----------------------------------------------- {'neg': 0.0, 'neu': 1.0, 'pos': 0.0, 'compound': 0.0}\n",
      "rocking exmico6835's gme livery only from now on... i love it! i'm not sure what their reddit username is, or if they're even on this subreddit (cant post on superstonk) but thank you 👏🦧 drs!! {'neg': 0.036, 'neu': 0.801, 'pos': 0.163, 'compound': 0.7387}\n",
      "gme go brrr 🚀🚀🚀🚀------------------------------------------------- {'neg': 0.0, 'neu': 1.0, 'pos': 0.0, 'compound': 0.0}\n",
      "summarisation of mechanics behind the ongoing gamestop short squeeze {'neg': 0.0, 'neu': 1.0, 'pos': 0.0, 'compound': 0.0}\n",
      "been trying to work out how they dropped the price so quick without it showing in l2 data. i guess they shorted xrt (the main etf gme is in) massively to the tune of 500k. this is why ssr. doesn’t matter they just short the etf and still affect the price. {'neg': 0.0, 'neu': 0.978, 'pos': 0.022, 'compound': 0.0258}\n",
      "sitting in the car on a beautiful ride and shit posting all day. i take my gamestop bag with me wherever i go {'neg': 0.126, 'neu': 0.737, 'pos': 0.137, 'compound': 0.0772}\n",
      "unpopular opinion: the other \"meme stocks\" are good for gme------ {'neg': 0.0, 'neu': 0.756, 'pos': 0.244, 'compound': 0.4404}\n",
      "why don't people short any potential gme spike?------------------ {'neg': 0.0, 'neu': 1.0, 'pos': 0.0, 'compound': 0.0}\n",
      "mj jersey upgrade for gamestop - if you make it, i will buy it.-- {'neg': 0.0, 'neu': 1.0, 'pos': 0.0, 'compound': 0.0}\n",
      "this article came out today, they must be mistaking our retardedness for weakness. we will never forget about gme, this isn’t a stock anymore, it’s a revolution!✊🏻✊🏼✊🏽✊🏾✊🏿✊ {'neg': 0.09, 'neu': 0.881, 'pos': 0.029, 'compound': -0.5463}\n",
      "gme from a squeeze perspective on wednesday 1/19 trading day, not long term dd perspective. {'neg': 0.0, 'neu': 1.0, 'pos': 0.0, 'compound': 0.0}\n",
      "if everyone in this group purchases just 10 shares of gme, it could cause the price to rise to $2,500... according to uncle bruce. 🙀🍌🦍💰 {'neg': 0.063, 'neu': 0.871, 'pos': 0.066, 'compound': 0.0258}\n",
      "paper handed child does childish paper handed thing. 10 y/o child cashes in gme stock early for 5.3k profit. lack of foresight and experience to blame for mistake. diamond man hands could have had so much more... {'neg': 0.204, 'neu': 0.68, 'pos': 0.116, 'compound': -0.4588}\n",
      "$gme buy now only at $270 gonna fly back up---------------------- {'neg': 0.0, 'neu': 1.0, 'pos': 0.0, 'compound': 0.0}\n",
      "white house refuses to address gamestop controversy-------------- {'neg': 0.0, 'neu': 1.0, 'pos': 0.0, 'compound': 0.0}\n",
      "i just received this alert from etrade. never received any notice like this before... “gme is in play “ {'neg': 0.0, 'neu': 0.684, 'pos': 0.316, 'compound': 0.7506}\n",
      "when non-apes try to hold a rational conversation with you re gme and you passive aggressively deliver a poorly scaled down, incoherent and confusing 45-minute verbal shitstorm to them with veins popping out of your forehead; only to receive the inevitable “you could lose it all” counter argument. {'neg': 0.173, 'neu': 0.793, 'pos': 0.033, 'compound': -0.765}\n",
      "list of brokers that will still allow gme to be traded freely---- {'neg': 0.0, 'neu': 0.676, 'pos': 0.324, 'compound': 0.5859}\n",
      "its only a loss if i sell. gme to the moon 🚀🚀🚀🚀🚀💎🤲 (also revolut uk sell only on gme 🤬🤬🤬🤬) {'neg': 0.047, 'neu': 0.953, 'pos': 0.0, 'compound': -0.3182}\n",
      "bbby > gme------------------------------------------------------- {'neg': 0.0, 'neu': 1.0, 'pos': 0.0, 'compound': 0.0}\n",
      "just found out robinhood barred of sales on gme and other wsb stocks .. {'neg': 0.0, 'neu': 1.0, 'pos': 0.0, 'compound': 0.0}\n",
      "all gme shares matter!!! gme------------------------------------- {'neg': 0.0, 'neu': 0.418, 'pos': 0.582, 'compound': 0.4898}\n",
      "they want to halt trading on gme for 30 days. we'll show you what small and unsophisticated can do you slimy fucks {'neg': 0.207, 'neu': 0.742, 'pos': 0.051, 'compound': -0.6124}\n",
      "🚀🚀🚀📈 #amc #gme #nok---------------------------------------------- {'neg': 0.0, 'neu': 1.0, 'pos': 0.0, 'compound': 0.0}\n",
      "🥵🥵 personal gme chart predicting 🥵🥵 not a financial advice------- {'neg': 0.0, 'neu': 1.0, 'pos': 0.0, 'compound': 0.0}\n",
      "gme be like...--------------------------------------------------- {'neg': 0.0, 'neu': 0.444, 'pos': 0.556, 'compound': 0.3612}\n",
      "happy for wsb & gme success.------------------------------------- {'neg': 0.0, 'neu': 0.351, 'pos': 0.649, 'compound': 0.8126}\n",
      "people that made money on gme better go spend some at the stores. don’t be hypocrites!!!! {'neg': 0.0, 'neu': 0.787, 'pos': 0.213, 'compound': 0.6209}\n",
      "gme rap god 🚀---------------------------------------------------- {'neg': 0.0, 'neu': 0.588, 'pos': 0.412, 'compound': 0.2732}\n",
      "lets push nokia and gme today together 🚀🚀🚀🚀---------------------- {'neg': 0.0, 'neu': 1.0, 'pos': 0.0, 'compound': 0.0}\n",
      "gme gains landed me to #3 top investor list on sofi. had to represent this awesome community! 💎🙌🏽🚀🌕 {'neg': 0.0, 'neu': 0.719, 'pos': 0.281, 'compound': 0.8544}\n",
      "people on robinhood who own gme are most likely to also own bb and pltr in their portfolio. 😂 🚀🚀🚀 {'neg': 0.064, 'neu': 0.808, 'pos': 0.128, 'compound': 0.4404}\n",
      "my personal opinion on gme there is no possible way the shorts have covered. most of them likely “averaged down” but a few of them “doubled down” there is blood in the water 🩸 🦈 {'neg': 0.045, 'neu': 0.955, 'pos': 0.0, 'compound': -0.1531}\n",
      "there is always a bigger fish #1dollardoge #gamestop------------- {'neg': 0.0, 'neu': 1.0, 'pos': 0.0, 'compound': 0.0}\n",
      "🧻✋ redditor (blurred out name) with no investing knowledge decides to yolo his entire savings of $10k into gme. we ended up chatting on reddit and i gave him words of encouragement to hold. i present to you some delicious schadenfreude stemming from this 🧻✋'s regret. {'neg': 0.077, 'neu': 0.741, 'pos': 0.182, 'compound': 0.7783}\n",
      "fuck the shorts. gme ———> 🌝 🚀🚀🚀🚀 diamond hands people, youll be able to kick your wifes boyfriend out of the house 💎💎💎🙌🙌💪💪 {'neg': 0.078, 'neu': 0.869, 'pos': 0.053, 'compound': -0.2732}\n",
      "this is why chamath is my goto guy for everything in life ($gme gamestop full cnbc interview chamath palihapitiya ) {'neg': 0.0, 'neu': 1.0, 'pos': 0.0, 'compound': 0.0}\n",
      "i like gamestop-------------------------------------------------- {'neg': 0.0, 'neu': 0.444, 'pos': 0.556, 'compound': 0.3612}\n",
      "shf plans to bring the whole economy down to bury gme and all apes {'neg': 0.0, 'neu': 1.0, 'pos': 0.0, 'compound': 0.0}\n",
      "i could have bought a share of gme for what it cost to remove the watermark on this...🚀🚀🚀 {'neg': 0.0, 'neu': 0.901, 'pos': 0.099, 'compound': 0.296}\n",
      "gme lego vs gme 5yr...looking awfully similar!------------------- {'neg': 0.0, 'neu': 1.0, 'pos': 0.0, 'compound': 0.0}\n",
      "another tweet from gamestop! shitadel must be upgrading their computers with better graphics for the 🚀🚀🚀🚀🚀🚀🚀 {'neg': 0.0, 'neu': 0.868, 'pos': 0.132, 'compound': 0.4926}\n",
      "hedges are fucked. gme go brrrr.--------------------------------- {'neg': 0.468, 'neu': 0.532, 'pos': 0.0, 'compound': -0.6597}\n",
      "where can i purchase gme now?------------------------------------ {'neg': 0.0, 'neu': 1.0, 'pos': 0.0, 'compound': 0.0}\n",
      "gme apes ready to break on through------------------------------- {'neg': 0.0, 'neu': 0.706, 'pos': 0.294, 'compound': 0.3612}\n",
      "today is my cakeday and also the first day of our journey to the moon... coincidence? i think not. buy gme retards🦧🦧🚀🚀🚀🚀 {'neg': 0.0, 'neu': 1.0, 'pos': 0.0, 'compound': 0.0}\n",
      "initial rise in gme stock price---------------------------------- {'neg': 0.0, 'neu': 1.0, 'pos': 0.0, 'compound': 0.0}\n",
      "🚀the gme saga nft collection 🦍we have been working on an nft art project to try and express this epic saga the best way we possibly can. i hope you apes like it! {'neg': 0.0, 'neu': 0.752, 'pos': 0.248, 'compound': 0.8718}\n",
      "footage of diamond handed apes jumping to action to buy up every dip. $gme ✊🏼💎🦍🚀 {'neg': 0.0, 'neu': 0.902, 'pos': 0.098, 'compound': 0.34}\n",
      "thanks to wsb, $gme will soon become really rich!---------------- {'neg': 0.0, 'neu': 0.497, 'pos': 0.503, 'compound': 0.7955}\n",
      "🚀🚀🚀gme,amc and other meme stocks will be added to the large cap russell 1000 index🦍💎 and what would you think???🚀🚀🚀 {'neg': 0.0, 'neu': 1.0, 'pos': 0.0, 'compound': 0.0}\n",
      "current gme level 2. 300 buy wall and 350 sell wall.------------- {'neg': 0.0, 'neu': 1.0, 'pos': 0.0, 'compound': 0.0}\n",
      "gme take off.---------------------------------------------------- {'neg': 0.0, 'neu': 1.0, 'pos': 0.0, 'compound': 0.0}\n",
      "i put in $17,530 on 10x gme 1/29 115c, i'm all in boys.---------- {'neg': 0.0, 'neu': 1.0, 'pos': 0.0, 'compound': 0.0}\n",
      "how is it possible that gme again closed day on exactly 60.00?--- {'neg': 0.0, 'neu': 1.0, 'pos': 0.0, 'compound': 0.0}\n",
      "robinhood allowing buys of gme but no fractional shares---------- {'neg': 0.423, 'neu': 0.577, 'pos': 0.0, 'compound': -0.6288}\n",
      "gme is the way, holding in the storm.---------------------------- {'neg': 0.0, 'neu': 1.0, 'pos': 0.0, 'compound': 0.0}\n",
      "i think we can drop all those shorts. we did it on gme and amc now let's do it in nok forward forward forward {'neg': 0.084, 'neu': 0.916, 'pos': 0.0, 'compound': -0.2732}\n",
      "gme bb nok------------------------------------------------------- {'neg': 0.0, 'neu': 1.0, 'pos': 0.0, 'compound': 0.0}\n",
      "part ii - gme congressional hearing is scheduled for march 17th @10am et. {'neg': 0.0, 'neu': 1.0, 'pos': 0.0, 'compound': 0.0}\n",
      "buying another .66 in the morning to drop my average to around $196 a share /: #allinongme {'neg': 0.214, 'neu': 0.68, 'pos': 0.107, 'compound': -0.296}\n",
      "my 2 cents on $$gme aka game stonks - go easy on me apes... i love yall yo {'neg': 0.0, 'neu': 0.693, 'pos': 0.307, 'compound': 0.7964}\n",
      "forget about amc just focus on gme, they are trying to distract us {'neg': 0.272, 'neu': 0.728, 'pos': 0.0, 'compound': -0.4767}\n",
      "when gme finally starts heading to the 🚀🌖and all your friends start blowin up your 📲 “how’d you know🧠” like i havent been 🗣 how i like the stock 💎🙌🏻 for the past 5 months. {'neg': 0.0, 'neu': 0.85, 'pos': 0.15, 'compound': 0.7964}\n",
      "buying the dip. gme at open or wait for?------------------------- {'neg': 0.0, 'neu': 1.0, 'pos': 0.0, 'compound': 0.0}\n",
      "the gamestop stock situation------------------------------------- {'neg': 0.0, 'neu': 1.0, 'pos': 0.0, 'compound': 0.0}\n",
      "gme’s weight in xrt - recreating the basket---------------------- {'neg': 0.0, 'neu': 1.0, 'pos': 0.0, 'compound': 0.0}\n",
      "trading 212 still lets you trade gme amc------------------------- {'neg': 0.0, 'neu': 1.0, 'pos': 0.0, 'compound': 0.0}\n",
      "sndl🚀🚀🚀🚀🚀 restrictions lifted!!!! 66 mill short!!! golden cross!!!! gme hold!!! amc buy and hold!!!! restrictions and halts, 2 in 3 min, brought it down but even with limited shares it came up!!!! {'neg': 0.057, 'neu': 0.847, 'pos': 0.096, 'compound': 0.3855}\n",
      "hold that gme. but $5 in doge is 100 shares. help out------------ {'neg': 0.0, 'neu': 0.612, 'pos': 0.388, 'compound': 0.7469}\n",
      "just sold my tsla shares at +420% to get more gme! 🚀💎👏----------- {'neg': 0.0, 'neu': 0.858, 'pos': 0.142, 'compound': 0.3595}\n",
      "can we create a list of brokers that halted gme?----------------- {'neg': 0.0, 'neu': 0.811, 'pos': 0.189, 'compound': 0.2732}\n",
      "good morning america i’m drunk as fuck and this is your pre-market reading... first off let me say good job gme on being up 3% pre-market. now who’s ready for another crazy and exciting week of gme {'neg': 0.167, 'neu': 0.602, 'pos': 0.231, 'compound': 0.4939}\n",
      "some gme porn to get you chubby---------------------------------- {'neg': 0.0, 'neu': 1.0, 'pos': 0.0, 'compound': 0.0}\n",
      "wrote a 107 page paper in my mba capstone course on gamestop's future just for this subreddit of self-proclaimed degenerates to prove it wrong 1 year later... {'neg': 0.107, 'neu': 0.893, 'pos': 0.0, 'compound': -0.4767}\n",
      "fox news front page, two articles about $gme and robinhood! keep holding retards!!🚀💎🚀💎 {'neg': 0.0, 'neu': 1.0, 'pos': 0.0, 'compound': 0.0}\n",
      "buy, hodl, and chill. i’m 100% yolo on gme along with my fellow apes. to calm down your smooth brains: the longer this takes, the higher the rocket will fly. “the stock market is a device to transfer wealth from the impatient to the patient” -warren (all you can eat) buffet {'neg': 0.039, 'neu': 0.827, 'pos': 0.134, 'compound': 0.6597}\n",
      "stop day trading the damn gme!!! if you know someone that isn't on here that may be doing this, tell them to knock it off!!! every stonk counts. mewn. 👍 {'neg': 0.173, 'neu': 0.827, 'pos': 0.0, 'compound': -0.7243}\n",
      "shitadel token - get your $doodoo while it’s hot! 💩💩 defi meme fixed supply token crowdsourcing an options strategy 🤑🤑 5% of all buys will be used to purchase put options on $hood 📉📉 and call options on $gme & $amc 📈📈 with gains used to buy back tokens. 🚀🚀 check out the website shitadel.io {'neg': 0.0, 'neu': 0.962, 'pos': 0.038, 'compound': 0.4003}\n",
      "no worries, everyone! gme has got us.---------------------------- {'neg': 0.0, 'neu': 0.696, 'pos': 0.304, 'compound': 0.3867}\n",
      "robinhood re-opens gme at $311----------------------------------- {'neg': 0.0, 'neu': 1.0, 'pos': 0.0, 'compound': 0.0}\n",
      "turn on cnbc now - gme------------------------------------------- {'neg': 0.0, 'neu': 1.0, 'pos': 0.0, 'compound': 0.0}\n",
      "fucking updates - price action $gme------------------------------ {'neg': 0.0, 'neu': 1.0, 'pos': 0.0, 'compound': 0.0}\n",
      "gme halted at $78 we will see $100+ today apes! 🚀🚀🚀🚀🚀🚀🚀---------- {'neg': 0.0, 'neu': 1.0, 'pos': 0.0, 'compound': 0.0}\n",
      "go long amc and go short gme - over the past month those who went in the direction of sentiment for the top 2 tickers which had the least daily price change on r/options made a 3x monthly return with some volatility. {'neg': 0.0, 'neu': 0.958, 'pos': 0.042, 'compound': 0.2023}\n",
      "just doing my part, gme------------------------------------------ {'neg': 0.0, 'neu': 1.0, 'pos': 0.0, 'compound': 0.0}\n",
      "after $gme we must close our robinhood account------------------- {'neg': 0.0, 'neu': 1.0, 'pos': 0.0, 'compound': 0.0}\n",
      "holy shit did you see gamestop----------------------------------- {'neg': 0.419, 'neu': 0.581, 'pos': 0.0, 'compound': -0.5574}\n",
      "will you hold for a monday am boom or will you liquidate gme for good? {'neg': 0.0, 'neu': 0.828, 'pos': 0.172, 'compound': 0.4404}\n",
      "need a support group? took a gme l? let’s navigate this l together and end up stronger than ever! {'neg': 0.0, 'neu': 0.629, 'pos': 0.371, 'compound': 0.8574}\n",
      "i've been unemployed for a year. got a job two weeks ago and got my first check today bought a gme stock to join the cause! hold fast brethern! {'neg': 0.0, 'neu': 0.91, 'pos': 0.09, 'compound': 0.4184}\n",
      "this is the way gme bb ame--------------------------------------- {'neg': 0.0, 'neu': 1.0, 'pos': 0.0, 'compound': 0.0}\n",
      "was the last dip reenforced due to gme shares unloaded?---------- {'neg': 0.0, 'neu': 0.804, 'pos': 0.196, 'compound': 0.296}\n",
      "any python devs able to make an obv disparity indicator for gme?- {'neg': 0.0, 'neu': 1.0, 'pos': 0.0, 'compound': 0.0}\n",
      "anyone talking about anything but gme and buying more should be banned {'neg': 0.286, 'neu': 0.714, 'pos': 0.0, 'compound': -0.6592}\n",
      "gme - be fearful when others are greedy and be greedy only when others are fearful💎🤲 {'neg': 0.393, 'neu': 0.607, 'pos': 0.0, 'compound': -0.875}\n",
      "i got $100 (£72). do i go amc, bb or fractional gme? first time buying stock but fuck the hedge fund, we going to the fucking moon 🚀🚀🚀 {'neg': 0.141, 'neu': 0.859, 'pos': 0.0, 'compound': -0.6956}\n",
      "google is deleting reviews for rh after their market manipulation. time to rewrite em while we are all bathe in billionaire's tears. positions: gme and nok stonks. {'neg': 0.141, 'neu': 0.859, 'pos': 0.0, 'compound': -0.4767}\n",
      "aoc regarding the robinhood freeze of gme------------------------ {'neg': 0.0, 'neu': 0.833, 'pos': 0.167, 'compound': 0.0516}\n",
      "dogecoin scam; we need these idiots buying dogecoin to buy gme instead!!! {'neg': 0.294, 'neu': 0.706, 'pos': 0.0, 'compound': -0.6784}\n",
      "hold gme, hold nok, hold bb, hold amc!!!!!!---------------------- {'neg': 0.0, 'neu': 1.0, 'pos': 0.0, 'compound': 0.0}\n",
      "gamestop tanking post-market?------------------------------------ {'neg': 0.0, 'neu': 1.0, 'pos': 0.0, 'compound': 0.0}\n",
      "$gameofgme------------------------------------------------------- {'neg': 0.0, 'neu': 1.0, 'pos': 0.0, 'compound': 0.0}\n",
      "tastyworks falling in line, closing only allowed on gme and acm-- {'neg': 0.138, 'neu': 0.862, 'pos': 0.0, 'compound': -0.1531}\n",
      "putting my life savings into $gme🚀🚀------------------------------ {'neg': 0.0, 'neu': 1.0, 'pos': 0.0, 'compound': 0.0}\n",
      "in 2020 i saved up 15k from working my ass off and not spending money. monday i spent 2k on gme. today i spent the rest. gme to the moon 🚀🚀🚀🚀🚀🚀 {'neg': 0.087, 'neu': 0.844, 'pos': 0.069, 'compound': -0.1779}\n",
      "gme yolo update 2/26/21 - if i can hold you apes can hold too! 💎👐🏻🚀 {'neg': 0.0, 'neu': 0.898, 'pos': 0.102, 'compound': 0.3382}\n",
      "hold gme--------------------------------------------------------- {'neg': 0.0, 'neu': 1.0, 'pos': 0.0, 'compound': 0.0}\n",
      "please send dd to convince my cousin to atleast buy one share of gamestop {'neg': 0.0, 'neu': 0.629, 'pos': 0.371, 'compound': 0.6705}\n",
      "i said i will get a stonk tat once the stock i like hits 1k or more!!! gme 🚀 {'neg': 0.0, 'neu': 0.842, 'pos': 0.158, 'compound': 0.5229}\n",
      "hold the line!!!! buy gme, bb, amc etc. buy now kn the dip and wait for the 🚀🚀🚀🚀🚀🚀🚀🚀 {'neg': 0.0, 'neu': 1.0, 'pos': 0.0, 'compound': 0.0}\n",
      "gme question----------------------------------------------------- {'neg': 0.0, 'neu': 1.0, 'pos': 0.0, 'compound': 0.0}\n",
      "with volume of 34k in pre market gme is up over 9 %.------------- {'neg': 0.0, 'neu': 1.0, 'pos': 0.0, 'compound': 0.0}\n",
      "canadian not able to buy gme------------------------------------- {'neg': 0.0, 'neu': 1.0, 'pos': 0.0, 'compound': 0.0}\n",
      "great analysis that explains not only today's performance for gme and what led to it. margin calls, bullish news from the ceo, and a ton more are all thoroughly explained here and what you can expect for tomorrow. super informative video that has some shocking dd surprises too {'neg': 0.048, 'neu': 0.777, 'pos': 0.175, 'compound': 0.802}\n",
      "gme to the moon-------------------------------------------------- {'neg': 0.0, 'neu': 1.0, 'pos': 0.0, 'compound': 0.0}\n",
      "how the rich get richer with gme puts or: cheap gme 💦🥴🚀---------- {'neg': 0.0, 'neu': 0.667, 'pos': 0.333, 'compound': 0.7906}\n",
      "karma farming some internet points from this wasteland. upvote and award this for gme to moon. or whatever it is you guys on here want it to do now. go superstonk. {'neg': 0.0, 'neu': 0.858, 'pos': 0.142, 'compound': 0.5859}\n",
      "gme always be getting my hopes up-------------------------------- {'neg': 0.0, 'neu': 0.682, 'pos': 0.318, 'compound': 0.4215}\n",
      "i wonder if my wife’s boyfriend will loan me more money to buy $gme. ape strong together 🦍🦍🦍 {'neg': 0.0, 'neu': 0.852, 'pos': 0.148, 'compound': 0.5106}\n",
      "retards using interactive brokers (ibkr) and wish to hold the line but cannot buy $gme can use $gs2c (the european version) {'neg': 0.0, 'neu': 0.915, 'pos': 0.085, 'compound': 0.2144}\n",
      "hargreaves lansdowne are trading amc and gme--------------------- {'neg': 0.0, 'neu': 1.0, 'pos': 0.0, 'compound': 0.0}\n",
      "citron representing the gme bears is what we needed all along 🤡🤡🤡 {'neg': 0.0, 'neu': 1.0, 'pos': 0.0, 'compound': 0.0}\n",
      "bb; nok; gme; amc buy what you can------------------------------- {'neg': 0.0, 'neu': 1.0, 'pos': 0.0, 'compound': 0.0}\n",
      "asia sucks, there are more and more chinese trying to short at 300 because they believed it will eventually return to \"fundamentals\" (code name for gme = $20 at most) {'neg': 0.079, 'neu': 0.921, 'pos': 0.0, 'compound': -0.3612}\n",
      "revolut also blocking purchasing of gme and amc shares.---------- {'neg': 0.22, 'neu': 0.593, 'pos': 0.186, 'compound': -0.1027}\n",
      "so we should invest in amc next week right?will it explode like gamestop did. i want it to know. who invest in amc? {'neg': 0.0, 'neu': 0.835, 'pos': 0.165, 'compound': 0.4871}\n",
      "me, not knowing shit about wall street, waiting to get approved by trading platforms so i can waste all my money on $gme shares 🚀🚀 {'neg': 0.093, 'neu': 0.667, 'pos': 0.24, 'compound': 0.5941}\n",
      "gamestop is now the highest profile stock in history. in the long game, this is good news. {'neg': 0.0, 'neu': 0.847, 'pos': 0.153, 'compound': 0.4404}\n",
      "fuck the gme 🌈🐻-------------------------------------------------- {'neg': 0.412, 'neu': 0.588, 'pos': 0.0, 'compound': -0.5423}\n",
      "over 100% short interest (gme) back on the menü🤓 so for me … i like the stok! {'neg': 0.092, 'neu': 0.667, 'pos': 0.241, 'compound': 0.5562}\n",
      "bb investor here - bought 2 gme shares to help you guys out! happy to be part of the underdog movement 🚀🚀🚀🚀🚀🚀🚀 {'neg': 0.0, 'neu': 0.738, 'pos': 0.262, 'compound': 0.8356}\n",
      "do not fret comrades. they shut down pre/post trades for gme and amc but our position still hold {'neg': 0.0, 'neu': 1.0, 'pos': 0.0, 'compound': 0.0}\n",
      "a short introduction of gme for the new apes--------------------- {'neg': 0.0, 'neu': 1.0, 'pos': 0.0, 'compound': 0.0}\n",
      "as excited as i am about gme’s pivot to e-commerce; i’ll be very disappointed if they were to close their brick & mortar stores. {'neg': 0.122, 'neu': 0.792, 'pos': 0.086, 'compound': -0.2484}\n",
      "my mate produces a radio show with lots of skits around a particular topic, last week it was about gme! {'neg': 0.0, 'neu': 1.0, 'pos': 0.0, 'compound': 0.0}\n",
      "gme yolo! i just wanted to go to the moon...--------------------- {'neg': 0.0, 'neu': 0.79, 'pos': 0.21, 'compound': 0.3382}\n",
      "gme slowing down. should i sell?--------------------------------- {'neg': 0.0, 'neu': 1.0, 'pos': 0.0, 'compound': 0.0}\n",
      "lessons learnt and reflections from gme-------------------------- {'neg': 0.0, 'neu': 1.0, 'pos': 0.0, 'compound': 0.0}\n",
      "i got a 3 month ban for this awhile back. look at you fools now $gme {'neg': 0.327, 'neu': 0.673, 'pos': 0.0, 'compound': -0.7783}\n",
      "just received gme proxy email from tda!-------------------------- {'neg': 0.0, 'neu': 1.0, 'pos': 0.0, 'compound': 0.0}\n",
      "breaking down citadel tweets, yesterdays short attack, & how new dtcc changes gme moass {'neg': 0.193, 'neu': 0.807, 'pos': 0.0, 'compound': -0.4767}\n",
      "aaa if we want to reach the moon we need to help europeans newbies that want to buy gme {'neg': 0.0, 'neu': 0.701, 'pos': 0.299, 'compound': 0.5267}\n",
      "01/15 call exercising gme---------------------------------------- {'neg': 0.0, 'neu': 1.0, 'pos': 0.0, 'compound': 0.0}\n",
      "boycott robinhood and buy gme------------------------------------ {'neg': 0.365, 'neu': 0.635, 'pos': 0.0, 'compound': -0.3182}\n",
      "gamestop completes at-the-market equity offering program--------- {'neg': 0.0, 'neu': 1.0, 'pos': 0.0, 'compound': 0.0}\n",
      "this guy just wrote the single most important piece of dd on gme you will read this week. {'neg': 0.0, 'neu': 0.89, 'pos': 0.11, 'compound': 0.2716}\n",
      "went from 2k to this. gme was 1700 at one point. took a little at the top mostly held. now i’ll be holding for eternity to hopefully break even! {'neg': 0.0, 'neu': 0.856, 'pos': 0.144, 'compound': 0.5466}\n",
      "when i see game stop @226 at 4:30 am----------------------------- {'neg': 0.216, 'neu': 0.784, 'pos': 0.0, 'compound': -0.296}\n",
      "what happens to gamestop the company after all this?------------- {'neg': 0.0, 'neu': 1.0, 'pos': 0.0, 'compound': 0.0}\n",
      "when the gme dip happens all you gotta do is buy and fucking hoooold {'neg': 0.0, 'neu': 1.0, 'pos': 0.0, 'compound': 0.0}\n",
      "what's a contrarian view on the current trajectory of gme?------- {'neg': 0.0, 'neu': 1.0, 'pos': 0.0, 'compound': 0.0}\n",
      "new video covers the evidence found today that shows hedge funds using the media directly to try to discourage and spread fomo on gme and amc. also covers today's performance and where both stocks might head tomorrow. {'neg': 0.072, 'neu': 0.928, 'pos': 0.0, 'compound': -0.4215}\n",
      "what do you all make of this? investigation & potential $gme trade halt. {'neg': 0.0, 'neu': 1.0, 'pos': 0.0, 'compound': 0.0}\n",
      "it’s not much, but thanks to gme i was finally able to push my initial $7000 into $8000. thanks retards {'neg': 0.125, 'neu': 0.721, 'pos': 0.154, 'compound': 0.1879}\n",
      "trading 212 gme / amc blocked------------------------------------ {'neg': 0.296, 'neu': 0.704, 'pos': 0.0, 'compound': -0.2732}\n",
      "i’m ready to 🐒 monkey fuck 🍆 the shit out of some gme dips this week! {'neg': 0.323, 'neu': 0.568, 'pos': 0.109, 'compound': -0.7088}\n",
      "will getting a vpn allow us to buy gme from america?------------- {'neg': 0.0, 'neu': 0.84, 'pos': 0.16, 'compound': 0.2263}\n",
      "can we get a compilation of all the news sources which have bad info about gme? {'neg': 0.189, 'neu': 0.811, 'pos': 0.0, 'compound': -0.5423}\n",
      "i’m not a gamer, but yesterday i went to gamestop and bought some cool shit. now i can masturbate in 3d while i wait for the moass to blast off 🚀🚀🚀🚀💎👐 {'neg': 0.112, 'neu': 0.821, 'pos': 0.067, 'compound': -0.4497}\n",
      "calling a bottom in gme------------------------------------------ {'neg': 0.0, 'neu': 1.0, 'pos': 0.0, 'compound': 0.0}\n",
      "gamestop always has the best deals------------------------------- {'neg': 0.0, 'neu': 0.543, 'pos': 0.457, 'compound': 0.6369}\n",
      "i am dropping another $1.2k at gme at open.---------------------- {'neg': 0.0, 'neu': 1.0, 'pos': 0.0, 'compound': 0.0}\n",
      "citadel bought gme?---------------------------------------------- {'neg': 0.0, 'neu': 1.0, 'pos': 0.0, 'compound': 0.0}\n",
      "just placed my buy order for gme tomorrow------------------------ {'neg': 0.0, 'neu': 1.0, 'pos': 0.0, 'compound': 0.0}\n",
      "can someone explain this question about gme for me?-------------- {'neg': 0.0, 'neu': 1.0, 'pos': 0.0, 'compound': 0.0}\n",
      "gme volume under 1m?? fee to borrow 1%? drs is maybe working?✔️✔️✔️this is just the start boyz and gurls {'neg': 0.0, 'neu': 1.0, 'pos': 0.0, 'compound': 0.0}\n",
      "gme was never about making money.-------------------------------- {'neg': 0.0, 'neu': 1.0, 'pos': 0.0, 'compound': 0.0}\n",
      "chamath talking truth about gme 💰-------------------------------- {'neg': 0.0, 'neu': 0.723, 'pos': 0.277, 'compound': 0.3182}\n",
      "amazon got in the new somehow. https://www.reuters.com/article/us-gamestop-elliott-wilke/gamestop-names-amazon-executive-as-chief-growth-officer-iduskbn2bm1ct {'neg': 0.0, 'neu': 0.779, 'pos': 0.221, 'compound': 0.1779}\n",
      "trading212 has stopped gme buys---------------------------------- {'neg': 0.322, 'neu': 0.678, 'pos': 0.0, 'compound': -0.2263}\n",
      "new gme ape------------------------------------------------------ {'neg': 0.0, 'neu': 1.0, 'pos': 0.0, 'compound': 0.0}\n",
      "let’s organize a day of purchasing from gamestop----------------- {'neg': 0.0, 'neu': 1.0, 'pos': 0.0, 'compound': 0.0}\n",
      "i love this sub 🚀🚀🚀 good luck to all you $gme gang members------- {'neg': 0.0, 'neu': 0.543, 'pos': 0.457, 'compound': 0.8779}\n",
      "not a shill, hear me out... dogecoin, if u got 1 single dollar, toss it at dogecoin for shits and giggle. come on y’all can yolo a dollar. to be clear i’m a fully functional autist with 7 shares in gme. obligatory 🌚 & 🚀 🚀 🚀 🚀 🚀 🚀 🚀 all hail gme!!! {'neg': 0.048, 'neu': 0.77, 'pos': 0.183, 'compound': 0.7767}\n",
      "he aint wrong. this is a war!! looks like bam investor is looking for 10k follows on tweet and he'll start posting gme analysis {'neg': 0.128, 'neu': 0.688, 'pos': 0.185, 'compound': 0.1872}\n",
      "gme & amc - cup and handles signaling 🚀 🌝------------------------ {'neg': 0.0, 'neu': 1.0, 'pos': 0.0, 'compound': 0.0}\n",
      "waiting for everyone to realize e sports is the future, how to wreck the shorts, and potential mergers with gamestop or gme like………. come on now #slgg {'neg': 0.1, 'neu': 0.9, 'pos': 0.0, 'compound': -0.4404}\n",
      "gamestop gme positions thread, what is your position------------- {'neg': 0.0, 'neu': 1.0, 'pos': 0.0, 'compound': 0.0}\n",
      "tradestation says i need to contact gamestop directly for the upcoming shareholder meeting. any wrinkly brained apes know the next step? {'neg': 0.0, 'neu': 1.0, 'pos': 0.0, 'compound': 0.0}\n",
      "imagine paying of your own/family's fucking mortgage with gme. diamond hands to the moon {'neg': 0.0, 'neu': 0.844, 'pos': 0.156, 'compound': 0.34}\n",
      "small time trader bought my first gme---------------------------- {'neg': 0.0, 'neu': 1.0, 'pos': 0.0, 'compound': 0.0}\n",
      "hold $gme drop rh------------------------------------------------ {'neg': 0.412, 'neu': 0.588, 'pos': 0.0, 'compound': -0.2732}\n",
      "slamming my amc gains to gme------------------------------------- {'neg': 0.0, 'neu': 0.676, 'pos': 0.324, 'compound': 0.34}\n",
      "is it worth holding the gme stock?------------------------------- {'neg': 0.0, 'neu': 0.759, 'pos': 0.241, 'compound': 0.2263}\n",
      "pledge list: new members, please post the number of shares you pledge to hold until gme hits $1000 {'neg': 0.0, 'neu': 0.721, 'pos': 0.279, 'compound': 0.5859}\n",
      "i'm enjoying gme------------------------------------------------- {'neg': 0.0, 'neu': 0.37, 'pos': 0.63, 'compound': 0.5267}\n",
      "what gme means to me: a short story by a female ape 🦍------------ {'neg': 0.0, 'neu': 1.0, 'pos': 0.0, 'compound': 0.0}\n",
      "not mine but wanted to share what the gme saga looks like if it was a world map {'neg': 0.0, 'neu': 0.726, 'pos': 0.274, 'compound': 0.7227}\n",
      "u/deepfuckingvalue and ryan cohen’s gme investor presentation 🚀🚀🚀 {'neg': 0.0, 'neu': 1.0, 'pos': 0.0, 'compound': 0.0}\n",
      "fellow retards when gme dips a few dollars----------------------- {'neg': 0.0, 'neu': 1.0, 'pos': 0.0, 'compound': 0.0}\n",
      "robinhood, td ameritrade, charles schwab, trading 212 has paused trading on hot stocks such as gme, amc, nok, etc! they're doing it to \"protect their valued customers from the volitive market.\" forget them, find a new trading app, and make them wish they never fucked over the little people. {'neg': 0.033, 'neu': 0.76, 'pos': 0.207, 'compound': 0.8781}\n",
      "“should i buy gme?”---------------------------------------------- {'neg': 0.0, 'neu': 1.0, 'pos': 0.0, 'compound': 0.0}\n",
      "blackhole of coverage, biased narrative and the debt crisis of news agencies, due to hedge funds & corporations ( ticker: gme ) {'neg': 0.314, 'neu': 0.686, 'pos': 0.0, 'compound': -0.8271}\n",
      "gme scary-------------------------------------------------------- {'neg': 0.762, 'neu': 0.238, 'pos': 0.0, 'compound': -0.4939}\n",
      "i stand before you with my one single share of gme. it’s all i could afford but it was worth it. my early twenties saving funds. {'neg': 0.0, 'neu': 0.859, 'pos': 0.141, 'compound': 0.4497}\n",
      "never bet on stocks before. i want to help and get in on this gme rush. can someone pointme in the right direction to start? {'neg': 0.0, 'neu': 0.852, 'pos': 0.148, 'compound': 0.4588}\n",
      "question about situation gme may get in near future-------------- {'neg': 0.0, 'neu': 1.0, 'pos': 0.0, 'compound': 0.0}\n",
      "alright apes, let's see who really supports gme- if you have bought something from them in the new year tell us here! {'neg': 0.0, 'neu': 0.797, 'pos': 0.203, 'compound': 0.623}\n",
      "stop buying shares in game stop---------------------------------- {'neg': 0.458, 'neu': 0.312, 'pos': 0.229, 'compound': -0.296}\n",
      "ok, whats the next gme stock we finna group up on again???!!🤣🤣🤣🤣- {'neg': 0.0, 'neu': 0.668, 'pos': 0.332, 'compound': 0.9316}\n",
      "free at last, free at last, thank the lawd almighty i'm free at last. my last shares of gamestop are heading into my td account as we speak. no april fool here!! my td agent told me last night that they are swamped by the exodus. hallelujah!!!! {'neg': 0.035, 'neu': 0.615, 'pos': 0.35, 'compound': 0.9637}\n",
      "ordered a $2000 pc from gamestop's online store. lost in transit, refused a refund or replacement after being given the runaround for a month. {'neg': 0.17, 'neu': 0.83, 'pos': 0.0, 'compound': -0.5423}\n",
      "gme 🚀🚀🚀🚀 small gains for now, let’s get 100k a share------------- {'neg': 0.0, 'neu': 0.723, 'pos': 0.277, 'compound': 0.5574}\n",
      "should i buy gme today?------------------------------------------ {'neg': 0.0, 'neu': 1.0, 'pos': 0.0, 'compound': 0.0}\n",
      "friendly reminder that chitadel advisors llc is managing $384,926,232,238 so no $20mill is not a meme. not financial advice, make up your own opinion and only invest what you can afford to lose. $amc and $gme to the moon🚀 {'neg': 0.122, 'neu': 0.808, 'pos': 0.07, 'compound': -0.3327}\n",
      "[oc] gamestop fails-to-deliver----------------------------------- {'neg': 0.0, 'neu': 1.0, 'pos': 0.0, 'compound': 0.0}\n",
      "short squeezes, shorts and $gme.--------------------------------- {'neg': 0.0, 'neu': 1.0, 'pos': 0.0, 'compound': 0.0}\n",
      "weak market is good for gme. weak stocks = more margin calls----- {'neg': 0.328, 'neu': 0.508, 'pos': 0.164, 'compound': -0.4404}\n",
      "{gme} how much and where can hedge funds still short------------- {'neg': 0.0, 'neu': 1.0, 'pos': 0.0, 'compound': 0.0}\n",
      "you won’t be able to buy back $gme if you sell! so hold!--------- {'neg': 0.0, 'neu': 1.0, 'pos': 0.0, 'compound': 0.0}\n",
      "$gme 🚀🚀🚀🚀🚀🚀🚀🚀 *not financial advice------------------------------ {'neg': 0.0, 'neu': 1.0, 'pos': 0.0, 'compound': 0.0}\n",
      "today for 2 minutes at some point in the day i was getting a ask price of $10k per share for gme. how did that happen ? i was thinking about selling but not sure if rh would have credited me that amount {'neg': 0.052, 'neu': 0.846, 'pos': 0.103, 'compound': 0.3415}\n",
      "it’s not gme, but who’s got a fucking wrinkle to spare about this 557% increase today {'neg': 0.0, 'neu': 0.836, 'pos': 0.164, 'compound': 0.4497}\n",
      "upvote if you’re gonna buy gme - 1 hiur before the market closes and boost this 🚀 {'neg': 0.0, 'neu': 0.856, 'pos': 0.144, 'compound': 0.4019}\n",
      "gme gang! to valhalla, or to death! (bought extra 1k)------------ {'neg': 0.333, 'neu': 0.667, 'pos': 0.0, 'compound': -0.6688}\n",
      "gme-------------------------------------------------------------- {'neg': 0.0, 'neu': 1.0, 'pos': 0.0, 'compound': 0.0}\n",
      "our highway message board will have fresh gme public service announcements until the squeeze has squizzzled. us 9 in south amboy. {'neg': 0.0, 'neu': 0.897, 'pos': 0.103, 'compound': 0.3182}\n",
      "holding gme. what can realistically expect tomorrow? let's hear your theory! {'neg': 0.0, 'neu': 1.0, 'pos': 0.0, 'compound': 0.0}\n",
      "remember retards buy high sell low $amc $gme $bb to the moon!---- {'neg': 0.179, 'neu': 0.821, 'pos': 0.0, 'compound': -0.3382}\n",
      "when to sell gme shares?----------------------------------------- {'neg': 0.0, 'neu': 0.645, 'pos': 0.355, 'compound': 0.296}\n",
      "citadel is getting rich of $gme calls and other stock calls.----- {'neg': 0.0, 'neu': 0.735, 'pos': 0.265, 'compound': 0.5574}\n",
      "the gme lego ideas store only needs another 3000 more supporters to reach the final milestone of “expert review” before being approved for production! {'neg': 0.0, 'neu': 0.733, 'pos': 0.267, 'compound': 0.7683}\n",
      "local support for $gme headquarters in dallas-------------------- {'neg': 0.0, 'neu': 0.69, 'pos': 0.31, 'compound': 0.4019}\n",
      "my first thought about the hedge funders when i saw robin hood restricted buying of gme this morning. {'neg': 0.133, 'neu': 0.867, 'pos': 0.0, 'compound': -0.3818}\n",
      "imagine if we all did what we did to gme to doge.. doge to moon 🚀 {'neg': 0.0, 'neu': 1.0, 'pos': 0.0, 'compound': 0.0}\n",
      "td ameritrade says gme is long and to hold. ape strong. 💎 ✋------ {'neg': 0.0, 'neu': 0.667, 'pos': 0.333, 'compound': 0.7579}\n"
     ]
    }
   ],
   "source": [
    "# Take a smaple of the data and do some Vader Analyser on it.\n",
    "sample_5 = gme_df['title'].sample(n=300, random_state=1) \n",
    "\n",
    "analyzer = SentimentIntensityAnalyzer()\n",
    "\n",
    "for sentence in sample_5:\n",
    "    vs = analyzer.polarity_scores(sentence)\n",
    "    print(\"{:-<65} {}\".format(sentence, str(vs)))"
   ]
  },
  {
   "cell_type": "markdown",
   "id": "159884e0",
   "metadata": {},
   "source": [
    "Here is an example of how some comments that are given a negative, neutral or positive score.\n",
    "<br><br>\n",
    "Next, I want to to do this for all my title comments and create 4 columns of the scores 'positive', 'negative', 'neutral' and 'compound' based on the content of each row using vader sentiment analysis.\n",
    "<br><br>"
   ]
  },
  {
   "cell_type": "code",
   "execution_count": 172,
   "id": "d594ab5f",
   "metadata": {
    "ExecuteTime": {
     "end_time": "2022-04-04T02:28:41.710736Z",
     "start_time": "2022-04-04T02:28:41.695776Z"
    }
   },
   "outputs": [],
   "source": [
    "# Create a data frame\n",
    "sen_ana_df = pd.DataFrame()"
   ]
  },
  {
   "cell_type": "code",
   "execution_count": 173,
   "id": "cc0ce50b",
   "metadata": {
    "ExecuteTime": {
     "end_time": "2022-04-04T02:29:10.272482Z",
     "start_time": "2022-04-04T02:28:41.711734Z"
    }
   },
   "outputs": [],
   "source": [
    "# take a count of all the compound, negative, neutral and positive values\n",
    "sen_ana_df['compound'] = [analyzer.polarity_scores(x)['compound'] for x in gme_df['title']]\n",
    "sen_ana_df['neg'] = [analyzer.polarity_scores(x)['neg'] for x in gme_df['title']]\n",
    "sen_ana_df['neu'] = [analyzer.polarity_scores(x)['neu'] for x in gme_df['title']]\n",
    "sen_ana_df['pos'] = [analyzer.polarity_scores(x)['pos'] for x in gme_df['title']]"
   ]
  },
  {
   "cell_type": "code",
   "execution_count": 174,
   "id": "e2247700",
   "metadata": {
    "ExecuteTime": {
     "end_time": "2022-04-04T02:29:10.303047Z",
     "start_time": "2022-04-04T02:29:10.274191Z"
    }
   },
   "outputs": [
    {
     "name": "stdout",
     "output_type": "stream",
     "text": [
      "<class 'pandas.core.frame.DataFrame'>\n",
      "RangeIndex: 121118 entries, 0 to 121117\n",
      "Data columns (total 4 columns):\n",
      " #   Column    Non-Null Count   Dtype  \n",
      "---  ------    --------------   -----  \n",
      " 0   compound  121118 non-null  float64\n",
      " 1   neg       121118 non-null  float64\n",
      " 2   neu       121118 non-null  float64\n",
      " 3   pos       121118 non-null  float64\n",
      "dtypes: float64(4)\n",
      "memory usage: 3.7 MB\n"
     ]
    }
   ],
   "source": [
    "# Look at the data frame\n",
    "sen_ana_df.info()"
   ]
  },
  {
   "cell_type": "code",
   "execution_count": 175,
   "id": "2846457a",
   "metadata": {
    "ExecuteTime": {
     "end_time": "2022-04-04T02:29:10.319012Z",
     "start_time": "2022-04-04T02:29:10.304054Z"
    }
   },
   "outputs": [
    {
     "data": {
      "text/html": [
       "<div>\n",
       "<style scoped>\n",
       "    .dataframe tbody tr th:only-of-type {\n",
       "        vertical-align: middle;\n",
       "    }\n",
       "\n",
       "    .dataframe tbody tr th {\n",
       "        vertical-align: top;\n",
       "    }\n",
       "\n",
       "    .dataframe thead th {\n",
       "        text-align: right;\n",
       "    }\n",
       "</style>\n",
       "<table border=\"1\" class=\"dataframe\">\n",
       "  <thead>\n",
       "    <tr style=\"text-align: right;\">\n",
       "      <th></th>\n",
       "      <th>compound</th>\n",
       "      <th>neg</th>\n",
       "      <th>neu</th>\n",
       "      <th>pos</th>\n",
       "    </tr>\n",
       "  </thead>\n",
       "  <tbody>\n",
       "    <tr>\n",
       "      <th>0</th>\n",
       "      <td>0.0000</td>\n",
       "      <td>0.0</td>\n",
       "      <td>1.000</td>\n",
       "      <td>0.000</td>\n",
       "    </tr>\n",
       "    <tr>\n",
       "      <th>1</th>\n",
       "      <td>0.4574</td>\n",
       "      <td>0.0</td>\n",
       "      <td>0.572</td>\n",
       "      <td>0.428</td>\n",
       "    </tr>\n",
       "    <tr>\n",
       "      <th>2</th>\n",
       "      <td>0.0000</td>\n",
       "      <td>0.0</td>\n",
       "      <td>1.000</td>\n",
       "      <td>0.000</td>\n",
       "    </tr>\n",
       "    <tr>\n",
       "      <th>3</th>\n",
       "      <td>0.7506</td>\n",
       "      <td>0.0</td>\n",
       "      <td>0.575</td>\n",
       "      <td>0.425</td>\n",
       "    </tr>\n",
       "    <tr>\n",
       "      <th>4</th>\n",
       "      <td>0.7269</td>\n",
       "      <td>0.0</td>\n",
       "      <td>0.844</td>\n",
       "      <td>0.156</td>\n",
       "    </tr>\n",
       "  </tbody>\n",
       "</table>\n",
       "</div>"
      ],
      "text/plain": [
       "   compound  neg    neu    pos\n",
       "0    0.0000  0.0  1.000  0.000\n",
       "1    0.4574  0.0  0.572  0.428\n",
       "2    0.0000  0.0  1.000  0.000\n",
       "3    0.7506  0.0  0.575  0.425\n",
       "4    0.7269  0.0  0.844  0.156"
      ]
     },
     "execution_count": 175,
     "metadata": {},
     "output_type": "execute_result"
    }
   ],
   "source": [
    "# show the first few rows of the data frame to see values for each title comment.\n",
    "sen_ana_df.head()"
   ]
  },
  {
   "cell_type": "markdown",
   "id": "2c66c489",
   "metadata": {},
   "source": [
    "We now have a data frame with each of the title commnets as either positive or negative."
   ]
  },
  {
   "cell_type": "markdown",
   "id": "be823c8b",
   "metadata": {
    "ExecuteTime": {
     "end_time": "2022-03-27T15:23:02.802504Z",
     "start_time": "2022-03-27T15:23:02.783554Z"
    }
   },
   "source": [
    "**Future Work**\n",
    "- In the future I will add these four columns as new features and then remodel my work."
   ]
  },
  {
   "cell_type": "markdown",
   "id": "818096f7",
   "metadata": {},
   "source": [
    "---\n",
    "---\n",
    "---"
   ]
  },
  {
   "cell_type": "markdown",
   "id": "c9be344d",
   "metadata": {},
   "source": [
    "# **Code Rejected**"
   ]
  },
  {
   "cell_type": "markdown",
   "id": "dfb33be7",
   "metadata": {},
   "source": [
    "There was some code I worked on for quiet some time. This lead me to try it, and model it and then figure out what the results could mean. As this is a project I have included this section as the markers could say, why wasnt more done. And at times I can see that too. But sometimes you can spend several hours or days trying areas that ultimatily lead to a dead end.\n"
   ]
  },
  {
   "cell_type": "markdown",
   "id": "6f1d1425",
   "metadata": {},
   "source": [
    "---"
   ]
  },
  {
   "cell_type": "markdown",
   "id": "7653ef49",
   "metadata": {},
   "source": [
    "## **Splitting data by time series on split()**"
   ]
  },
  {
   "cell_type": "markdown",
   "id": "a3ff36f8",
   "metadata": {},
   "source": [
    "I wanted to split the data with a range as the Train and Test. I tried the below code but after looking into models it was not giving good results. The test ended up only having one value for the Target Variable and so this threw off the Test model results. While I was investigating I decided to take a data range for the splitting the Train and Test data instead."
   ]
  },
  {
   "cell_type": "code",
   "execution_count": 176,
   "id": "cccc7d76",
   "metadata": {
    "ExecuteTime": {
     "end_time": "2022-04-04T02:29:10.334874Z",
     "start_time": "2022-04-04T02:29:10.320009Z"
    }
   },
   "outputs": [],
   "source": [
    "# Break up the train and test by 75:25 split of the data\n",
    "#X_train, X_test = np.split(gme_nlp_df, [int(.78 *len(gme_nlp_df))])\n",
    "#y_train, y_test = np.split(gme_nlp_df['Close'], [int(.78 *len(gme_nlp_df['Close']))])"
   ]
  },
  {
   "cell_type": "markdown",
   "id": "93396cb4",
   "metadata": {},
   "source": [
    "**Solution:** A better way was to use a time range to split my data based on the dates. <br><br>\n",
    "\n",
    "But as mentioned above using Train and Test with a data that is so hevily skewed to January has its own problems."
   ]
  },
  {
   "cell_type": "markdown",
   "id": "4ddc2d3f",
   "metadata": {},
   "source": [
    "---\n",
    "---\n",
    "---"
   ]
  },
  {
   "cell_type": "markdown",
   "id": "a091427b",
   "metadata": {},
   "source": [
    "# **What factors can be affecting the Test results**"
   ]
  },
  {
   "attachments": {
    "SNS_Reddit_Share_Price.png": {
     "image/png": "[encoded data removed]"
    }
   },
   "cell_type": "markdown",
   "id": "95f53f92",
   "metadata": {},
   "source": [
    "While working on this project I noticed I often was not getting great results for my Test Models. Looking into this, it is familiar common and why Hedge Funds with massive resources have also had difficult trying to model social media mentions to a share price. Some things  that might be affecting my results and things that could help are:<br>\n",
    "- **Yahoo's Finance API** <br>\n",
    "    - that will allow me to look for other resources, articles and news about Game Stop that I could add to my model. Because it is hard to know what has had an effect on my Test data. Say there is a spike or a dip. This might not be related to the Game Stop Mentions at all. And in fact if you look back to the below plot you can see that while the Number of Game stop Mentions and Share Price are related in January for the rest of the year, the price fluctuates a lot but the amount of Game Stop mentions actually decreases throughout the year.\n",
    "    ![SNS_Reddit_Share_Price.png](attachment:SNS_Reddit_Share_Price.png)\n",
    "    "
   ]
  },
  {
   "attachments": {
    "Google%20Game%20Stop%20Price%2015%20years-2.png": {
     "image/png": "[encoded data removed]"
    }
   },
   "cell_type": "markdown",
   "id": "af15cef3",
   "metadata": {},
   "source": [
    "- **Game Stop Share Price Time Range**<br>\n",
    "    - I only took the Share Price for Game Stop for 2021. In fact this was a year where the price sky rocketed. If you look at the price over a longer period you can see that this spike, while a full year, is actually only a small spike in the life time of the Share. You can see an example of this in the below image. (Image is taken from Google Shares).\n",
    "    \n",
    "![Google%20Game%20Stop%20Price%2015%20years-2.png](attachment:Google%20Game%20Stop%20Price%2015%20years-2.png)"
   ]
  },
  {
   "cell_type": "markdown",
   "id": "3a6d5814",
   "metadata": {},
   "source": [
    "- **Other Social Media sites**\n",
    "    - I took 14 subreddits from Reddit but this is a drop in the ocean compared to all the other places that Users could be discussing Game Stop. Websites, Forums, Twitter, Instragram, you tube, whatsapp, Facebook, etc. While I was able to see that on Reddit that users look like they affected the price, there are plenty of examples of correlations of things that are not related at all. There are whole websites with examples of crazy correlations between things.\n",
    "    - As a further part of the project, I would need to take in a lot more social media sites, which is a huge undertaking.\n",
    "    - I have even read of some Hedge Funds that take in the most bizarre data just to add it to their models."
   ]
  },
  {
   "cell_type": "markdown",
   "id": "355a894a",
   "metadata": {
    "ExecuteTime": {
     "end_time": "2022-04-03T16:44:07.266435Z",
     "start_time": "2022-04-03T16:44:07.266435Z"
    }
   },
   "source": [
    "---\n",
    "---\n",
    "---"
   ]
  },
  {
   "cell_type": "markdown",
   "id": "f406c557",
   "metadata": {},
   "source": [
    "# **Future tasks/jobs**"
   ]
  },
  {
   "cell_type": "markdown",
   "id": "fe4acda0",
   "metadata": {},
   "source": [
    "**Fix Issues:**\n",
    "- The results from our Linear Regression predict has very high values. Need to look into why this is the case.\n",
    "- At times I ran unnecessary code, like calling functions more than once for section 4.4 where I got the NLP for different Train and Test. I left it in this time to have easier code to read so you can see the steps and while I was reviewing code to see how things were working.\n",
    "- Random forest and XG Boost give predictions with very little changes. Look into this more.\n",
    "\n",
    "**Future models**\n",
    "- We Trained and Tested on three ranges to look for different results trying to find a balance between train/test data sizes and time ranges. We can look at this more later for different ranges.\n",
    "- We only used 500 columns for NLP, later we can try larger amounts of columns to see what results we get.\n",
    "- Use AWS on the larger NLP feature ranges to see how this affects our models.\n",
    "- Try a min/max scaler,\n",
    "- Add in TF-IDF, Term Frequency-Inverse Document Frequency to weight words and see how that affects the models\n",
    "- Continue what I started with VaderSentiment Analysis and add these features into the models."
   ]
  },
  {
   "cell_type": "markdown",
   "id": "f6f70681",
   "metadata": {
    "ExecuteTime": {
     "end_time": "2022-04-03T16:44:07.267435Z",
     "start_time": "2022-04-03T16:44:07.267435Z"
    }
   },
   "source": [
    "---\n",
    "---\n",
    "---"
   ]
  },
  {
   "cell_type": "markdown",
   "id": "b6d522e5",
   "metadata": {},
   "source": [
    "# **Findings from models**"
   ]
  },
  {
   "cell_type": "markdown",
   "id": "d79076e9",
   "metadata": {},
   "source": [
    "Lets look at the results from the accuracy of our models. <br>\n",
    "\n",
    "As mentioned above we have three Time Ranges to create Three Train Test Model splits so we can look at the different results due to the data distribution being heavily skewed towards January. You will see the same letter reference for:\n",
    "- A Range: 10 Month/2 Month Train/Test split\n",
    "- B Range: 8 Month/4 Month Train/Test split\n",
    "- C Range: 6 Month/6 Month Train/Test split"
   ]
  },
  {
   "cell_type": "code",
   "execution_count": 177,
   "id": "f8b70712",
   "metadata": {
    "ExecuteTime": {
     "end_time": "2022-04-04T02:29:10.350611Z",
     "start_time": "2022-04-04T02:29:10.335658Z"
    }
   },
   "outputs": [
    {
     "data": {
      "text/html": [
       "<div>\n",
       "<style scoped>\n",
       "    .dataframe tbody tr th:only-of-type {\n",
       "        vertical-align: middle;\n",
       "    }\n",
       "\n",
       "    .dataframe tbody tr th {\n",
       "        vertical-align: top;\n",
       "    }\n",
       "\n",
       "    .dataframe thead th {\n",
       "        text-align: right;\n",
       "    }\n",
       "</style>\n",
       "<table border=\"1\" class=\"dataframe\">\n",
       "  <thead>\n",
       "    <tr style=\"text-align: right;\">\n",
       "      <th></th>\n",
       "      <th>Test accuracy</th>\n",
       "    </tr>\n",
       "  </thead>\n",
       "  <tbody>\n",
       "    <tr>\n",
       "      <th>A_Linear_Regresion</th>\n",
       "      <td>0.395258</td>\n",
       "    </tr>\n",
       "    <tr>\n",
       "      <th>B_Linear_Regresion</th>\n",
       "      <td>-0.218658</td>\n",
       "    </tr>\n",
       "    <tr>\n",
       "      <th>C_Linear_Regresion</th>\n",
       "      <td>-10.303093</td>\n",
       "    </tr>\n",
       "    <tr>\n",
       "      <th>A_Ridge_Regression</th>\n",
       "      <td>0.395088</td>\n",
       "    </tr>\n",
       "    <tr>\n",
       "      <th>B_Ridge_Regression</th>\n",
       "      <td>-0.217177</td>\n",
       "    </tr>\n",
       "    <tr>\n",
       "      <th>C_Ridge_Regression</th>\n",
       "      <td>-10.345777</td>\n",
       "    </tr>\n",
       "    <tr>\n",
       "      <th>A_Lasso_Regression</th>\n",
       "      <td>0.597171</td>\n",
       "    </tr>\n",
       "    <tr>\n",
       "      <th>B_Lasso_Regression</th>\n",
       "      <td>0.436013</td>\n",
       "    </tr>\n",
       "    <tr>\n",
       "      <th>C_Lasso_Regression</th>\n",
       "      <td>-2.170383</td>\n",
       "    </tr>\n",
       "    <tr>\n",
       "      <th>A_Lasso_Regression_Alpha_0_9</th>\n",
       "      <td>0.600184</td>\n",
       "    </tr>\n",
       "    <tr>\n",
       "      <th>A_Random_Forest</th>\n",
       "      <td>0.501090</td>\n",
       "    </tr>\n",
       "    <tr>\n",
       "      <th>B_Random_Forest</th>\n",
       "      <td>0.403605</td>\n",
       "    </tr>\n",
       "    <tr>\n",
       "      <th>C_Random_Forest</th>\n",
       "      <td>-0.059489</td>\n",
       "    </tr>\n",
       "    <tr>\n",
       "      <th>A_XG_Boost</th>\n",
       "      <td>0.396404</td>\n",
       "    </tr>\n",
       "    <tr>\n",
       "      <th>B_XG_Boost</th>\n",
       "      <td>0.340001</td>\n",
       "    </tr>\n",
       "    <tr>\n",
       "      <th>C_XG_Boost</th>\n",
       "      <td>-0.077485</td>\n",
       "    </tr>\n",
       "  </tbody>\n",
       "</table>\n",
       "</div>"
      ],
      "text/plain": [
       "                              Test accuracy\n",
       "A_Linear_Regresion                 0.395258\n",
       "B_Linear_Regresion                -0.218658\n",
       "C_Linear_Regresion               -10.303093\n",
       "A_Ridge_Regression                 0.395088\n",
       "B_Ridge_Regression                -0.217177\n",
       "C_Ridge_Regression               -10.345777\n",
       "A_Lasso_Regression                 0.597171\n",
       "B_Lasso_Regression                 0.436013\n",
       "C_Lasso_Regression                -2.170383\n",
       "A_Lasso_Regression_Alpha_0_9       0.600184\n",
       "A_Random_Forest                    0.501090\n",
       "B_Random_Forest                    0.403605\n",
       "C_Random_Forest                   -0.059489\n",
       "A_XG_Boost                         0.396404\n",
       "B_XG_Boost                         0.340001\n",
       "C_XG_Boost                        -0.077485"
      ]
     },
     "execution_count": 177,
     "metadata": {},
     "output_type": "execute_result"
    }
   ],
   "source": [
    "# Construct dataframe to compare models\n",
    "pd.DataFrame.from_dict(model_dict, orient='index', columns=['Test accuracy'])"
   ]
  },
  {
   "cell_type": "markdown",
   "id": "88cc8fd2",
   "metadata": {},
   "source": [
    "**Observations:**\n",
    "- Generally all the best accuracy results come from the A Time Range. This is a little surprising as the Test sizes are only 5% of the data. It's very possible that the models are not testing right on such a small Test size.\n",
    "- However, as I move though tests on the B time range and the longer C time range the results get less accurate. It's very likely that the train models are not training well for the Test models to run on. Considering how bad the predictive values are being  generated. This is likely.\n",
    "- The best model is a Lasso Regression model with an alpha value of 0.9 with only 60% Accuracy"
   ]
  },
  {
   "cell_type": "markdown",
   "id": "1942663e",
   "metadata": {},
   "source": [
    "---\n",
    "---\n",
    "---"
   ]
  },
  {
   "cell_type": "markdown",
   "id": "47a61c7a",
   "metadata": {},
   "source": [
    "# **Conclusion**"
   ]
  },
  {
   "cell_type": "markdown",
   "id": "66024b95",
   "metadata": {},
   "source": [
    "At the start I was massively overfitting and getting large minus figures for all my models. In the end my best results was with  Lasso Regression with a 60% Accuracy for the Test Data with an Alpha rate of 0.9. 60% is usually not a good accuracy result but considering my project it is a good start.\n",
    "<br> <br>\n",
    "However, we can see from the Actual Values and the Predictive Values that it is still very difficult to see a a pattern that is recognisable in both plots so that the Models are predicting good results. The modelling has been very difficult over all with low positive results.\n",
    "<br><br>\n",
    "The most impressive plot comes from early EDA and this shows the Count of Game Stop Mentions and the Jump in Share Price. There is clearly an over lap which does answer my business question. 'Can social Media affect the share price of a share?'. The answer to that by this data is 'Yes'. \n",
    "<br><br>\n",
    "However, we need to be careful. This is obviously a correlation but not all correlations are the same as causations. Which means that this could just be random chance that both peaks happen at the same time. There are many crazy correlations in the world. Such as 'Ice Cream leads to murder' and ' M.Night Shyamalan makes bad movies because people don't buy newspapers'. https://www.buzzfeednews.com/article/kjh2110/the-10-most-bizarre-correlations\n",
    "<br><br>\n",
    "There have been many newspaper reports on how REddit has been able to effect the Game Spot Share Price so we know this is the case. But with this project, we can not prove it with Machine Learning models at this stage.\n",
    "<br><br>\n",
    "It turns out that using Social Media Mentions to predict the price of Shares will not be making me a millionaire any time soon as it is very hard to model."
   ]
  }
 ],
 "metadata": {
  "kernelspec": {
   "display_name": "Python (bscapstone)",
   "language": "python",
   "name": "bscapstone"
  },
  "language_info": {
   "codemirror_mode": {
    "name": "ipython",
    "version": 3
   },
   "file_extension": ".py",
   "mimetype": "text/x-python",
   "name": "python",
   "nbconvert_exporter": "python",
   "pygments_lexer": "ipython3",
   "version": "3.9.7"
  },
  "toc": {
   "base_numbering": 1,
   "nav_menu": {},
   "number_sections": true,
   "sideBar": true,
   "skip_h1_title": false,
   "title_cell": "Table of Contents",
   "title_sidebar": "Contents",
   "toc_cell": true,
   "toc_position": {
    "height": "calc(100% - 180px)",
    "left": "10px",
    "top": "150px",
    "width": "384px"
   },
   "toc_section_display": true,
   "toc_window_display": true
  }
 },
 "nbformat": 4,
 "nbformat_minor": 5
}
