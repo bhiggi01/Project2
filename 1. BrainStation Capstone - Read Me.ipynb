{
 "cells": [
  {
   "cell_type": "markdown",
   "id": "0be2637d",
   "metadata": {},
   "source": [
    "# **Capstone Project: Can Social Media Affect Share Price**"
   ]
  },
  {
   "cell_type": "markdown",
   "id": "6b907f5c",
   "metadata": {
    "ExecuteTime": {
     "end_time": "2022-04-02T13:09:15.860508Z",
     "start_time": "2022-04-02T13:09:15.851535Z"
    }
   },
   "source": [
    "                      Brian Higgins | 4th April 2022 | BrainStation"
   ]
  },
  {
   "cell_type": "markdown",
   "id": "65a8152e",
   "metadata": {},
   "source": [
    "---\n",
    "---\n",
    "---"
   ]
  },
  {
   "cell_type": "markdown",
   "id": "b5598f0d",
   "metadata": {},
   "source": [
    "# Introduction"
   ]
  },
  {
   "cell_type": "markdown",
   "id": "6c540312",
   "metadata": {},
   "source": [
    "Welcome to my project on wheather or not Social Media can have an effect on the Share Price of a company.\n",
    "<br>\n",
    "\n",
    "Below you will find the order to look over the Project.\n",
    "<br>\n",
    "\n",
    "**1. Brian Higgins Capstone - Read me**\n",
    "- First Notebook. This notebook, outlining the order to view the project\n",
    "<br><br>\n",
    "\n",
    "**2. Data Location**\n",
    "- You will find a link below to a Google Drive folder with all the data for the project. \n",
    "<br><br>\n",
    "https://drive.google.com/drive/folders/1J6uXfWk-OP5HlhfKN-qcsQ0khczX4wcw?usp=sharing\n",
    "<br><br>\n",
    "Datasets are loaded into the Data Folder in the Notebooks.\n",
    "<br><br>\n",
    "- **Datasets:**\n",
    "    - 14 Reddit Data Sets\n",
    "    - 1 Game Stop Share Price Data Set\n",
    "    - Capstone Datasets:\n",
    "        - **capstone_reddit_finance_dataset:** This is the projects combined 14 reddit datasets.\n",
    "        - **capstone_gme_df:** This is the projects cleaned reddit gme metions dataset\n",
    "        - **capstone_gem_share_price_df:** This is the projects share price data.  \n",
    "        - **capstone_gme_mention_share_price_df:** This is the final cleaned and combined Reddit Game Stop Mentions and the Share Price Dataset. This is used in the modelling notebooks. \n",
    "        - **Model Datasets:**\n",
    "            - **capstone_random_forest_df:** Save of Random Forest results\n",
    "            - **capstone_XG_boost_results_df:** Save of XG boost\n",
    "\n",
    "\n",
    "- **Plots Folder:** \n",
    "    - A copy of plots from my notebooks.\n",
    "\n",
    "**3. Brian Higgins Capstone - Processing, Cleaning and EDA**\n",
    "- Second Notebook which shows the processing of the datasets I have used, cleaning of the data and EDA.\n",
    "<br><br>\n",
    "\n",
    "**4. Brian Higgins Capstone - Modelling: NLP**\n",
    "- Third Notebook that shows Natural Language Processing as well as looking at the results of different models tired.\n",
    "<br><br>\n",
    "\n",
    "**5. Brian Higgins Capstone - Modelling: Time Series**\n",
    "- Forth Notebook that shows some early Time Series plotting with Ploty.\n",
    "- This will be a section worked on more in the future so is really only a quick look.\n",
    "<br><br>\n",
    "\n",
    "**6. GitBash Requirments**\n",
    "- Fifth, an output of the various libraries used in this Project.\n",
    "<br><br>\n",
    "    - **NOTE:** I had an error when I loaded in VaderSetiment and XGBoost that said no Module was found. Both Libraries showed up in my kernal but still the Juypter Notebook would not load the modules. If this happens. I have added some commented out code to manually run the libraries in the Notebook 3. Modelling: NLP. I do not expect but on a different computer I can not be sure.\n",
    "\n",
    "<br><br>\n",
    "**7. Brian Higgins Capstone - Final Report**\n",
    "- Written Report in PDF for the Project\n",
    "<br><br>\n",
    "\n",
    "**8. Brian Higgins Capstone - Presentation**\n",
    "- Presentation of the Project in PDF\n",
    "    "
   ]
  }
 ],
 "metadata": {
  "kernelspec": {
   "display_name": "Python (bscapstone)",
   "language": "python",
   "name": "bscapstone"
  },
  "language_info": {
   "codemirror_mode": {
    "name": "ipython",
    "version": 3
   },
   "file_extension": ".py",
   "mimetype": "text/x-python",
   "name": "python",
   "nbconvert_exporter": "python",
   "pygments_lexer": "ipython3",
   "version": "3.9.7"
  },
  "toc": {
   "base_numbering": 1,
   "nav_menu": {},
   "number_sections": true,
   "sideBar": true,
   "skip_h1_title": false,
   "title_cell": "Table of Contents",
   "title_sidebar": "Contents",
   "toc_cell": false,
   "toc_position": {},
   "toc_section_display": true,
   "toc_window_display": false
  }
 },
 "nbformat": 4,
 "nbformat_minor": 5
}
