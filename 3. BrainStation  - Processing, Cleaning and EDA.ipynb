{
 "cells": [
  {
   "cell_type": "markdown",
   "id": "a53e4e0f",
   "metadata": {},
   "source": [
    "# **Capstone Project: Can Social Media Affect Share Price**"
   ]
  },
  {
   "cell_type": "markdown",
   "id": "355e8a25",
   "metadata": {},
   "source": [
    "                Brian Higgins | 4th April 2022 | BrainStation"
   ]
  },
  {
   "cell_type": "markdown",
   "id": "5288f8a7",
   "metadata": {},
   "source": [
    "---\n",
    "---\n",
    "---"
   ]
  },
  {
   "cell_type": "markdown",
   "id": "5ace80ac",
   "metadata": {
    "toc": true
   },
   "source": [
    "<h1>Table of Contents<span class=\"tocSkip\"></span></h1>\n",
    "<div class=\"toc\"><ul class=\"toc-item\"><li><span><a href=\"#Capstone-Project:-Can-Social-Media-Affect-Share-Price\" data-toc-modified-id=\"Capstone-Project:-Can-Social-Media-Affect-Share-Price-1\"><span class=\"toc-item-num\">1&nbsp;&nbsp;</span><strong>Capstone Project: Can Social Media Affect Share Price</strong></a></span></li><li><span><a href=\"#Introduction\" data-toc-modified-id=\"Introduction-2\"><span class=\"toc-item-num\">2&nbsp;&nbsp;</span><strong>Introduction</strong></a></span></li><li><span><a href=\"#Documentation-overview\" data-toc-modified-id=\"Documentation-overview-3\"><span class=\"toc-item-num\">3&nbsp;&nbsp;</span><strong>Documentation overview</strong></a></span><ul class=\"toc-item\"><li><span><a href=\"#Comment-out-save-of-plots\" data-toc-modified-id=\"Comment-out-save-of-plots-3.1\"><span class=\"toc-item-num\">3.1&nbsp;&nbsp;</span><strong>Comment out save of plots</strong></a></span></li></ul></li><li><span><a href=\"#Reddit\" data-toc-modified-id=\"Reddit-4\"><span class=\"toc-item-num\">4&nbsp;&nbsp;</span><strong>Reddit</strong></a></span><ul class=\"toc-item\"><li><span><a href=\"#Reddit-Data\" data-toc-modified-id=\"Reddit-Data-4.1\"><span class=\"toc-item-num\">4.1&nbsp;&nbsp;</span><strong>Reddit Data</strong></a></span><ul class=\"toc-item\"><li><span><a href=\"#Reddit-Sub-Reddits\" data-toc-modified-id=\"Reddit-Sub-Reddits-4.1.1\"><span class=\"toc-item-num\">4.1.1&nbsp;&nbsp;</span><strong>Reddit Sub-Reddits</strong></a></span></li><li><span><a href=\"#Column-break-down-for-reddit-data\" data-toc-modified-id=\"Column-break-down-for-reddit-data-4.1.2\"><span class=\"toc-item-num\">4.1.2&nbsp;&nbsp;</span><strong>Column break down for reddit data</strong></a></span></li><li><span><a href=\"#Which-columns-will-we-be-keeping-and-why?\" data-toc-modified-id=\"Which-columns-will-we-be-keeping-and-why?-4.1.3\"><span class=\"toc-item-num\">4.1.3&nbsp;&nbsp;</span><strong>Which columns will we be keeping and why?</strong></a></span></li></ul></li><li><span><a href=\"#Reddit-Data:-Cleaning\" data-toc-modified-id=\"Reddit-Data:-Cleaning-4.2\"><span class=\"toc-item-num\">4.2&nbsp;&nbsp;</span><strong>Reddit Data: Cleaning</strong></a></span><ul class=\"toc-item\"><li><span><a href=\"#Test-that-each-dataset-only-has-24-columns\" data-toc-modified-id=\"Test-that-each-dataset-only-has-24-columns-4.2.1\"><span class=\"toc-item-num\">4.2.1&nbsp;&nbsp;</span><strong>Test that each dataset only has 24 columns</strong></a></span></li><li><span><a href=\"#Drop-unneeded-columns-and-create-a-new-combined-dataset-called-'Reddit_Financial_data'\" data-toc-modified-id=\"Drop-unneeded-columns-and-create-a-new-combined-dataset-called-'Reddit_Financial_data'-4.2.2\"><span class=\"toc-item-num\">4.2.2&nbsp;&nbsp;</span><strong>Drop unneeded columns and create a new combined dataset called 'Reddit_Financial_data'</strong></a></span></li><li><span><a href=\"#Check-for-Null-Values\" data-toc-modified-id=\"Check-for-Null-Values-4.2.3\"><span class=\"toc-item-num\">4.2.3&nbsp;&nbsp;</span><strong>Check for Null Values</strong></a></span></li><li><span><a href=\"#Check-for-Duplicate-Values\" data-toc-modified-id=\"Check-for-Duplicate-Values-4.2.4\"><span class=\"toc-item-num\">4.2.4&nbsp;&nbsp;</span><strong>Check for Duplicate Values</strong></a></span></li><li><span><a href=\"#Check-the-object-types\" data-toc-modified-id=\"Check-the-object-types-4.2.5\"><span class=\"toc-item-num\">4.2.5&nbsp;&nbsp;</span><strong>Check the object types</strong></a></span><ul class=\"toc-item\"><li><span><a href=\"#Change-score-object-to-an-Int\" data-toc-modified-id=\"Change-score-object-to-an-Int-4.2.5.1\"><span class=\"toc-item-num\">4.2.5.1&nbsp;&nbsp;</span><strong>Change score object to an Int</strong></a></span></li><li><span><a href=\"#Change-num_comments-object-to-an-Int\" data-toc-modified-id=\"Change-num_comments-object-to-an-Int-4.2.5.2\"><span class=\"toc-item-num\">4.2.5.2&nbsp;&nbsp;</span><strong>Change num_comments object to an Int</strong></a></span></li><li><span><a href=\"#Change-upvote_ratio-object-to-a-float\" data-toc-modified-id=\"Change-upvote_ratio-object-to-a-float-4.2.5.3\"><span class=\"toc-item-num\">4.2.5.3&nbsp;&nbsp;</span><strong>Change upvote_ratio object to a float</strong></a></span></li><li><span><a href=\"#Change-created-object-to-a-time-series\" data-toc-modified-id=\"Change-created-object-to-a-time-series-4.2.5.4\"><span class=\"toc-item-num\">4.2.5.4&nbsp;&nbsp;</span><strong>Change created object to a time series</strong></a></span></li></ul></li><li><span><a href=\"#Lower-the-title-to-lower-case-for-easier-searches-later\" data-toc-modified-id=\"Lower-the-title-to-lower-case-for-easier-searches-later-4.2.6\"><span class=\"toc-item-num\">4.2.6&nbsp;&nbsp;</span><strong>Lower the title to lower case for easier searches later</strong></a></span></li><li><span><a href=\"#Reseting-the-index\" data-toc-modified-id=\"Reseting-the-index-4.2.7\"><span class=\"toc-item-num\">4.2.7&nbsp;&nbsp;</span><strong>Reseting the index</strong></a></span></li><li><span><a href=\"#Save-a-copy-of-the-Reddit-Data\" data-toc-modified-id=\"Save-a-copy-of-the-Reddit-Data-4.2.8\"><span class=\"toc-item-num\">4.2.8&nbsp;&nbsp;</span><strong>Save a copy of the Reddit Data</strong></a></span></li></ul></li></ul></li><li><span><a href=\"#Game-Stop-Mentions\" data-toc-modified-id=\"Game-Stop-Mentions-5\"><span class=\"toc-item-num\">5&nbsp;&nbsp;</span><strong>Game Stop Mentions</strong></a></span><ul class=\"toc-item\"><li><span><a href=\"#Game-Stop-Mentions-Data\" data-toc-modified-id=\"Game-Stop-Mentions-Data-5.1\"><span class=\"toc-item-num\">5.1&nbsp;&nbsp;</span><strong>Game Stop Mentions Data</strong></a></span><ul class=\"toc-item\"><li><span><a href=\"#Number-of-Game-Stop-mentions\" data-toc-modified-id=\"Number-of-Game-Stop-mentions-5.1.1\"><span class=\"toc-item-num\">5.1.1&nbsp;&nbsp;</span><strong>Number of Game Stop mentions</strong></a></span></li></ul></li><li><span><a href=\"#Game-Stop-mentions:-EDA\" data-toc-modified-id=\"Game-Stop-mentions:-EDA-5.2\"><span class=\"toc-item-num\">5.2&nbsp;&nbsp;</span><strong>Game Stop mentions: EDA</strong></a></span><ul class=\"toc-item\"><li><span><a href=\"#Plot-Game-Stop-mentions-over-a-year-period\" data-toc-modified-id=\"Plot-Game-Stop-mentions-over-a-year-period-5.2.1\"><span class=\"toc-item-num\">5.2.1&nbsp;&nbsp;</span><strong>Plot Game Stop mentions over a year period</strong></a></span></li><li><span><a href=\"#Plot-Game-Stop-mentions-by-week-for-the-year\" data-toc-modified-id=\"Plot-Game-Stop-mentions-by-week-for-the-year-5.2.2\"><span class=\"toc-item-num\">5.2.2&nbsp;&nbsp;</span><strong>Plot Game Stop mentions by week for the year</strong></a></span></li><li><span><a href=\"#Plot-Game-Stop-mentions-for-first-4-months\" data-toc-modified-id=\"Plot-Game-Stop-mentions-for-first-4-months-5.2.3\"><span class=\"toc-item-num\">5.2.3&nbsp;&nbsp;</span><strong>Plot Game Stop mentions for first 4 months</strong></a></span></li><li><span><a href=\"#Plot-Game-Stop-mentions-by-days-for-the-first-40-days\" data-toc-modified-id=\"Plot-Game-Stop-mentions-by-days-for-the-first-40-days-5.2.4\"><span class=\"toc-item-num\">5.2.4&nbsp;&nbsp;</span><strong>Plot Game Stop mentions by days for the first 40 days</strong></a></span></li><li><span><a href=\"#Who-were-the-top-users-posting\" data-toc-modified-id=\"Who-were-the-top-users-posting-5.2.5\"><span class=\"toc-item-num\">5.2.5&nbsp;&nbsp;</span><strong>Who were the top users posting</strong></a></span></li></ul></li></ul></li><li><span><a href=\"#Game-Stop-Share-Price\" data-toc-modified-id=\"Game-Stop-Share-Price-6\"><span class=\"toc-item-num\">6&nbsp;&nbsp;</span><strong>Game Stop Share Price</strong></a></span><ul class=\"toc-item\"><li><span><a href=\"#Game-Stop-Share-Price-Data\" data-toc-modified-id=\"Game-Stop-Share-Price-Data-6.1\"><span class=\"toc-item-num\">6.1&nbsp;&nbsp;</span><strong>Game Stop Share Price Data</strong></a></span><ul class=\"toc-item\"><li><span><a href=\"#Game-Stop-Data\" data-toc-modified-id=\"Game-Stop-Data-6.1.1\"><span class=\"toc-item-num\">6.1.1&nbsp;&nbsp;</span><strong>Game Stop Data</strong></a></span></li><li><span><a href=\"#Column-break-down-for-Game-Stop-Share-Price-data\" data-toc-modified-id=\"Column-break-down-for-Game-Stop-Share-Price-data-6.1.2\"><span class=\"toc-item-num\">6.1.2&nbsp;&nbsp;</span><strong>Column break down for Game Stop Share Price data</strong></a></span></li></ul></li><li><span><a href=\"#Game-Stop-Share-Price:-Cleaning\" data-toc-modified-id=\"Game-Stop-Share-Price:-Cleaning-6.2\"><span class=\"toc-item-num\">6.2&nbsp;&nbsp;</span><strong>Game Stop Share Price: Cleaning</strong></a></span><ul class=\"toc-item\"><li><span><a href=\"#Take-the-date-from-1/1/2021-to-31/12/2021\" data-toc-modified-id=\"Take-the-date-from-1/1/2021-to-31/12/2021-6.2.1\"><span class=\"toc-item-num\">6.2.1&nbsp;&nbsp;</span><strong>Take the date from 1/1/2021 to 31/12/2021</strong></a></span></li><li><span><a href=\"#Check-for-Null-values.\" data-toc-modified-id=\"Check-for-Null-values.-6.2.2\"><span class=\"toc-item-num\">6.2.2&nbsp;&nbsp;</span><strong>Check for Null values.</strong></a></span></li><li><span><a href=\"#Check-for-Duplicate-Values\" data-toc-modified-id=\"Check-for-Duplicate-Values-6.2.3\"><span class=\"toc-item-num\">6.2.3&nbsp;&nbsp;</span><strong>Check for Duplicate Values</strong></a></span></li><li><span><a href=\"#Check-the-object-types\" data-toc-modified-id=\"Check-the-object-types-6.2.4\"><span class=\"toc-item-num\">6.2.4&nbsp;&nbsp;</span><strong>Check the object types</strong></a></span></li><li><span><a href=\"#Check-if-close-and-adjusted-close-at-the-same\" data-toc-modified-id=\"Check-if-close-and-adjusted-close-at-the-same-6.2.5\"><span class=\"toc-item-num\">6.2.5&nbsp;&nbsp;</span><strong>Check if close and adjusted close at the same</strong></a></span></li><li><span><a href=\"#Round-the-columns\" data-toc-modified-id=\"Round-the-columns-6.2.6\"><span class=\"toc-item-num\">6.2.6&nbsp;&nbsp;</span><strong>Round the columns</strong></a></span></li><li><span><a href=\"#Reseting-the-index-of-the-completed\" data-toc-modified-id=\"Reseting-the-index-of-the-completed-6.2.7\"><span class=\"toc-item-num\">6.2.7&nbsp;&nbsp;</span><strong>Reseting the index of the completed</strong></a></span></li><li><span><a href=\"#Save-a-copy-of-the-Game-Stop-Share-Price\" data-toc-modified-id=\"Save-a-copy-of-the-Game-Stop-Share-Price-6.2.8\"><span class=\"toc-item-num\">6.2.8&nbsp;&nbsp;</span><strong>Save a copy of the Game Stop Share Price</strong></a></span></li></ul></li><li><span><a href=\"#Game-Stop-Share-Price:-EDA\" data-toc-modified-id=\"Game-Stop-Share-Price:-EDA-6.3\"><span class=\"toc-item-num\">6.3&nbsp;&nbsp;</span><strong>Game Stop Share Price: EDA</strong></a></span><ul class=\"toc-item\"><li><span><a href=\"#Plot-Game-Stop-Share-Price-for-the-year\" data-toc-modified-id=\"Plot-Game-Stop-Share-Price-for-the-year-6.3.1\"><span class=\"toc-item-num\">6.3.1&nbsp;&nbsp;</span><strong>Plot Game Stop Share Price for the year</strong></a></span></li><li><span><a href=\"#Plot-Game-Stop-Share-Price-by-week-for-the-year\" data-toc-modified-id=\"Plot-Game-Stop-Share-Price-by-week-for-the-year-6.3.2\"><span class=\"toc-item-num\">6.3.2&nbsp;&nbsp;</span><strong>Plot Game Stop Share Price by week for the year</strong></a></span></li><li><span><a href=\"#Plot-Game-Stop-Share-Price-by-week-for-the-first-four-months\" data-toc-modified-id=\"Plot-Game-Stop-Share-Price-by-week-for-the-first-four-months-6.3.3\"><span class=\"toc-item-num\">6.3.3&nbsp;&nbsp;</span><strong>Plot Game Stop Share Price by week for the first four months</strong></a></span></li></ul></li></ul></li><li><span><a href=\"#Join-Datasets\" data-toc-modified-id=\"Join-Datasets-7\"><span class=\"toc-item-num\">7&nbsp;&nbsp;</span><strong>Join Datasets</strong></a></span><ul class=\"toc-item\"><li><span><a href=\"#Game-Stop-Reddit-Mentions-Dataset-with-Game-Stop-Share-Price-Dataset\" data-toc-modified-id=\"Game-Stop-Reddit-Mentions-Dataset-with-Game-Stop-Share-Price-Dataset-7.1\"><span class=\"toc-item-num\">7.1&nbsp;&nbsp;</span><strong>Game Stop Reddit Mentions Dataset with Game Stop Share Price Dataset</strong></a></span></li><li><span><a href=\"#Join-Data\" data-toc-modified-id=\"Join-Data-7.2\"><span class=\"toc-item-num\">7.2&nbsp;&nbsp;</span><strong>Join Data</strong></a></span><ul class=\"toc-item\"><li><span><a href=\"#Sort-the-data-by-date\" data-toc-modified-id=\"Sort-the-data-by-date-7.2.1\"><span class=\"toc-item-num\">7.2.1&nbsp;&nbsp;</span><strong>Sort the data by date</strong></a></span></li><li><span><a href=\"#Drop-the-'created'-date-column\" data-toc-modified-id=\"Drop-the-'created'-date-column-7.2.2\"><span class=\"toc-item-num\">7.2.2&nbsp;&nbsp;</span><strong>Drop the 'created' date column</strong></a></span></li><li><span><a href=\"#Null-Values\" data-toc-modified-id=\"Null-Values-7.2.3\"><span class=\"toc-item-num\">7.2.3&nbsp;&nbsp;</span><strong>Null Values</strong></a></span></li><li><span><a href=\"#Use-a-fillna-method-to-fill-the-missing-dates\" data-toc-modified-id=\"Use-a-fillna-method-to-fill-the-missing-dates-7.2.4\"><span class=\"toc-item-num\">7.2.4&nbsp;&nbsp;</span><strong>Use a fillna method to fill the missing dates</strong></a></span></li><li><span><a href=\"#Duplicates\" data-toc-modified-id=\"Duplicates-7.2.5\"><span class=\"toc-item-num\">7.2.5&nbsp;&nbsp;</span><strong>Duplicates</strong></a></span></li><li><span><a href=\"#Look-at-the-data:-Change-volume-to-int\" data-toc-modified-id=\"Look-at-the-data:-Change-volume-to-int-7.2.6\"><span class=\"toc-item-num\">7.2.6&nbsp;&nbsp;</span><strong>Look at the data: Change volume to int</strong></a></span></li></ul></li><li><span><a href=\"#EDA-on-Joined-Data\" data-toc-modified-id=\"EDA-on-Joined-Data-7.3\"><span class=\"toc-item-num\">7.3&nbsp;&nbsp;</span><strong>EDA on Joined Data</strong></a></span></li></ul></li><li><span><a href=\"#New-features\" data-toc-modified-id=\"New-features-8\"><span class=\"toc-item-num\">8&nbsp;&nbsp;</span><strong>New features</strong></a></span><ul class=\"toc-item\"><li><span><a href=\"#GME-mentions-per-day\" data-toc-modified-id=\"GME-mentions-per-day-8.1\"><span class=\"toc-item-num\">8.1&nbsp;&nbsp;</span><strong>GME mentions per day</strong></a></span></li><li><span><a href=\"#GME-mentions-for-last-2,-3,-4,-5-days\" data-toc-modified-id=\"GME-mentions-for-last-2,-3,-4,-5-days-8.2\"><span class=\"toc-item-num\">8.2&nbsp;&nbsp;</span><strong>GME mentions for last 2, 3, 4, 5 days</strong></a></span><ul class=\"toc-item\"><li><span><a href=\"#2-day-rolling-window\" data-toc-modified-id=\"2-day-rolling-window-8.2.1\"><span class=\"toc-item-num\">8.2.1&nbsp;&nbsp;</span><strong>2 day rolling window</strong></a></span></li><li><span><a href=\"#3-day-rollling-window\" data-toc-modified-id=\"3-day-rollling-window-8.2.2\"><span class=\"toc-item-num\">8.2.2&nbsp;&nbsp;</span><strong>3 day rollling window</strong></a></span></li><li><span><a href=\"#4-day-rollling-window\" data-toc-modified-id=\"4-day-rollling-window-8.2.3\"><span class=\"toc-item-num\">8.2.3&nbsp;&nbsp;</span><strong>4 day rollling window</strong></a></span></li><li><span><a href=\"#5-day-rollling-window\" data-toc-modified-id=\"5-day-rollling-window-8.2.4\"><span class=\"toc-item-num\">8.2.4&nbsp;&nbsp;</span><strong>5 day rollling window</strong></a></span></li></ul></li><li><span><a href=\"#Game-Stop-Mentions-for-lag-days\" data-toc-modified-id=\"Game-Stop-Mentions-for-lag-days-8.3\"><span class=\"toc-item-num\">8.3&nbsp;&nbsp;</span><strong>Game Stop Mentions for lag days</strong></a></span><ul class=\"toc-item\"><li><span><a href=\"#1-day-before-lag-feature\" data-toc-modified-id=\"1-day-before-lag-feature-8.3.1\"><span class=\"toc-item-num\">8.3.1&nbsp;&nbsp;</span><strong>1 day before lag feature</strong></a></span></li><li><span><a href=\"#2-day-before-lag-feature\" data-toc-modified-id=\"2-day-before-lag-feature-8.3.2\"><span class=\"toc-item-num\">8.3.2&nbsp;&nbsp;</span><strong>2 day before lag feature</strong></a></span></li><li><span><a href=\"#3-day-before-lag-feature\" data-toc-modified-id=\"3-day-before-lag-feature-8.3.3\"><span class=\"toc-item-num\">8.3.3&nbsp;&nbsp;</span><strong>3 day before lag feature</strong></a></span></li></ul></li><li><span><a href=\"#Share-Price-Lag-forward-5-days\" data-toc-modified-id=\"Share-Price-Lag-forward-5-days-8.4\"><span class=\"toc-item-num\">8.4&nbsp;&nbsp;</span><strong>Share Price Lag forward 5 days</strong></a></span><ul class=\"toc-item\"><li><span><a href=\"#2-day-rolling-window-for-Share-price\" data-toc-modified-id=\"2-day-rolling-window-for-Share-price-8.4.1\"><span class=\"toc-item-num\">8.4.1&nbsp;&nbsp;</span><strong>2 day rolling window for Share price</strong></a></span></li><li><span><a href=\"#3-day-rolling-window-for-Share-price\" data-toc-modified-id=\"3-day-rolling-window-for-Share-price-8.4.2\"><span class=\"toc-item-num\">8.4.2&nbsp;&nbsp;</span><strong>3 day rolling window for Share price</strong></a></span></li><li><span><a href=\"#4-day-rolling-window-for-Share-price\" data-toc-modified-id=\"4-day-rolling-window-for-Share-price-8.4.3\"><span class=\"toc-item-num\">8.4.3&nbsp;&nbsp;</span><strong>4 day rolling window for Share price</strong></a></span></li><li><span><a href=\"#5-day-rolling-window-for-Share-price\" data-toc-modified-id=\"5-day-rolling-window-for-Share-price-8.4.4\"><span class=\"toc-item-num\">8.4.4&nbsp;&nbsp;</span><strong>5 day rolling window for Share price</strong></a></span></li></ul></li><li><span><a href=\"#Date-Features\" data-toc-modified-id=\"Date-Features-8.5\"><span class=\"toc-item-num\">8.5&nbsp;&nbsp;</span><strong>Date Features</strong></a></span><ul class=\"toc-item\"><li><span><a href=\"#Date-Feature-by-Month\" data-toc-modified-id=\"Date-Feature-by-Month-8.5.1\"><span class=\"toc-item-num\">8.5.1&nbsp;&nbsp;</span><strong>Date Feature by Month</strong></a></span></li><li><span><a href=\"#Date-Feature-by-day\" data-toc-modified-id=\"Date-Feature-by-day-8.5.2\"><span class=\"toc-item-num\">8.5.2&nbsp;&nbsp;</span><strong>Date Feature by day</strong></a></span></li></ul></li></ul></li><li><span><a href=\"#Save-Updates-till-now\" data-toc-modified-id=\"Save-Updates-till-now-9\"><span class=\"toc-item-num\">9&nbsp;&nbsp;</span><strong>Save Updates till now</strong></a></span><ul class=\"toc-item\"><li><ul class=\"toc-item\"><li><span><a href=\"#Save-the-new-data-frame-to-csv\" data-toc-modified-id=\"Save-the-new-data-frame-to-csv-9.0.1\"><span class=\"toc-item-num\">9.0.1&nbsp;&nbsp;</span><strong>Save the new data frame to csv</strong></a></span></li></ul></li></ul></li><li><span><a href=\"#Issues-with-Data\" data-toc-modified-id=\"Issues-with-Data-10\"><span class=\"toc-item-num\">10&nbsp;&nbsp;</span><strong>Issues with Data</strong></a></span><ul class=\"toc-item\"><li><span><a href=\"#Issue-1:-Suspected-issue-with-fillna-method\" data-toc-modified-id=\"Issue-1:-Suspected-issue-with-fillna-method-10.1\"><span class=\"toc-item-num\">10.1&nbsp;&nbsp;</span><strong>Issue 1: Suspected issue with fillna method</strong></a></span></li></ul></li><li><span><a href=\"#Future-tasks/jobs\" data-toc-modified-id=\"Future-tasks/jobs-11\"><span class=\"toc-item-num\">11&nbsp;&nbsp;</span><strong>Future tasks/jobs</strong></a></span></li><li><span><a href=\"#Conclusion\" data-toc-modified-id=\"Conclusion-12\"><span class=\"toc-item-num\">12&nbsp;&nbsp;</span><strong>Conclusion</strong></a></span></li></ul></div>"
   ]
  },
  {
   "cell_type": "markdown",
   "id": "0a52b38e",
   "metadata": {},
   "source": [
    "---\n",
    "---\n",
    "---"
   ]
  },
  {
   "cell_type": "markdown",
   "id": "565ca63a",
   "metadata": {},
   "source": [
    "# **Introduction**"
   ]
  },
  {
   "cell_type": "markdown",
   "id": "2ad8ba31",
   "metadata": {},
   "source": [
    "The original inspiration for this capstone project came from an article I read on how users on Reddit decided to buy Game Stop Shares in a bid to raise the price. I was interested if could model this behaviour, what issues would arise and could I use NLP to look at the comments made by users.\n",
    "<br><br>\n",
    "**Background of Game Stop Share Price increase** <br>\n",
    "In January 2021 users on on Reddit decided to buy Game Stop Shares they did this to raise the price but also punish some short selling Wall Street trades. The price of a share of Game Stop was 17 us dollars at the start of January and by the end of the month it had increase to 325 us dollars while at certain times hitting peaks of over 500 us dollars throughout a days trading. This was an 1800% increase in the value of the share and also caused a short squeeze which cost some traders to lose over 1 Billion us.\n",
    "<br><br>\n",
    "Lets look into the data:"
   ]
  },
  {
   "cell_type": "markdown",
   "id": "cf65463a",
   "metadata": {},
   "source": [
    "---\n",
    "---\n",
    "---"
   ]
  },
  {
   "cell_type": "markdown",
   "id": "98661d3d",
   "metadata": {},
   "source": [
    "# **Documentation overview**\n",
    "    "
   ]
  },
  {
   "cell_type": "markdown",
   "id": "7e5460a2",
   "metadata": {},
   "source": [
    "I have worked with a number of documents and notebooks you will find in this project, below is a description of each:<br><br>\n",
    "**1. Read me file**\n",
    "- Overview on what files to read first.\n",
    "<br>\n",
    "\n",
    "**2. Processing, Cleaning and EDA**<br>\n",
    "- Used to combine different data sets from Reddit and the Share price.\n",
    "- Cleaning Data.\n",
    "- EDA of the Reddit and Game Stop Share Price.\n",
    "- Creating new Features for modeling.\n",
    "<br>\n",
    "\n",
    "**3. Modelling: NLP**\n",
    "- Natural Language Processing\n",
    "- Explore Linear Regression, Decision Trees, Random Forest, XG Boost.\n",
    "<br>\n",
    "\n",
    "**4. Modelling: Time Series**\n",
    "- Brief look at time series.\n",
    "<br>\n",
    "\n",
    "**5. Git Bash Kernal Requirements File**\n",
    "- List of all the libraries used in the Project.\n"
   ]
  },
  {
   "cell_type": "markdown",
   "id": "bea2e721",
   "metadata": {},
   "source": [
    "## **Comment out save of plots**"
   ]
  },
  {
   "cell_type": "markdown",
   "id": "fcdb4927",
   "metadata": {},
   "source": [
    "I have commented out the plot save code so that the code does not run an error when you try and run my code. These saved plots are included in my Google Drive for reference."
   ]
  },
  {
   "cell_type": "markdown",
   "id": "908cafb6",
   "metadata": {},
   "source": [
    "---\n",
    "---\n",
    "---"
   ]
  },
  {
   "cell_type": "markdown",
   "id": "3a1a06ce",
   "metadata": {
    "ExecuteTime": {
     "end_time": "2022-03-17T20:29:16.328185Z",
     "start_time": "2022-03-17T20:29:16.318216Z"
    }
   },
   "source": [
    "# **Reddit**"
   ]
  },
  {
   "cell_type": "markdown",
   "id": "fc57ee80",
   "metadata": {},
   "source": [
    "We will be sourcing our social media data from reddit. The reason I picked this was because this is where the users decided to talk about buying and holding Game Stop Shares. "
   ]
  },
  {
   "cell_type": "markdown",
   "id": "44ba5b10",
   "metadata": {
    "ExecuteTime": {
     "end_time": "2022-04-02T12:21:55.447317Z",
     "start_time": "2022-04-02T12:21:55.430362Z"
    }
   },
   "source": [
    "---"
   ]
  },
  {
   "cell_type": "markdown",
   "id": "e292dcfc",
   "metadata": {},
   "source": [
    "## **Reddit Data**"
   ]
  },
  {
   "cell_type": "markdown",
   "id": "7d21dedd",
   "metadata": {},
   "source": [
    "---"
   ]
  },
  {
   "cell_type": "markdown",
   "id": "9aa7779c",
   "metadata": {},
   "source": [
    "### **Reddit Sub-Reddits**"
   ]
  },
  {
   "cell_type": "markdown",
   "id": "b9db9621",
   "metadata": {},
   "source": [
    "The Reddit Data has been sourced from Kaggle (https://www.kaggle.com/leukipp/reddit-finance-data) but was originally scrapped from Reddit.\n",
    "<br><br>\n",
    "We have 14 reddit sub-reddit datasets that have all been classified as financial. We will use these to get 'mentions' of shares to look to see if there is a link between mentions and share price. \n",
    "<br><br>\n",
    "This data is made up of 14 data sets from Reddit all taken from 1st of Janruary 2021 to 31st December 2021.\n",
    "   - r/wallstreetbets: 775,326 rows\n",
    "   - r/gme: 273,327 rows\n",
    "   - r/personalfinance: 131,181 rows \n",
    "   - r/stocks: 75,857 rows     \n",
    "   - r/pennystocks: 54,785 rows\n",
    "   - r/stockmarket: 43,809 rows \n",
    "   - r/investing: 41,912 rows \n",
    "   - r/options: 28,782 rows\n",
    "   - r/robinhoodpennystocks: 23,304 rows\n",
    "   - r/robinhood: 18,893 rows \n",
    "   - r/forex: 14,643 rows \n",
    "   - r/financialindependence: 10,338 rows \n",
    "   - r/finance: 7,130 rows \n",
    "   - r/securityanalysis: 1,510 rows \n"
   ]
  },
  {
   "cell_type": "markdown",
   "id": "82bc1794",
   "metadata": {
    "ExecuteTime": {
     "end_time": "2022-04-01T15:50:35.020684Z",
     "start_time": "2022-04-01T15:50:34.998714Z"
    }
   },
   "source": [
    "These are our 14 Reddit data sets, we will combine these later into one Reddit Dataset."
   ]
  },
  {
   "attachments": {
    "image-2.png": {
     "image/png": "[encoded data removed]"
    }
   },
   "cell_type": "markdown",
   "id": "88d13fd4",
   "metadata": {},
   "source": [
    "![image-2.png](attachment:image-2.png)!"
   ]
  },
  {
   "cell_type": "markdown",
   "id": "17977416",
   "metadata": {},
   "source": [
    "---"
   ]
  },
  {
   "cell_type": "markdown",
   "id": "9a39fe1d",
   "metadata": {},
   "source": [
    "### **Column break down for reddit data**"
   ]
  },
  {
   "cell_type": "markdown",
   "id": "5840e12c",
   "metadata": {},
   "source": [
    "There are 24 columns that have been broken down as follows:\n",
    "- **id** (string): The id of the submission.\n",
    "- **author** (string): The redditors username.\n",
    "- **created** (datetime): Time the submission was created.\n",
    "- **retrieved** (datetime): Time the submission was retrieved.\n",
    "- **edited** (datetime): Time the submission was modified.\n",
    "- **pinned** (integer): Whether or not the submission is pinned.\n",
    "- **archived** (integer): Whether or not the submission is archived.\n",
    "- **locked** (integer): Whether or not the submission is locked.\n",
    "- **removed** (integer): Whether or not the submission is mod removed.\n",
    "- **deleted** (integer): Whether or not the submission is user deleted.\n",
    "- **is_self** (integer): Whether or not the submission is a text.\n",
    "- **is_video** (integer): Whether or not the submission is a video.\n",
    "- **is_original_content** (integer): Whether or not the submission has been set as original content.\n",
    "- **title** (string): The title of the submission.\n",
    "- **link_flair_text** (string): The submission link flairs text content.\n",
    "- **upvote_ratio** (number): The percentage of upvotes from all votes on the submission.\n",
    "- **score** (integer): The number of upvotes for the submission.\n",
    "- **gilded** (integer): The number of gilded awards on the submission.\n",
    "- **total_awards_received** (integer): The number of awards on the submission.\n",
    "- **num_comments** (integer): The number of comments on the submission.\n",
    "- **num_crossposts** (integer): The number of crossposts on the submission.\n",
    "- **selftext** (string): The submission selftext on text posts.\n",
    "- **thumbnail** (string): The submission thumbnail on image posts.\n",
    "- **shortlink** (string): The submission short url."
   ]
  },
  {
   "cell_type": "markdown",
   "id": "fe439237",
   "metadata": {},
   "source": [
    "---"
   ]
  },
  {
   "cell_type": "markdown",
   "id": "b39d7556",
   "metadata": {},
   "source": [
    "### **Which columns will we be keeping and why?**"
   ]
  },
  {
   "cell_type": "markdown",
   "id": "4b36008f",
   "metadata": {},
   "source": [
    "We will not need all 24 columns from the datasets. We will take the follow:\n",
    "- **author:** \n",
    "    - The author is the person who made the comment.\n",
    "    - The author may be of interest to look at how many times a user mentions a share price.\n",
    "        - For example: Are a small group of users making most of the comments on a share.\n",
    "- **created:**\n",
    "    - Time the comment was made.\n",
    "    - The date will be important to track the mentions over time to match with the share price.\n",
    "- **title:**\n",
    "    - The body of the comment made by users.\n",
    "    - Inside the title we will look for the mentions of a share price.\n",
    "- **upvote_ratio** \n",
    "    - The percentage of up votes from other users. \n",
    "    - The ratio between positive up votes and negative down votes to a comment.\n",
    "        - Could give interesting insights on how users react to a discussion on a particular share.\n",
    "- **score:*** \n",
    "    - A score is the number of up votes minus the number of down votes. \n",
    "- **num_count**\n",
    "    - number of up votes. Can use this to workout the number of down votes with upvote_ratio.\n"
   ]
  },
  {
   "cell_type": "markdown",
   "id": "11bf7e49",
   "metadata": {},
   "source": [
    "---"
   ]
  },
  {
   "cell_type": "markdown",
   "id": "0a05a651",
   "metadata": {},
   "source": [
    "## **Reddit Data: Cleaning**"
   ]
  },
  {
   "cell_type": "markdown",
   "id": "e1e8f3c7",
   "metadata": {},
   "source": [
    "There are 14 reddit financial sub reddits as mentioned. We will be performing a number of operations on these datasets: <br>\n",
    "- Test that each dataset only has 24 columns.<br>\n",
    "- Drop unneeded columns and create a new combined dataset called 'Reddit_Financial_data'. <br>\n",
    "- Check for Null values. <br>\n",
    "- Check for Duplicate Values. <br>\n",
    "- Check the object types. <br>\n",
    "    - Change score object to an Int\n",
    "    - Change num_comments object to an Int\n",
    "    - Change upvote_ratio object to a float\n",
    "    - Change create object to a time series\n",
    "- Lower the title to lower case for easier seaches later. <br>\n",
    "- Reseting the index of the completed. <br>"
   ]
  },
  {
   "cell_type": "code",
   "execution_count": 135,
   "id": "c3ee9e78",
   "metadata": {
    "ExecuteTime": {
     "end_time": "2022-04-04T12:21:24.347357Z",
     "start_time": "2022-04-04T12:21:24.302476Z"
    }
   },
   "outputs": [],
   "source": [
    "# Add libraries\n",
    "import pandas as pd\n",
    "import numpy as np\n",
    "import seaborn as sns\n",
    "import matplotlib.pyplot as plt\n",
    "%matplotlib inline"
   ]
  },
  {
   "cell_type": "code",
   "execution_count": 136,
   "id": "4c820df6",
   "metadata": {
    "ExecuteTime": {
     "end_time": "2022-04-04T12:21:24.363314Z",
     "start_time": "2022-04-04T12:21:24.349351Z"
    }
   },
   "outputs": [],
   "source": [
    "# Remove warnings. These are not important\n",
    "import warnings\n",
    "warnings.filterwarnings(\"ignore\")"
   ]
  },
  {
   "cell_type": "markdown",
   "id": "cd10186d",
   "metadata": {},
   "source": [
    "We will read in the 14 datasets. While this way is not the most efficent our data is not that large so its not an issue."
   ]
  },
  {
   "cell_type": "code",
   "execution_count": 137,
   "id": "d304e86a",
   "metadata": {
    "ExecuteTime": {
     "end_time": "2022-04-04T12:21:34.583656Z",
     "start_time": "2022-04-04T12:21:24.364312Z"
    }
   },
   "outputs": [],
   "source": [
    "# Place the 14 reddit csv files into an individual DataFrame to work on.\n",
    "finance_df = pd.read_csv('Data/finance.csv')\n",
    "financialindependence_df = pd.read_csv('Data/financialindependence.csv')\n",
    "forex_df = pd.read_csv('Data/forex.csv')\n",
    "gme_df = pd.read_csv('Data/gme.csv')\n",
    "investing_df = pd.read_csv('Data/investing.csv')\n",
    "options_df = pd.read_csv('Data/options.csv')\n",
    "pennystocks_df = pd.read_csv('Data/pennystocks.csv')\n",
    "personalfinance_df = pd.read_csv('Data/personalfinance.csv')\n",
    "robinhood_df = pd.read_csv('Data/robinhood.csv')\n",
    "robinhoodpennystocks_df = pd.read_csv('Data/robinhoodpennystocks.csv')\n",
    "securityanalysis_df = pd.read_csv('Data/securityanalysis.csv')\n",
    "stockmarket_df = pd.read_csv('Data/stockmarket.csv')\n",
    "stocks_df = pd.read_csv('Data/stocks.csv')\n",
    "wallstreetbets_df = pd.read_csv('Data/wallstreetbets.csv')"
   ]
  },
  {
   "cell_type": "markdown",
   "id": "2737a9c6",
   "metadata": {},
   "source": [
    "We have now loaded in all the different datasets.\n",
    "<br><br>\n",
    "We will join these to a list first so we can do some checks on the data."
   ]
  },
  {
   "cell_type": "code",
   "execution_count": 138,
   "id": "81fae897",
   "metadata": {
    "ExecuteTime": {
     "end_time": "2022-04-04T12:21:35.661523Z",
     "start_time": "2022-04-04T12:21:34.584690Z"
    }
   },
   "outputs": [],
   "source": [
    "# Create a single list to of all the reddit_databases.\n",
    "reddit_datasets=[finance_df, financialindependence_df, forex_df, gme_df, investing_df, options_df, pennystocks_df, \n",
    "                 personalfinance_df, robinhood_df, robinhoodpennystocks_df, securityanalysis_df, stockmarket_df,\n",
    "                stocks_df, wallstreetbets_df]"
   ]
  },
  {
   "cell_type": "markdown",
   "id": "e34dddbe",
   "metadata": {},
   "source": [
    "We have loaded in the 14 datasets into one list called 'reddit_datasets'"
   ]
  },
  {
   "cell_type": "markdown",
   "id": "5487e5a0",
   "metadata": {},
   "source": [
    "---"
   ]
  },
  {
   "cell_type": "markdown",
   "id": "343b51f4",
   "metadata": {},
   "source": [
    "### **Test that each dataset only has 24 columns**"
   ]
  },
  {
   "cell_type": "markdown",
   "id": "ee80f227",
   "metadata": {},
   "source": [
    "We will do a test to make sure that each of the datasets only has the 24 columns the documentation says it has."
   ]
  },
  {
   "cell_type": "code",
   "execution_count": 139,
   "id": "863d8ded",
   "metadata": {
    "ExecuteTime": {
     "end_time": "2022-04-04T12:21:37.146584Z",
     "start_time": "2022-04-04T12:21:35.663517Z"
    }
   },
   "outputs": [
    {
     "name": "stdout",
     "output_type": "stream",
     "text": [
      "<class 'pandas.core.frame.DataFrame'>\n",
      "RangeIndex: 7130 entries, 0 to 7129\n",
      "Data columns (total 24 columns):\n",
      " #   Column                 Non-Null Count  Dtype  \n",
      "---  ------                 --------------  -----  \n",
      " 0   id                     7130 non-null   object \n",
      " 1   author                 7130 non-null   object \n",
      " 2   created                7130 non-null   object \n",
      " 3   retrieved              7130 non-null   object \n",
      " 4   edited                 7130 non-null   object \n",
      " 5   pinned                 7130 non-null   int64  \n",
      " 6   archived               7130 non-null   int64  \n",
      " 7   locked                 7130 non-null   int64  \n",
      " 8   removed                7130 non-null   int64  \n",
      " 9   deleted                7130 non-null   int64  \n",
      " 10  is_self                7130 non-null   int64  \n",
      " 11  is_video               7130 non-null   int64  \n",
      " 12  is_original_content    7130 non-null   int64  \n",
      " 13  title                  7130 non-null   object \n",
      " 14  link_flair_text        7130 non-null   object \n",
      " 15  upvote_ratio           7130 non-null   float64\n",
      " 16  score                  7130 non-null   int64  \n",
      " 17  gilded                 7130 non-null   int64  \n",
      " 18  total_awards_received  7130 non-null   int64  \n",
      " 19  num_comments           7130 non-null   int64  \n",
      " 20  num_crossposts         7130 non-null   int64  \n",
      " 21  selftext               596 non-null    object \n",
      " 22  thumbnail              7130 non-null   object \n",
      " 23  shortlink              7130 non-null   object \n",
      "dtypes: float64(1), int64(13), object(10)\n",
      "memory usage: 1.3+ MB\n",
      "None\n",
      "<class 'pandas.core.frame.DataFrame'>\n",
      "RangeIndex: 10338 entries, 0 to 10337\n",
      "Data columns (total 24 columns):\n",
      " #   Column                 Non-Null Count  Dtype  \n",
      "---  ------                 --------------  -----  \n",
      " 0   id                     10338 non-null  object \n",
      " 1   author                 10338 non-null  object \n",
      " 2   created                10338 non-null  object \n",
      " 3   retrieved              10338 non-null  object \n",
      " 4   edited                 10338 non-null  object \n",
      " 5   pinned                 10338 non-null  int64  \n",
      " 6   archived               10338 non-null  int64  \n",
      " 7   locked                 10338 non-null  int64  \n",
      " 8   removed                10338 non-null  int64  \n",
      " 9   deleted                10338 non-null  int64  \n",
      " 10  is_self                10338 non-null  int64  \n",
      " 11  is_video               10338 non-null  int64  \n",
      " 12  is_original_content    10338 non-null  int64  \n",
      " 13  title                  10337 non-null  object \n",
      " 14  link_flair_text        10338 non-null  object \n",
      " 15  upvote_ratio           10338 non-null  float64\n",
      " 16  score                  10338 non-null  int64  \n",
      " 17  gilded                 10338 non-null  int64  \n",
      " 18  total_awards_received  10338 non-null  int64  \n",
      " 19  num_comments           10338 non-null  int64  \n",
      " 20  num_crossposts         10338 non-null  int64  \n",
      " 21  selftext               10338 non-null  object \n",
      " 22  thumbnail              10338 non-null  object \n",
      " 23  shortlink              10338 non-null  object \n",
      "dtypes: float64(1), int64(13), object(10)\n",
      "memory usage: 1.9+ MB\n",
      "None\n",
      "<class 'pandas.core.frame.DataFrame'>\n",
      "RangeIndex: 14643 entries, 0 to 14642\n",
      "Data columns (total 24 columns):\n",
      " #   Column                 Non-Null Count  Dtype  \n",
      "---  ------                 --------------  -----  \n",
      " 0   id                     14643 non-null  object \n",
      " 1   author                 14643 non-null  object \n",
      " 2   created                14643 non-null  object \n",
      " 3   retrieved              14643 non-null  object \n",
      " 4   edited                 14643 non-null  object \n",
      " 5   pinned                 14643 non-null  int64  \n",
      " 6   archived               14643 non-null  int64  \n",
      " 7   locked                 14643 non-null  int64  \n",
      " 8   removed                14643 non-null  int64  \n",
      " 9   deleted                14643 non-null  int64  \n",
      " 10  is_self                14643 non-null  int64  \n",
      " 11  is_video               14643 non-null  int64  \n",
      " 12  is_original_content    14643 non-null  int64  \n",
      " 13  title                  14643 non-null  object \n",
      " 14  link_flair_text        14643 non-null  object \n",
      " 15  upvote_ratio           14643 non-null  float64\n",
      " 16  score                  14643 non-null  int64  \n",
      " 17  gilded                 14643 non-null  int64  \n",
      " 18  total_awards_received  14643 non-null  int64  \n",
      " 19  num_comments           14643 non-null  int64  \n",
      " 20  num_crossposts         14643 non-null  int64  \n",
      " 21  selftext               9773 non-null   object \n",
      " 22  thumbnail              14643 non-null  object \n",
      " 23  shortlink              14643 non-null  object \n",
      "dtypes: float64(1), int64(13), object(10)\n",
      "memory usage: 2.7+ MB\n",
      "None\n",
      "<class 'pandas.core.frame.DataFrame'>\n",
      "RangeIndex: 273327 entries, 0 to 273326\n",
      "Data columns (total 24 columns):\n",
      " #   Column                 Non-Null Count   Dtype  \n",
      "---  ------                 --------------   -----  \n",
      " 0   id                     273327 non-null  object \n",
      " 1   author                 273327 non-null  object \n",
      " 2   created                273327 non-null  object \n",
      " 3   retrieved              273327 non-null  object \n",
      " 4   edited                 273327 non-null  object \n",
      " 5   pinned                 273327 non-null  int64  \n",
      " 6   archived               273327 non-null  int64  \n",
      " 7   locked                 273327 non-null  int64  \n",
      " 8   removed                273327 non-null  int64  \n",
      " 9   deleted                273327 non-null  int64  \n",
      " 10  is_self                273327 non-null  int64  \n",
      " 11  is_video               273327 non-null  int64  \n",
      " 12  is_original_content    273327 non-null  int64  \n",
      " 13  title                  273327 non-null  object \n",
      " 14  link_flair_text        273327 non-null  object \n",
      " 15  upvote_ratio           273327 non-null  float64\n",
      " 16  score                  273327 non-null  int64  \n",
      " 17  gilded                 273327 non-null  int64  \n",
      " 18  total_awards_received  273327 non-null  int64  \n",
      " 19  num_comments           273327 non-null  int64  \n",
      " 20  num_crossposts         273327 non-null  int64  \n",
      " 21  selftext               140087 non-null  object \n",
      " 22  thumbnail              273327 non-null  object \n",
      " 23  shortlink              273327 non-null  object \n",
      "dtypes: float64(1), int64(13), object(10)\n",
      "memory usage: 50.0+ MB\n",
      "None\n",
      "<class 'pandas.core.frame.DataFrame'>\n",
      "RangeIndex: 41912 entries, 0 to 41911\n",
      "Data columns (total 24 columns):\n",
      " #   Column                 Non-Null Count  Dtype  \n",
      "---  ------                 --------------  -----  \n",
      " 0   id                     41912 non-null  object \n",
      " 1   author                 41912 non-null  object \n",
      " 2   created                41912 non-null  object \n",
      " 3   retrieved              41912 non-null  object \n",
      " 4   edited                 41912 non-null  object \n",
      " 5   pinned                 41912 non-null  int64  \n",
      " 6   archived               41912 non-null  int64  \n",
      " 7   locked                 41912 non-null  int64  \n",
      " 8   removed                41912 non-null  int64  \n",
      " 9   deleted                41912 non-null  int64  \n",
      " 10  is_self                41912 non-null  int64  \n",
      " 11  is_video               41912 non-null  int64  \n",
      " 12  is_original_content    41912 non-null  int64  \n",
      " 13  title                  41912 non-null  object \n",
      " 14  link_flair_text        41912 non-null  object \n",
      " 15  upvote_ratio           41912 non-null  float64\n",
      " 16  score                  41912 non-null  int64  \n",
      " 17  gilded                 41912 non-null  int64  \n",
      " 18  total_awards_received  41912 non-null  int64  \n",
      " 19  num_comments           41912 non-null  int64  \n",
      " 20  num_crossposts         41912 non-null  int64  \n",
      " 21  selftext               41910 non-null  object \n",
      " 22  thumbnail              41912 non-null  object \n",
      " 23  shortlink              41912 non-null  object \n",
      "dtypes: float64(1), int64(13), object(10)\n",
      "memory usage: 7.7+ MB\n",
      "None\n",
      "<class 'pandas.core.frame.DataFrame'>\n",
      "RangeIndex: 28782 entries, 0 to 28781\n",
      "Data columns (total 24 columns):\n",
      " #   Column                 Non-Null Count  Dtype  \n",
      "---  ------                 --------------  -----  \n",
      " 0   id                     28782 non-null  object \n",
      " 1   author                 28782 non-null  object \n",
      " 2   created                28782 non-null  object \n",
      " 3   retrieved              28782 non-null  object \n",
      " 4   edited                 28782 non-null  object \n",
      " 5   pinned                 28782 non-null  int64  \n",
      " 6   archived               28782 non-null  int64  \n",
      " 7   locked                 28782 non-null  int64  \n",
      " 8   removed                28782 non-null  int64  \n",
      " 9   deleted                28782 non-null  int64  \n",
      " 10  is_self                28782 non-null  int64  \n",
      " 11  is_video               28782 non-null  int64  \n",
      " 12  is_original_content    28782 non-null  int64  \n",
      " 13  title                  28782 non-null  object \n",
      " 14  link_flair_text        28782 non-null  object \n",
      " 15  upvote_ratio           28782 non-null  float64\n",
      " 16  score                  28782 non-null  int64  \n",
      " 17  gilded                 28782 non-null  int64  \n",
      " 18  total_awards_received  28782 non-null  int64  \n",
      " 19  num_comments           28782 non-null  int64  \n",
      " 20  num_crossposts         28782 non-null  int64  \n",
      " 21  selftext               25431 non-null  object \n",
      " 22  thumbnail              28782 non-null  object \n",
      " 23  shortlink              28782 non-null  object \n",
      "dtypes: float64(1), int64(13), object(10)\n",
      "memory usage: 5.3+ MB\n",
      "None\n",
      "<class 'pandas.core.frame.DataFrame'>\n",
      "RangeIndex: 54785 entries, 0 to 54784\n",
      "Data columns (total 24 columns):\n",
      " #   Column                 Non-Null Count  Dtype  \n",
      "---  ------                 --------------  -----  \n",
      " 0   id                     54785 non-null  object \n",
      " 1   author                 54785 non-null  object \n",
      " 2   created                54785 non-null  object \n",
      " 3   retrieved              54785 non-null  object \n",
      " 4   edited                 54785 non-null  object \n",
      " 5   pinned                 54785 non-null  int64  \n",
      " 6   archived               54785 non-null  int64  \n",
      " 7   locked                 54785 non-null  int64  \n",
      " 8   removed                54785 non-null  int64  \n",
      " 9   deleted                54785 non-null  int64  \n",
      " 10  is_self                54785 non-null  int64  \n",
      " 11  is_video               54785 non-null  int64  \n",
      " 12  is_original_content    54785 non-null  int64  \n",
      " 13  title                  54785 non-null  object \n",
      " 14  link_flair_text        54785 non-null  object \n",
      " 15  upvote_ratio           54785 non-null  float64\n",
      " 16  score                  54785 non-null  int64  \n",
      " 17  gilded                 54785 non-null  int64  \n",
      " 18  total_awards_received  54785 non-null  int64  \n",
      " 19  num_comments           54785 non-null  int64  \n",
      " 20  num_crossposts         54785 non-null  int64  \n",
      " 21  selftext               43435 non-null  object \n",
      " 22  thumbnail              54785 non-null  object \n",
      " 23  shortlink              54785 non-null  object \n",
      "dtypes: float64(1), int64(13), object(10)\n",
      "memory usage: 10.0+ MB\n",
      "None\n"
     ]
    },
    {
     "name": "stdout",
     "output_type": "stream",
     "text": [
      "<class 'pandas.core.frame.DataFrame'>\n",
      "RangeIndex: 131181 entries, 0 to 131180\n",
      "Data columns (total 24 columns):\n",
      " #   Column                 Non-Null Count   Dtype  \n",
      "---  ------                 --------------   -----  \n",
      " 0   id                     131181 non-null  object \n",
      " 1   author                 131181 non-null  object \n",
      " 2   created                131181 non-null  object \n",
      " 3   retrieved              131181 non-null  object \n",
      " 4   edited                 131181 non-null  object \n",
      " 5   pinned                 131181 non-null  int64  \n",
      " 6   archived               131181 non-null  int64  \n",
      " 7   locked                 131181 non-null  int64  \n",
      " 8   removed                131181 non-null  int64  \n",
      " 9   deleted                131181 non-null  int64  \n",
      " 10  is_self                131181 non-null  int64  \n",
      " 11  is_video               131181 non-null  int64  \n",
      " 12  is_original_content    131181 non-null  int64  \n",
      " 13  title                  131181 non-null  object \n",
      " 14  link_flair_text        131181 non-null  object \n",
      " 15  upvote_ratio           131181 non-null  float64\n",
      " 16  score                  131181 non-null  int64  \n",
      " 17  gilded                 131181 non-null  int64  \n",
      " 18  total_awards_received  131181 non-null  int64  \n",
      " 19  num_comments           131181 non-null  int64  \n",
      " 20  num_crossposts         131181 non-null  int64  \n",
      " 21  selftext               130585 non-null  object \n",
      " 22  thumbnail              131181 non-null  object \n",
      " 23  shortlink              131181 non-null  object \n",
      "dtypes: float64(1), int64(13), object(10)\n",
      "memory usage: 24.0+ MB\n",
      "None\n",
      "<class 'pandas.core.frame.DataFrame'>\n",
      "RangeIndex: 18893 entries, 0 to 18892\n",
      "Data columns (total 24 columns):\n",
      " #   Column                 Non-Null Count  Dtype  \n",
      "---  ------                 --------------  -----  \n",
      " 0   id                     18893 non-null  object \n",
      " 1   author                 18893 non-null  object \n",
      " 2   created                18893 non-null  object \n",
      " 3   retrieved              18893 non-null  object \n",
      " 4   edited                 18893 non-null  object \n",
      " 5   pinned                 18893 non-null  int64  \n",
      " 6   archived               18893 non-null  int64  \n",
      " 7   locked                 18893 non-null  int64  \n",
      " 8   removed                18893 non-null  int64  \n",
      " 9   deleted                18893 non-null  int64  \n",
      " 10  is_self                18893 non-null  int64  \n",
      " 11  is_video               18893 non-null  int64  \n",
      " 12  is_original_content    18893 non-null  int64  \n",
      " 13  title                  18893 non-null  object \n",
      " 14  link_flair_text        18893 non-null  object \n",
      " 15  upvote_ratio           18893 non-null  float64\n",
      " 16  score                  18893 non-null  int64  \n",
      " 17  gilded                 18893 non-null  int64  \n",
      " 18  total_awards_received  18893 non-null  int64  \n",
      " 19  num_comments           18893 non-null  int64  \n",
      " 20  num_crossposts         18893 non-null  int64  \n",
      " 21  selftext               14109 non-null  object \n",
      " 22  thumbnail              18893 non-null  object \n",
      " 23  shortlink              18893 non-null  object \n",
      "dtypes: float64(1), int64(13), object(10)\n",
      "memory usage: 3.5+ MB\n",
      "None\n",
      "<class 'pandas.core.frame.DataFrame'>\n",
      "RangeIndex: 23304 entries, 0 to 23303\n",
      "Data columns (total 24 columns):\n",
      " #   Column                 Non-Null Count  Dtype  \n",
      "---  ------                 --------------  -----  \n",
      " 0   id                     23304 non-null  object \n",
      " 1   author                 23304 non-null  object \n",
      " 2   created                23304 non-null  object \n",
      " 3   retrieved              23304 non-null  object \n",
      " 4   edited                 23304 non-null  object \n",
      " 5   pinned                 23304 non-null  int64  \n",
      " 6   archived               23304 non-null  int64  \n",
      " 7   locked                 23304 non-null  int64  \n",
      " 8   removed                23304 non-null  int64  \n",
      " 9   deleted                23304 non-null  int64  \n",
      " 10  is_self                23304 non-null  int64  \n",
      " 11  is_video               23304 non-null  int64  \n",
      " 12  is_original_content    23304 non-null  int64  \n",
      " 13  title                  23304 non-null  object \n",
      " 14  link_flair_text        23304 non-null  object \n",
      " 15  upvote_ratio           23304 non-null  float64\n",
      " 16  score                  23304 non-null  int64  \n",
      " 17  gilded                 23304 non-null  int64  \n",
      " 18  total_awards_received  23304 non-null  int64  \n",
      " 19  num_comments           23304 non-null  int64  \n",
      " 20  num_crossposts         23304 non-null  int64  \n",
      " 21  selftext               14923 non-null  object \n",
      " 22  thumbnail              23304 non-null  object \n",
      " 23  shortlink              23304 non-null  object \n",
      "dtypes: float64(1), int64(13), object(10)\n",
      "memory usage: 4.3+ MB\n",
      "None\n",
      "<class 'pandas.core.frame.DataFrame'>\n",
      "RangeIndex: 1510 entries, 0 to 1509\n",
      "Data columns (total 24 columns):\n",
      " #   Column                 Non-Null Count  Dtype  \n",
      "---  ------                 --------------  -----  \n",
      " 0   id                     1510 non-null   object \n",
      " 1   author                 1510 non-null   object \n",
      " 2   created                1510 non-null   object \n",
      " 3   retrieved              1510 non-null   object \n",
      " 4   edited                 1510 non-null   object \n",
      " 5   pinned                 1510 non-null   int64  \n",
      " 6   archived               1510 non-null   int64  \n",
      " 7   locked                 1510 non-null   int64  \n",
      " 8   removed                1510 non-null   int64  \n",
      " 9   deleted                1510 non-null   int64  \n",
      " 10  is_self                1510 non-null   int64  \n",
      " 11  is_video               1510 non-null   int64  \n",
      " 12  is_original_content    1510 non-null   int64  \n",
      " 13  title                  1510 non-null   object \n",
      " 14  link_flair_text        1510 non-null   object \n",
      " 15  upvote_ratio           1510 non-null   float64\n",
      " 16  score                  1510 non-null   int64  \n",
      " 17  gilded                 1510 non-null   int64  \n",
      " 18  total_awards_received  1510 non-null   int64  \n",
      " 19  num_comments           1510 non-null   int64  \n",
      " 20  num_crossposts         1510 non-null   int64  \n",
      " 21  selftext               579 non-null    object \n",
      " 22  thumbnail              1510 non-null   object \n",
      " 23  shortlink              1510 non-null   object \n",
      "dtypes: float64(1), int64(13), object(10)\n",
      "memory usage: 283.2+ KB\n",
      "None\n",
      "<class 'pandas.core.frame.DataFrame'>\n",
      "RangeIndex: 43809 entries, 0 to 43808\n",
      "Data columns (total 24 columns):\n",
      " #   Column                 Non-Null Count  Dtype  \n",
      "---  ------                 --------------  -----  \n",
      " 0   id                     43809 non-null  object \n",
      " 1   author                 43809 non-null  object \n",
      " 2   created                43809 non-null  object \n",
      " 3   retrieved              43809 non-null  object \n",
      " 4   edited                 43809 non-null  object \n",
      " 5   pinned                 43809 non-null  int64  \n",
      " 6   archived               43809 non-null  int64  \n",
      " 7   locked                 43809 non-null  int64  \n",
      " 8   removed                43809 non-null  int64  \n",
      " 9   deleted                43809 non-null  int64  \n",
      " 10  is_self                43809 non-null  int64  \n",
      " 11  is_video               43809 non-null  int64  \n",
      " 12  is_original_content    43809 non-null  int64  \n",
      " 13  title                  43809 non-null  object \n",
      " 14  link_flair_text        43809 non-null  object \n",
      " 15  upvote_ratio           43809 non-null  float64\n",
      " 16  score                  43809 non-null  int64  \n",
      " 17  gilded                 43809 non-null  int64  \n",
      " 18  total_awards_received  43809 non-null  int64  \n",
      " 19  num_comments           43809 non-null  int64  \n",
      " 20  num_crossposts         43809 non-null  int64  \n",
      " 21  selftext               26683 non-null  object \n",
      " 22  thumbnail              43809 non-null  object \n",
      " 23  shortlink              43809 non-null  object \n",
      "dtypes: float64(1), int64(13), object(10)\n",
      "memory usage: 8.0+ MB\n",
      "None\n",
      "<class 'pandas.core.frame.DataFrame'>\n",
      "RangeIndex: 75857 entries, 0 to 75856\n",
      "Data columns (total 24 columns):\n",
      " #   Column                 Non-Null Count  Dtype  \n",
      "---  ------                 --------------  -----  \n",
      " 0   id                     75857 non-null  object \n",
      " 1   author                 75857 non-null  object \n",
      " 2   created                75857 non-null  object \n",
      " 3   retrieved              75857 non-null  object \n",
      " 4   edited                 75857 non-null  object \n",
      " 5   pinned                 75857 non-null  int64  \n",
      " 6   archived               75857 non-null  int64  \n",
      " 7   locked                 75857 non-null  int64  \n",
      " 8   removed                75857 non-null  int64  \n",
      " 9   deleted                75857 non-null  int64  \n",
      " 10  is_self                75857 non-null  int64  \n",
      " 11  is_video               75857 non-null  int64  \n",
      " 12  is_original_content    75857 non-null  int64  \n",
      " 13  title                  75857 non-null  object \n",
      " 14  link_flair_text        75857 non-null  object \n",
      " 15  upvote_ratio           75857 non-null  float64\n",
      " 16  score                  75857 non-null  int64  \n",
      " 17  gilded                 75857 non-null  int64  \n",
      " 18  total_awards_received  75857 non-null  int64  \n",
      " 19  num_comments           75857 non-null  int64  \n",
      " 20  num_crossposts         75857 non-null  int64  \n",
      " 21  selftext               75810 non-null  object \n",
      " 22  thumbnail              75857 non-null  object \n",
      " 23  shortlink              75857 non-null  object \n",
      "dtypes: float64(1), int64(13), object(10)\n",
      "memory usage: 13.9+ MB\n",
      "None\n"
     ]
    },
    {
     "name": "stdout",
     "output_type": "stream",
     "text": [
      "<class 'pandas.core.frame.DataFrame'>\n",
      "RangeIndex: 775999 entries, 0 to 775998\n",
      "Data columns (total 26 columns):\n",
      " #   Column                 Non-Null Count   Dtype \n",
      "---  ------                 --------------   ----- \n",
      " 0   id                     775681 non-null  object\n",
      " 1   author                 775523 non-null  object\n",
      " 2   created                775476 non-null  object\n",
      " 3   retrieved              775438 non-null  object\n",
      " 4   edited                 775414 non-null  object\n",
      " 5   pinned                 775393 non-null  object\n",
      " 6   archived               775376 non-null  object\n",
      " 7   locked                 775367 non-null  object\n",
      " 8   removed                775355 non-null  object\n",
      " 9   deleted                775350 non-null  object\n",
      " 10  is_self                775337 non-null  object\n",
      " 11  is_video               775335 non-null  object\n",
      " 12  is_original_content    775332 non-null  object\n",
      " 13  title                  775330 non-null  object\n",
      " 14  link_flair_text        775330 non-null  object\n",
      " 15  upvote_ratio           775330 non-null  object\n",
      " 16  score                  775330 non-null  object\n",
      " 17  gilded                 775328 non-null  object\n",
      " 18  total_awards_received  775328 non-null  object\n",
      " 19  num_comments           775327 non-null  object\n",
      " 20  num_crossposts         775327 non-null  object\n",
      " 21  selftext               513413 non-null  object\n",
      " 22  thumbnail              775299 non-null  object\n",
      " 23  shortlink              775299 non-null  object\n",
      " 24  Unnamed: 24            1 non-null       object\n",
      " 25  Unnamed: 25            1 non-null       object\n",
      "dtypes: object(26)\n",
      "memory usage: 153.9+ MB\n",
      "None\n"
     ]
    }
   ],
   "source": [
    "# Look into each data set to see column names.\n",
    "for dataset in reddit_datasets:\n",
    "  print(dataset.info())  "
   ]
  },
  {
   "cell_type": "markdown",
   "id": "50c506b6",
   "metadata": {
    "ExecuteTime": {
     "end_time": "2022-02-26T15:05:19.134113Z",
     "start_time": "2022-02-26T15:05:19.127130Z"
    }
   },
   "source": [
    "We can look though each dataset and get a summary of the column names, amounts, object types. \n",
    "<br>\n",
    "<br>\n",
    "For now we are only interested in the columns names and how many there are.\n",
    "<br>\n",
    "<br>\n",
    "We can see that wallstreetbets has picked up two additional columns, 24 and 25 that no not appear in the other datasets.\n",
    "<br>\n",
    "<br>\n",
    "Lets investiagate to make sure we can drop them."
   ]
  },
  {
   "cell_type": "code",
   "execution_count": 140,
   "id": "409961c9",
   "metadata": {
    "ExecuteTime": {
     "end_time": "2022-04-04T12:21:37.715364Z",
     "start_time": "2022-04-04T12:21:37.147552Z"
    }
   },
   "outputs": [
    {
     "name": "stdout",
     "output_type": "stream",
     "text": [
      "<class 'pandas.core.frame.DataFrame'>\n",
      "RangeIndex: 775999 entries, 0 to 775998\n",
      "Data columns (total 26 columns):\n",
      " #   Column                 Non-Null Count   Dtype \n",
      "---  ------                 --------------   ----- \n",
      " 0   id                     775681 non-null  object\n",
      " 1   author                 775523 non-null  object\n",
      " 2   created                775476 non-null  object\n",
      " 3   retrieved              775438 non-null  object\n",
      " 4   edited                 775414 non-null  object\n",
      " 5   pinned                 775393 non-null  object\n",
      " 6   archived               775376 non-null  object\n",
      " 7   locked                 775367 non-null  object\n",
      " 8   removed                775355 non-null  object\n",
      " 9   deleted                775350 non-null  object\n",
      " 10  is_self                775337 non-null  object\n",
      " 11  is_video               775335 non-null  object\n",
      " 12  is_original_content    775332 non-null  object\n",
      " 13  title                  775330 non-null  object\n",
      " 14  link_flair_text        775330 non-null  object\n",
      " 15  upvote_ratio           775330 non-null  object\n",
      " 16  score                  775330 non-null  object\n",
      " 17  gilded                 775328 non-null  object\n",
      " 18  total_awards_received  775328 non-null  object\n",
      " 19  num_comments           775327 non-null  object\n",
      " 20  num_crossposts         775327 non-null  object\n",
      " 21  selftext               513413 non-null  object\n",
      " 22  thumbnail              775299 non-null  object\n",
      " 23  shortlink              775299 non-null  object\n",
      " 24  Unnamed: 24            1 non-null       object\n",
      " 25  Unnamed: 25            1 non-null       object\n",
      "dtypes: object(26)\n",
      "memory usage: 153.9+ MB\n"
     ]
    }
   ],
   "source": [
    "# Look at the wallstreetbets dataset by itself.\n",
    "wallstreetbets_df.info()"
   ]
  },
  {
   "cell_type": "markdown",
   "id": "c6540ea1",
   "metadata": {},
   "source": [
    "It does look like columns 24 and 25 are nearly completely empty.<br><br>\n",
    "\n",
    "We can look to see what the null count is for the columns."
   ]
  },
  {
   "cell_type": "code",
   "execution_count": 141,
   "id": "42d49d92",
   "metadata": {
    "ExecuteTime": {
     "end_time": "2022-04-04T12:21:38.271973Z",
     "start_time": "2022-04-04T12:21:37.716382Z"
    }
   },
   "outputs": [
    {
     "data": {
      "text/plain": [
       "id                          318\n",
       "author                      476\n",
       "created                     523\n",
       "retrieved                   561\n",
       "edited                      585\n",
       "pinned                      606\n",
       "archived                    623\n",
       "locked                      632\n",
       "removed                     644\n",
       "deleted                     649\n",
       "is_self                     662\n",
       "is_video                    664\n",
       "is_original_content         667\n",
       "title                       669\n",
       "link_flair_text             669\n",
       "upvote_ratio                669\n",
       "score                       669\n",
       "gilded                      671\n",
       "total_awards_received       671\n",
       "num_comments                672\n",
       "num_crossposts              672\n",
       "selftext                 262586\n",
       "thumbnail                   700\n",
       "shortlink                   700\n",
       "Unnamed: 24              775998\n",
       "Unnamed: 25              775998\n",
       "dtype: int64"
      ]
     },
     "execution_count": 141,
     "metadata": {},
     "output_type": "execute_result"
    }
   ],
   "source": [
    "# Lets check the Null values.\n",
    "wallstreetbets_df.isna().sum()"
   ]
  },
  {
   "cell_type": "markdown",
   "id": "dbe237c9",
   "metadata": {},
   "source": [
    "Columns 24 and 25 have all null values. Probably a mistake on the scappering. We will delete these two rows manually\n",
    "<br>\n",
    "<br>\n",
    "**Note:** There are more Null Values in other columns, especially selftext but we will look into this later. <br><br>\n",
    "\n",
    "We will delete these two unneeded columns."
   ]
  },
  {
   "cell_type": "code",
   "execution_count": 142,
   "id": "e81cef75",
   "metadata": {
    "ExecuteTime": {
     "end_time": "2022-04-04T12:21:39.048512Z",
     "start_time": "2022-04-04T12:21:38.272942Z"
    }
   },
   "outputs": [
    {
     "name": "stdout",
     "output_type": "stream",
     "text": [
      "<class 'pandas.core.frame.DataFrame'>\n",
      "RangeIndex: 775999 entries, 0 to 775998\n",
      "Data columns (total 24 columns):\n",
      " #   Column                 Non-Null Count   Dtype \n",
      "---  ------                 --------------   ----- \n",
      " 0   id                     775681 non-null  object\n",
      " 1   author                 775523 non-null  object\n",
      " 2   created                775476 non-null  object\n",
      " 3   retrieved              775438 non-null  object\n",
      " 4   edited                 775414 non-null  object\n",
      " 5   pinned                 775393 non-null  object\n",
      " 6   archived               775376 non-null  object\n",
      " 7   locked                 775367 non-null  object\n",
      " 8   removed                775355 non-null  object\n",
      " 9   deleted                775350 non-null  object\n",
      " 10  is_self                775337 non-null  object\n",
      " 11  is_video               775335 non-null  object\n",
      " 12  is_original_content    775332 non-null  object\n",
      " 13  title                  775330 non-null  object\n",
      " 14  link_flair_text        775330 non-null  object\n",
      " 15  upvote_ratio           775330 non-null  object\n",
      " 16  score                  775330 non-null  object\n",
      " 17  gilded                 775328 non-null  object\n",
      " 18  total_awards_received  775328 non-null  object\n",
      " 19  num_comments           775327 non-null  object\n",
      " 20  num_crossposts         775327 non-null  object\n",
      " 21  selftext               513413 non-null  object\n",
      " 22  thumbnail              775299 non-null  object\n",
      " 23  shortlink              775299 non-null  object\n",
      "dtypes: object(24)\n",
      "memory usage: 142.1+ MB\n"
     ]
    }
   ],
   "source": [
    "# Delete the two unnamed columns, save the updated wallstreetbets_df and double check deleted.\n",
    "wallstreetbets_df.drop(wallstreetbets_df.columns[24:26], axis=1, inplace=True)\n",
    "wallstreetbets_df.info()"
   ]
  },
  {
   "cell_type": "markdown",
   "id": "6fce26d0",
   "metadata": {},
   "source": [
    "Great, the two columns have been dropped and all the Reddit data sets now have the right amount of columns."
   ]
  },
  {
   "cell_type": "markdown",
   "id": "d79a9ecf",
   "metadata": {},
   "source": [
    "---"
   ]
  },
  {
   "cell_type": "markdown",
   "id": "f3040a4e",
   "metadata": {},
   "source": [
    "### **Drop unneeded columns and create a new combined dataset called 'Reddit_Financial_data'**"
   ]
  },
  {
   "cell_type": "markdown",
   "id": "536970f2",
   "metadata": {},
   "source": [
    "We have the same columns in all the data sets.\n",
    "<br>\n",
    "<br>\n",
    "We know from above which we want to keep and will drop the unneeded ones.\n",
    "<br>\n",
    "<br>\n",
    "Then we will join each of the edited datasets into one single dataset called 'reddit_finance_dataset'.\n"
   ]
  },
  {
   "cell_type": "code",
   "execution_count": 143,
   "id": "9796f093",
   "metadata": {
    "ExecuteTime": {
     "end_time": "2022-04-04T12:21:39.730615Z",
     "start_time": "2022-04-04T12:21:39.049520Z"
    }
   },
   "outputs": [],
   "source": [
    "# Create a for loop to drop each of the unneeded columns and then add the datasets into one dataset.\n",
    "reddit_finance_dataset = pd.DataFrame()\n",
    "\n",
    "for dataset in reddit_datasets: \n",
    "    # drop the columns we do not want.\n",
    "    dropped_columns_datasets  = dataset.drop(dataset.columns[[0,3,4,5,6,7,8,9,10,11,12,14,17,18,20,21,22,23]], axis=1) \n",
    "    reddit_finance_dataset = reddit_finance_dataset.append(dropped_columns_datasets)"
   ]
  },
  {
   "cell_type": "code",
   "execution_count": 144,
   "id": "dd5e93dc",
   "metadata": {
    "ExecuteTime": {
     "end_time": "2022-04-04T12:21:40.016664Z",
     "start_time": "2022-04-04T12:21:39.731252Z"
    }
   },
   "outputs": [
    {
     "name": "stdout",
     "output_type": "stream",
     "text": [
      "<class 'pandas.core.frame.DataFrame'>\n",
      "Int64Index: 1501470 entries, 0 to 775998\n",
      "Data columns (total 6 columns):\n",
      " #   Column        Non-Null Count    Dtype \n",
      "---  ------        --------------    ----- \n",
      " 0   author        1500994 non-null  object\n",
      " 1   created       1500947 non-null  object\n",
      " 2   title         1500800 non-null  object\n",
      " 3   upvote_ratio  1500801 non-null  object\n",
      " 4   score         1500801 non-null  object\n",
      " 5   num_comments  1500798 non-null  object\n",
      "dtypes: object(6)\n",
      "memory usage: 80.2+ MB\n"
     ]
    }
   ],
   "source": [
    "# Check on the new dataset\n",
    "reddit_finance_dataset.info()"
   ]
  },
  {
   "cell_type": "markdown",
   "id": "024c292a",
   "metadata": {
    "ExecuteTime": {
     "end_time": "2022-02-26T15:30:04.747624Z",
     "start_time": "2022-02-26T15:30:04.743635Z"
    }
   },
   "source": [
    "We now have only the columns we wanted to keep and we can see that we also have 1,501,470 rows. \n",
    "<br><br>\n",
    "\n",
    "All the column types are 'object' but we will look at this a little later."
   ]
  },
  {
   "cell_type": "markdown",
   "id": "9919507b",
   "metadata": {},
   "source": [
    "---"
   ]
  },
  {
   "cell_type": "markdown",
   "id": "c9e4adc2",
   "metadata": {},
   "source": [
    "### **Check for Null Values**"
   ]
  },
  {
   "cell_type": "markdown",
   "id": "b3d5f387",
   "metadata": {},
   "source": [
    "Next, we will look into what null values we have."
   ]
  },
  {
   "cell_type": "code",
   "execution_count": 145,
   "id": "3c8ee00f",
   "metadata": {
    "ExecuteTime": {
     "end_time": "2022-04-04T12:21:40.301931Z",
     "start_time": "2022-04-04T12:21:40.018661Z"
    }
   },
   "outputs": [
    {
     "data": {
      "text/plain": [
       "author          476\n",
       "created         523\n",
       "title           670\n",
       "upvote_ratio    669\n",
       "score           669\n",
       "num_comments    672\n",
       "dtype: int64"
      ]
     },
     "execution_count": 145,
     "metadata": {},
     "output_type": "execute_result"
    }
   ],
   "source": [
    "# Get a list of the NaN values in new reddit_finance_dataset\n",
    "reddit_finance_dataset.isna().sum()"
   ]
  },
  {
   "cell_type": "markdown",
   "id": "367daf9b",
   "metadata": {},
   "source": [
    "There is a very low number of NaN values which is good news.<br><br> \n",
    "There are 670 are in the titles and this is where the share names will be mentioned. We can not fix what we do not have so we will drop these first."
   ]
  },
  {
   "cell_type": "code",
   "execution_count": 146,
   "id": "58dd01d4",
   "metadata": {
    "ExecuteTime": {
     "end_time": "2022-04-04T12:21:40.999044Z",
     "start_time": "2022-04-04T12:21:40.302900Z"
    }
   },
   "outputs": [],
   "source": [
    "# Drop the 670 NaN in the title column.\n",
    "reddit_finance_dataset.dropna(subset=['title'], inplace=True)"
   ]
  },
  {
   "cell_type": "markdown",
   "id": "74b87535",
   "metadata": {},
   "source": [
    "Now that they are dropped we can check how many of these 670 rows where in the other rows."
   ]
  },
  {
   "cell_type": "code",
   "execution_count": 147,
   "id": "8953c298",
   "metadata": {
    "ExecuteTime": {
     "end_time": "2022-04-04T12:21:41.283568Z",
     "start_time": "2022-04-04T12:21:41.000042Z"
    }
   },
   "outputs": [
    {
     "data": {
      "text/plain": [
       "author          0\n",
       "created         0\n",
       "title           0\n",
       "upvote_ratio    1\n",
       "score           1\n",
       "num_comments    4\n",
       "dtype: int64"
      ]
     },
     "execution_count": 147,
     "metadata": {},
     "output_type": "execute_result"
    }
   ],
   "source": [
    "# Check on the remaining missing rows.\n",
    "reddit_finance_dataset.isna().sum()"
   ]
  },
  {
   "cell_type": "markdown",
   "id": "5799744d",
   "metadata": {},
   "source": [
    "There are very few missing values left after dropping the null values from the title column. These last few are a tiny fraction of the 1.5 million so for time we will drop them as well."
   ]
  },
  {
   "cell_type": "code",
   "execution_count": 148,
   "id": "6388b1fb",
   "metadata": {
    "ExecuteTime": {
     "end_time": "2022-04-04T12:21:41.729321Z",
     "start_time": "2022-04-04T12:21:41.287560Z"
    }
   },
   "outputs": [],
   "source": [
    "# Drop remainding null values.\n",
    "reddit_finance_dataset.dropna( inplace=True)"
   ]
  },
  {
   "cell_type": "markdown",
   "id": "76cd396c",
   "metadata": {},
   "source": [
    "We can do one last check to see if we have any remaining NaN values in any of the rows."
   ]
  },
  {
   "cell_type": "code",
   "execution_count": 149,
   "id": "7348e625",
   "metadata": {
    "ExecuteTime": {
     "end_time": "2022-04-04T12:21:42.013501Z",
     "start_time": "2022-04-04T12:21:41.730319Z"
    }
   },
   "outputs": [
    {
     "name": "stdout",
     "output_type": "stream",
     "text": [
      "author          0\n",
      "created         0\n",
      "title           0\n",
      "upvote_ratio    0\n",
      "score           0\n",
      "num_comments    0\n",
      "dtype: int64\n",
      "(1500796, 6)\n"
     ]
    }
   ],
   "source": [
    "# Shape to check null vlaues and size of columns and rows\n",
    "print(reddit_finance_dataset.isna().sum())\n",
    "print(reddit_finance_dataset.shape)"
   ]
  },
  {
   "cell_type": "markdown",
   "id": "2dc1a67c",
   "metadata": {},
   "source": [
    "We can see that we are no longer missing any data."
   ]
  },
  {
   "cell_type": "markdown",
   "id": "aafba069",
   "metadata": {},
   "source": [
    "---"
   ]
  },
  {
   "cell_type": "markdown",
   "id": "2b5c6bbc",
   "metadata": {},
   "source": [
    "### **Check for Duplicate Values**"
   ]
  },
  {
   "cell_type": "markdown",
   "id": "6c5ef599",
   "metadata": {
    "ExecuteTime": {
     "end_time": "2022-02-26T16:14:36.323647Z",
     "start_time": "2022-02-26T16:14:36.313677Z"
    }
   },
   "source": [
    "Lets do a check for any duplicate rows"
   ]
  },
  {
   "cell_type": "code",
   "execution_count": 150,
   "id": "8c6ae11e",
   "metadata": {
    "ExecuteTime": {
     "end_time": "2022-04-04T12:21:43.411636Z",
     "start_time": "2022-04-04T12:21:42.014506Z"
    }
   },
   "outputs": [
    {
     "data": {
      "text/plain": [
       "1275"
      ]
     },
     "execution_count": 150,
     "metadata": {},
     "output_type": "execute_result"
    }
   ],
   "source": [
    "# Check for dulicate rows\n",
    "reddit_finance_dataset.duplicated().sum()"
   ]
  },
  {
   "cell_type": "markdown",
   "id": "ea038399",
   "metadata": {},
   "source": [
    "We have 1,275 duplicate rows. There are a few reasons for duplicates:\n",
    "- Advertisements. Reddit does have advertisements on their forum.\n",
    "- Since we have 14 different Reddit Sub-Reddits its possible that a user commented in more than one forum.\n",
    "- Its not uncommon for users to double post at times due to error."
   ]
  },
  {
   "cell_type": "code",
   "execution_count": 151,
   "id": "0a655976",
   "metadata": {
    "ExecuteTime": {
     "end_time": "2022-04-04T12:21:44.778048Z",
     "start_time": "2022-04-04T12:21:43.412598Z"
    }
   },
   "outputs": [
    {
     "data": {
      "text/plain": [
       "0.0008495491725724215"
      ]
     },
     "execution_count": 151,
     "metadata": {},
     "output_type": "execute_result"
    }
   ],
   "source": [
    "# Check the percentage of data that is duplicated.\n",
    "reddit_finance_dataset.duplicated().sum()/reddit_finance_dataset.shape[0]"
   ]
  },
  {
   "cell_type": "markdown",
   "id": "739f62d7",
   "metadata": {},
   "source": [
    "There is a very small percentage of duplicates with less that 0.0008%. <br><br>\n",
    "So we will delete these as we still have a large number of rows."
   ]
  },
  {
   "cell_type": "code",
   "execution_count": 152,
   "id": "252e04f0",
   "metadata": {
    "ExecuteTime": {
     "end_time": "2022-04-04T12:21:46.299520Z",
     "start_time": "2022-04-04T12:21:44.779045Z"
    }
   },
   "outputs": [],
   "source": [
    "# Drop the duplicate rows\n",
    "reddit_finance_dataset.drop_duplicates(inplace=True)"
   ]
  },
  {
   "cell_type": "code",
   "execution_count": 153,
   "id": "364da9cf",
   "metadata": {
    "ExecuteTime": {
     "end_time": "2022-04-04T12:21:47.661861Z",
     "start_time": "2022-04-04T12:21:46.300489Z"
    }
   },
   "outputs": [
    {
     "data": {
      "text/plain": [
       "0"
      ]
     },
     "execution_count": 153,
     "metadata": {},
     "output_type": "execute_result"
    }
   ],
   "source": [
    "# Check for dulicate rows\n",
    "reddit_finance_dataset.duplicated().sum()"
   ]
  },
  {
   "cell_type": "markdown",
   "id": "f8012837",
   "metadata": {},
   "source": [
    "There are no longer any duplicate rows."
   ]
  },
  {
   "cell_type": "markdown",
   "id": "752134fa",
   "metadata": {
    "ExecuteTime": {
     "end_time": "2022-02-26T16:16:28.382274Z",
     "start_time": "2022-02-26T16:16:28.371303Z"
    }
   },
   "source": [
    "---"
   ]
  },
  {
   "cell_type": "markdown",
   "id": "d3f3d9ab",
   "metadata": {},
   "source": [
    "### **Check the object types**"
   ]
  },
  {
   "cell_type": "markdown",
   "id": "bb47d8e4",
   "metadata": {
    "ExecuteTime": {
     "end_time": "2022-04-01T17:20:40.556592Z",
     "start_time": "2022-04-01T17:20:40.534624Z"
    }
   },
   "source": [
    "We saw above that all the columns had an 'object' type. Lets double check."
   ]
  },
  {
   "cell_type": "code",
   "execution_count": 154,
   "id": "966e15f0",
   "metadata": {
    "ExecuteTime": {
     "end_time": "2022-04-04T12:21:47.945961Z",
     "start_time": "2022-04-04T12:21:47.662887Z"
    }
   },
   "outputs": [
    {
     "name": "stdout",
     "output_type": "stream",
     "text": [
      "<class 'pandas.core.frame.DataFrame'>\n",
      "Int64Index: 1499521 entries, 0 to 775998\n",
      "Data columns (total 6 columns):\n",
      " #   Column        Non-Null Count    Dtype \n",
      "---  ------        --------------    ----- \n",
      " 0   author        1499521 non-null  object\n",
      " 1   created       1499521 non-null  object\n",
      " 2   title         1499521 non-null  object\n",
      " 3   upvote_ratio  1499521 non-null  object\n",
      " 4   score         1499521 non-null  object\n",
      " 5   num_comments  1499521 non-null  object\n",
      "dtypes: object(6)\n",
      "memory usage: 80.1+ MB\n"
     ]
    }
   ],
   "source": [
    "# Look at the columns\n",
    "reddit_finance_dataset.info()"
   ]
  },
  {
   "cell_type": "markdown",
   "id": "f83e05e8",
   "metadata": {},
   "source": [
    "We see that all the types are objects. For now we will to change a few: <br>\n",
    "- score into an int\n",
    "- num_comments into an int.\n",
    "- upvote_ ratio inot a float\n",
    "- created into a time series"
   ]
  },
  {
   "cell_type": "markdown",
   "id": "c26f6c5b",
   "metadata": {},
   "source": [
    "---"
   ]
  },
  {
   "cell_type": "markdown",
   "id": "a8be8e64",
   "metadata": {},
   "source": [
    "#### **Change score object to an Int**"
   ]
  },
  {
   "cell_type": "markdown",
   "id": "f205656d",
   "metadata": {},
   "source": [
    "When I ran the command to change the score object to an int,  I come across two issues:\n",
    "  1) Row 726674 has a string '1=COUNTIF(Sheet2!1:1048576,\"*\"&C4&\"*\")' where an int value should be.\n",
    "        - This we can fix by changing the score column to a 1.  \n",
    "  2) Row 1484666 is also messed up with strings in all the int columns. \n",
    "      - This one we can not fix and so will drop. <br>\n",
    "\n",
    "<br> \n",
    "Note: <br>\n",
    "Instead of outputting these errors which would cause an issue if the code was run from the top to the bottom I will fix them and add comments."
   ]
  },
  {
   "cell_type": "markdown",
   "id": "f5919c8b",
   "metadata": {},
   "source": [
    "**1) Fix row 726674**"
   ]
  },
  {
   "cell_type": "code",
   "execution_count": 155,
   "id": "15fd53fa",
   "metadata": {
    "ExecuteTime": {
     "end_time": "2022-04-04T12:21:47.961891Z",
     "start_time": "2022-04-04T12:21:47.946942Z"
    }
   },
   "outputs": [
    {
     "data": {
      "text/plain": [
       "author                                          [deleted]\n",
       "created                                  03/01/2021 21:32\n",
       "title           Leaked Footage of Federal Reserve Meeting\n",
       "upvote_ratio                                            1\n",
       "score              1=COUNTIF(Sheet2!1:1048576,\"*\"&C4&\"*\")\n",
       "num_comments                                          0.0\n",
       "Name: 1283, dtype: object"
      ]
     },
     "execution_count": 155,
     "metadata": {},
     "output_type": "execute_result"
    }
   ],
   "source": [
    "# Check on row 726674\n",
    "reddit_finance_dataset.iloc[726674]"
   ]
  },
  {
   "cell_type": "markdown",
   "id": "5a61571c",
   "metadata": {},
   "source": [
    " The score column has '1=COUNTIF(Sheet2!1:1048576,\"*\"&C4&\"*\")' instead of a number.<br><br>\n",
    "Because the upvote_ratio is 1 and the num of comments is 0.0. We can change the score value to be 1."
   ]
  },
  {
   "cell_type": "code",
   "execution_count": 156,
   "id": "1075f057",
   "metadata": {
    "ExecuteTime": {
     "end_time": "2022-04-04T12:21:47.977849Z",
     "start_time": "2022-04-04T12:21:47.962888Z"
    }
   },
   "outputs": [],
   "source": [
    "# change the location to 1\n",
    "reddit_finance_dataset.iat[726674, 4] = 1"
   ]
  },
  {
   "cell_type": "code",
   "execution_count": 157,
   "id": "fc209f6f",
   "metadata": {
    "ExecuteTime": {
     "end_time": "2022-04-04T12:21:47.993806Z",
     "start_time": "2022-04-04T12:21:47.979845Z"
    }
   },
   "outputs": [
    {
     "data": {
      "text/plain": [
       "author                                          [deleted]\n",
       "created                                  03/01/2021 21:32\n",
       "title           Leaked Footage of Federal Reserve Meeting\n",
       "upvote_ratio                                            1\n",
       "score                                                   1\n",
       "num_comments                                          0.0\n",
       "Name: 1283, dtype: object"
      ]
     },
     "execution_count": 157,
     "metadata": {},
     "output_type": "execute_result"
    }
   ],
   "source": [
    "# check the score has changed to 1.\n",
    "reddit_finance_dataset.iloc[726674]"
   ]
  },
  {
   "cell_type": "markdown",
   "id": "51a171be",
   "metadata": {},
   "source": [
    "Done. This row is now ok"
   ]
  },
  {
   "cell_type": "code",
   "execution_count": 158,
   "id": "c9562fb3",
   "metadata": {
    "ExecuteTime": {
     "end_time": "2022-04-04T12:21:48.009764Z",
     "start_time": "2022-04-04T12:21:47.994804Z"
    }
   },
   "outputs": [],
   "source": [
    "# Reset the index after above change.\n",
    "reddit_finance_dataset.reset_index(drop=True, inplace=True)"
   ]
  },
  {
   "cell_type": "markdown",
   "id": "9108fb45",
   "metadata": {},
   "source": [
    "**2) Fix Row 1484666**"
   ]
  },
  {
   "cell_type": "code",
   "execution_count": 159,
   "id": "8bb4e73b",
   "metadata": {
    "ExecuteTime": {
     "end_time": "2022-04-04T12:21:48.025720Z",
     "start_time": "2022-04-04T12:21:48.010762Z"
    }
   },
   "outputs": [
    {
     "data": {
      "text/plain": [
       "author                                             energy density\n",
       "created          those can can be very in because of the cell ...\n",
       "title            because of existing skin. So even those who a...\n",
       "upvote_ratio                                   but what Microvast\n",
       "score                                                       again\n",
       "num_comments     how to prevent the thermal propagation. So wi...\n",
       "Name: 1484666, dtype: object"
      ]
     },
     "execution_count": 159,
     "metadata": {},
     "output_type": "execute_result"
    }
   ],
   "source": [
    "# Check on row 1484666\n",
    "reddit_finance_dataset.iloc[1484666]"
   ]
  },
  {
   "cell_type": "markdown",
   "id": "efd7a269",
   "metadata": {},
   "source": [
    "This row is all messed up. There are strings in the up_vote, score and num_comments rows. <br><br>\n",
    "\n",
    "I do not know what the missing data would be for the other columns and besides it reads a little like rubbish. Plus it is just one row so I will drop it."
   ]
  },
  {
   "cell_type": "code",
   "execution_count": 160,
   "id": "e3bdee47",
   "metadata": {
    "ExecuteTime": {
     "end_time": "2022-04-04T12:21:48.185322Z",
     "start_time": "2022-04-04T12:21:48.026718Z"
    }
   },
   "outputs": [],
   "source": [
    "# drop row 1484666\n",
    "reddit_finance_dataset.drop(1484666, inplace=True)"
   ]
  },
  {
   "cell_type": "code",
   "execution_count": 161,
   "id": "ad41e019",
   "metadata": {
    "ExecuteTime": {
     "end_time": "2022-04-04T12:21:48.201279Z",
     "start_time": "2022-04-04T12:21:48.186292Z"
    }
   },
   "outputs": [
    {
     "data": {
      "text/plain": [
       "author                                       Personal_Operation89\n",
       "created                                          06/12/2021 05:17\n",
       "title           What will happen to Didi shares? Should I sell...\n",
       "upvote_ratio                                                  0.4\n",
       "score                                                           0\n",
       "num_comments                                                    5\n",
       "Name: 1484667, dtype: object"
      ]
     },
     "execution_count": 161,
     "metadata": {},
     "output_type": "execute_result"
    }
   ],
   "source": [
    "# Check this row now\n",
    "reddit_finance_dataset.iloc[1484666]"
   ]
  },
  {
   "cell_type": "markdown",
   "id": "ab5ce2ac",
   "metadata": {},
   "source": [
    "Great, the row has been dropped.<br><br>\n",
    "\n",
    "**We will not change the Score Column to an int object type.**"
   ]
  },
  {
   "cell_type": "code",
   "execution_count": 162,
   "id": "e5a449b4",
   "metadata": {
    "ExecuteTime": {
     "end_time": "2022-04-04T12:21:48.328910Z",
     "start_time": "2022-04-04T12:21:48.202276Z"
    }
   },
   "outputs": [],
   "source": [
    "# change this column to an int32.\n",
    "reddit_finance_dataset['score'] = reddit_finance_dataset['score'].astype('int32')"
   ]
  },
  {
   "cell_type": "code",
   "execution_count": 163,
   "id": "582dadf0",
   "metadata": {
    "ExecuteTime": {
     "end_time": "2022-04-04T12:21:48.567303Z",
     "start_time": "2022-04-04T12:21:48.329908Z"
    }
   },
   "outputs": [
    {
     "name": "stdout",
     "output_type": "stream",
     "text": [
      "<class 'pandas.core.frame.DataFrame'>\n",
      "Int64Index: 1499520 entries, 0 to 1499520\n",
      "Data columns (total 6 columns):\n",
      " #   Column        Non-Null Count    Dtype \n",
      "---  ------        --------------    ----- \n",
      " 0   author        1499520 non-null  object\n",
      " 1   created       1499520 non-null  object\n",
      " 2   title         1499520 non-null  object\n",
      " 3   upvote_ratio  1499520 non-null  object\n",
      " 4   score         1499520 non-null  int32 \n",
      " 5   num_comments  1499520 non-null  object\n",
      "dtypes: int32(1), object(5)\n",
      "memory usage: 74.4+ MB\n"
     ]
    }
   ],
   "source": [
    "# Check the Score Column is now an int.\n",
    "reddit_finance_dataset.info()"
   ]
  },
  {
   "cell_type": "markdown",
   "id": "f087b3ab",
   "metadata": {},
   "source": [
    "Great. Done."
   ]
  },
  {
   "cell_type": "markdown",
   "id": "ce199028",
   "metadata": {},
   "source": [
    "---"
   ]
  },
  {
   "cell_type": "markdown",
   "id": "69b566a3",
   "metadata": {},
   "source": [
    "#### **Change num_comments object to an Int**"
   ]
  },
  {
   "cell_type": "markdown",
   "id": "e6e45923",
   "metadata": {},
   "source": [
    "num_comments is for the number of comments made so this is also an int. Change."
   ]
  },
  {
   "cell_type": "code",
   "execution_count": 164,
   "id": "7417072d",
   "metadata": {
    "ExecuteTime": {
     "end_time": "2022-04-04T12:21:48.741837Z",
     "start_time": "2022-04-04T12:21:48.568269Z"
    }
   },
   "outputs": [],
   "source": [
    "# change num_comments to an int\n",
    "reddit_finance_dataset['num_comments'] = reddit_finance_dataset['num_comments'].astype('int32')"
   ]
  },
  {
   "cell_type": "code",
   "execution_count": 165,
   "id": "0f1b8317",
   "metadata": {
    "ExecuteTime": {
     "end_time": "2022-04-04T12:21:48.964271Z",
     "start_time": "2022-04-04T12:21:48.742832Z"
    }
   },
   "outputs": [
    {
     "name": "stdout",
     "output_type": "stream",
     "text": [
      "<class 'pandas.core.frame.DataFrame'>\n",
      "Int64Index: 1499520 entries, 0 to 1499520\n",
      "Data columns (total 6 columns):\n",
      " #   Column        Non-Null Count    Dtype \n",
      "---  ------        --------------    ----- \n",
      " 0   author        1499520 non-null  object\n",
      " 1   created       1499520 non-null  object\n",
      " 2   title         1499520 non-null  object\n",
      " 3   upvote_ratio  1499520 non-null  object\n",
      " 4   score         1499520 non-null  int32 \n",
      " 5   num_comments  1499520 non-null  int32 \n",
      "dtypes: int32(2), object(4)\n",
      "memory usage: 68.6+ MB\n"
     ]
    }
   ],
   "source": [
    "# Check the column has changed.\n",
    "reddit_finance_dataset.info()"
   ]
  },
  {
   "cell_type": "markdown",
   "id": "fe1b27cd",
   "metadata": {},
   "source": [
    "Great. We can see it has changed."
   ]
  },
  {
   "cell_type": "markdown",
   "id": "aa2a8378",
   "metadata": {
    "ExecuteTime": {
     "end_time": "2022-02-26T17:43:43.997167Z",
     "start_time": "2022-02-26T17:43:43.994170Z"
    }
   },
   "source": [
    "---"
   ]
  },
  {
   "cell_type": "markdown",
   "id": "355d49b4",
   "metadata": {
    "ExecuteTime": {
     "end_time": "2022-02-26T17:43:23.136779Z",
     "start_time": "2022-02-26T17:43:23.122784Z"
    }
   },
   "source": [
    "#### **Change upvote_ratio object to a float**"
   ]
  },
  {
   "cell_type": "markdown",
   "id": "0165f437",
   "metadata": {},
   "source": [
    "up_vote should be a float since it can also be a percentage."
   ]
  },
  {
   "cell_type": "code",
   "execution_count": 166,
   "id": "d9dd4b41",
   "metadata": {
    "ExecuteTime": {
     "end_time": "2022-04-04T12:21:49.090508Z",
     "start_time": "2022-04-04T12:21:48.965239Z"
    }
   },
   "outputs": [],
   "source": [
    "# change up_vote to an int\n",
    "reddit_finance_dataset['upvote_ratio'] = reddit_finance_dataset['upvote_ratio'].astype(float)"
   ]
  },
  {
   "cell_type": "code",
   "execution_count": 167,
   "id": "d949293b",
   "metadata": {
    "ExecuteTime": {
     "end_time": "2022-04-04T12:21:49.266039Z",
     "start_time": "2022-04-04T12:21:49.091476Z"
    }
   },
   "outputs": [
    {
     "name": "stdout",
     "output_type": "stream",
     "text": [
      "<class 'pandas.core.frame.DataFrame'>\n",
      "Int64Index: 1499520 entries, 0 to 1499520\n",
      "Data columns (total 6 columns):\n",
      " #   Column        Non-Null Count    Dtype  \n",
      "---  ------        --------------    -----  \n",
      " 0   author        1499520 non-null  object \n",
      " 1   created       1499520 non-null  object \n",
      " 2   title         1499520 non-null  object \n",
      " 3   upvote_ratio  1499520 non-null  float64\n",
      " 4   score         1499520 non-null  int32  \n",
      " 5   num_comments  1499520 non-null  int32  \n",
      "dtypes: float64(1), int32(2), object(3)\n",
      "memory usage: 68.6+ MB\n"
     ]
    }
   ],
   "source": [
    "# check it has changed.\n",
    "reddit_finance_dataset.info()"
   ]
  },
  {
   "cell_type": "markdown",
   "id": "e3016f17",
   "metadata": {},
   "source": [
    "Great. We can see it has changed."
   ]
  },
  {
   "cell_type": "markdown",
   "id": "e550cd64",
   "metadata": {},
   "source": [
    "---"
   ]
  },
  {
   "cell_type": "markdown",
   "id": "35f71df6",
   "metadata": {
    "ExecuteTime": {
     "end_time": "2022-02-26T16:23:30.326368Z",
     "start_time": "2022-02-26T16:23:30.314428Z"
    }
   },
   "source": [
    "#### **Change created object to a time series**"
   ]
  },
  {
   "cell_type": "markdown",
   "id": "3b3b82af",
   "metadata": {},
   "source": [
    "The 'created' column is the date of the post, we will change this to a time series so we can merge with the share price later"
   ]
  },
  {
   "cell_type": "code",
   "execution_count": 168,
   "id": "42cdc069",
   "metadata": {
    "ExecuteTime": {
     "end_time": "2022-04-04T12:22:41.359496Z",
     "start_time": "2022-04-04T12:21:49.267007Z"
    }
   },
   "outputs": [],
   "source": [
    "#change created to an date time series\n",
    "reddit_finance_dataset['created'] = pd.to_datetime(reddit_finance_dataset['created'])"
   ]
  },
  {
   "cell_type": "code",
   "execution_count": 169,
   "id": "d53ad6c5",
   "metadata": {
    "ExecuteTime": {
     "end_time": "2022-04-04T12:22:41.503064Z",
     "start_time": "2022-04-04T12:22:41.360446Z"
    }
   },
   "outputs": [
    {
     "name": "stdout",
     "output_type": "stream",
     "text": [
      "<class 'pandas.core.frame.DataFrame'>\n",
      "Int64Index: 1499520 entries, 0 to 1499520\n",
      "Data columns (total 6 columns):\n",
      " #   Column        Non-Null Count    Dtype         \n",
      "---  ------        --------------    -----         \n",
      " 0   author        1499520 non-null  object        \n",
      " 1   created       1499520 non-null  datetime64[ns]\n",
      " 2   title         1499520 non-null  object        \n",
      " 3   upvote_ratio  1499520 non-null  float64       \n",
      " 4   score         1499520 non-null  int32         \n",
      " 5   num_comments  1499520 non-null  int32         \n",
      "dtypes: datetime64[ns](1), float64(1), int32(2), object(2)\n",
      "memory usage: 68.6+ MB\n"
     ]
    }
   ],
   "source": [
    "# Check the column has changed.\n",
    "reddit_finance_dataset.info()"
   ]
  },
  {
   "cell_type": "markdown",
   "id": "8ade9369",
   "metadata": {},
   "source": [
    "Great. We can see it has changed."
   ]
  },
  {
   "cell_type": "markdown",
   "id": "6643bb28",
   "metadata": {},
   "source": [
    "---"
   ]
  },
  {
   "cell_type": "markdown",
   "id": "f4ccd916",
   "metadata": {},
   "source": [
    "### **Lower the title to lower case for easier searches later**"
   ]
  },
  {
   "cell_type": "markdown",
   "id": "464b531b",
   "metadata": {},
   "source": [
    "Later we will also be searching for the name of shares. We can change all the title comments to lower case so we can reduce the number of search words."
   ]
  },
  {
   "cell_type": "code",
   "execution_count": 170,
   "id": "e9a06d55",
   "metadata": {
    "ExecuteTime": {
     "end_time": "2022-04-04T12:22:42.165195Z",
     "start_time": "2022-04-04T12:22:41.504062Z"
    }
   },
   "outputs": [],
   "source": [
    "# Change all title comments to lower case for easier searching later.\n",
    "reddit_finance_dataset['title'] = reddit_finance_dataset['title'].str.lower()"
   ]
  },
  {
   "cell_type": "code",
   "execution_count": 171,
   "id": "8b1af6d9",
   "metadata": {
    "ExecuteTime": {
     "end_time": "2022-04-04T12:22:42.181106Z",
     "start_time": "2022-04-04T12:22:42.166117Z"
    }
   },
   "outputs": [
    {
     "data": {
      "text/plain": [
       "0              click this link to make free sign up!!!\n",
       "1    how often do people voluntarily pay back the g...\n",
       "2    need some business and financial articles to e...\n",
       "3    tech's top seven companies added $3.4 trillion...\n",
       "4    mogo: establishes atm equity program mogo a fi...\n",
       "Name: title, dtype: object"
      ]
     },
     "execution_count": 171,
     "metadata": {},
     "output_type": "execute_result"
    }
   ],
   "source": [
    "# Check the characters are all lower case\n",
    "reddit_finance_dataset['title'].head()"
   ]
  },
  {
   "cell_type": "markdown",
   "id": "b69dcbc6",
   "metadata": {},
   "source": [
    "Great, we can see all the letters are now lower case."
   ]
  },
  {
   "cell_type": "markdown",
   "id": "80573e0c",
   "metadata": {},
   "source": [
    "---"
   ]
  },
  {
   "cell_type": "markdown",
   "id": "92bd0321",
   "metadata": {
    "ExecuteTime": {
     "end_time": "2022-02-26T17:49:55.474039Z",
     "start_time": "2022-02-26T17:49:55.458083Z"
    }
   },
   "source": [
    "### **Reseting the index**"
   ]
  },
  {
   "cell_type": "markdown",
   "id": "88736568",
   "metadata": {},
   "source": [
    "Some good housekeeping to reset the index."
   ]
  },
  {
   "cell_type": "code",
   "execution_count": 172,
   "id": "c77e3504",
   "metadata": {
    "ExecuteTime": {
     "end_time": "2022-04-04T12:22:42.197033Z",
     "start_time": "2022-04-04T12:22:42.182075Z"
    }
   },
   "outputs": [],
   "source": [
    "# Lastly we have made many changes so lets reset the index one last time.\n",
    "reddit_finance_dataset.reset_index(drop=True, inplace=True)"
   ]
  },
  {
   "cell_type": "markdown",
   "id": "330c7efa",
   "metadata": {},
   "source": [
    "We now have a clean working reddit_finance_dataset. This will be the base that we will be able to search for the mention of shares names."
   ]
  },
  {
   "cell_type": "markdown",
   "id": "68c58e0d",
   "metadata": {},
   "source": [
    "---"
   ]
  },
  {
   "cell_type": "markdown",
   "id": "85d3ac91",
   "metadata": {},
   "source": [
    " ### **Save a copy of the Reddit Data**"
   ]
  },
  {
   "cell_type": "code",
   "execution_count": 173,
   "id": "98d9a019",
   "metadata": {
    "ExecuteTime": {
     "end_time": "2022-04-04T12:22:48.484872Z",
     "start_time": "2022-04-04T12:22:42.198031Z"
    }
   },
   "outputs": [],
   "source": [
    "# Save the reddit_finance_dataset dataset to a csv\n",
    "reddit_finance_dataset.to_csv('Data/capstone_reddit_finance_dataset.csv')"
   ]
  },
  {
   "cell_type": "markdown",
   "id": "5180b1be",
   "metadata": {},
   "source": [
    "---\n",
    "---\n",
    "---"
   ]
  },
  {
   "cell_type": "markdown",
   "id": "cd007731",
   "metadata": {},
   "source": [
    "# **Game Stop Mentions**"
   ]
  },
  {
   "cell_type": "markdown",
   "id": "8e8a7205",
   "metadata": {
    "ExecuteTime": {
     "end_time": "2022-04-02T12:22:48.318874Z",
     "start_time": "2022-04-02T12:22:48.308901Z"
    }
   },
   "source": [
    "---"
   ]
  },
  {
   "cell_type": "markdown",
   "id": "dd8d994e",
   "metadata": {},
   "source": [
    "## **Game Stop Mentions Data**"
   ]
  },
  {
   "cell_type": "markdown",
   "id": "5f544ed6",
   "metadata": {
    "ExecuteTime": {
     "end_time": "2022-02-26T17:52:29.057695Z",
     "start_time": "2022-02-26T17:52:29.043643Z"
    }
   },
   "source": [
    "We now have a combined Reddit Dataset, we will look into how many mentions there are of Game Stop and put this in a new data frame called gme_df."
   ]
  },
  {
   "attachments": {
    "image.png": {
     "image/png": "[encoded data removed]"
    }
   },
   "cell_type": "markdown",
   "id": "da660e9a",
   "metadata": {},
   "source": [
    "![image.png](attachment:image.png)"
   ]
  },
  {
   "cell_type": "markdown",
   "id": "43b07a1d",
   "metadata": {},
   "source": [
    "---"
   ]
  },
  {
   "cell_type": "markdown",
   "id": "f82f9a5d",
   "metadata": {},
   "source": [
    "### **Number of Game Stop mentions**"
   ]
  },
  {
   "cell_type": "markdown",
   "id": "cc59f9d7",
   "metadata": {},
   "source": [
    "\n",
    "Create a new data frame of the game stop mentions."
   ]
  },
  {
   "cell_type": "code",
   "execution_count": 174,
   "id": "76462abb",
   "metadata": {
    "ExecuteTime": {
     "end_time": "2022-04-04T12:22:49.263011Z",
     "start_time": "2022-04-04T12:22:48.485912Z"
    }
   },
   "outputs": [
    {
     "name": "stdout",
     "output_type": "stream",
     "text": [
      " The number of mentions in the dataset is: 155505.\n"
     ]
    }
   ],
   "source": [
    "# Create a list game stop mentions we will be looking for. \n",
    "game_stop_mentions = [\"game stop\", \"gamestop\", \"gme\"]\n",
    "\n",
    "# join these into a searchable list.\n",
    "game_stop_search_list = '|'.join(game_stop_mentions)\n",
    "\n",
    "# Search for game stop mentions and save these into a new dataset, gme_df.\n",
    "gme_df = reddit_finance_dataset.loc[reddit_finance_dataset['title'].str.contains(game_stop_search_list, na=False)]\n",
    "print(f\" The number of mentions in the dataset is: {gme_df['title'].count()}.\")"
   ]
  },
  {
   "cell_type": "markdown",
   "id": "cece13de",
   "metadata": {},
   "source": [
    "Out of 1.5 million rows we have 155,505 mentions with game stop in them. About 10% of the database. This is great.\n",
    "<br><br>\n",
    "**Note:** It's worth noting that one of the sub-reddits was called gamestop and so it was a deliberate campaign to focus on the Game Stop Share. Still, what can we learn about the comments and the share price? Lets find out.<br><br>\n",
    "\n",
    "Since we have have only taken the Game Stop Mentions we can reset the index again and create a new df called 'gme_df' to store these mentions in."
   ]
  },
  {
   "cell_type": "code",
   "execution_count": 175,
   "id": "31596324",
   "metadata": {
    "ExecuteTime": {
     "end_time": "2022-04-04T12:22:49.278938Z",
     "start_time": "2022-04-04T12:22:49.267996Z"
    },
    "scrolled": false
   },
   "outputs": [
    {
     "data": {
      "text/html": [
       "<div>\n",
       "<style scoped>\n",
       "    .dataframe tbody tr th:only-of-type {\n",
       "        vertical-align: middle;\n",
       "    }\n",
       "\n",
       "    .dataframe tbody tr th {\n",
       "        vertical-align: top;\n",
       "    }\n",
       "\n",
       "    .dataframe thead th {\n",
       "        text-align: right;\n",
       "    }\n",
       "</style>\n",
       "<table border=\"1\" class=\"dataframe\">\n",
       "  <thead>\n",
       "    <tr style=\"text-align: right;\">\n",
       "      <th></th>\n",
       "      <th>author</th>\n",
       "      <th>created</th>\n",
       "      <th>title</th>\n",
       "      <th>upvote_ratio</th>\n",
       "      <th>score</th>\n",
       "      <th>num_comments</th>\n",
       "    </tr>\n",
       "  </thead>\n",
       "  <tbody>\n",
       "    <tr>\n",
       "      <th>287</th>\n",
       "      <td>fintechinshorts</td>\n",
       "      <td>2021-01-15 04:39:53</td>\n",
       "      <td>augmentum: enters the defi space with parafi p...</td>\n",
       "      <td>1.00</td>\n",
       "      <td>1</td>\n",
       "      <td>0</td>\n",
       "    </tr>\n",
       "    <tr>\n",
       "      <th>491</th>\n",
       "      <td>[deleted]</td>\n",
       "      <td>2021-01-27 22:02:48</td>\n",
       "      <td>gamestop is rage against the financial machine</td>\n",
       "      <td>0.67</td>\n",
       "      <td>1</td>\n",
       "      <td>1</td>\n",
       "    </tr>\n",
       "    <tr>\n",
       "      <th>503</th>\n",
       "      <td>[deleted]</td>\n",
       "      <td>2021-01-28 01:24:45</td>\n",
       "      <td>the sec when they hear that redditors are pump...</td>\n",
       "      <td>1.00</td>\n",
       "      <td>1</td>\n",
       "      <td>0</td>\n",
       "    </tr>\n",
       "    <tr>\n",
       "      <th>506</th>\n",
       "      <td>hecsoler</td>\n",
       "      <td>2021-01-28 02:19:23</td>\n",
       "      <td>we got a shoutout bros #gme 🚀🚀</td>\n",
       "      <td>1.00</td>\n",
       "      <td>1</td>\n",
       "      <td>0</td>\n",
       "    </tr>\n",
       "    <tr>\n",
       "      <th>507</th>\n",
       "      <td>B0ssc0</td>\n",
       "      <td>2021-01-28 02:29:45</td>\n",
       "      <td>gamestop stock has surged thanks to enthusiast...</td>\n",
       "      <td>0.69</td>\n",
       "      <td>7</td>\n",
       "      <td>0</td>\n",
       "    </tr>\n",
       "  </tbody>\n",
       "</table>\n",
       "</div>"
      ],
      "text/plain": [
       "              author             created  \\\n",
       "287  fintechinshorts 2021-01-15 04:39:53   \n",
       "491        [deleted] 2021-01-27 22:02:48   \n",
       "503        [deleted] 2021-01-28 01:24:45   \n",
       "506         hecsoler 2021-01-28 02:19:23   \n",
       "507           B0ssc0 2021-01-28 02:29:45   \n",
       "\n",
       "                                                 title  upvote_ratio  score  \\\n",
       "287  augmentum: enters the defi space with parafi p...          1.00      1   \n",
       "491     gamestop is rage against the financial machine          0.67      1   \n",
       "503  the sec when they hear that redditors are pump...          1.00      1   \n",
       "506                     we got a shoutout bros #gme 🚀🚀          1.00      1   \n",
       "507  gamestop stock has surged thanks to enthusiast...          0.69      7   \n",
       "\n",
       "     num_comments  \n",
       "287             0  \n",
       "491             1  \n",
       "503             0  \n",
       "506             0  \n",
       "507             0  "
      ]
     },
     "execution_count": 175,
     "metadata": {},
     "output_type": "execute_result"
    }
   ],
   "source": [
    "# Look at the first few rows of the data\n",
    "gme_df.head()"
   ]
  },
  {
   "cell_type": "markdown",
   "id": "423864d5",
   "metadata": {},
   "source": [
    "---"
   ]
  },
  {
   "cell_type": "markdown",
   "id": "4632f1f3",
   "metadata": {},
   "source": [
    "## **Game Stop mentions: EDA**"
   ]
  },
  {
   "cell_type": "markdown",
   "id": "602b1361",
   "metadata": {},
   "source": [
    "Lets have a quick look at the gme_df columns, row counts and object types."
   ]
  },
  {
   "cell_type": "code",
   "execution_count": 176,
   "id": "ee9a1214",
   "metadata": {
    "ExecuteTime": {
     "end_time": "2022-04-04T12:22:49.325813Z",
     "start_time": "2022-04-04T12:22:49.279936Z"
    },
    "scrolled": true
   },
   "outputs": [
    {
     "name": "stdout",
     "output_type": "stream",
     "text": [
      "<class 'pandas.core.frame.DataFrame'>\n",
      "Int64Index: 155505 entries, 287 to 1499452\n",
      "Data columns (total 6 columns):\n",
      " #   Column        Non-Null Count   Dtype         \n",
      "---  ------        --------------   -----         \n",
      " 0   author        155505 non-null  object        \n",
      " 1   created       155505 non-null  datetime64[ns]\n",
      " 2   title         155505 non-null  object        \n",
      " 3   upvote_ratio  155505 non-null  float64       \n",
      " 4   score         155505 non-null  int32         \n",
      " 5   num_comments  155505 non-null  int32         \n",
      "dtypes: datetime64[ns](1), float64(1), int32(2), object(2)\n",
      "memory usage: 7.1+ MB\n"
     ]
    }
   ],
   "source": [
    "#Look at the gme_df columns\n",
    "gme_df.info()"
   ]
  },
  {
   "cell_type": "markdown",
   "id": "415f86d4",
   "metadata": {
    "ExecuteTime": {
     "end_time": "2022-04-01T21:47:19.923867Z",
     "start_time": "2022-04-01T21:47:19.908906Z"
    }
   },
   "source": [
    "---"
   ]
  },
  {
   "cell_type": "markdown",
   "id": "78cae80f",
   "metadata": {},
   "source": [
    "### **Plot Game Stop mentions over a year period**"
   ]
  },
  {
   "cell_type": "markdown",
   "id": "3748a661",
   "metadata": {},
   "source": [
    "First lets plot the total amount of Game Stop mentions. <br><br>\n",
    "\n",
    "There are total of 155,505 mentions of Game stop for the year."
   ]
  },
  {
   "cell_type": "code",
   "execution_count": 177,
   "id": "b635de3f",
   "metadata": {
    "ExecuteTime": {
     "end_time": "2022-04-04T12:22:49.389642Z",
     "start_time": "2022-04-04T12:22:49.327808Z"
    }
   },
   "outputs": [],
   "source": [
    "# count of the mention of game stop over the 12 months\n",
    "count_gme_by_year_df = gme_df.groupby(gme_df['created'].dt.month).count()"
   ]
  },
  {
   "cell_type": "code",
   "execution_count": 178,
   "id": "cf4e5a8c",
   "metadata": {
    "ExecuteTime": {
     "end_time": "2022-04-04T12:22:49.405600Z",
     "start_time": "2022-04-04T12:22:49.390669Z"
    }
   },
   "outputs": [],
   "source": [
    "# Put the count of GME into a data frame.\n",
    "count_gme_by_year_df = count_gme_by_year_df['title']"
   ]
  },
  {
   "cell_type": "code",
   "execution_count": 179,
   "id": "6cb4d547",
   "metadata": {
    "ExecuteTime": {
     "end_time": "2022-04-04T12:22:49.421558Z",
     "start_time": "2022-04-04T12:22:49.406598Z"
    }
   },
   "outputs": [
    {
     "data": {
      "text/plain": [
       "created\n",
       "1     69351\n",
       "2     16123\n",
       "3     25631\n",
       "4     10470\n",
       "5      6670\n",
       "6      4286\n",
       "7      3409\n",
       "8      3958\n",
       "9      4193\n",
       "10     4455\n",
       "11     3826\n",
       "12     3133\n",
       "Name: title, dtype: int64"
      ]
     },
     "execution_count": 179,
     "metadata": {},
     "output_type": "execute_result"
    }
   ],
   "source": [
    "# Output the mentions \n",
    "count_gme_by_year_df"
   ]
  },
  {
   "cell_type": "markdown",
   "id": "4507f17f",
   "metadata": {
    "ExecuteTime": {
     "end_time": "2022-03-28T13:04:07.101715Z",
     "start_time": "2022-03-28T13:04:07.090744Z"
    }
   },
   "source": [
    "**Observations:**\n",
    "- We can see a large amount of mentions in January and after that it drops off."
   ]
  },
  {
   "cell_type": "markdown",
   "id": "06a5fede",
   "metadata": {},
   "source": [
    "Plot the amount of mentions."
   ]
  },
  {
   "cell_type": "code",
   "execution_count": 180,
   "id": "8cec37b5",
   "metadata": {
    "ExecuteTime": {
     "end_time": "2022-04-04T12:22:49.580161Z",
     "start_time": "2022-04-04T12:22:49.422555Z"
    }
   },
   "outputs": [
    {
     "data": {
      "image/png": "[encoded data removed]",
      "text/plain": [
       "<Figure size 432x288 with 1 Axes>"
      ]
     },
     "metadata": {
      "needs_background": "light"
     },
     "output_type": "display_data"
    }
   ],
   "source": [
    "# Plot the number of mentions by month with a line plot\n",
    "sns.lineplot(x=count_gme_by_year_df.index, \n",
    "             y=count_gme_by_year_df,color='b').set(title=' Game Stop Mentions by Month Numbers',\n",
    "                                                    xlabel='Months of the Year', \n",
    "                                                    ylabel='Number of Game Stop Mentions');\n",
    "sns.despine()\n",
    "\n",
    "#Save this plot\n",
    "plt.savefig(\"/Users/Kolobane/Documents/BrainStation Data Science Course/Project Capstone/Plots/SNS_Line_Mentions_by_Year.png\") "
   ]
  },
  {
   "cell_type": "markdown",
   "id": "7cf73202",
   "metadata": {},
   "source": [
    "**Observations:**\n",
    "- We can see a large amount of mentions in January and it drops for the rest of the year. \n",
    "- There is a second peak in March. This is likely a result of how the affects of the price in January lead to a surge in the price of the share of Game Stop."
   ]
  },
  {
   "cell_type": "code",
   "execution_count": 181,
   "id": "a8f4d5fa",
   "metadata": {
    "ExecuteTime": {
     "end_time": "2022-04-04T12:22:49.753670Z",
     "start_time": "2022-04-04T12:22:49.581152Z"
    }
   },
   "outputs": [
    {
     "data": {
      "image/png": "[encoded data removed]",
      "text/plain": [
       "<Figure size 432x288 with 1 Axes>"
      ]
     },
     "metadata": {
      "needs_background": "light"
     },
     "output_type": "display_data"
    }
   ],
   "source": [
    "# Plot the number of mentions by month with a barplot\n",
    "sns.barplot(x=count_gme_by_year_df.index, \n",
    "             y=count_gme_by_year_df, color='b').set(title='Game Stop Mentions by Month Numbers',\n",
    "                                                    xlabel='Months of the Year', \n",
    "                                                    ylabel='Number of Game Stop Mentions');\n",
    "sns.despine()\n",
    "#Save this plot\n",
    "plt.savefig(\"/Users/Kolobane/Documents/BrainStation Data Science Course/Project Capstone/Plots/SNS_Bar_Mentions_by_Year.png\") "
   ]
  },
  {
   "cell_type": "markdown",
   "id": "e6f565d7",
   "metadata": {},
   "source": [
    "**Observations:**\n",
    "\n",
    "- Both plots show that the most comments where in Jan, with other comments mostly dropping off as the year with on. \n",
    "- There was nearly as many mentions in January than all the other months combined.\n",
    "- Again we see the second smaller spike in March."
   ]
  },
  {
   "cell_type": "markdown",
   "id": "3f31b773",
   "metadata": {},
   "source": [
    "---"
   ]
  },
  {
   "cell_type": "markdown",
   "id": "d462edf7",
   "metadata": {},
   "source": [
    "### **Plot Game Stop mentions by week for the year**\n"
   ]
  },
  {
   "cell_type": "markdown",
   "id": "2f893cc4",
   "metadata": {},
   "source": [
    "Lets look at which weeks had the highest number of game stop mentions."
   ]
  },
  {
   "cell_type": "code",
   "execution_count": 182,
   "id": "44e1e1e6",
   "metadata": {
    "ExecuteTime": {
     "end_time": "2022-04-04T12:22:49.817527Z",
     "start_time": "2022-04-04T12:22:49.755664Z"
    }
   },
   "outputs": [],
   "source": [
    "# Count mentions by the week\n",
    "count_gme_week_df = gme_df.groupby(gme_df['created'].dt.week).count()"
   ]
  },
  {
   "cell_type": "code",
   "execution_count": 183,
   "id": "69c49871",
   "metadata": {
    "ExecuteTime": {
     "end_time": "2022-04-04T12:22:49.833517Z",
     "start_time": "2022-04-04T12:22:49.818528Z"
    }
   },
   "outputs": [],
   "source": [
    "count_gme_week_df = count_gme_week_df['title']"
   ]
  },
  {
   "cell_type": "code",
   "execution_count": 184,
   "id": "759cae31",
   "metadata": {
    "ExecuteTime": {
     "end_time": "2022-04-04T12:22:50.054931Z",
     "start_time": "2022-04-04T12:22:49.834485Z"
    },
    "scrolled": true
   },
   "outputs": [
    {
     "data": {
      "image/png": "[encoded data removed]",
      "text/plain": [
       "<Figure size 432x288 with 1 Axes>"
      ]
     },
     "metadata": {
      "needs_background": "light"
     },
     "output_type": "display_data"
    }
   ],
   "source": [
    "# Plot the number of mentions by week with a line plot\n",
    "sns.lineplot(x=count_gme_week_df.index, \n",
    "             y=count_gme_week_df, color='b').set(xlabel='Weeks of the Year', \n",
    "                                                 ylabel='Number of Game Stop Mentions',\n",
    "                                                 title='Game Stop Mentions by Weeks');\n",
    "sns.despine()\n",
    "#save the plot\n",
    "#plt.savefig(\"/Users/Kolobane/Documents/BrainStation Data Science Course/Project Capstone/Plots/SNS_Line_Mentions_by_Weeks.png\")"
   ]
  },
  {
   "cell_type": "markdown",
   "id": "cd0b39f9",
   "metadata": {
    "ExecuteTime": {
     "end_time": "2022-04-01T19:38:47.308473Z",
     "start_time": "2022-04-01T19:38:47.293514Z"
    }
   },
   "source": [
    "**Observations:**\n",
    "    \n",
    "- It looks like the most game stop mentions was somewhere around the 4th to 5th week."
   ]
  },
  {
   "cell_type": "code",
   "execution_count": 185,
   "id": "bcfcce39",
   "metadata": {
    "ExecuteTime": {
     "end_time": "2022-04-04T12:22:50.671100Z",
     "start_time": "2022-04-04T12:22:50.055956Z"
    }
   },
   "outputs": [
    {
     "data": {
      "image/png": "[encoded data removed]",
      "text/plain": [
       "<Figure size 432x288 with 1 Axes>"
      ]
     },
     "metadata": {
      "needs_background": "light"
     },
     "output_type": "display_data"
    }
   ],
   "source": [
    "# Plot the number of mentions by week with a bar plot\n",
    "sns.barplot(x=count_gme_week_df.index, \n",
    "             y=count_gme_week_df, color='b').set(title='Mentions by Week number',\n",
    "                                                 xlabel='Weeks of the Year', \n",
    "                                                 ylabel='Number of Game Stop Mentions');\n",
    "sns.despine()\n",
    "# save plot\n",
    "plt.savefig(\"/Users/Kolobane/Documents/BrainStation Data Science Course/Project Capstone/Plots/SNS_Bar_Mentions_by_Weeks.png\")"
   ]
  },
  {
   "cell_type": "markdown",
   "id": "ef28ac7c",
   "metadata": {
    "ExecuteTime": {
     "end_time": "2022-04-01T19:39:49.157547Z",
     "start_time": "2022-04-01T19:39:49.141562Z"
    }
   },
   "source": [
    "**Observations:**\n",
    "    \n",
    "- Interestly nearly all the mentions are in the 4th week. Again, aslmost as many mentions as the rest of the year.\n",
    "- Later we will look at the Share price to see when the price started to rise."
   ]
  },
  {
   "cell_type": "markdown",
   "id": "1cdf5abb",
   "metadata": {},
   "source": [
    "---"
   ]
  },
  {
   "cell_type": "markdown",
   "id": "20451447",
   "metadata": {
    "ExecuteTime": {
     "end_time": "2022-03-17T16:55:30.113755Z",
     "start_time": "2022-03-17T16:55:30.106778Z"
    }
   },
   "source": [
    "### **Plot Game Stop mentions for first 4 months**"
   ]
  },
  {
   "cell_type": "markdown",
   "id": "daca3dbb",
   "metadata": {},
   "source": [
    "Lets look at the mentions for the first four months which we can easily take by taking the first 16 weeks."
   ]
  },
  {
   "cell_type": "code",
   "execution_count": 186,
   "id": "2a13911d",
   "metadata": {
    "ExecuteTime": {
     "end_time": "2022-04-04T12:22:50.735042Z",
     "start_time": "2022-04-04T12:22:50.673062Z"
    }
   },
   "outputs": [],
   "source": [
    "# look at mentions by weeks.\n",
    "first_four_months = gme_df.groupby(gme_df['created'].dt.week).count()"
   ]
  },
  {
   "cell_type": "code",
   "execution_count": 187,
   "id": "97de461f",
   "metadata": {
    "ExecuteTime": {
     "end_time": "2022-04-04T12:22:50.751031Z",
     "start_time": "2022-04-04T12:22:50.736043Z"
    }
   },
   "outputs": [],
   "source": [
    "#take the first 16 weeks\n",
    "first_four_months = first_four_months[0:16]"
   ]
  },
  {
   "cell_type": "code",
   "execution_count": 188,
   "id": "a3702ec7",
   "metadata": {
    "ExecuteTime": {
     "end_time": "2022-04-04T12:22:50.766960Z",
     "start_time": "2022-04-04T12:22:50.752031Z"
    }
   },
   "outputs": [],
   "source": [
    "first_four_months = first_four_months['title']"
   ]
  },
  {
   "cell_type": "code",
   "execution_count": 189,
   "id": "795d2feb",
   "metadata": {
    "ExecuteTime": {
     "end_time": "2022-04-04T12:22:50.878691Z",
     "start_time": "2022-04-04T12:22:50.768011Z"
    }
   },
   "outputs": [
    {
     "data": {
      "image/png": "[encoded data removed]",
      "text/plain": [
       "<Figure size 432x288 with 1 Axes>"
      ]
     },
     "metadata": {
      "needs_background": "light"
     },
     "output_type": "display_data"
    }
   ],
   "source": [
    "# Plot the number of mentions by week for the fist 4 months with a line plot\n",
    "sns.lineplot(x=first_four_months.index, \n",
    "             y=first_four_months, color='b').set(xlabel='Frist 16 weeks of the year', \n",
    "                                                 ylabel='Number of Game Stop Mentions',\n",
    "                                                 title='Game Stop Mentions for first 16 weeks');\n",
    "sns.despine()\n",
    "#save the plot\n",
    "#plt.savefig(\"/Users/Kolobane/Documents/BrainStation Data Science Course/Project Capstone/Plots/SNS_Line_Mentions_16_weeks.png.png\")"
   ]
  },
  {
   "cell_type": "markdown",
   "id": "d7e6628b",
   "metadata": {
    "ExecuteTime": {
     "end_time": "2022-04-01T20:27:24.455404Z",
     "start_time": "2022-04-01T20:27:24.445459Z"
    }
   },
   "source": [
    "**Observations:**\n",
    "\n",
    "- We can see more clearly that the 4th week has the most mentions."
   ]
  },
  {
   "cell_type": "code",
   "execution_count": 190,
   "id": "466202da",
   "metadata": {
    "ExecuteTime": {
     "end_time": "2022-04-04T12:22:51.022311Z",
     "start_time": "2022-04-04T12:22:50.879686Z"
    },
    "scrolled": false
   },
   "outputs": [
    {
     "data": {
      "image/png": "[encoded data removed]",
      "text/plain": [
       "<Figure size 432x288 with 1 Axes>"
      ]
     },
     "metadata": {
      "needs_background": "light"
     },
     "output_type": "display_data"
    }
   ],
   "source": [
    "# Plot the number of mentions by week for the fist 4 months with a bar plot\n",
    "sns.barplot(x=first_four_months.index, \n",
    "             y=first_four_months, color='b').set(xlabel='Frist 16 weeks of the year', \n",
    "                                                 ylabel='Number of Game Stop Mentions',\n",
    "                                                 title='Game Stop Mentions for first 16 weeks');\n",
    "sns.despine()\n",
    "#save the plot\n",
    "#plt.savefig(\"/Users/Kolobane/Documents/BrainStation Data Science Course/Project Capstone/Plots/SNS_Bar_Mentions_16_weeks.png\")"
   ]
  },
  {
   "cell_type": "markdown",
   "id": "33b1f558",
   "metadata": {},
   "source": [
    "**Observations:**\n",
    "\n",
    "- It's a little clearer when we zoom into the first 16 weeks or 4 months. Again, week four has the most mentions by a large margin."
   ]
  },
  {
   "cell_type": "markdown",
   "id": "f3896c54",
   "metadata": {},
   "source": [
    "---"
   ]
  },
  {
   "cell_type": "markdown",
   "id": "2bfcdc4b",
   "metadata": {
    "ExecuteTime": {
     "end_time": "2022-04-01T23:16:07.641654Z",
     "start_time": "2022-04-01T23:16:07.623701Z"
    }
   },
   "source": [
    "### **Plot Game Stop mentions by days for the first 40 days**"
   ]
  },
  {
   "cell_type": "markdown",
   "id": "a646cc9b",
   "metadata": {},
   "source": [
    "The number of mentions increased in the first 4 weeks, lets look at the mentions per day."
   ]
  },
  {
   "cell_type": "code",
   "execution_count": 191,
   "id": "801c4e8f",
   "metadata": {
    "ExecuteTime": {
     "end_time": "2022-04-04T12:22:51.069182Z",
     "start_time": "2022-04-04T12:22:51.023275Z"
    }
   },
   "outputs": [],
   "source": [
    "# count by day\n",
    "day_mention = gme_df.groupby(gme_df['created'].dt.day).count()"
   ]
  },
  {
   "cell_type": "code",
   "execution_count": 192,
   "id": "b0d968e0",
   "metadata": {
    "ExecuteTime": {
     "end_time": "2022-04-04T12:22:51.085110Z",
     "start_time": "2022-04-04T12:22:51.070149Z"
    }
   },
   "outputs": [],
   "source": [
    "day_mention = day_mention['title']"
   ]
  },
  {
   "cell_type": "code",
   "execution_count": 193,
   "id": "4710bb01",
   "metadata": {
    "ExecuteTime": {
     "end_time": "2022-04-04T12:22:51.101067Z",
     "start_time": "2022-04-04T12:22:51.086107Z"
    }
   },
   "outputs": [],
   "source": [
    "# take first 40 days\n",
    "day_mention = day_mention[0:40]"
   ]
  },
  {
   "cell_type": "code",
   "execution_count": 194,
   "id": "a09c1cb1",
   "metadata": {
    "ExecuteTime": {
     "end_time": "2022-04-04T12:22:51.212795Z",
     "start_time": "2022-04-04T12:22:51.102064Z"
    }
   },
   "outputs": [
    {
     "data": {
      "image/png": "[encoded data removed]",
      "text/plain": [
       "<Figure size 432x288 with 1 Axes>"
      ]
     },
     "metadata": {
      "needs_background": "light"
     },
     "output_type": "display_data"
    }
   ],
   "source": [
    "# Plot the number of mentions by week for the fist 40 days with a line plot\n",
    "sns.lineplot(x=day_mention.index, \n",
    "             y=day_mention, color='b').set(xlabel='Frist 40 days of the year', \n",
    "                                      ylabel='Number of Game Stop Mentions',\n",
    "                                      title='Game Stop Mentions for first 40 days');\n",
    "sns.despine()\n",
    "# save the plot\n",
    "#plt.savefig(\"/Users/Kolobane/Documents/BrainStation Data Science Course/Project Capstone/Plots/SNS_Line_Mentions_40_days.png\")"
   ]
  },
  {
   "cell_type": "markdown",
   "id": "1ed2964e",
   "metadata": {},
   "source": [
    "**Observations:**\n",
    "-  As expected the number of mentions starts to peak after the 26th. A bar plot will show this better.\n",
    "    - Later we will also look at the share price and see if there is an increase in share price at the same time.\n",
    "- Interestingly is a slight spike in first few days that we had not seen before. I am curious about this as I had not seen this in any of the other plots. In fact then show a very low amount of mentions in the first week."
   ]
  },
  {
   "cell_type": "markdown",
   "id": "afeffd30",
   "metadata": {},
   "source": [
    "**Look into the count of mentions for the first week**"
   ]
  },
  {
   "cell_type": "code",
   "execution_count": 195,
   "id": "3ca838dd",
   "metadata": {
    "ExecuteTime": {
     "end_time": "2022-04-04T12:22:51.228725Z",
     "start_time": "2022-04-04T12:22:51.213765Z"
    }
   },
   "outputs": [
    {
     "data": {
      "text/plain": [
       "created\n",
       "1     2570\n",
       "2    11105\n",
       "3     9588\n",
       "4     3296\n",
       "5     2984\n",
       "6     2014\n",
       "7     1356\n",
       "Name: title, dtype: int64"
      ]
     },
     "execution_count": 195,
     "metadata": {},
     "output_type": "execute_result"
    }
   ],
   "source": [
    "# Number of mentions for first week\n",
    "day_mention[0:7]"
   ]
  },
  {
   "cell_type": "markdown",
   "id": "f337b60e",
   "metadata": {},
   "source": [
    "We do see a split spike of 11,105 mentions on the 2nd."
   ]
  },
  {
   "cell_type": "markdown",
   "id": "8527bfb8",
   "metadata": {},
   "source": [
    "As before, we will also no a bar plot to see a clearly pictue of the number of mentions."
   ]
  },
  {
   "cell_type": "code",
   "execution_count": 196,
   "id": "05b1160c",
   "metadata": {
    "ExecuteTime": {
     "end_time": "2022-04-04T12:22:51.451177Z",
     "start_time": "2022-04-04T12:22:51.229723Z"
    }
   },
   "outputs": [
    {
     "data": {
      "image/png": "[encoded data removed]",
      "text/plain": [
       "<Figure size 432x288 with 1 Axes>"
      ]
     },
     "metadata": {
      "needs_background": "light"
     },
     "output_type": "display_data"
    }
   ],
   "source": [
    "# Plot the number of mentions by week for the fist 40 days with a bar plot\n",
    "sns.barplot(x=day_mention.index, \n",
    "             y=day_mention, color='b').set(xlabel='Frist 40 days of the year', \n",
    "                                           ylabel='Number of Game Stop Mentions',\n",
    "                                            title='Game Stop Mentions for first 40 days');\n",
    "\n",
    "sns.despine()\n",
    "# save the plot\n",
    "#plt.savefig(\"/Users/Kolobane/Documents/BrainStation Data Science Course/Project Capstone/Plots/SNS_Bar_Mentions_40_days.png\")"
   ]
  },
  {
   "cell_type": "markdown",
   "id": "1868299b",
   "metadata": {},
   "source": [
    "**Observations:**\n",
    "\n",
    "- Look at the number of mentions by day we can see it starts to increase starting around the 27th with a peek on the 28th. This is interesting that the reddit community got involved that quickly."
   ]
  },
  {
   "cell_type": "markdown",
   "id": "6248b410",
   "metadata": {},
   "source": [
    "---"
   ]
  },
  {
   "cell_type": "markdown",
   "id": "888f943d",
   "metadata": {},
   "source": [
    "### **Who were the top users posting**"
   ]
  },
  {
   "cell_type": "markdown",
   "id": "f8fd8aea",
   "metadata": {},
   "source": [
    "Lets look into how many unique users we have and who posts the most often."
   ]
  },
  {
   "cell_type": "code",
   "execution_count": 197,
   "id": "d87f7772",
   "metadata": {
    "ExecuteTime": {
     "end_time": "2022-04-04T12:22:51.657609Z",
     "start_time": "2022-04-04T12:22:51.452128Z"
    }
   },
   "outputs": [
    {
     "data": {
      "text/plain": [
       "81781"
      ]
     },
     "execution_count": 197,
     "metadata": {},
     "output_type": "execute_result"
    }
   ],
   "source": [
    "# get unique users\n",
    "gme_df['author'].sort_values().nunique()"
   ]
  },
  {
   "cell_type": "markdown",
   "id": "53ba4c1e",
   "metadata": {},
   "source": [
    "There are over 81,000 different users in the Game Stop Mentions data of 155,505 rows.. <br><br>\n",
    "\n",
    "**Who is the top poster of comments?**"
   ]
  },
  {
   "cell_type": "code",
   "execution_count": 198,
   "id": "bdf3ccb9",
   "metadata": {
    "ExecuteTime": {
     "end_time": "2022-04-04T12:22:51.832139Z",
     "start_time": "2022-04-04T12:22:51.658576Z"
    }
   },
   "outputs": [],
   "source": [
    "# Get the top user\n",
    "top_users = gme_df.groupby('author')['num_comments'].nunique()"
   ]
  },
  {
   "cell_type": "code",
   "execution_count": 199,
   "id": "d5d4d0cc",
   "metadata": {
    "ExecuteTime": {
     "end_time": "2022-04-04T12:22:51.863784Z",
     "start_time": "2022-04-04T12:22:51.833139Z"
    }
   },
   "outputs": [
    {
     "data": {
      "text/plain": [
       "author\n",
       "[deleted]               249\n",
       "karasuuchiha            141\n",
       "SpaceMillionaire         78\n",
       "chayse1984               58\n",
       "OPINION_IS_UNPOPULAR     50\n",
       "                       ... \n",
       "NeighborhoodDense655      1\n",
       "NeighborhoodScary649      1\n",
       "NeighbourhoodSpider       1\n",
       "NeilCalypso               1\n",
       "zzzzzzzzzzzzzzzzs         1\n",
       "Name: num_comments, Length: 81781, dtype: int64"
      ]
     },
     "execution_count": 199,
     "metadata": {},
     "output_type": "execute_result"
    }
   ],
   "source": [
    "# Sort by most comments\n",
    "top_users.sort_values(ascending=False)"
   ]
  },
  {
   "cell_type": "markdown",
   "id": "0e73ce05",
   "metadata": {},
   "source": [
    "**Observations:**\n",
    "\n",
    "- Before the posts were scraped some people deleted their posts. Out of 155,000 posts this would be expected for a few.\n",
    "- karasuuchiha has commented the most but only 141 times out of 155,000. Still not a lot."
   ]
  },
  {
   "cell_type": "markdown",
   "id": "12d0e0df",
   "metadata": {},
   "source": [
    "---\n",
    "---\n",
    "---"
   ]
  },
  {
   "cell_type": "markdown",
   "id": "d2cd6c26",
   "metadata": {},
   "source": [
    "# **Game Stop Share Price**"
   ]
  },
  {
   "cell_type": "markdown",
   "id": "fad9c9b0",
   "metadata": {},
   "source": [
    "---"
   ]
  },
  {
   "cell_type": "markdown",
   "id": "56d92020",
   "metadata": {},
   "source": [
    "## **Game Stop Share Price Data**"
   ]
  },
  {
   "cell_type": "markdown",
   "id": "f4602d5b",
   "metadata": {
    "ExecuteTime": {
     "end_time": "2022-04-02T12:23:18.623598Z",
     "start_time": "2022-04-02T12:23:18.604620Z"
    }
   },
   "source": [
    "---"
   ]
  },
  {
   "cell_type": "markdown",
   "id": "e9846fb3",
   "metadata": {},
   "source": [
    "### **Game Stop Data**"
   ]
  },
  {
   "cell_type": "markdown",
   "id": "64f35f60",
   "metadata": {},
   "source": [
    "The Reddit data has been sourced from Kaggle (https://www.kaggle.com/datasets/paultimothymooney/stock-market-data) but was originally scraped from the New York Stock Exchange.\n",
    "\n",
    "There are a number of years but we will only be using from January 2021 to December 2021 to match the Reddit Data."
   ]
  },
  {
   "cell_type": "markdown",
   "id": "5501e3f7",
   "metadata": {},
   "source": [
    "---"
   ]
  },
  {
   "cell_type": "markdown",
   "id": "291599cd",
   "metadata": {},
   "source": [
    "### **Column break down for Game Stop Share Price data**"
   ]
  },
  {
   "cell_type": "markdown",
   "id": "d08f160b",
   "metadata": {
    "ExecuteTime": {
     "end_time": "2022-04-01T21:51:45.559020Z",
     "start_time": "2022-04-01T21:51:45.548049Z"
    }
   },
   "source": [
    "There are 7 columns that have been broken down as follows:\n",
    "- **Date** (object): The date of the share price. It is in a day range and does not include days the markets where closed.\n",
    "- **Low** (object): Lowest share price for that day.\n",
    "- **Open** (object): Opening share price for that day.\n",
    "- **Volume** (object): Amount of shares sold that day.\n",
    "- **High** (object): Highest share price for that day.\n",
    "- **Close** (object): Share price at the close of day.\n",
    "- **Adjust Close** (object): Sometimes the share price is adjusted. We will look to see if this is different to the Close price."
   ]
  },
  {
   "cell_type": "markdown",
   "id": "f20e1729",
   "metadata": {},
   "source": [
    "**What will our data look like?**"
   ]
  },
  {
   "attachments": {
    "image.png": {
     "image/png": "[encoded data removed]"
    }
   },
   "cell_type": "markdown",
   "id": "bd7e5a29",
   "metadata": {},
   "source": [
    "![image.png](attachment:image.png)"
   ]
  },
  {
   "cell_type": "markdown",
   "id": "9d971bb3",
   "metadata": {},
   "source": [
    "---\n",
    "---\n",
    "---"
   ]
  },
  {
   "cell_type": "markdown",
   "id": "511dad3c",
   "metadata": {},
   "source": [
    "## **Game Stop Share Price: Cleaning**"
   ]
  },
  {
   "cell_type": "markdown",
   "id": "ed5114a4",
   "metadata": {},
   "source": [
    "We will be performing a number of operations on this datasets: <br>\n",
    "- Take the date from 1/1/2021 to 31/12/2021\n",
    "- Check for Null values.\n",
    "- Check for Duplicate Values.\n",
    "- Check the object types.\n",
    "- Reseting the index of the completed."
   ]
  },
  {
   "cell_type": "markdown",
   "id": "ae4714d4",
   "metadata": {},
   "source": [
    "Load the Game Stop Share Price Data"
   ]
  },
  {
   "cell_type": "code",
   "execution_count": 200,
   "id": "515323aa",
   "metadata": {
    "ExecuteTime": {
     "end_time": "2022-04-04T12:22:51.895696Z",
     "start_time": "2022-04-04T12:22:51.864794Z"
    }
   },
   "outputs": [],
   "source": [
    "# Load in the Game Stop share data into a data frame\n",
    "gme_share_price_df = pd.read_csv('data/Markets_GME.csv')"
   ]
  },
  {
   "cell_type": "markdown",
   "id": "611795eb",
   "metadata": {},
   "source": [
    "Look at what the data looks like with info() and head()"
   ]
  },
  {
   "cell_type": "code",
   "execution_count": 201,
   "id": "6b53f008",
   "metadata": {
    "ExecuteTime": {
     "end_time": "2022-04-04T12:22:51.911626Z",
     "start_time": "2022-04-04T12:22:51.896666Z"
    },
    "scrolled": true
   },
   "outputs": [
    {
     "name": "stdout",
     "output_type": "stream",
     "text": [
      "<class 'pandas.core.frame.DataFrame'>\n",
      "RangeIndex: 5037 entries, 0 to 5036\n",
      "Data columns (total 7 columns):\n",
      " #   Column          Non-Null Count  Dtype  \n",
      "---  ------          --------------  -----  \n",
      " 0   Date            5037 non-null   object \n",
      " 1   Low             5037 non-null   float64\n",
      " 2   Open            5037 non-null   float64\n",
      " 3   Volume          5037 non-null   int64  \n",
      " 4   High            5037 non-null   float64\n",
      " 5   Close           5037 non-null   float64\n",
      " 6   Adjusted Close  5037 non-null   float64\n",
      "dtypes: float64(5), int64(1), object(1)\n",
      "memory usage: 275.6+ KB\n"
     ]
    }
   ],
   "source": [
    "# Look into the GME share dataset\n",
    "gme_share_price_df.info()"
   ]
  },
  {
   "cell_type": "markdown",
   "id": "05f1ebe3",
   "metadata": {},
   "source": [
    "---"
   ]
  },
  {
   "cell_type": "markdown",
   "id": "267a454f",
   "metadata": {},
   "source": [
    "### **Take the date from 1/1/2021 to 31/12/2021**"
   ]
  },
  {
   "cell_type": "code",
   "execution_count": 202,
   "id": "665dfa38",
   "metadata": {
    "ExecuteTime": {
     "end_time": "2022-04-04T12:22:51.927584Z",
     "start_time": "2022-04-04T12:22:51.912624Z"
    }
   },
   "outputs": [],
   "source": [
    "# First, lets change the date column to a time series\n",
    "# This took me an increidle long time, for some reason, the months and days were getting mixed up.\n",
    "gme_share_price_df['Date'] = pd.to_datetime(gme_share_price_df['Date'], dayfirst=True)"
   ]
  },
  {
   "cell_type": "markdown",
   "id": "3a4c30d1",
   "metadata": {},
   "source": [
    "Great. Next, lets take out the share price from 1/1/2021 to 31/12/31"
   ]
  },
  {
   "cell_type": "code",
   "execution_count": 203,
   "id": "3117d1f6",
   "metadata": {
    "ExecuteTime": {
     "end_time": "2022-04-04T12:22:51.943541Z",
     "start_time": "2022-04-04T12:22:51.928581Z"
    }
   },
   "outputs": [],
   "source": [
    "# Take the date range we want, 2021.\n",
    "gme_share_price_df = gme_share_price_df.loc[(gme_share_price_df['Date'] >= '2021-01-01') & (gme_share_price_df['Date'] <='2021-12-31')]"
   ]
  },
  {
   "cell_type": "code",
   "execution_count": 204,
   "id": "dd8b4fc3",
   "metadata": {
    "ExecuteTime": {
     "end_time": "2022-04-04T12:22:51.959498Z",
     "start_time": "2022-04-04T12:22:51.944539Z"
    }
   },
   "outputs": [
    {
     "data": {
      "text/html": [
       "<div>\n",
       "<style scoped>\n",
       "    .dataframe tbody tr th:only-of-type {\n",
       "        vertical-align: middle;\n",
       "    }\n",
       "\n",
       "    .dataframe tbody tr th {\n",
       "        vertical-align: top;\n",
       "    }\n",
       "\n",
       "    .dataframe thead th {\n",
       "        text-align: right;\n",
       "    }\n",
       "</style>\n",
       "<table border=\"1\" class=\"dataframe\">\n",
       "  <thead>\n",
       "    <tr style=\"text-align: right;\">\n",
       "      <th></th>\n",
       "      <th>Date</th>\n",
       "      <th>Low</th>\n",
       "      <th>Open</th>\n",
       "      <th>Volume</th>\n",
       "      <th>High</th>\n",
       "      <th>Close</th>\n",
       "      <th>Adjusted Close</th>\n",
       "    </tr>\n",
       "  </thead>\n",
       "  <tbody>\n",
       "    <tr>\n",
       "      <th>4755</th>\n",
       "      <td>2021-01-04</td>\n",
       "      <td>17.150000</td>\n",
       "      <td>19.000000</td>\n",
       "      <td>10022500</td>\n",
       "      <td>19.100000</td>\n",
       "      <td>17.250000</td>\n",
       "      <td>17.250000</td>\n",
       "    </tr>\n",
       "    <tr>\n",
       "      <th>4756</th>\n",
       "      <td>2021-01-05</td>\n",
       "      <td>17.230000</td>\n",
       "      <td>17.350000</td>\n",
       "      <td>4961500</td>\n",
       "      <td>18.080000</td>\n",
       "      <td>17.370001</td>\n",
       "      <td>17.370001</td>\n",
       "    </tr>\n",
       "    <tr>\n",
       "      <th>4757</th>\n",
       "      <td>2021-01-06</td>\n",
       "      <td>17.330000</td>\n",
       "      <td>17.340000</td>\n",
       "      <td>6056200</td>\n",
       "      <td>18.980000</td>\n",
       "      <td>18.360001</td>\n",
       "      <td>18.360001</td>\n",
       "    </tr>\n",
       "    <tr>\n",
       "      <th>4758</th>\n",
       "      <td>2021-01-07</td>\n",
       "      <td>18.020000</td>\n",
       "      <td>18.469999</td>\n",
       "      <td>6129300</td>\n",
       "      <td>19.450001</td>\n",
       "      <td>18.080000</td>\n",
       "      <td>18.080000</td>\n",
       "    </tr>\n",
       "    <tr>\n",
       "      <th>4759</th>\n",
       "      <td>2021-01-08</td>\n",
       "      <td>17.080000</td>\n",
       "      <td>18.180000</td>\n",
       "      <td>6482000</td>\n",
       "      <td>18.299999</td>\n",
       "      <td>17.690001</td>\n",
       "      <td>17.690001</td>\n",
       "    </tr>\n",
       "    <tr>\n",
       "      <th>...</th>\n",
       "      <td>...</td>\n",
       "      <td>...</td>\n",
       "      <td>...</td>\n",
       "      <td>...</td>\n",
       "      <td>...</td>\n",
       "      <td>...</td>\n",
       "      <td>...</td>\n",
       "    </tr>\n",
       "    <tr>\n",
       "      <th>5002</th>\n",
       "      <td>2021-12-27</td>\n",
       "      <td>140.000000</td>\n",
       "      <td>152.000000</td>\n",
       "      <td>1613600</td>\n",
       "      <td>152.619995</td>\n",
       "      <td>148.309998</td>\n",
       "      <td>148.309998</td>\n",
       "    </tr>\n",
       "    <tr>\n",
       "      <th>5003</th>\n",
       "      <td>2021-12-28</td>\n",
       "      <td>146.410004</td>\n",
       "      <td>147.500000</td>\n",
       "      <td>1331100</td>\n",
       "      <td>157.410004</td>\n",
       "      <td>146.460007</td>\n",
       "      <td>146.460007</td>\n",
       "    </tr>\n",
       "    <tr>\n",
       "      <th>5004</th>\n",
       "      <td>2021-12-29</td>\n",
       "      <td>142.139999</td>\n",
       "      <td>147.850006</td>\n",
       "      <td>2037400</td>\n",
       "      <td>155.490005</td>\n",
       "      <td>153.929993</td>\n",
       "      <td>153.929993</td>\n",
       "    </tr>\n",
       "    <tr>\n",
       "      <th>5005</th>\n",
       "      <td>2021-12-30</td>\n",
       "      <td>150.000000</td>\n",
       "      <td>151.000000</td>\n",
       "      <td>1561900</td>\n",
       "      <td>160.000000</td>\n",
       "      <td>155.330002</td>\n",
       "      <td>155.330002</td>\n",
       "    </tr>\n",
       "    <tr>\n",
       "      <th>5006</th>\n",
       "      <td>2021-12-31</td>\n",
       "      <td>148.100006</td>\n",
       "      <td>153.619995</td>\n",
       "      <td>1394000</td>\n",
       "      <td>156.729996</td>\n",
       "      <td>148.389999</td>\n",
       "      <td>148.389999</td>\n",
       "    </tr>\n",
       "  </tbody>\n",
       "</table>\n",
       "<p>252 rows × 7 columns</p>\n",
       "</div>"
      ],
      "text/plain": [
       "           Date         Low        Open    Volume        High       Close  \\\n",
       "4755 2021-01-04   17.150000   19.000000  10022500   19.100000   17.250000   \n",
       "4756 2021-01-05   17.230000   17.350000   4961500   18.080000   17.370001   \n",
       "4757 2021-01-06   17.330000   17.340000   6056200   18.980000   18.360001   \n",
       "4758 2021-01-07   18.020000   18.469999   6129300   19.450001   18.080000   \n",
       "4759 2021-01-08   17.080000   18.180000   6482000   18.299999   17.690001   \n",
       "...         ...         ...         ...       ...         ...         ...   \n",
       "5002 2021-12-27  140.000000  152.000000   1613600  152.619995  148.309998   \n",
       "5003 2021-12-28  146.410004  147.500000   1331100  157.410004  146.460007   \n",
       "5004 2021-12-29  142.139999  147.850006   2037400  155.490005  153.929993   \n",
       "5005 2021-12-30  150.000000  151.000000   1561900  160.000000  155.330002   \n",
       "5006 2021-12-31  148.100006  153.619995   1394000  156.729996  148.389999   \n",
       "\n",
       "      Adjusted Close  \n",
       "4755       17.250000  \n",
       "4756       17.370001  \n",
       "4757       18.360001  \n",
       "4758       18.080000  \n",
       "4759       17.690001  \n",
       "...              ...  \n",
       "5002      148.309998  \n",
       "5003      146.460007  \n",
       "5004      153.929993  \n",
       "5005      155.330002  \n",
       "5006      148.389999  \n",
       "\n",
       "[252 rows x 7 columns]"
      ]
     },
     "execution_count": 204,
     "metadata": {},
     "output_type": "execute_result"
    }
   ],
   "source": [
    "# Look at the new rows\n",
    "gme_share_price_df"
   ]
  },
  {
   "cell_type": "markdown",
   "id": "78f20e43",
   "metadata": {},
   "source": [
    "**Note:** <br> \n",
    "- The markets were not open on the 1st of Jan 2020.\n",
    "- There is only 252 rows which is 252 days as the markets are not open on holidays and weekends.\n",
    "    - We will be able to do a fillna() operation to fill in the days missing."
   ]
  },
  {
   "cell_type": "markdown",
   "id": "5f067bbd",
   "metadata": {},
   "source": [
    "---"
   ]
  },
  {
   "cell_type": "markdown",
   "id": "0c8212f4",
   "metadata": {},
   "source": [
    "### **Check for Null values.**"
   ]
  },
  {
   "cell_type": "markdown",
   "id": "df5b5957",
   "metadata": {},
   "source": [
    "We will check if there are any missing values."
   ]
  },
  {
   "cell_type": "code",
   "execution_count": 205,
   "id": "e53e4a14",
   "metadata": {
    "ExecuteTime": {
     "end_time": "2022-04-04T12:22:51.975455Z",
     "start_time": "2022-04-04T12:22:51.960496Z"
    }
   },
   "outputs": [
    {
     "data": {
      "text/plain": [
       "Date              0\n",
       "Low               0\n",
       "Open              0\n",
       "Volume            0\n",
       "High              0\n",
       "Close             0\n",
       "Adjusted Close    0\n",
       "dtype: int64"
      ]
     },
     "execution_count": 205,
     "metadata": {},
     "output_type": "execute_result"
    }
   ],
   "source": [
    "# Check for null vlaues.\n",
    "gme_share_price_df.isna().sum()"
   ]
  },
  {
   "cell_type": "markdown",
   "id": "647ae5ae",
   "metadata": {},
   "source": [
    " None. Great."
   ]
  },
  {
   "cell_type": "markdown",
   "id": "11ccdf42",
   "metadata": {},
   "source": [
    "---"
   ]
  },
  {
   "cell_type": "markdown",
   "id": "1635023d",
   "metadata": {},
   "source": [
    "### **Check for Duplicate Values**"
   ]
  },
  {
   "cell_type": "markdown",
   "id": "50af3151",
   "metadata": {},
   "source": [
    "Check for any duplicate values"
   ]
  },
  {
   "cell_type": "code",
   "execution_count": 206,
   "id": "1ac7ebe5",
   "metadata": {
    "ExecuteTime": {
     "end_time": "2022-04-04T12:22:51.991413Z",
     "start_time": "2022-04-04T12:22:51.976453Z"
    }
   },
   "outputs": [
    {
     "data": {
      "text/plain": [
       "0"
      ]
     },
     "execution_count": 206,
     "metadata": {},
     "output_type": "execute_result"
    }
   ],
   "source": [
    "# Check for duplicate values\n",
    "gme_share_price_df.duplicated().sum()"
   ]
  },
  {
   "cell_type": "markdown",
   "id": "7b671328",
   "metadata": {},
   "source": [
    "None. Great."
   ]
  },
  {
   "cell_type": "markdown",
   "id": "1f8d69f3",
   "metadata": {},
   "source": [
    "---"
   ]
  },
  {
   "cell_type": "markdown",
   "id": "36c02bf2",
   "metadata": {},
   "source": [
    "### **Check the object types**"
   ]
  },
  {
   "cell_type": "markdown",
   "id": "007d40af",
   "metadata": {},
   "source": [
    "Lets look at the object types"
   ]
  },
  {
   "cell_type": "code",
   "execution_count": 207,
   "id": "c41abdde",
   "metadata": {
    "ExecuteTime": {
     "end_time": "2022-04-04T12:22:52.007370Z",
     "start_time": "2022-04-04T12:22:51.992411Z"
    }
   },
   "outputs": [
    {
     "name": "stdout",
     "output_type": "stream",
     "text": [
      "<class 'pandas.core.frame.DataFrame'>\n",
      "Int64Index: 252 entries, 4755 to 5006\n",
      "Data columns (total 7 columns):\n",
      " #   Column          Non-Null Count  Dtype         \n",
      "---  ------          --------------  -----         \n",
      " 0   Date            252 non-null    datetime64[ns]\n",
      " 1   Low             252 non-null    float64       \n",
      " 2   Open            252 non-null    float64       \n",
      " 3   Volume          252 non-null    int64         \n",
      " 4   High            252 non-null    float64       \n",
      " 5   Close           252 non-null    float64       \n",
      " 6   Adjusted Close  252 non-null    float64       \n",
      "dtypes: datetime64[ns](1), float64(5), int64(1)\n",
      "memory usage: 15.8 KB\n"
     ]
    }
   ],
   "source": [
    "gme_share_price_df.info()"
   ]
  },
  {
   "cell_type": "markdown",
   "id": "0a6bb3fb",
   "metadata": {},
   "source": [
    "For now these are ok"
   ]
  },
  {
   "cell_type": "markdown",
   "id": "4533e217",
   "metadata": {},
   "source": [
    "---"
   ]
  },
  {
   "cell_type": "markdown",
   "id": "9fdc0359",
   "metadata": {},
   "source": [
    "### **Check if close and adjusted close at the same**"
   ]
  },
  {
   "cell_type": "markdown",
   "id": "04d91bd6",
   "metadata": {},
   "source": [
    "From looking at the columns I suspect that the Close and Adjusted Columns are the same. Lets check on this."
   ]
  },
  {
   "cell_type": "code",
   "execution_count": 208,
   "id": "bd861224",
   "metadata": {
    "ExecuteTime": {
     "end_time": "2022-04-04T12:22:52.023328Z",
     "start_time": "2022-04-04T12:22:52.008367Z"
    }
   },
   "outputs": [
    {
     "data": {
      "text/plain": [
       "True"
      ]
     },
     "execution_count": 208,
     "metadata": {},
     "output_type": "execute_result"
    }
   ],
   "source": [
    "# Are the columns equal.\n",
    "gme_share_price_df['Close'].equals(gme_share_price_df['Adjusted Close'])"
   ]
  },
  {
   "cell_type": "markdown",
   "id": "0bd42849",
   "metadata": {},
   "source": [
    "Yes, they are so I will drop adjusted close."
   ]
  },
  {
   "cell_type": "code",
   "execution_count": 209,
   "id": "18e79dc4",
   "metadata": {
    "ExecuteTime": {
     "end_time": "2022-04-04T12:22:52.039288Z",
     "start_time": "2022-04-04T12:22:52.024325Z"
    }
   },
   "outputs": [],
   "source": [
    "# drop adjusted close\n",
    "gme_share_price_df.drop('Adjusted Close', axis=1, inplace=True)"
   ]
  },
  {
   "cell_type": "code",
   "execution_count": 210,
   "id": "524d1c36",
   "metadata": {
    "ExecuteTime": {
     "end_time": "2022-04-04T12:22:52.055242Z",
     "start_time": "2022-04-04T12:22:52.041279Z"
    }
   },
   "outputs": [
    {
     "data": {
      "text/html": [
       "<div>\n",
       "<style scoped>\n",
       "    .dataframe tbody tr th:only-of-type {\n",
       "        vertical-align: middle;\n",
       "    }\n",
       "\n",
       "    .dataframe tbody tr th {\n",
       "        vertical-align: top;\n",
       "    }\n",
       "\n",
       "    .dataframe thead th {\n",
       "        text-align: right;\n",
       "    }\n",
       "</style>\n",
       "<table border=\"1\" class=\"dataframe\">\n",
       "  <thead>\n",
       "    <tr style=\"text-align: right;\">\n",
       "      <th></th>\n",
       "      <th>Date</th>\n",
       "      <th>Low</th>\n",
       "      <th>Open</th>\n",
       "      <th>Volume</th>\n",
       "      <th>High</th>\n",
       "      <th>Close</th>\n",
       "    </tr>\n",
       "  </thead>\n",
       "  <tbody>\n",
       "    <tr>\n",
       "      <th>4755</th>\n",
       "      <td>2021-01-04</td>\n",
       "      <td>17.150000</td>\n",
       "      <td>19.000000</td>\n",
       "      <td>10022500</td>\n",
       "      <td>19.100000</td>\n",
       "      <td>17.250000</td>\n",
       "    </tr>\n",
       "    <tr>\n",
       "      <th>4756</th>\n",
       "      <td>2021-01-05</td>\n",
       "      <td>17.230000</td>\n",
       "      <td>17.350000</td>\n",
       "      <td>4961500</td>\n",
       "      <td>18.080000</td>\n",
       "      <td>17.370001</td>\n",
       "    </tr>\n",
       "    <tr>\n",
       "      <th>4757</th>\n",
       "      <td>2021-01-06</td>\n",
       "      <td>17.330000</td>\n",
       "      <td>17.340000</td>\n",
       "      <td>6056200</td>\n",
       "      <td>18.980000</td>\n",
       "      <td>18.360001</td>\n",
       "    </tr>\n",
       "    <tr>\n",
       "      <th>4758</th>\n",
       "      <td>2021-01-07</td>\n",
       "      <td>18.020000</td>\n",
       "      <td>18.469999</td>\n",
       "      <td>6129300</td>\n",
       "      <td>19.450001</td>\n",
       "      <td>18.080000</td>\n",
       "    </tr>\n",
       "    <tr>\n",
       "      <th>4759</th>\n",
       "      <td>2021-01-08</td>\n",
       "      <td>17.080000</td>\n",
       "      <td>18.180000</td>\n",
       "      <td>6482000</td>\n",
       "      <td>18.299999</td>\n",
       "      <td>17.690001</td>\n",
       "    </tr>\n",
       "    <tr>\n",
       "      <th>...</th>\n",
       "      <td>...</td>\n",
       "      <td>...</td>\n",
       "      <td>...</td>\n",
       "      <td>...</td>\n",
       "      <td>...</td>\n",
       "      <td>...</td>\n",
       "    </tr>\n",
       "    <tr>\n",
       "      <th>5002</th>\n",
       "      <td>2021-12-27</td>\n",
       "      <td>140.000000</td>\n",
       "      <td>152.000000</td>\n",
       "      <td>1613600</td>\n",
       "      <td>152.619995</td>\n",
       "      <td>148.309998</td>\n",
       "    </tr>\n",
       "    <tr>\n",
       "      <th>5003</th>\n",
       "      <td>2021-12-28</td>\n",
       "      <td>146.410004</td>\n",
       "      <td>147.500000</td>\n",
       "      <td>1331100</td>\n",
       "      <td>157.410004</td>\n",
       "      <td>146.460007</td>\n",
       "    </tr>\n",
       "    <tr>\n",
       "      <th>5004</th>\n",
       "      <td>2021-12-29</td>\n",
       "      <td>142.139999</td>\n",
       "      <td>147.850006</td>\n",
       "      <td>2037400</td>\n",
       "      <td>155.490005</td>\n",
       "      <td>153.929993</td>\n",
       "    </tr>\n",
       "    <tr>\n",
       "      <th>5005</th>\n",
       "      <td>2021-12-30</td>\n",
       "      <td>150.000000</td>\n",
       "      <td>151.000000</td>\n",
       "      <td>1561900</td>\n",
       "      <td>160.000000</td>\n",
       "      <td>155.330002</td>\n",
       "    </tr>\n",
       "    <tr>\n",
       "      <th>5006</th>\n",
       "      <td>2021-12-31</td>\n",
       "      <td>148.100006</td>\n",
       "      <td>153.619995</td>\n",
       "      <td>1394000</td>\n",
       "      <td>156.729996</td>\n",
       "      <td>148.389999</td>\n",
       "    </tr>\n",
       "  </tbody>\n",
       "</table>\n",
       "<p>252 rows × 6 columns</p>\n",
       "</div>"
      ],
      "text/plain": [
       "           Date         Low        Open    Volume        High       Close\n",
       "4755 2021-01-04   17.150000   19.000000  10022500   19.100000   17.250000\n",
       "4756 2021-01-05   17.230000   17.350000   4961500   18.080000   17.370001\n",
       "4757 2021-01-06   17.330000   17.340000   6056200   18.980000   18.360001\n",
       "4758 2021-01-07   18.020000   18.469999   6129300   19.450001   18.080000\n",
       "4759 2021-01-08   17.080000   18.180000   6482000   18.299999   17.690001\n",
       "...         ...         ...         ...       ...         ...         ...\n",
       "5002 2021-12-27  140.000000  152.000000   1613600  152.619995  148.309998\n",
       "5003 2021-12-28  146.410004  147.500000   1331100  157.410004  146.460007\n",
       "5004 2021-12-29  142.139999  147.850006   2037400  155.490005  153.929993\n",
       "5005 2021-12-30  150.000000  151.000000   1561900  160.000000  155.330002\n",
       "5006 2021-12-31  148.100006  153.619995   1394000  156.729996  148.389999\n",
       "\n",
       "[252 rows x 6 columns]"
      ]
     },
     "execution_count": 210,
     "metadata": {},
     "output_type": "execute_result"
    }
   ],
   "source": [
    "# check to make sure dropped?\n",
    "gme_share_price_df"
   ]
  },
  {
   "cell_type": "markdown",
   "id": "7ee60cc7",
   "metadata": {},
   "source": [
    "The adjusted close columns has been dropped. <br><br>\n",
    "However, we have a decimal range to 6 decimal places, we do not need the share price to be that specify since we only have data to a day range. Changing this to 2 decimal places is enough."
   ]
  },
  {
   "cell_type": "markdown",
   "id": "f0b6f927",
   "metadata": {},
   "source": [
    "--- "
   ]
  },
  {
   "cell_type": "markdown",
   "id": "c5c8ff1c",
   "metadata": {},
   "source": [
    "### **Round the columns**"
   ]
  },
  {
   "cell_type": "markdown",
   "id": "d9bd1edc",
   "metadata": {},
   "source": [
    "Since we have the share prices for a day, we can could up to two decimal places for the 4 share price columns."
   ]
  },
  {
   "cell_type": "code",
   "execution_count": 211,
   "id": "f0971af7",
   "metadata": {
    "ExecuteTime": {
     "end_time": "2022-04-04T12:22:52.071230Z",
     "start_time": "2022-04-04T12:22:52.056239Z"
    }
   },
   "outputs": [],
   "source": [
    "# Round the decimal points to 2 places\n",
    "gme_share_price_df = gme_share_price_df.round(2)"
   ]
  },
  {
   "cell_type": "code",
   "execution_count": 212,
   "id": "e94b93c5",
   "metadata": {
    "ExecuteTime": {
     "end_time": "2022-04-04T12:22:52.087157Z",
     "start_time": "2022-04-04T12:22:52.072196Z"
    }
   },
   "outputs": [
    {
     "data": {
      "text/html": [
       "<div>\n",
       "<style scoped>\n",
       "    .dataframe tbody tr th:only-of-type {\n",
       "        vertical-align: middle;\n",
       "    }\n",
       "\n",
       "    .dataframe tbody tr th {\n",
       "        vertical-align: top;\n",
       "    }\n",
       "\n",
       "    .dataframe thead th {\n",
       "        text-align: right;\n",
       "    }\n",
       "</style>\n",
       "<table border=\"1\" class=\"dataframe\">\n",
       "  <thead>\n",
       "    <tr style=\"text-align: right;\">\n",
       "      <th></th>\n",
       "      <th>Date</th>\n",
       "      <th>Low</th>\n",
       "      <th>Open</th>\n",
       "      <th>Volume</th>\n",
       "      <th>High</th>\n",
       "      <th>Close</th>\n",
       "    </tr>\n",
       "  </thead>\n",
       "  <tbody>\n",
       "    <tr>\n",
       "      <th>4755</th>\n",
       "      <td>2021-01-04</td>\n",
       "      <td>17.15</td>\n",
       "      <td>19.00</td>\n",
       "      <td>10022500</td>\n",
       "      <td>19.10</td>\n",
       "      <td>17.25</td>\n",
       "    </tr>\n",
       "    <tr>\n",
       "      <th>4756</th>\n",
       "      <td>2021-01-05</td>\n",
       "      <td>17.23</td>\n",
       "      <td>17.35</td>\n",
       "      <td>4961500</td>\n",
       "      <td>18.08</td>\n",
       "      <td>17.37</td>\n",
       "    </tr>\n",
       "    <tr>\n",
       "      <th>4757</th>\n",
       "      <td>2021-01-06</td>\n",
       "      <td>17.33</td>\n",
       "      <td>17.34</td>\n",
       "      <td>6056200</td>\n",
       "      <td>18.98</td>\n",
       "      <td>18.36</td>\n",
       "    </tr>\n",
       "    <tr>\n",
       "      <th>4758</th>\n",
       "      <td>2021-01-07</td>\n",
       "      <td>18.02</td>\n",
       "      <td>18.47</td>\n",
       "      <td>6129300</td>\n",
       "      <td>19.45</td>\n",
       "      <td>18.08</td>\n",
       "    </tr>\n",
       "    <tr>\n",
       "      <th>4759</th>\n",
       "      <td>2021-01-08</td>\n",
       "      <td>17.08</td>\n",
       "      <td>18.18</td>\n",
       "      <td>6482000</td>\n",
       "      <td>18.30</td>\n",
       "      <td>17.69</td>\n",
       "    </tr>\n",
       "    <tr>\n",
       "      <th>...</th>\n",
       "      <td>...</td>\n",
       "      <td>...</td>\n",
       "      <td>...</td>\n",
       "      <td>...</td>\n",
       "      <td>...</td>\n",
       "      <td>...</td>\n",
       "    </tr>\n",
       "    <tr>\n",
       "      <th>5002</th>\n",
       "      <td>2021-12-27</td>\n",
       "      <td>140.00</td>\n",
       "      <td>152.00</td>\n",
       "      <td>1613600</td>\n",
       "      <td>152.62</td>\n",
       "      <td>148.31</td>\n",
       "    </tr>\n",
       "    <tr>\n",
       "      <th>5003</th>\n",
       "      <td>2021-12-28</td>\n",
       "      <td>146.41</td>\n",
       "      <td>147.50</td>\n",
       "      <td>1331100</td>\n",
       "      <td>157.41</td>\n",
       "      <td>146.46</td>\n",
       "    </tr>\n",
       "    <tr>\n",
       "      <th>5004</th>\n",
       "      <td>2021-12-29</td>\n",
       "      <td>142.14</td>\n",
       "      <td>147.85</td>\n",
       "      <td>2037400</td>\n",
       "      <td>155.49</td>\n",
       "      <td>153.93</td>\n",
       "    </tr>\n",
       "    <tr>\n",
       "      <th>5005</th>\n",
       "      <td>2021-12-30</td>\n",
       "      <td>150.00</td>\n",
       "      <td>151.00</td>\n",
       "      <td>1561900</td>\n",
       "      <td>160.00</td>\n",
       "      <td>155.33</td>\n",
       "    </tr>\n",
       "    <tr>\n",
       "      <th>5006</th>\n",
       "      <td>2021-12-31</td>\n",
       "      <td>148.10</td>\n",
       "      <td>153.62</td>\n",
       "      <td>1394000</td>\n",
       "      <td>156.73</td>\n",
       "      <td>148.39</td>\n",
       "    </tr>\n",
       "  </tbody>\n",
       "</table>\n",
       "<p>252 rows × 6 columns</p>\n",
       "</div>"
      ],
      "text/plain": [
       "           Date     Low    Open    Volume    High   Close\n",
       "4755 2021-01-04   17.15   19.00  10022500   19.10   17.25\n",
       "4756 2021-01-05   17.23   17.35   4961500   18.08   17.37\n",
       "4757 2021-01-06   17.33   17.34   6056200   18.98   18.36\n",
       "4758 2021-01-07   18.02   18.47   6129300   19.45   18.08\n",
       "4759 2021-01-08   17.08   18.18   6482000   18.30   17.69\n",
       "...         ...     ...     ...       ...     ...     ...\n",
       "5002 2021-12-27  140.00  152.00   1613600  152.62  148.31\n",
       "5003 2021-12-28  146.41  147.50   1331100  157.41  146.46\n",
       "5004 2021-12-29  142.14  147.85   2037400  155.49  153.93\n",
       "5005 2021-12-30  150.00  151.00   1561900  160.00  155.33\n",
       "5006 2021-12-31  148.10  153.62   1394000  156.73  148.39\n",
       "\n",
       "[252 rows x 6 columns]"
      ]
     },
     "execution_count": 212,
     "metadata": {},
     "output_type": "execute_result"
    }
   ],
   "source": [
    "#Output the prices to check on changes.\n",
    "gme_share_price_df"
   ]
  },
  {
   "cell_type": "markdown",
   "id": "a632f469",
   "metadata": {},
   "source": [
    "We have now the price to 2 decimal places."
   ]
  },
  {
   "cell_type": "markdown",
   "id": "4cd778e1",
   "metadata": {},
   "source": [
    "---"
   ]
  },
  {
   "cell_type": "markdown",
   "id": "4f5cd796",
   "metadata": {},
   "source": [
    " ### **Reseting the index of the completed**"
   ]
  },
  {
   "cell_type": "markdown",
   "id": "54628046",
   "metadata": {},
   "source": [
    "After the above changes, we will do some good housekeeping and reset the index"
   ]
  },
  {
   "cell_type": "code",
   "execution_count": 213,
   "id": "a2b8b3e3",
   "metadata": {
    "ExecuteTime": {
     "end_time": "2022-04-04T12:22:52.103114Z",
     "start_time": "2022-04-04T12:22:52.088154Z"
    }
   },
   "outputs": [],
   "source": [
    "# Reset the index after above operations.\n",
    "gme_share_price_df.reset_index(drop=True, inplace=True)"
   ]
  },
  {
   "cell_type": "code",
   "execution_count": 214,
   "id": "66381da4",
   "metadata": {
    "ExecuteTime": {
     "end_time": "2022-04-04T12:22:52.119071Z",
     "start_time": "2022-04-04T12:22:52.104112Z"
    }
   },
   "outputs": [
    {
     "data": {
      "text/html": [
       "<div>\n",
       "<style scoped>\n",
       "    .dataframe tbody tr th:only-of-type {\n",
       "        vertical-align: middle;\n",
       "    }\n",
       "\n",
       "    .dataframe tbody tr th {\n",
       "        vertical-align: top;\n",
       "    }\n",
       "\n",
       "    .dataframe thead th {\n",
       "        text-align: right;\n",
       "    }\n",
       "</style>\n",
       "<table border=\"1\" class=\"dataframe\">\n",
       "  <thead>\n",
       "    <tr style=\"text-align: right;\">\n",
       "      <th></th>\n",
       "      <th>Date</th>\n",
       "      <th>Low</th>\n",
       "      <th>Open</th>\n",
       "      <th>Volume</th>\n",
       "      <th>High</th>\n",
       "      <th>Close</th>\n",
       "    </tr>\n",
       "  </thead>\n",
       "  <tbody>\n",
       "    <tr>\n",
       "      <th>0</th>\n",
       "      <td>2021-01-04</td>\n",
       "      <td>17.15</td>\n",
       "      <td>19.00</td>\n",
       "      <td>10022500</td>\n",
       "      <td>19.10</td>\n",
       "      <td>17.25</td>\n",
       "    </tr>\n",
       "    <tr>\n",
       "      <th>1</th>\n",
       "      <td>2021-01-05</td>\n",
       "      <td>17.23</td>\n",
       "      <td>17.35</td>\n",
       "      <td>4961500</td>\n",
       "      <td>18.08</td>\n",
       "      <td>17.37</td>\n",
       "    </tr>\n",
       "    <tr>\n",
       "      <th>2</th>\n",
       "      <td>2021-01-06</td>\n",
       "      <td>17.33</td>\n",
       "      <td>17.34</td>\n",
       "      <td>6056200</td>\n",
       "      <td>18.98</td>\n",
       "      <td>18.36</td>\n",
       "    </tr>\n",
       "    <tr>\n",
       "      <th>3</th>\n",
       "      <td>2021-01-07</td>\n",
       "      <td>18.02</td>\n",
       "      <td>18.47</td>\n",
       "      <td>6129300</td>\n",
       "      <td>19.45</td>\n",
       "      <td>18.08</td>\n",
       "    </tr>\n",
       "    <tr>\n",
       "      <th>4</th>\n",
       "      <td>2021-01-08</td>\n",
       "      <td>17.08</td>\n",
       "      <td>18.18</td>\n",
       "      <td>6482000</td>\n",
       "      <td>18.30</td>\n",
       "      <td>17.69</td>\n",
       "    </tr>\n",
       "    <tr>\n",
       "      <th>...</th>\n",
       "      <td>...</td>\n",
       "      <td>...</td>\n",
       "      <td>...</td>\n",
       "      <td>...</td>\n",
       "      <td>...</td>\n",
       "      <td>...</td>\n",
       "    </tr>\n",
       "    <tr>\n",
       "      <th>247</th>\n",
       "      <td>2021-12-27</td>\n",
       "      <td>140.00</td>\n",
       "      <td>152.00</td>\n",
       "      <td>1613600</td>\n",
       "      <td>152.62</td>\n",
       "      <td>148.31</td>\n",
       "    </tr>\n",
       "    <tr>\n",
       "      <th>248</th>\n",
       "      <td>2021-12-28</td>\n",
       "      <td>146.41</td>\n",
       "      <td>147.50</td>\n",
       "      <td>1331100</td>\n",
       "      <td>157.41</td>\n",
       "      <td>146.46</td>\n",
       "    </tr>\n",
       "    <tr>\n",
       "      <th>249</th>\n",
       "      <td>2021-12-29</td>\n",
       "      <td>142.14</td>\n",
       "      <td>147.85</td>\n",
       "      <td>2037400</td>\n",
       "      <td>155.49</td>\n",
       "      <td>153.93</td>\n",
       "    </tr>\n",
       "    <tr>\n",
       "      <th>250</th>\n",
       "      <td>2021-12-30</td>\n",
       "      <td>150.00</td>\n",
       "      <td>151.00</td>\n",
       "      <td>1561900</td>\n",
       "      <td>160.00</td>\n",
       "      <td>155.33</td>\n",
       "    </tr>\n",
       "    <tr>\n",
       "      <th>251</th>\n",
       "      <td>2021-12-31</td>\n",
       "      <td>148.10</td>\n",
       "      <td>153.62</td>\n",
       "      <td>1394000</td>\n",
       "      <td>156.73</td>\n",
       "      <td>148.39</td>\n",
       "    </tr>\n",
       "  </tbody>\n",
       "</table>\n",
       "<p>252 rows × 6 columns</p>\n",
       "</div>"
      ],
      "text/plain": [
       "          Date     Low    Open    Volume    High   Close\n",
       "0   2021-01-04   17.15   19.00  10022500   19.10   17.25\n",
       "1   2021-01-05   17.23   17.35   4961500   18.08   17.37\n",
       "2   2021-01-06   17.33   17.34   6056200   18.98   18.36\n",
       "3   2021-01-07   18.02   18.47   6129300   19.45   18.08\n",
       "4   2021-01-08   17.08   18.18   6482000   18.30   17.69\n",
       "..         ...     ...     ...       ...     ...     ...\n",
       "247 2021-12-27  140.00  152.00   1613600  152.62  148.31\n",
       "248 2021-12-28  146.41  147.50   1331100  157.41  146.46\n",
       "249 2021-12-29  142.14  147.85   2037400  155.49  153.93\n",
       "250 2021-12-30  150.00  151.00   1561900  160.00  155.33\n",
       "251 2021-12-31  148.10  153.62   1394000  156.73  148.39\n",
       "\n",
       "[252 rows x 6 columns]"
      ]
     },
     "execution_count": 214,
     "metadata": {},
     "output_type": "execute_result"
    }
   ],
   "source": [
    "#Check the index have reset.\n",
    "gme_share_price_df"
   ]
  },
  {
   "cell_type": "markdown",
   "id": "71d81e95",
   "metadata": {},
   "source": [
    "The GME dataset has now been perpared for our use."
   ]
  },
  {
   "cell_type": "markdown",
   "id": "82c0ca1f",
   "metadata": {},
   "source": [
    "---"
   ]
  },
  {
   "cell_type": "markdown",
   "id": "ac399ab8",
   "metadata": {},
   "source": [
    " ### **Save a copy of the Game Stop Share Price**"
   ]
  },
  {
   "cell_type": "code",
   "execution_count": 215,
   "id": "33402c81",
   "metadata": {
    "ExecuteTime": {
     "end_time": "2022-04-04T12:22:52.135028Z",
     "start_time": "2022-04-04T12:22:52.120069Z"
    }
   },
   "outputs": [],
   "source": [
    "# Save the GME Share Price dataset to a csv\n",
    "gme_share_price_df.to_csv('Data/capstone_gme_share_price_df.csv')"
   ]
  },
  {
   "cell_type": "markdown",
   "id": "5cfa6001",
   "metadata": {},
   "source": [
    "Its good to have a copy of our data if needed."
   ]
  },
  {
   "cell_type": "markdown",
   "id": "08503d57",
   "metadata": {},
   "source": [
    "---"
   ]
  },
  {
   "cell_type": "markdown",
   "id": "47bd2ccc",
   "metadata": {},
   "source": [
    "## **Game Stop Share Price: EDA**"
   ]
  },
  {
   "cell_type": "markdown",
   "id": "15dbee0c",
   "metadata": {},
   "source": [
    "As a reminder, we will look at our new data."
   ]
  },
  {
   "cell_type": "code",
   "execution_count": 216,
   "id": "577cd8fa",
   "metadata": {
    "ExecuteTime": {
     "end_time": "2022-04-04T12:22:52.150523Z",
     "start_time": "2022-04-04T12:22:52.136026Z"
    },
    "scrolled": true
   },
   "outputs": [
    {
     "name": "stdout",
     "output_type": "stream",
     "text": [
      "<class 'pandas.core.frame.DataFrame'>\n",
      "RangeIndex: 252 entries, 0 to 251\n",
      "Data columns (total 6 columns):\n",
      " #   Column  Non-Null Count  Dtype         \n",
      "---  ------  --------------  -----         \n",
      " 0   Date    252 non-null    datetime64[ns]\n",
      " 1   Low     252 non-null    float64       \n",
      " 2   Open    252 non-null    float64       \n",
      " 3   Volume  252 non-null    int64         \n",
      " 4   High    252 non-null    float64       \n",
      " 5   Close   252 non-null    float64       \n",
      "dtypes: datetime64[ns](1), float64(4), int64(1)\n",
      "memory usage: 11.9 KB\n"
     ]
    }
   ],
   "source": [
    "gme_share_price_df.info()"
   ]
  },
  {
   "cell_type": "markdown",
   "id": "09f75ad2",
   "metadata": {},
   "source": [
    "---"
   ]
  },
  {
   "cell_type": "markdown",
   "id": "d5ba7a45",
   "metadata": {},
   "source": [
    "### **Plot Game Stop Share Price for the year**"
   ]
  },
  {
   "cell_type": "markdown",
   "id": "bca573ef",
   "metadata": {},
   "source": [
    "Plot a line graph to show the price of a share for the year."
   ]
  },
  {
   "cell_type": "code",
   "execution_count": 217,
   "id": "fde274fc",
   "metadata": {
    "ExecuteTime": {
     "end_time": "2022-04-04T12:22:52.292492Z",
     "start_time": "2022-04-04T12:22:52.151519Z"
    },
    "scrolled": true
   },
   "outputs": [
    {
     "data": {
      "image/png": "[encoded data removed]",
      "text/plain": [
       "<Figure size 432x288 with 1 Axes>"
      ]
     },
     "metadata": {
      "needs_background": "light"
     },
     "output_type": "display_data"
    }
   ],
   "source": [
    "# Plot the year by the close.\n",
    "sns.lineplot(data=gme_share_price_df, \n",
    "             x=gme_share_price_df.Date, \n",
    "             y='Close', color='b').set(\n",
    "                                        title='Game Stop Price 2021', \n",
    "                                        xlabel='Year Period', \n",
    "                                        ylabel='Price in Dollars');\n",
    "\n",
    "sns.despine()\n",
    "#Save the plot\n",
    "#plt.savefig(\"/Users/Kolobane/Documents/BrainStation Data Science Course/Project Capstone/Plots/SNS_Game_Stop_Price_Year.png\")"
   ]
  },
  {
   "cell_type": "markdown",
   "id": "9959214c",
   "metadata": {},
   "source": [
    "**Observations:**\n",
    "- There is a big Price spike in January.\n",
    "- This is followed by a dip where likley the Wallstreet traders tried to dump their shorted shares in Game Stop as quickly as possible. The longer they held them the more money they lost. \n",
    "- This is followed by another of price increase while other people bought the shares."
   ]
  },
  {
   "cell_type": "markdown",
   "id": "adc49874",
   "metadata": {},
   "source": [
    "---"
   ]
  },
  {
   "cell_type": "markdown",
   "id": "0b17f673",
   "metadata": {},
   "source": [
    "### **Plot Game Stop Share Price by week for the year**"
   ]
  },
  {
   "cell_type": "markdown",
   "id": "0b21a21c",
   "metadata": {},
   "source": [
    "Plot a line graph to show the price of by the weeks of the year"
   ]
  },
  {
   "cell_type": "code",
   "execution_count": 218,
   "id": "442be74b",
   "metadata": {
    "ExecuteTime": {
     "end_time": "2022-04-04T12:22:52.401740Z",
     "start_time": "2022-04-04T12:22:52.293489Z"
    },
    "scrolled": true
   },
   "outputs": [
    {
     "data": {
      "image/png": "[encoded data removed]",
      "text/plain": [
       "<Figure size 432x288 with 1 Axes>"
      ]
     },
     "metadata": {
      "needs_background": "light"
     },
     "output_type": "display_data"
    }
   ],
   "source": [
    "# Plot the weeks by the close. We used Matplot lib this time as seaborn tends to smooth results more when using this code example\n",
    "# This was just exploring the date in week format.\n",
    "plt.figure()\n",
    "plt.plot(gme_share_price_df['Date'].dt.week, gme_share_price_df['Close'], color='b')\n",
    "plt.title(' Game Stop Share Price by weeks')\n",
    "plt.xlabel('Week Number')\n",
    "plt.ylabel('Price in Dollars')\n",
    "sns.despine()\n",
    "plt.show()\n"
   ]
  },
  {
   "cell_type": "markdown",
   "id": "a124bc06",
   "metadata": {
    "ExecuteTime": {
     "end_time": "2022-04-01T23:51:00.388878Z",
     "start_time": "2022-04-01T23:51:00.381897Z"
    }
   },
   "source": [
    "**Observations:**\n",
    "- Same result as by year with some sharper results."
   ]
  },
  {
   "cell_type": "markdown",
   "id": "350fa0d8",
   "metadata": {},
   "source": [
    "---"
   ]
  },
  {
   "cell_type": "markdown",
   "id": "cee276fd",
   "metadata": {},
   "source": [
    "### **Plot Game Stop Share Price by week for the first four months**"
   ]
  },
  {
   "cell_type": "markdown",
   "id": "449ffc18",
   "metadata": {
    "ExecuteTime": {
     "end_time": "2022-04-01T23:15:19.304764Z",
     "start_time": "2022-04-01T23:15:19.285814Z"
    }
   },
   "source": [
    "Plot a line graph to show the price of a share for the first four months."
   ]
  },
  {
   "cell_type": "code",
   "execution_count": 219,
   "id": "1ccc59e2",
   "metadata": {
    "ExecuteTime": {
     "end_time": "2022-04-04T12:22:52.416666Z",
     "start_time": "2022-04-04T12:22:52.402747Z"
    }
   },
   "outputs": [],
   "source": [
    "# Take a data frame for first four months\n",
    "four_months = gme_share_price_df.loc[gme_share_price_df['Date'] < '2021-04-30']"
   ]
  },
  {
   "cell_type": "code",
   "execution_count": 220,
   "id": "99c5a758",
   "metadata": {
    "ExecuteTime": {
     "end_time": "2022-04-04T12:22:52.654033Z",
     "start_time": "2022-04-04T12:22:52.417664Z"
    }
   },
   "outputs": [
    {
     "data": {
      "image/png": "[encoded data removed]",
      "text/plain": [
       "<Figure size 432x288 with 1 Axes>"
      ]
     },
     "metadata": {
      "needs_background": "light"
     },
     "output_type": "display_data"
    }
   ],
   "source": [
    "# Plot the year by the close.\n",
    "sns.lineplot(data=four_months, \n",
    "             x=four_months.index, \n",
    "             y=four_months.Close, color='b').set(title='Game Stop Price Jan to April', \n",
    "                                                xlabel='Days', \n",
    "                                                ylabel='Price in Dollars');\n",
    "\n",
    "sns.despine()\n",
    "# save plot\n",
    "plt.savefig(\"/Users/Kolobane/Documents/BrainStation Data Science Course/Project Capstone/Plots/Game Stop Price Jan to April.png\")"
   ]
  },
  {
   "cell_type": "markdown",
   "id": "8b14fad2",
   "metadata": {},
   "source": [
    "**Observations:**\n",
    "- A closer look at the spikes in prices over the first 80 days."
   ]
  },
  {
   "cell_type": "markdown",
   "id": "9ef12384",
   "metadata": {},
   "source": [
    "---\n",
    "---\n",
    "---"
   ]
  },
  {
   "cell_type": "markdown",
   "id": "0ca10817",
   "metadata": {},
   "source": [
    "# **Join Datasets**"
   ]
  },
  {
   "cell_type": "markdown",
   "id": "eb2f8188",
   "metadata": {},
   "source": [
    "---"
   ]
  },
  {
   "cell_type": "markdown",
   "id": "a60b6f42",
   "metadata": {},
   "source": [
    "## **Game Stop Reddit Mentions Dataset with Game Stop Share Price Dataset**"
   ]
  },
  {
   "cell_type": "markdown",
   "id": "9611b7ec",
   "metadata": {},
   "source": [
    "We now have two datasets cleaned data sets:\n",
    "- gme_df: Which is the cleaned Data from Reddit with Game Stop Mentions in the title(Comment)column.\n",
    "- gme_share_price_df: This is cleaned data for the Game Stop Share Price.\n",
    "\n",
    "These two datasets will now be combined into one data set called 'gme_mention_price_df'."
   ]
  },
  {
   "attachments": {
    "image.png": {
     "image/png": "[encoded data removed]"
    }
   },
   "cell_type": "markdown",
   "id": "772cbfbc",
   "metadata": {},
   "source": [
    "![image.png](attachment:image.png)"
   ]
  },
  {
   "cell_type": "markdown",
   "id": "aaff85ff",
   "metadata": {},
   "source": [
    "---"
   ]
  },
  {
   "cell_type": "markdown",
   "id": "d60b8aa3",
   "metadata": {},
   "source": [
    "## **Join Data**"
   ]
  },
  {
   "cell_type": "markdown",
   "id": "595c418a",
   "metadata": {},
   "source": [
    "Look at the structure of the two datasets."
   ]
  },
  {
   "cell_type": "code",
   "execution_count": 221,
   "id": "f764bab4",
   "metadata": {
    "ExecuteTime": {
     "end_time": "2022-04-04T12:22:52.669990Z",
     "start_time": "2022-04-04T12:22:52.655030Z"
    }
   },
   "outputs": [
    {
     "data": {
      "text/plain": [
       "((155505, 6), (252, 6))"
      ]
     },
     "execution_count": 221,
     "metadata": {},
     "output_type": "execute_result"
    }
   ],
   "source": [
    "# Shape of Gme Mentions and Share Price data\n",
    "gme_df.shape, gme_share_price_df.shape"
   ]
  },
  {
   "cell_type": "markdown",
   "id": "db74f241",
   "metadata": {},
   "source": [
    "The Reddit data has 155,505 rows and the Share Price has only 252.<br>\n",
    "\n",
    "Look into the columns."
   ]
  },
  {
   "cell_type": "code",
   "execution_count": 222,
   "id": "b8922c8d",
   "metadata": {
    "ExecuteTime": {
     "end_time": "2022-04-04T12:22:52.716893Z",
     "start_time": "2022-04-04T12:22:52.670987Z"
    }
   },
   "outputs": [
    {
     "name": "stdout",
     "output_type": "stream",
     "text": [
      "<class 'pandas.core.frame.DataFrame'>\n",
      "Int64Index: 155505 entries, 287 to 1499452\n",
      "Data columns (total 6 columns):\n",
      " #   Column        Non-Null Count   Dtype         \n",
      "---  ------        --------------   -----         \n",
      " 0   author        155505 non-null  object        \n",
      " 1   created       155505 non-null  datetime64[ns]\n",
      " 2   title         155505 non-null  object        \n",
      " 3   upvote_ratio  155505 non-null  float64       \n",
      " 4   score         155505 non-null  int32         \n",
      " 5   num_comments  155505 non-null  int32         \n",
      "dtypes: datetime64[ns](1), float64(1), int32(2), object(2)\n",
      "memory usage: 7.1+ MB\n",
      "<class 'pandas.core.frame.DataFrame'>\n",
      "RangeIndex: 252 entries, 0 to 251\n",
      "Data columns (total 6 columns):\n",
      " #   Column  Non-Null Count  Dtype         \n",
      "---  ------  --------------  -----         \n",
      " 0   Date    252 non-null    datetime64[ns]\n",
      " 1   Low     252 non-null    float64       \n",
      " 2   Open    252 non-null    float64       \n",
      " 3   Volume  252 non-null    int64         \n",
      " 4   High    252 non-null    float64       \n",
      " 5   Close   252 non-null    float64       \n",
      "dtypes: datetime64[ns](1), float64(4), int64(1)\n",
      "memory usage: 11.9 KB\n"
     ]
    },
    {
     "data": {
      "text/plain": [
       "(None, None)"
      ]
     },
     "execution_count": 222,
     "metadata": {},
     "output_type": "execute_result"
    }
   ],
   "source": [
    "# Look into the columns\n",
    "gme_df.info(), gme_share_price_df.info()"
   ]
  },
  {
   "cell_type": "markdown",
   "id": "48624d9c",
   "metadata": {
    "ExecuteTime": {
     "end_time": "2022-04-02T10:08:59.706171Z",
     "start_time": "2022-04-02T10:08:59.706171Z"
    }
   },
   "source": [
    "As both columns have a data column we will be able to join on this. <br>\n",
    "\n",
    "The one thing to note is that will the Reddit data is for each day of the year, the Share Price is only for the days the markets were open. But we will use a fillna method after to fill in those days.<br>\n",
    "\n",
    "Lets look at how the date is arranged for both datasets:"
   ]
  },
  {
   "cell_type": "code",
   "execution_count": 223,
   "id": "518113f7",
   "metadata": {
    "ExecuteTime": {
     "end_time": "2022-04-04T12:22:52.732822Z",
     "start_time": "2022-04-04T12:22:52.717905Z"
    }
   },
   "outputs": [
    {
     "data": {
      "text/plain": [
       "(287   2021-01-15 04:39:53\n",
       " Name: created, dtype: datetime64[ns],\n",
       " 0   2021-01-04\n",
       " Name: Date, dtype: datetime64[ns])"
      ]
     },
     "execution_count": 223,
     "metadata": {},
     "output_type": "execute_result"
    }
   ],
   "source": [
    "# Look at the dates for both datasets\n",
    "gme_df['created'].head(1), gme_share_price_df['Date'].head(1)"
   ]
  },
  {
   "cell_type": "markdown",
   "id": "56d33976",
   "metadata": {},
   "source": [
    "We can see that the date for the Reddit data is down to hour:minute:second. Whereas the date for the Share Price is to the day. We will not need the fine detail of the Reddit so we will round this up to the same range as the Share Price data."
   ]
  },
  {
   "cell_type": "code",
   "execution_count": 224,
   "id": "3a1c7d4d",
   "metadata": {
    "ExecuteTime": {
     "end_time": "2022-04-04T12:22:52.780721Z",
     "start_time": "2022-04-04T12:22:52.733819Z"
    }
   },
   "outputs": [],
   "source": [
    "# Round the Reddit data up to the day range.\n",
    "gme_df['created'] = gme_df['created'].dt.date"
   ]
  },
  {
   "cell_type": "markdown",
   "id": "8e48715b",
   "metadata": {},
   "source": [
    "We have dropped the hour:minute:second for the Reddit data now."
   ]
  },
  {
   "cell_type": "markdown",
   "id": "bec9bd0c",
   "metadata": {},
   "source": [
    "First lets resort the new data frame by the date and reset the index."
   ]
  },
  {
   "cell_type": "code",
   "execution_count": 225,
   "id": "90033c3b",
   "metadata": {
    "ExecuteTime": {
     "end_time": "2022-04-04T12:22:52.811611Z",
     "start_time": "2022-04-04T12:22:52.781719Z"
    },
    "scrolled": true
   },
   "outputs": [],
   "source": [
    "gme_df['created'] = pd.to_datetime(gme_df['created'])"
   ]
  },
  {
   "cell_type": "markdown",
   "id": "0fc099b8",
   "metadata": {},
   "source": [
    "We can now merge both data sets to give us one complete one called 'gme_mention_price_df'"
   ]
  },
  {
   "cell_type": "code",
   "execution_count": 226,
   "id": "e5fe198a",
   "metadata": {
    "ExecuteTime": {
     "end_time": "2022-04-04T12:22:53.112836Z",
     "start_time": "2022-04-04T12:22:52.812608Z"
    }
   },
   "outputs": [],
   "source": [
    "# Join both data sets together on their date\n",
    "gme_mention_price_df = gme_df.merge(gme_share_price_df, left_on='created', right_on='Date', how='left')"
   ]
  },
  {
   "cell_type": "markdown",
   "id": "f0d61c20",
   "metadata": {},
   "source": [
    "Lets look at the new data."
   ]
  },
  {
   "cell_type": "code",
   "execution_count": 227,
   "id": "9d86b69a",
   "metadata": {
    "ExecuteTime": {
     "end_time": "2022-04-04T12:22:53.159949Z",
     "start_time": "2022-04-04T12:22:53.115799Z"
    },
    "scrolled": true
   },
   "outputs": [
    {
     "name": "stdout",
     "output_type": "stream",
     "text": [
      "<class 'pandas.core.frame.DataFrame'>\n",
      "Int64Index: 155505 entries, 0 to 155504\n",
      "Data columns (total 12 columns):\n",
      " #   Column        Non-Null Count   Dtype         \n",
      "---  ------        --------------   -----         \n",
      " 0   author        155505 non-null  object        \n",
      " 1   created       155505 non-null  datetime64[ns]\n",
      " 2   title         155505 non-null  object        \n",
      " 3   upvote_ratio  155505 non-null  float64       \n",
      " 4   score         155505 non-null  int32         \n",
      " 5   num_comments  155505 non-null  int32         \n",
      " 6   Date          121118 non-null  datetime64[ns]\n",
      " 7   Low           121118 non-null  float64       \n",
      " 8   Open          121118 non-null  float64       \n",
      " 9   Volume        121118 non-null  float64       \n",
      " 10  High          121118 non-null  float64       \n",
      " 11  Close         121118 non-null  float64       \n",
      "dtypes: datetime64[ns](2), float64(6), int32(2), object(2)\n",
      "memory usage: 14.2+ MB\n"
     ]
    }
   ],
   "source": [
    "gme_mention_price_df.info()"
   ]
  },
  {
   "cell_type": "markdown",
   "id": "3e18dcb2",
   "metadata": {
    "ExecuteTime": {
     "end_time": "2022-04-02T10:19:15.932389Z",
     "start_time": "2022-04-02T10:19:15.918428Z"
    }
   },
   "source": [
    "We have not joined the new data. We need to do a few things:\n",
    "- Sort the data by date.\n",
    "- Drop the 'created' date column as we do not need two and the 'Date' column has a better name.\n",
    "- Null values.\n",
    "- Use a fillna method to fill the missing dates.\n",
    "- Duplicates\n",
    "- Look at objects : Change Volume to int."
   ]
  },
  {
   "cell_type": "markdown",
   "id": "3b7fbb6b",
   "metadata": {},
   "source": [
    "---"
   ]
  },
  {
   "cell_type": "markdown",
   "id": "90d5856d",
   "metadata": {},
   "source": [
    "### **Sort the data by date**"
   ]
  },
  {
   "cell_type": "markdown",
   "id": "638096bc",
   "metadata": {
    "ExecuteTime": {
     "end_time": "2022-04-02T10:23:40.961988Z",
     "start_time": "2022-04-02T10:23:40.935031Z"
    }
   },
   "source": [
    "Lets look at the top 5 rows of the data"
   ]
  },
  {
   "cell_type": "code",
   "execution_count": 228,
   "id": "63f3206b",
   "metadata": {
    "ExecuteTime": {
     "end_time": "2022-04-04T12:22:53.175906Z",
     "start_time": "2022-04-04T12:22:53.160947Z"
    }
   },
   "outputs": [
    {
     "data": {
      "text/html": [
       "<div>\n",
       "<style scoped>\n",
       "    .dataframe tbody tr th:only-of-type {\n",
       "        vertical-align: middle;\n",
       "    }\n",
       "\n",
       "    .dataframe tbody tr th {\n",
       "        vertical-align: top;\n",
       "    }\n",
       "\n",
       "    .dataframe thead th {\n",
       "        text-align: right;\n",
       "    }\n",
       "</style>\n",
       "<table border=\"1\" class=\"dataframe\">\n",
       "  <thead>\n",
       "    <tr style=\"text-align: right;\">\n",
       "      <th></th>\n",
       "      <th>author</th>\n",
       "      <th>created</th>\n",
       "      <th>title</th>\n",
       "      <th>upvote_ratio</th>\n",
       "      <th>score</th>\n",
       "      <th>num_comments</th>\n",
       "      <th>Date</th>\n",
       "      <th>Low</th>\n",
       "      <th>Open</th>\n",
       "      <th>Volume</th>\n",
       "      <th>High</th>\n",
       "      <th>Close</th>\n",
       "    </tr>\n",
       "  </thead>\n",
       "  <tbody>\n",
       "    <tr>\n",
       "      <th>0</th>\n",
       "      <td>fintechinshorts</td>\n",
       "      <td>2021-01-15</td>\n",
       "      <td>augmentum: enters the defi space with parafi p...</td>\n",
       "      <td>1.00</td>\n",
       "      <td>1</td>\n",
       "      <td>0</td>\n",
       "      <td>2021-01-15</td>\n",
       "      <td>34.01</td>\n",
       "      <td>38.49</td>\n",
       "      <td>46866400.0</td>\n",
       "      <td>40.75</td>\n",
       "      <td>35.50</td>\n",
       "    </tr>\n",
       "    <tr>\n",
       "      <th>1</th>\n",
       "      <td>[deleted]</td>\n",
       "      <td>2021-01-27</td>\n",
       "      <td>gamestop is rage against the financial machine</td>\n",
       "      <td>0.67</td>\n",
       "      <td>1</td>\n",
       "      <td>1</td>\n",
       "      <td>2021-01-27</td>\n",
       "      <td>249.00</td>\n",
       "      <td>354.83</td>\n",
       "      <td>93396700.0</td>\n",
       "      <td>380.00</td>\n",
       "      <td>347.51</td>\n",
       "    </tr>\n",
       "    <tr>\n",
       "      <th>2</th>\n",
       "      <td>[deleted]</td>\n",
       "      <td>2021-01-28</td>\n",
       "      <td>the sec when they hear that redditors are pump...</td>\n",
       "      <td>1.00</td>\n",
       "      <td>1</td>\n",
       "      <td>0</td>\n",
       "      <td>2021-01-28</td>\n",
       "      <td>112.25</td>\n",
       "      <td>265.00</td>\n",
       "      <td>58815800.0</td>\n",
       "      <td>483.00</td>\n",
       "      <td>193.60</td>\n",
       "    </tr>\n",
       "    <tr>\n",
       "      <th>3</th>\n",
       "      <td>hecsoler</td>\n",
       "      <td>2021-01-28</td>\n",
       "      <td>we got a shoutout bros #gme 🚀🚀</td>\n",
       "      <td>1.00</td>\n",
       "      <td>1</td>\n",
       "      <td>0</td>\n",
       "      <td>2021-01-28</td>\n",
       "      <td>112.25</td>\n",
       "      <td>265.00</td>\n",
       "      <td>58815800.0</td>\n",
       "      <td>483.00</td>\n",
       "      <td>193.60</td>\n",
       "    </tr>\n",
       "    <tr>\n",
       "      <th>4</th>\n",
       "      <td>B0ssc0</td>\n",
       "      <td>2021-01-28</td>\n",
       "      <td>gamestop stock has surged thanks to enthusiast...</td>\n",
       "      <td>0.69</td>\n",
       "      <td>7</td>\n",
       "      <td>0</td>\n",
       "      <td>2021-01-28</td>\n",
       "      <td>112.25</td>\n",
       "      <td>265.00</td>\n",
       "      <td>58815800.0</td>\n",
       "      <td>483.00</td>\n",
       "      <td>193.60</td>\n",
       "    </tr>\n",
       "  </tbody>\n",
       "</table>\n",
       "</div>"
      ],
      "text/plain": [
       "            author    created  \\\n",
       "0  fintechinshorts 2021-01-15   \n",
       "1        [deleted] 2021-01-27   \n",
       "2        [deleted] 2021-01-28   \n",
       "3         hecsoler 2021-01-28   \n",
       "4           B0ssc0 2021-01-28   \n",
       "\n",
       "                                               title  upvote_ratio  score  \\\n",
       "0  augmentum: enters the defi space with parafi p...          1.00      1   \n",
       "1     gamestop is rage against the financial machine          0.67      1   \n",
       "2  the sec when they hear that redditors are pump...          1.00      1   \n",
       "3                     we got a shoutout bros #gme 🚀🚀          1.00      1   \n",
       "4  gamestop stock has surged thanks to enthusiast...          0.69      7   \n",
       "\n",
       "   num_comments       Date     Low    Open      Volume    High   Close  \n",
       "0             0 2021-01-15   34.01   38.49  46866400.0   40.75   35.50  \n",
       "1             1 2021-01-27  249.00  354.83  93396700.0  380.00  347.51  \n",
       "2             0 2021-01-28  112.25  265.00  58815800.0  483.00  193.60  \n",
       "3             0 2021-01-28  112.25  265.00  58815800.0  483.00  193.60  \n",
       "4             0 2021-01-28  112.25  265.00  58815800.0  483.00  193.60  "
      ]
     },
     "execution_count": 228,
     "metadata": {},
     "output_type": "execute_result"
    }
   ],
   "source": [
    "# look at the top 5 rows\n",
    "gme_mention_price_df.head()"
   ]
  },
  {
   "cell_type": "markdown",
   "id": "58d8562d",
   "metadata": {},
   "source": [
    "We can see the data is not arrange right. We will fix that."
   ]
  },
  {
   "cell_type": "code",
   "execution_count": 229,
   "id": "9b9d0500",
   "metadata": {
    "ExecuteTime": {
     "end_time": "2022-04-04T12:22:53.207847Z",
     "start_time": "2022-04-04T12:22:53.176904Z"
    }
   },
   "outputs": [],
   "source": [
    "# sort by date and reset the index\n",
    "gme_mention_price_df = gme_mention_price_df.sort_values(by='Date')\n",
    "gme_mention_price_df.reset_index(drop=True, inplace=True)"
   ]
  },
  {
   "cell_type": "code",
   "execution_count": 230,
   "id": "14a5255c",
   "metadata": {
    "ExecuteTime": {
     "end_time": "2022-04-04T12:22:53.239735Z",
     "start_time": "2022-04-04T12:22:53.208817Z"
    }
   },
   "outputs": [
    {
     "data": {
      "text/html": [
       "<div>\n",
       "<style scoped>\n",
       "    .dataframe tbody tr th:only-of-type {\n",
       "        vertical-align: middle;\n",
       "    }\n",
       "\n",
       "    .dataframe tbody tr th {\n",
       "        vertical-align: top;\n",
       "    }\n",
       "\n",
       "    .dataframe thead th {\n",
       "        text-align: right;\n",
       "    }\n",
       "</style>\n",
       "<table border=\"1\" class=\"dataframe\">\n",
       "  <thead>\n",
       "    <tr style=\"text-align: right;\">\n",
       "      <th></th>\n",
       "      <th>author</th>\n",
       "      <th>created</th>\n",
       "      <th>title</th>\n",
       "      <th>upvote_ratio</th>\n",
       "      <th>score</th>\n",
       "      <th>num_comments</th>\n",
       "      <th>Date</th>\n",
       "      <th>Low</th>\n",
       "      <th>Open</th>\n",
       "      <th>Volume</th>\n",
       "      <th>High</th>\n",
       "      <th>Close</th>\n",
       "    </tr>\n",
       "  </thead>\n",
       "  <tbody>\n",
       "    <tr>\n",
       "      <th>0</th>\n",
       "      <td>johneebarnett</td>\n",
       "      <td>2021-01-04</td>\n",
       "      <td>my grandma said buy the dip!!!! amc and gme!!!</td>\n",
       "      <td>1.00</td>\n",
       "      <td>1</td>\n",
       "      <td>0</td>\n",
       "      <td>2021-01-04</td>\n",
       "      <td>17.15</td>\n",
       "      <td>19.0</td>\n",
       "      <td>10022500.0</td>\n",
       "      <td>19.1</td>\n",
       "      <td>17.25</td>\n",
       "    </tr>\n",
       "    <tr>\n",
       "      <th>1</th>\n",
       "      <td>morgcord89</td>\n",
       "      <td>2021-01-04</td>\n",
       "      <td>gme help fund this app!</td>\n",
       "      <td>1.00</td>\n",
       "      <td>1</td>\n",
       "      <td>2</td>\n",
       "      <td>2021-01-04</td>\n",
       "      <td>17.15</td>\n",
       "      <td>19.0</td>\n",
       "      <td>10022500.0</td>\n",
       "      <td>19.1</td>\n",
       "      <td>17.25</td>\n",
       "    </tr>\n",
       "    <tr>\n",
       "      <th>2</th>\n",
       "      <td>PotusPlasticSurgery</td>\n",
       "      <td>2021-01-04</td>\n",
       "      <td>acy the next gme</td>\n",
       "      <td>1.00</td>\n",
       "      <td>1</td>\n",
       "      <td>2</td>\n",
       "      <td>2021-01-04</td>\n",
       "      <td>17.15</td>\n",
       "      <td>19.0</td>\n",
       "      <td>10022500.0</td>\n",
       "      <td>19.1</td>\n",
       "      <td>17.25</td>\n",
       "    </tr>\n",
       "    <tr>\n",
       "      <th>3</th>\n",
       "      <td>Thump4</td>\n",
       "      <td>2021-01-04</td>\n",
       "      <td>💎gme ✋ be prepared for an increase in volume a...</td>\n",
       "      <td>1.00</td>\n",
       "      <td>1</td>\n",
       "      <td>1</td>\n",
       "      <td>2021-01-04</td>\n",
       "      <td>17.15</td>\n",
       "      <td>19.0</td>\n",
       "      <td>10022500.0</td>\n",
       "      <td>19.1</td>\n",
       "      <td>17.25</td>\n",
       "    </tr>\n",
       "    <tr>\n",
       "      <th>4</th>\n",
       "      <td>walkwil17</td>\n",
       "      <td>2021-01-04</td>\n",
       "      <td>happy aperil everyone. just got done eating my...</td>\n",
       "      <td>0.84</td>\n",
       "      <td>4</td>\n",
       "      <td>0</td>\n",
       "      <td>2021-01-04</td>\n",
       "      <td>17.15</td>\n",
       "      <td>19.0</td>\n",
       "      <td>10022500.0</td>\n",
       "      <td>19.1</td>\n",
       "      <td>17.25</td>\n",
       "    </tr>\n",
       "    <tr>\n",
       "      <th>...</th>\n",
       "      <td>...</td>\n",
       "      <td>...</td>\n",
       "      <td>...</td>\n",
       "      <td>...</td>\n",
       "      <td>...</td>\n",
       "      <td>...</td>\n",
       "      <td>...</td>\n",
       "      <td>...</td>\n",
       "      <td>...</td>\n",
       "      <td>...</td>\n",
       "      <td>...</td>\n",
       "      <td>...</td>\n",
       "    </tr>\n",
       "    <tr>\n",
       "      <th>155500</th>\n",
       "      <td>Lacoste03</td>\n",
       "      <td>2021-12-26</td>\n",
       "      <td>it’s time to hype up another useless stock lik...</td>\n",
       "      <td>1.00</td>\n",
       "      <td>1</td>\n",
       "      <td>2</td>\n",
       "      <td>NaT</td>\n",
       "      <td>NaN</td>\n",
       "      <td>NaN</td>\n",
       "      <td>NaN</td>\n",
       "      <td>NaN</td>\n",
       "      <td>NaN</td>\n",
       "    </tr>\n",
       "    <tr>\n",
       "      <th>155501</th>\n",
       "      <td>currentlyin-your-mom</td>\n",
       "      <td>2021-12-26</td>\n",
       "      <td>gme is a ticking time bomb waiting to explode.</td>\n",
       "      <td>0.89</td>\n",
       "      <td>1114</td>\n",
       "      <td>328</td>\n",
       "      <td>NaT</td>\n",
       "      <td>NaN</td>\n",
       "      <td>NaN</td>\n",
       "      <td>NaN</td>\n",
       "      <td>NaN</td>\n",
       "      <td>NaN</td>\n",
       "    </tr>\n",
       "    <tr>\n",
       "      <th>155502</th>\n",
       "      <td>Windf4ll</td>\n",
       "      <td>2021-12-26</td>\n",
       "      <td>amc/gme - who’s grandparents benefited from th...</td>\n",
       "      <td>0.50</td>\n",
       "      <td>0</td>\n",
       "      <td>2</td>\n",
       "      <td>NaT</td>\n",
       "      <td>NaN</td>\n",
       "      <td>NaN</td>\n",
       "      <td>NaN</td>\n",
       "      <td>NaN</td>\n",
       "      <td>NaN</td>\n",
       "    </tr>\n",
       "    <tr>\n",
       "      <th>155503</th>\n",
       "      <td>Windf4ll</td>\n",
       "      <td>2021-12-26</td>\n",
       "      <td>amc/gme - who’s grandparents benefited from th...</td>\n",
       "      <td>0.88</td>\n",
       "      <td>274</td>\n",
       "      <td>21</td>\n",
       "      <td>NaT</td>\n",
       "      <td>NaN</td>\n",
       "      <td>NaN</td>\n",
       "      <td>NaN</td>\n",
       "      <td>NaN</td>\n",
       "      <td>NaN</td>\n",
       "    </tr>\n",
       "    <tr>\n",
       "      <th>155504</th>\n",
       "      <td>Retard_or_Autistic_</td>\n",
       "      <td>2021-12-26</td>\n",
       "      <td>had to buy some gme since gas is so expensive ...</td>\n",
       "      <td>0.91</td>\n",
       "      <td>846</td>\n",
       "      <td>94</td>\n",
       "      <td>NaT</td>\n",
       "      <td>NaN</td>\n",
       "      <td>NaN</td>\n",
       "      <td>NaN</td>\n",
       "      <td>NaN</td>\n",
       "      <td>NaN</td>\n",
       "    </tr>\n",
       "  </tbody>\n",
       "</table>\n",
       "<p>155505 rows × 12 columns</p>\n",
       "</div>"
      ],
      "text/plain": [
       "                      author    created  \\\n",
       "0              johneebarnett 2021-01-04   \n",
       "1                 morgcord89 2021-01-04   \n",
       "2        PotusPlasticSurgery 2021-01-04   \n",
       "3                     Thump4 2021-01-04   \n",
       "4                  walkwil17 2021-01-04   \n",
       "...                      ...        ...   \n",
       "155500             Lacoste03 2021-12-26   \n",
       "155501  currentlyin-your-mom 2021-12-26   \n",
       "155502              Windf4ll 2021-12-26   \n",
       "155503              Windf4ll 2021-12-26   \n",
       "155504   Retard_or_Autistic_ 2021-12-26   \n",
       "\n",
       "                                                    title  upvote_ratio  \\\n",
       "0          my grandma said buy the dip!!!! amc and gme!!!          1.00   \n",
       "1                                 gme help fund this app!          1.00   \n",
       "2                                        acy the next gme          1.00   \n",
       "3       💎gme ✋ be prepared for an increase in volume a...          1.00   \n",
       "4       happy aperil everyone. just got done eating my...          0.84   \n",
       "...                                                   ...           ...   \n",
       "155500  it’s time to hype up another useless stock lik...          1.00   \n",
       "155501     gme is a ticking time bomb waiting to explode.          0.89   \n",
       "155502  amc/gme - who’s grandparents benefited from th...          0.50   \n",
       "155503  amc/gme - who’s grandparents benefited from th...          0.88   \n",
       "155504  had to buy some gme since gas is so expensive ...          0.91   \n",
       "\n",
       "        score  num_comments       Date    Low  Open      Volume  High  Close  \n",
       "0           1             0 2021-01-04  17.15  19.0  10022500.0  19.1  17.25  \n",
       "1           1             2 2021-01-04  17.15  19.0  10022500.0  19.1  17.25  \n",
       "2           1             2 2021-01-04  17.15  19.0  10022500.0  19.1  17.25  \n",
       "3           1             1 2021-01-04  17.15  19.0  10022500.0  19.1  17.25  \n",
       "4           4             0 2021-01-04  17.15  19.0  10022500.0  19.1  17.25  \n",
       "...       ...           ...        ...    ...   ...         ...   ...    ...  \n",
       "155500      1             2        NaT    NaN   NaN         NaN   NaN    NaN  \n",
       "155501   1114           328        NaT    NaN   NaN         NaN   NaN    NaN  \n",
       "155502      0             2        NaT    NaN   NaN         NaN   NaN    NaN  \n",
       "155503    274            21        NaT    NaN   NaN         NaN   NaN    NaN  \n",
       "155504    846            94        NaT    NaN   NaN         NaN   NaN    NaN  \n",
       "\n",
       "[155505 rows x 12 columns]"
      ]
     },
     "execution_count": 230,
     "metadata": {},
     "output_type": "execute_result"
    }
   ],
   "source": [
    "gme_mention_price_df"
   ]
  },
  {
   "cell_type": "markdown",
   "id": "602fe1d9",
   "metadata": {},
   "source": [
    "We now now have the date range we want and theindex is reset."
   ]
  },
  {
   "cell_type": "markdown",
   "id": "841169fb",
   "metadata": {},
   "source": [
    "---"
   ]
  },
  {
   "cell_type": "markdown",
   "id": "176ef935",
   "metadata": {},
   "source": [
    "### **Drop the 'created' date column**"
   ]
  },
  {
   "cell_type": "markdown",
   "id": "e1fe5308",
   "metadata": {},
   "source": [
    " We do not need two date columns so we will drop 'created' as  the 'Date' column has a better name."
   ]
  },
  {
   "cell_type": "code",
   "execution_count": 231,
   "id": "4b3f045a",
   "metadata": {
    "ExecuteTime": {
     "end_time": "2022-04-04T12:22:53.303565Z",
     "start_time": "2022-04-04T12:22:53.240731Z"
    }
   },
   "outputs": [],
   "source": [
    "# Drop the 'created' column and save\n",
    "gme_mention_price_df.drop('created', axis=1, inplace=True)"
   ]
  },
  {
   "cell_type": "code",
   "execution_count": 232,
   "id": "81f950c8",
   "metadata": {
    "ExecuteTime": {
     "end_time": "2022-04-04T12:22:53.351467Z",
     "start_time": "2022-04-04T12:22:53.304562Z"
    }
   },
   "outputs": [
    {
     "name": "stdout",
     "output_type": "stream",
     "text": [
      "<class 'pandas.core.frame.DataFrame'>\n",
      "RangeIndex: 155505 entries, 0 to 155504\n",
      "Data columns (total 11 columns):\n",
      " #   Column        Non-Null Count   Dtype         \n",
      "---  ------        --------------   -----         \n",
      " 0   author        155505 non-null  object        \n",
      " 1   title         155505 non-null  object        \n",
      " 2   upvote_ratio  155505 non-null  float64       \n",
      " 3   score         155505 non-null  int32         \n",
      " 4   num_comments  155505 non-null  int32         \n",
      " 5   Date          121118 non-null  datetime64[ns]\n",
      " 6   Low           121118 non-null  float64       \n",
      " 7   Open          121118 non-null  float64       \n",
      " 8   Volume        121118 non-null  float64       \n",
      " 9   High          121118 non-null  float64       \n",
      " 10  Close         121118 non-null  float64       \n",
      "dtypes: datetime64[ns](1), float64(6), int32(2), object(2)\n",
      "memory usage: 11.9+ MB\n"
     ]
    }
   ],
   "source": [
    "# Check column has been dropped.\n",
    "gme_mention_price_df.info()"
   ]
  },
  {
   "cell_type": "markdown",
   "id": "d2d667e9",
   "metadata": {},
   "source": [
    "Great. Done."
   ]
  },
  {
   "cell_type": "markdown",
   "id": "a0bb97aa",
   "metadata": {},
   "source": [
    "---"
   ]
  },
  {
   "cell_type": "markdown",
   "id": "bd1ba13e",
   "metadata": {
    "ExecuteTime": {
     "end_time": "2022-03-31T12:21:30.553653Z",
     "start_time": "2022-03-31T12:21:30.546672Z"
    }
   },
   "source": [
    "### **Null Values**"
   ]
  },
  {
   "cell_type": "markdown",
   "id": "f3b8fd76",
   "metadata": {},
   "source": [
    "The Share Price Data Date range is only the days the market is open. So 252 days of the year. When I join the data to the Reddit data I am left with some NaN values. <br><br>"
   ]
  },
  {
   "cell_type": "code",
   "execution_count": 233,
   "id": "af0a0438",
   "metadata": {
    "ExecuteTime": {
     "end_time": "2022-04-04T12:22:53.398311Z",
     "start_time": "2022-04-04T12:22:53.352434Z"
    },
    "scrolled": true
   },
   "outputs": [
    {
     "data": {
      "text/plain": [
       "author              0\n",
       "title               0\n",
       "upvote_ratio        0\n",
       "score               0\n",
       "num_comments        0\n",
       "Date            34387\n",
       "Low             34387\n",
       "Open            34387\n",
       "Volume          34387\n",
       "High            34387\n",
       "Close           34387\n",
       "dtype: int64"
      ]
     },
     "execution_count": 233,
     "metadata": {},
     "output_type": "execute_result"
    }
   ],
   "source": [
    "# Get a count of the NaN values after a join.\n",
    "gme_mention_price_df.isna().sum()"
   ]
  },
  {
   "cell_type": "markdown",
   "id": "400cd361",
   "metadata": {
    "ExecuteTime": {
     "start_time": "2022-04-02T10:21:30.279Z"
    }
   },
   "source": [
    "This is an expected result. As you can see I have 34,387. Which is all the names of the year the markets were not open."
   ]
  },
  {
   "cell_type": "markdown",
   "id": "63b5fd38",
   "metadata": {},
   "source": [
    "---"
   ]
  },
  {
   "cell_type": "markdown",
   "id": "ec18720d",
   "metadata": {},
   "source": [
    "### **Use a fillna method to fill the missing dates**"
   ]
  },
  {
   "cell_type": "markdown",
   "id": "6a105c95",
   "metadata": {},
   "source": [
    "**UPDATE**\n",
    "\n",
    "I originally used fillna to fill in these missing values. As I started to model, I discovered the fillna was filling all the 34,387 dates to the 31st of December, which became a problem for my models. While investigating I could see I had lost the 34,387 across the whole year since these are weekends mostly. I decided with time constraints to drop these values and later I will check on this. <br>\n",
    "\n",
    "This is explained more in Section 12.1 'Issue 1: Suspected issue with fillna method'"
   ]
  },
  {
   "cell_type": "markdown",
   "id": "310ae917",
   "metadata": {},
   "source": [
    "Drop the NaN rows."
   ]
  },
  {
   "cell_type": "code",
   "execution_count": 234,
   "id": "b23c2d7d",
   "metadata": {
    "ExecuteTime": {
     "end_time": "2022-04-04T12:22:53.461711Z",
     "start_time": "2022-04-04T12:22:53.399308Z"
    }
   },
   "outputs": [],
   "source": [
    "# Drop the NaN rows and save changes\n",
    "gme_mention_price_df.dropna(inplace=True)"
   ]
  },
  {
   "cell_type": "code",
   "execution_count": 235,
   "id": "72153dd7",
   "metadata": {
    "ExecuteTime": {
     "end_time": "2022-04-04T12:22:53.493633Z",
     "start_time": "2022-04-04T12:22:53.462754Z"
    },
    "scrolled": true
   },
   "outputs": [
    {
     "data": {
      "text/plain": [
       "author          0\n",
       "title           0\n",
       "upvote_ratio    0\n",
       "score           0\n",
       "num_comments    0\n",
       "Date            0\n",
       "Low             0\n",
       "Open            0\n",
       "Volume          0\n",
       "High            0\n",
       "Close           0\n",
       "dtype: int64"
      ]
     },
     "execution_count": 235,
     "metadata": {},
     "output_type": "execute_result"
    }
   ],
   "source": [
    "# Check thre are no more NaN values\n",
    "gme_mention_price_df.isna().sum()"
   ]
  },
  {
   "cell_type": "markdown",
   "id": "de9216e8",
   "metadata": {},
   "source": [
    "All the NaN values are now gone."
   ]
  },
  {
   "cell_type": "code",
   "execution_count": 236,
   "id": "6b7e355b",
   "metadata": {
    "ExecuteTime": {
     "end_time": "2022-04-04T12:22:53.508614Z",
     "start_time": "2022-04-04T12:22:53.494653Z"
    }
   },
   "outputs": [],
   "source": [
    "# Reset the index after dropping rows.\n",
    "gme_share_price_df.reset_index(drop=True, inplace=True)"
   ]
  },
  {
   "cell_type": "markdown",
   "id": "30707b77",
   "metadata": {},
   "source": [
    "---"
   ]
  },
  {
   "cell_type": "markdown",
   "id": "c3de2fa7",
   "metadata": {
    "ExecuteTime": {
     "end_time": "2022-04-02T11:18:50.013031Z",
     "start_time": "2022-04-02T11:18:50.006050Z"
    }
   },
   "source": [
    "### **Duplicates**"
   ]
  },
  {
   "cell_type": "markdown",
   "id": "303abdcf",
   "metadata": {
    "ExecuteTime": {
     "end_time": "2022-04-02T11:19:50.567656Z",
     "start_time": "2022-04-02T11:19:50.558707Z"
    }
   },
   "source": [
    "Will we have any more Duplicates when we join the data sets and drop the hour:minute:second"
   ]
  },
  {
   "cell_type": "code",
   "execution_count": 237,
   "id": "6c443ac2",
   "metadata": {
    "ExecuteTime": {
     "end_time": "2022-04-04T12:22:53.524544Z",
     "start_time": "2022-04-04T12:22:53.509583Z"
    }
   },
   "outputs": [
    {
     "data": {
      "text/plain": [
       "0"
      ]
     },
     "execution_count": 237,
     "metadata": {},
     "output_type": "execute_result"
    }
   ],
   "source": [
    "gme_share_price_df.duplicated().sum()"
   ]
  },
  {
   "cell_type": "markdown",
   "id": "0b07f81a",
   "metadata": {},
   "source": [
    "No. Great"
   ]
  },
  {
   "cell_type": "markdown",
   "id": "4e9010e2",
   "metadata": {},
   "source": [
    "---"
   ]
  },
  {
   "cell_type": "markdown",
   "id": "8123a8fb",
   "metadata": {
    "ExecuteTime": {
     "end_time": "2022-04-02T11:21:43.177938Z",
     "start_time": "2022-04-02T11:21:43.173949Z"
    }
   },
   "source": [
    "### **Look at the data: Change volume to int**"
   ]
  },
  {
   "cell_type": "markdown",
   "id": "9317abd7",
   "metadata": {},
   "source": [
    "Lets look at the columns again."
   ]
  },
  {
   "cell_type": "code",
   "execution_count": 238,
   "id": "e1df5f8c",
   "metadata": {
    "ExecuteTime": {
     "end_time": "2022-04-04T12:22:53.572478Z",
     "start_time": "2022-04-04T12:22:53.525540Z"
    }
   },
   "outputs": [
    {
     "name": "stdout",
     "output_type": "stream",
     "text": [
      "<class 'pandas.core.frame.DataFrame'>\n",
      "Int64Index: 121118 entries, 0 to 121117\n",
      "Data columns (total 11 columns):\n",
      " #   Column        Non-Null Count   Dtype         \n",
      "---  ------        --------------   -----         \n",
      " 0   author        121118 non-null  object        \n",
      " 1   title         121118 non-null  object        \n",
      " 2   upvote_ratio  121118 non-null  float64       \n",
      " 3   score         121118 non-null  int32         \n",
      " 4   num_comments  121118 non-null  int32         \n",
      " 5   Date          121118 non-null  datetime64[ns]\n",
      " 6   Low           121118 non-null  float64       \n",
      " 7   Open          121118 non-null  float64       \n",
      " 8   Volume        121118 non-null  float64       \n",
      " 9   High          121118 non-null  float64       \n",
      " 10  Close         121118 non-null  float64       \n",
      "dtypes: datetime64[ns](1), float64(6), int32(2), object(2)\n",
      "memory usage: 10.2+ MB\n"
     ]
    },
    {
     "data": {
      "text/plain": [
       "(None,\n",
       "                 author                                              title  \\\n",
       " 0        johneebarnett     my grandma said buy the dip!!!! amc and gme!!!   \n",
       " 1           morgcord89                            gme help fund this app!   \n",
       " 2  PotusPlasticSurgery                                   acy the next gme   \n",
       " 3               Thump4  💎gme ✋ be prepared for an increase in volume a...   \n",
       " 4            walkwil17  happy aperil everyone. just got done eating my...   \n",
       " \n",
       "    upvote_ratio  score  num_comments       Date    Low  Open      Volume  \\\n",
       " 0          1.00      1             0 2021-01-04  17.15  19.0  10022500.0   \n",
       " 1          1.00      1             2 2021-01-04  17.15  19.0  10022500.0   \n",
       " 2          1.00      1             2 2021-01-04  17.15  19.0  10022500.0   \n",
       " 3          1.00      1             1 2021-01-04  17.15  19.0  10022500.0   \n",
       " 4          0.84      4             0 2021-01-04  17.15  19.0  10022500.0   \n",
       " \n",
       "    High  Close  \n",
       " 0  19.1  17.25  \n",
       " 1  19.1  17.25  \n",
       " 2  19.1  17.25  \n",
       " 3  19.1  17.25  \n",
       " 4  19.1  17.25  )"
      ]
     },
     "execution_count": 238,
     "metadata": {},
     "output_type": "execute_result"
    }
   ],
   "source": [
    "gme_mention_price_df.info(), gme_mention_price_df.head()"
   ]
  },
  {
   "cell_type": "markdown",
   "id": "e67ed93a",
   "metadata": {},
   "source": [
    "The volume column is a float. Will change that to an int."
   ]
  },
  {
   "cell_type": "code",
   "execution_count": 239,
   "id": "f6007357",
   "metadata": {
    "ExecuteTime": {
     "end_time": "2022-04-04T12:22:53.588435Z",
     "start_time": "2022-04-04T12:22:53.573472Z"
    }
   },
   "outputs": [],
   "source": [
    "# Change volume to an int\n",
    "gme_mention_price_df['Volume'] = gme_mention_price_df['Volume'].astype('int32')"
   ]
  },
  {
   "cell_type": "markdown",
   "id": "fcca451f",
   "metadata": {},
   "source": [
    "The volume column has now been changed to an int"
   ]
  },
  {
   "cell_type": "markdown",
   "id": "79c9461a",
   "metadata": {},
   "source": [
    "## **EDA on Joined Data**"
   ]
  },
  {
   "cell_type": "code",
   "execution_count": 240,
   "id": "5cc89d99",
   "metadata": {
    "ExecuteTime": {
     "end_time": "2022-04-04T12:22:53.794854Z",
     "start_time": "2022-04-04T12:22:53.589403Z"
    }
   },
   "outputs": [
    {
     "data": {
      "image/png": "[encoded data removed]",
      "text/plain": [
       "<Figure size 432x288 with 2 Axes>"
      ]
     },
     "metadata": {
      "needs_background": "light"
     },
     "output_type": "display_data"
    }
   ],
   "source": [
    "# Plot Reddit Mentions and Sahre Price\n",
    "fig, ax1 = plt.subplots()\n",
    "\n",
    "ax2 = ax1.twinx()\n",
    "ax1.plot(gme_share_price_df['Date'].dt.week, gme_share_price_df['Close'],color=\"blue\")\n",
    "ax2.plot(count_gme_week_df.index, count_gme_week_df, color=\"red\" )\n",
    "\n",
    "plt.title(\"Share Price / Reddit Mentions\", fontsize = 15)\n",
    "ax1.set_xlabel('Time line in Weeks', fontsize = 15)\n",
    "ax1.set_ylabel('Game Stop Mentions', color='r', fontsize = 15)\n",
    "ax2.set_ylabel('Share Price', color='b', fontsize = 15);\n",
    "\n",
    "#Save the plot\n",
    "plt.savefig(\"/Users/Kolobane/Documents/BrainStation Data Science Course/Project Capstone/Plots/SNS_Reddit_Share_Price.png\")"
   ]
  },
  {
   "cell_type": "markdown",
   "id": "48fadb5b",
   "metadata": {},
   "source": [
    "---\n",
    "---\n",
    "---"
   ]
  },
  {
   "cell_type": "markdown",
   "id": "99c02f6e",
   "metadata": {},
   "source": [
    "# **New features**"
   ]
  },
  {
   "cell_type": "markdown",
   "id": "327b3267",
   "metadata": {},
   "source": [
    "I want to create a number of new features that we can use to model and explore the data."
   ]
  },
  {
   "cell_type": "markdown",
   "id": "3dae0f07",
   "metadata": {},
   "source": [
    "**New features:**\n",
    "- **GME mentions per day**\n",
    "    - The number of Game Stop mentions said per day. Will this affect the price of the share. \n",
    "<br><br>\n",
    "    \n",
    "- **Rolling Game Stop mentions with windows functions** \n",
    "    - Users on Reddit would comment, read other comments but they would still need time then to decide and to purchase the Game Spot Shares. I created rolling windows to push the daily GEM mentions to 2 to 5 days to see if this would have an effect.\n",
    "<br><br>\n",
    "- **Game Stop mentions before the day**\n",
    "    - In the same way that some users would need time to purchase shares, is it possible that it can work the other way, that some users are purchasing shares and then making comments on Reddit. This one would be very hard to notice but worth looking into.\n",
    "<br><br>  \n",
    "- **Lag the Share Price for a date range**\n",
    "    - Push the share price. These features I created for the Time Series modelling Notebook.\n",
    "<br><br>\n",
    "- **Date Features**\n",
    "    - Later in the modelling we will be remvoing the 'Date' column as this is a time series and can't be modelled with most of our models. So we will create two features with the day and month."
   ]
  },
  {
   "cell_type": "markdown",
   "id": "39f41a7b",
   "metadata": {
    "ExecuteTime": {
     "end_time": "2022-04-02T12:25:32.991832Z",
     "start_time": "2022-04-02T12:25:32.980862Z"
    }
   },
   "source": [
    "---"
   ]
  },
  {
   "cell_type": "markdown",
   "id": "8faf6cec",
   "metadata": {
    "ExecuteTime": {
     "end_time": "2022-03-20T10:29:41.296403Z",
     "start_time": "2022-03-20T10:29:41.282440Z"
    }
   },
   "source": [
    "## **GME mentions per day**"
   ]
  },
  {
   "cell_type": "markdown",
   "id": "3444c26b",
   "metadata": {},
   "source": [
    "Get the a count of the Game Spot Mentions per day"
   ]
  },
  {
   "cell_type": "code",
   "execution_count": 241,
   "id": "69433a3c",
   "metadata": {
    "ExecuteTime": {
     "end_time": "2022-04-04T12:22:53.826768Z",
     "start_time": "2022-04-04T12:22:53.795850Z"
    }
   },
   "outputs": [],
   "source": [
    "# Count of the game stop mentions pwer day\n",
    "new_feature_count_mention_day = pd.DataFrame(gme_mention_price_df.groupby('Date')['title'].count())"
   ]
  },
  {
   "cell_type": "code",
   "execution_count": 242,
   "id": "6f946bf1",
   "metadata": {
    "ExecuteTime": {
     "end_time": "2022-04-04T12:22:53.842725Z",
     "start_time": "2022-04-04T12:22:53.827766Z"
    }
   },
   "outputs": [
    {
     "data": {
      "text/html": [
       "<div>\n",
       "<style scoped>\n",
       "    .dataframe tbody tr th:only-of-type {\n",
       "        vertical-align: middle;\n",
       "    }\n",
       "\n",
       "    .dataframe tbody tr th {\n",
       "        vertical-align: top;\n",
       "    }\n",
       "\n",
       "    .dataframe thead th {\n",
       "        text-align: right;\n",
       "    }\n",
       "</style>\n",
       "<table border=\"1\" class=\"dataframe\">\n",
       "  <thead>\n",
       "    <tr style=\"text-align: right;\">\n",
       "      <th></th>\n",
       "      <th>title</th>\n",
       "    </tr>\n",
       "    <tr>\n",
       "      <th>Date</th>\n",
       "      <th></th>\n",
       "    </tr>\n",
       "  </thead>\n",
       "  <tbody>\n",
       "    <tr>\n",
       "      <th>2021-01-04</th>\n",
       "      <td>260</td>\n",
       "    </tr>\n",
       "    <tr>\n",
       "      <th>2021-01-05</th>\n",
       "      <td>51</td>\n",
       "    </tr>\n",
       "    <tr>\n",
       "      <th>2021-01-06</th>\n",
       "      <td>12</td>\n",
       "    </tr>\n",
       "    <tr>\n",
       "      <th>2021-01-07</th>\n",
       "      <td>58</td>\n",
       "    </tr>\n",
       "    <tr>\n",
       "      <th>2021-01-08</th>\n",
       "      <td>21</td>\n",
       "    </tr>\n",
       "    <tr>\n",
       "      <th>2021-01-11</th>\n",
       "      <td>33</td>\n",
       "    </tr>\n",
       "    <tr>\n",
       "      <th>2021-01-12</th>\n",
       "      <td>9</td>\n",
       "    </tr>\n",
       "    <tr>\n",
       "      <th>2021-01-13</th>\n",
       "      <td>558</td>\n",
       "    </tr>\n",
       "    <tr>\n",
       "      <th>2021-01-14</th>\n",
       "      <td>639</td>\n",
       "    </tr>\n",
       "    <tr>\n",
       "      <th>2021-01-15</th>\n",
       "      <td>696</td>\n",
       "    </tr>\n",
       "    <tr>\n",
       "      <th>2021-01-19</th>\n",
       "      <td>611</td>\n",
       "    </tr>\n",
       "    <tr>\n",
       "      <th>2021-01-20</th>\n",
       "      <td>474</td>\n",
       "    </tr>\n",
       "    <tr>\n",
       "      <th>2021-01-21</th>\n",
       "      <td>546</td>\n",
       "    </tr>\n",
       "    <tr>\n",
       "      <th>2021-01-22</th>\n",
       "      <td>1498</td>\n",
       "    </tr>\n",
       "    <tr>\n",
       "      <th>2021-01-25</th>\n",
       "      <td>3062</td>\n",
       "    </tr>\n",
       "    <tr>\n",
       "      <th>2021-01-26</th>\n",
       "      <td>1639</td>\n",
       "    </tr>\n",
       "    <tr>\n",
       "      <th>2021-01-27</th>\n",
       "      <td>7799</td>\n",
       "    </tr>\n",
       "    <tr>\n",
       "      <th>2021-01-28</th>\n",
       "      <td>23432</td>\n",
       "    </tr>\n",
       "    <tr>\n",
       "      <th>2021-01-29</th>\n",
       "      <td>14259</td>\n",
       "    </tr>\n",
       "    <tr>\n",
       "      <th>2021-02-01</th>\n",
       "      <td>509</td>\n",
       "    </tr>\n",
       "  </tbody>\n",
       "</table>\n",
       "</div>"
      ],
      "text/plain": [
       "            title\n",
       "Date             \n",
       "2021-01-04    260\n",
       "2021-01-05     51\n",
       "2021-01-06     12\n",
       "2021-01-07     58\n",
       "2021-01-08     21\n",
       "2021-01-11     33\n",
       "2021-01-12      9\n",
       "2021-01-13    558\n",
       "2021-01-14    639\n",
       "2021-01-15    696\n",
       "2021-01-19    611\n",
       "2021-01-20    474\n",
       "2021-01-21    546\n",
       "2021-01-22   1498\n",
       "2021-01-25   3062\n",
       "2021-01-26   1639\n",
       "2021-01-27   7799\n",
       "2021-01-28  23432\n",
       "2021-01-29  14259\n",
       "2021-02-01    509"
      ]
     },
     "execution_count": 242,
     "metadata": {},
     "output_type": "execute_result"
    }
   ],
   "source": [
    "# see any output of this data\n",
    "new_feature_count_mention_day.head(20)"
   ]
  },
  {
   "cell_type": "markdown",
   "id": "bebad592",
   "metadata": {},
   "source": [
    "This gives us a count of the number of game stop mentions per day. <br><br>"
   ]
  },
  {
   "cell_type": "markdown",
   "id": "ad853cd5",
   "metadata": {},
   "source": [
    "Add this daily count to the gme_mention_price_df dataframe"
   ]
  },
  {
   "cell_type": "code",
   "execution_count": 243,
   "id": "c71dfeee",
   "metadata": {
    "ExecuteTime": {
     "end_time": "2022-04-04T12:22:53.858693Z",
     "start_time": "2022-04-04T12:22:53.843723Z"
    }
   },
   "outputs": [],
   "source": [
    "# Rename the column name\n",
    "new_feature_count_mention_day.columns = ['gme_mention_day_count']"
   ]
  },
  {
   "cell_type": "code",
   "execution_count": 244,
   "id": "17de10b2",
   "metadata": {
    "ExecuteTime": {
     "end_time": "2022-04-04T12:22:53.874650Z",
     "start_time": "2022-04-04T12:22:53.859692Z"
    }
   },
   "outputs": [
    {
     "data": {
      "text/html": [
       "<div>\n",
       "<style scoped>\n",
       "    .dataframe tbody tr th:only-of-type {\n",
       "        vertical-align: middle;\n",
       "    }\n",
       "\n",
       "    .dataframe tbody tr th {\n",
       "        vertical-align: top;\n",
       "    }\n",
       "\n",
       "    .dataframe thead th {\n",
       "        text-align: right;\n",
       "    }\n",
       "</style>\n",
       "<table border=\"1\" class=\"dataframe\">\n",
       "  <thead>\n",
       "    <tr style=\"text-align: right;\">\n",
       "      <th></th>\n",
       "      <th>gme_mention_day_count</th>\n",
       "    </tr>\n",
       "    <tr>\n",
       "      <th>Date</th>\n",
       "      <th></th>\n",
       "    </tr>\n",
       "  </thead>\n",
       "  <tbody>\n",
       "    <tr>\n",
       "      <th>2021-01-04</th>\n",
       "      <td>260</td>\n",
       "    </tr>\n",
       "    <tr>\n",
       "      <th>2021-01-05</th>\n",
       "      <td>51</td>\n",
       "    </tr>\n",
       "    <tr>\n",
       "      <th>2021-01-06</th>\n",
       "      <td>12</td>\n",
       "    </tr>\n",
       "    <tr>\n",
       "      <th>2021-01-07</th>\n",
       "      <td>58</td>\n",
       "    </tr>\n",
       "    <tr>\n",
       "      <th>2021-01-08</th>\n",
       "      <td>21</td>\n",
       "    </tr>\n",
       "    <tr>\n",
       "      <th>2021-01-11</th>\n",
       "      <td>33</td>\n",
       "    </tr>\n",
       "    <tr>\n",
       "      <th>2021-01-12</th>\n",
       "      <td>9</td>\n",
       "    </tr>\n",
       "    <tr>\n",
       "      <th>2021-01-13</th>\n",
       "      <td>558</td>\n",
       "    </tr>\n",
       "    <tr>\n",
       "      <th>2021-01-14</th>\n",
       "      <td>639</td>\n",
       "    </tr>\n",
       "    <tr>\n",
       "      <th>2021-01-15</th>\n",
       "      <td>696</td>\n",
       "    </tr>\n",
       "    <tr>\n",
       "      <th>2021-01-19</th>\n",
       "      <td>611</td>\n",
       "    </tr>\n",
       "    <tr>\n",
       "      <th>2021-01-20</th>\n",
       "      <td>474</td>\n",
       "    </tr>\n",
       "    <tr>\n",
       "      <th>2021-01-21</th>\n",
       "      <td>546</td>\n",
       "    </tr>\n",
       "    <tr>\n",
       "      <th>2021-01-22</th>\n",
       "      <td>1498</td>\n",
       "    </tr>\n",
       "    <tr>\n",
       "      <th>2021-01-25</th>\n",
       "      <td>3062</td>\n",
       "    </tr>\n",
       "    <tr>\n",
       "      <th>2021-01-26</th>\n",
       "      <td>1639</td>\n",
       "    </tr>\n",
       "    <tr>\n",
       "      <th>2021-01-27</th>\n",
       "      <td>7799</td>\n",
       "    </tr>\n",
       "    <tr>\n",
       "      <th>2021-01-28</th>\n",
       "      <td>23432</td>\n",
       "    </tr>\n",
       "    <tr>\n",
       "      <th>2021-01-29</th>\n",
       "      <td>14259</td>\n",
       "    </tr>\n",
       "    <tr>\n",
       "      <th>2021-02-01</th>\n",
       "      <td>509</td>\n",
       "    </tr>\n",
       "  </tbody>\n",
       "</table>\n",
       "</div>"
      ],
      "text/plain": [
       "            gme_mention_day_count\n",
       "Date                             \n",
       "2021-01-04                    260\n",
       "2021-01-05                     51\n",
       "2021-01-06                     12\n",
       "2021-01-07                     58\n",
       "2021-01-08                     21\n",
       "2021-01-11                     33\n",
       "2021-01-12                      9\n",
       "2021-01-13                    558\n",
       "2021-01-14                    639\n",
       "2021-01-15                    696\n",
       "2021-01-19                    611\n",
       "2021-01-20                    474\n",
       "2021-01-21                    546\n",
       "2021-01-22                   1498\n",
       "2021-01-25                   3062\n",
       "2021-01-26                   1639\n",
       "2021-01-27                   7799\n",
       "2021-01-28                  23432\n",
       "2021-01-29                  14259\n",
       "2021-02-01                    509"
      ]
     },
     "execution_count": 244,
     "metadata": {},
     "output_type": "execute_result"
    }
   ],
   "source": [
    "# check the column name has changed.\n",
    "new_feature_count_mention_day.head(20)"
   ]
  },
  {
   "cell_type": "code",
   "execution_count": 245,
   "id": "b7f85dfb",
   "metadata": {
    "ExecuteTime": {
     "end_time": "2022-04-04T12:22:53.921525Z",
     "start_time": "2022-04-04T12:22:53.875647Z"
    }
   },
   "outputs": [],
   "source": [
    "# Merge this data frame with gme_mention_price_df data\n",
    "gme_mention_price_df = gme_mention_price_df.merge(new_feature_count_mention_day, left_on='Date', right_on='Date', how='left')"
   ]
  },
  {
   "cell_type": "code",
   "execution_count": 246,
   "id": "d326dfd9",
   "metadata": {
    "ExecuteTime": {
     "end_time": "2022-04-04T12:22:53.967908Z",
     "start_time": "2022-04-04T12:22:53.922522Z"
    }
   },
   "outputs": [
    {
     "name": "stdout",
     "output_type": "stream",
     "text": [
      "<class 'pandas.core.frame.DataFrame'>\n",
      "Int64Index: 121118 entries, 0 to 121117\n",
      "Data columns (total 12 columns):\n",
      " #   Column                 Non-Null Count   Dtype         \n",
      "---  ------                 --------------   -----         \n",
      " 0   author                 121118 non-null  object        \n",
      " 1   title                  121118 non-null  object        \n",
      " 2   upvote_ratio           121118 non-null  float64       \n",
      " 3   score                  121118 non-null  int32         \n",
      " 4   num_comments           121118 non-null  int32         \n",
      " 5   Date                   121118 non-null  datetime64[ns]\n",
      " 6   Low                    121118 non-null  float64       \n",
      " 7   Open                   121118 non-null  float64       \n",
      " 8   Volume                 121118 non-null  int32         \n",
      " 9   High                   121118 non-null  float64       \n",
      " 10  Close                  121118 non-null  float64       \n",
      " 11  gme_mention_day_count  121118 non-null  int64         \n",
      "dtypes: datetime64[ns](1), float64(5), int32(3), int64(1), object(2)\n",
      "memory usage: 10.6+ MB\n"
     ]
    }
   ],
   "source": [
    "# see the new column added.\n",
    "gme_mention_price_df.info()"
   ]
  },
  {
   "cell_type": "markdown",
   "id": "f779a2e4",
   "metadata": {},
   "source": [
    "Great. We now have the number of mentions per day"
   ]
  },
  {
   "cell_type": "markdown",
   "id": "6df3f35e",
   "metadata": {},
   "source": [
    "---"
   ]
  },
  {
   "cell_type": "markdown",
   "id": "69e3d3ed",
   "metadata": {
    "ExecuteTime": {
     "end_time": "2022-03-22T14:41:52.276496Z",
     "start_time": "2022-03-22T14:41:52.258516Z"
    }
   },
   "source": [
    "## **GME mentions for last 2, 3, 4, 5 days**"
   ]
  },
  {
   "cell_type": "markdown",
   "id": "db0ccf1b",
   "metadata": {},
   "source": [
    "Users on reddit will look at posts but might take a couple of days to arrange their purchase of Game Stop Shares. As mentioned we will use 'Moving Windows Functions' to take the count of mentions over a range of days, from 2 days to 7 days."
   ]
  },
  {
   "cell_type": "markdown",
   "id": "2a5e8cc2",
   "metadata": {},
   "source": [
    "---"
   ]
  },
  {
   "cell_type": "markdown",
   "id": "0043d550",
   "metadata": {},
   "source": [
    "### **2 day rolling window**"
   ]
  },
  {
   "cell_type": "code",
   "execution_count": 247,
   "id": "9b18d323",
   "metadata": {
    "ExecuteTime": {
     "end_time": "2022-04-04T12:22:53.999823Z",
     "start_time": "2022-04-04T12:22:53.968906Z"
    }
   },
   "outputs": [],
   "source": [
    "# get a rolling 2 name count and create a new df with the column name changed\n",
    "roll_2 = new_feature_count_mention_day.rolling(2)\n",
    "gme_mention_roll_2_days = pd.DataFrame(roll_2.mean())\n",
    "gme_mention_roll_2_days.columns = ['gme_mention_roll_2_days']\n",
    "\n",
    "# merge the dataframes\n",
    "gme_mention_price_df = gme_mention_price_df.join(gme_mention_roll_2_days, on='Date', how='left')\n",
    "\n",
    "# Fill days that are missing so there are no NaN values.\n",
    "gme_mention_price_df['gme_mention_roll_2_days'] = gme_mention_price_df['gme_mention_roll_2_days'].fillna(method='bfill')"
   ]
  },
  {
   "cell_type": "markdown",
   "id": "2e827550",
   "metadata": {},
   "source": [
    "---"
   ]
  },
  {
   "cell_type": "markdown",
   "id": "04908c88",
   "metadata": {
    "ExecuteTime": {
     "end_time": "2022-03-25T13:30:41.969513Z",
     "start_time": "2022-03-25T13:30:41.952527Z"
    }
   },
   "source": [
    "### **3 day rollling window**"
   ]
  },
  {
   "cell_type": "code",
   "execution_count": 248,
   "id": "d990c259",
   "metadata": {
    "ExecuteTime": {
     "end_time": "2022-04-04T12:22:54.031738Z",
     "start_time": "2022-04-04T12:22:54.000820Z"
    }
   },
   "outputs": [],
   "source": [
    "# Do the same method for 3 days.\n",
    "roll_3 = new_feature_count_mention_day.rolling(3)\n",
    "gme_mention_roll_3_days = pd.DataFrame(roll_3.mean())\n",
    "gme_mention_roll_3_days.columns = ['gme_mention_roll_3_days']\n",
    "gme_mention_price_df = gme_mention_price_df.join(gme_mention_roll_3_days, on='Date', how='left')\n",
    "gme_mention_price_df['gme_mention_roll_3_days'] = gme_mention_price_df['gme_mention_roll_3_days'].fillna(method='bfill')"
   ]
  },
  {
   "cell_type": "markdown",
   "id": "aeec40eb",
   "metadata": {},
   "source": [
    "---"
   ]
  },
  {
   "cell_type": "markdown",
   "id": "a687d8c8",
   "metadata": {},
   "source": [
    "### **4 day rollling window**"
   ]
  },
  {
   "cell_type": "code",
   "execution_count": 249,
   "id": "f6769eed",
   "metadata": {
    "ExecuteTime": {
     "end_time": "2022-04-04T12:22:54.063161Z",
     "start_time": "2022-04-04T12:22:54.032735Z"
    }
   },
   "outputs": [],
   "source": [
    "# Do the same method for 4 days.\n",
    "roll_4 = new_feature_count_mention_day.rolling(4)\n",
    "gme_mention_roll_4_days = pd.DataFrame(roll_4.mean())\n",
    "gme_mention_roll_4_days.columns = ['gme_mention_roll_4_days']\n",
    "gme_mention_price_df = gme_mention_price_df.join(gme_mention_roll_4_days, on='Date', how='left')\n",
    "gme_mention_price_df['gme_mention_roll_4_days'] = gme_mention_price_df['gme_mention_roll_4_days'].fillna(method='bfill')"
   ]
  },
  {
   "cell_type": "markdown",
   "id": "4f67a633",
   "metadata": {},
   "source": [
    "---"
   ]
  },
  {
   "cell_type": "markdown",
   "id": "5f39539e",
   "metadata": {},
   "source": [
    "### **5 day rollling window**"
   ]
  },
  {
   "cell_type": "code",
   "execution_count": 250,
   "id": "2f4b63f2",
   "metadata": {
    "ExecuteTime": {
     "end_time": "2022-04-04T12:22:54.095076Z",
     "start_time": "2022-04-04T12:22:54.064158Z"
    }
   },
   "outputs": [],
   "source": [
    "# Do the same method for 5 days.\n",
    "roll_5 = new_feature_count_mention_day.rolling(5)\n",
    "gme_mention_roll_5_days = pd.DataFrame(roll_5.mean())\n",
    "gme_mention_roll_5_days.columns = ['gme_mention_roll_5_days']\n",
    "gme_mention_price_df = gme_mention_price_df.join(gme_mention_roll_5_days, on='Date', how='left')\n",
    "gme_mention_price_df['gme_mention_roll_5_days'] = gme_mention_price_df['gme_mention_roll_5_days'].fillna(method='bfill')"
   ]
  },
  {
   "cell_type": "markdown",
   "id": "ffa754ee",
   "metadata": {},
   "source": [
    "Check we have our new data column names and no missing rows."
   ]
  },
  {
   "cell_type": "code",
   "execution_count": 251,
   "id": "f9007f55",
   "metadata": {
    "ExecuteTime": {
     "end_time": "2022-04-04T12:22:54.142948Z",
     "start_time": "2022-04-04T12:22:54.096073Z"
    }
   },
   "outputs": [
    {
     "name": "stdout",
     "output_type": "stream",
     "text": [
      "<class 'pandas.core.frame.DataFrame'>\n",
      "Int64Index: 121118 entries, 0 to 121117\n",
      "Data columns (total 16 columns):\n",
      " #   Column                   Non-Null Count   Dtype         \n",
      "---  ------                   --------------   -----         \n",
      " 0   author                   121118 non-null  object        \n",
      " 1   title                    121118 non-null  object        \n",
      " 2   upvote_ratio             121118 non-null  float64       \n",
      " 3   score                    121118 non-null  int32         \n",
      " 4   num_comments             121118 non-null  int32         \n",
      " 5   Date                     121118 non-null  datetime64[ns]\n",
      " 6   Low                      121118 non-null  float64       \n",
      " 7   Open                     121118 non-null  float64       \n",
      " 8   Volume                   121118 non-null  int32         \n",
      " 9   High                     121118 non-null  float64       \n",
      " 10  Close                    121118 non-null  float64       \n",
      " 11  gme_mention_day_count    121118 non-null  int64         \n",
      " 12  gme_mention_roll_2_days  121118 non-null  float64       \n",
      " 13  gme_mention_roll_3_days  121118 non-null  float64       \n",
      " 14  gme_mention_roll_4_days  121118 non-null  float64       \n",
      " 15  gme_mention_roll_5_days  121118 non-null  float64       \n",
      "dtypes: datetime64[ns](1), float64(9), int32(3), int64(1), object(2)\n",
      "memory usage: 14.3+ MB\n"
     ]
    }
   ],
   "source": [
    "gme_mention_price_df.info()"
   ]
  },
  {
   "cell_type": "markdown",
   "id": "ecf5db03",
   "metadata": {},
   "source": [
    "We can now see a rolling count for up to 5 days."
   ]
  },
  {
   "cell_type": "markdown",
   "id": "c0f3b82a",
   "metadata": {},
   "source": [
    "---"
   ]
  },
  {
   "cell_type": "markdown",
   "id": "511ac510",
   "metadata": {},
   "source": [
    "## **Game Stop Mentions for lag days**"
   ]
  },
  {
   "cell_type": "markdown",
   "id": "72f991d5",
   "metadata": {},
   "source": [
    "We similiar process for getting the previous days mention count. We use .shift() this time."
   ]
  },
  {
   "cell_type": "markdown",
   "id": "73362fe8",
   "metadata": {},
   "source": [
    "---"
   ]
  },
  {
   "cell_type": "markdown",
   "id": "2c459fc9",
   "metadata": {},
   "source": [
    "### **1 day before lag feature**"
   ]
  },
  {
   "cell_type": "code",
   "execution_count": 252,
   "id": "625d0b9d",
   "metadata": {
    "ExecuteTime": {
     "end_time": "2022-04-04T12:22:54.174403Z",
     "start_time": "2022-04-04T12:22:54.143945Z"
    }
   },
   "outputs": [],
   "source": [
    "# Get a rolling window of 1 day before\n",
    "roll_1_day_before = new_feature_count_mention_day.shift(-1)\n",
    "gme_mention_roll_1_day_before = pd.DataFrame(roll_1_day_before)\n",
    "gme_mention_roll_1_day_before.columns = ['gme_mention_roll_1_day_before']\n",
    "gme_mention_price_df = gme_mention_price_df.join(gme_mention_roll_1_day_before, on='Date', how='left')\n",
    "gme_mention_price_df['gme_mention_roll_1_day_before'] = gme_mention_price_df['gme_mention_roll_1_day_before'].fillna(method='ffill')"
   ]
  },
  {
   "cell_type": "markdown",
   "id": "9f03fd53",
   "metadata": {},
   "source": [
    "---"
   ]
  },
  {
   "cell_type": "markdown",
   "id": "1f8e2631",
   "metadata": {
    "ExecuteTime": {
     "end_time": "2022-03-25T13:46:02.770341Z",
     "start_time": "2022-03-25T13:46:02.762390Z"
    }
   },
   "source": [
    "### **2 day before lag feature**"
   ]
  },
  {
   "cell_type": "code",
   "execution_count": 253,
   "id": "208c5af3",
   "metadata": {
    "ExecuteTime": {
     "end_time": "2022-04-04T12:22:54.206317Z",
     "start_time": "2022-04-04T12:22:54.175368Z"
    }
   },
   "outputs": [],
   "source": [
    "# Get a rolling window of 2 day before\n",
    "roll_2_day_before = new_feature_count_mention_day.shift(-2)\n",
    "gme_mention_roll_2_day_before = pd.DataFrame(roll_2_day_before)\n",
    "gme_mention_roll_2_day_before.columns = ['gme_mention_roll_2_day_before']\n",
    "gme_mention_price_df = gme_mention_price_df.join(gme_mention_roll_2_day_before, on='Date', how='left')\n",
    "gme_mention_price_df['gme_mention_roll_2_day_before'] = gme_mention_price_df['gme_mention_roll_2_day_before'].fillna(method='ffill')"
   ]
  },
  {
   "cell_type": "markdown",
   "id": "bebc27e7",
   "metadata": {},
   "source": [
    "---"
   ]
  },
  {
   "cell_type": "markdown",
   "id": "ab025d8c",
   "metadata": {},
   "source": [
    "### **3 day before lag feature**"
   ]
  },
  {
   "cell_type": "code",
   "execution_count": 254,
   "id": "ac47df3c",
   "metadata": {
    "ExecuteTime": {
     "end_time": "2022-04-04T12:22:54.238200Z",
     "start_time": "2022-04-04T12:22:54.207283Z"
    }
   },
   "outputs": [],
   "source": [
    "# Get a rolling window of 3 day before\n",
    "roll_3_day_before = new_feature_count_mention_day.shift(-3)\n",
    "gme_mention_roll_3_day_before = pd.DataFrame(roll_3_day_before)\n",
    "gme_mention_roll_3_day_before.columns = ['gme_mention_roll_3_day_before']\n",
    "gme_mention_price_df = gme_mention_price_df.join(gme_mention_roll_3_day_before, on='Date', how='left')\n",
    "gme_mention_price_df['gme_mention_roll_3_day_before'] = gme_mention_price_df['gme_mention_roll_3_day_before'].fillna(method='ffill')"
   ]
  },
  {
   "cell_type": "markdown",
   "id": "8edc7221",
   "metadata": {},
   "source": [
    "We now have features for the price before the data. This one is less likely to have an effect so 3 days is enough."
   ]
  },
  {
   "cell_type": "markdown",
   "id": "b41dbde2",
   "metadata": {},
   "source": [
    "---"
   ]
  },
  {
   "cell_type": "markdown",
   "id": "0e19ccb5",
   "metadata": {},
   "source": [
    "## **Share Price Lag forward 5 days**"
   ]
  },
  {
   "cell_type": "markdown",
   "id": "746936c3",
   "metadata": {},
   "source": [
    "---"
   ]
  },
  {
   "cell_type": "markdown",
   "id": "628cb89e",
   "metadata": {
    "ExecuteTime": {
     "end_time": "2022-03-26T16:57:20.475292Z",
     "start_time": "2022-03-26T16:57:20.475292Z"
    }
   },
   "source": [
    "### **2 day rolling window for Share price**"
   ]
  },
  {
   "cell_type": "code",
   "execution_count": 255,
   "id": "b1de442c",
   "metadata": {
    "ExecuteTime": {
     "end_time": "2022-04-04T12:22:54.254188Z",
     "start_time": "2022-04-04T12:22:54.239198Z"
    }
   },
   "outputs": [],
   "source": [
    "# Why is this here. maybe delete\n",
    "# seperate out the date and share price.\n",
    "share_price_to_roll = pd.DataFrame(gme_mention_price_df.groupby('Date')['Close'].mean())"
   ]
  },
  {
   "cell_type": "code",
   "execution_count": 256,
   "id": "24d11b29",
   "metadata": {
    "ExecuteTime": {
     "end_time": "2022-04-04T12:22:54.302030Z",
     "start_time": "2022-04-04T12:22:54.261139Z"
    }
   },
   "outputs": [],
   "source": [
    "# Get a rolling window of 2 days for share price\n",
    "roll_2_price = share_price_to_roll['Close']\n",
    "gme_price_roll_2_days = pd.DataFrame(roll_2_price)\n",
    "gme_price_roll_2_days.columns = ['gme_price_roll_2_days']\n",
    "gme_price_roll_2_days['gme_price_roll_2_days'] = gme_price_roll_2_days['gme_price_roll_2_days'].shift(2)\n",
    "gme_mention_price_df = gme_mention_price_df.join(gme_price_roll_2_days, on='Date', how='left')\n",
    "gme_mention_price_df['gme_price_roll_2_days'] = gme_mention_price_df['gme_price_roll_2_days'].fillna(method='bfill')"
   ]
  },
  {
   "cell_type": "markdown",
   "id": "8be01652",
   "metadata": {},
   "source": [
    "---"
   ]
  },
  {
   "cell_type": "markdown",
   "id": "c6833f58",
   "metadata": {},
   "source": [
    "### **3 day rolling window for Share price**"
   ]
  },
  {
   "cell_type": "code",
   "execution_count": 257,
   "id": "8b3a2242",
   "metadata": {
    "ExecuteTime": {
     "end_time": "2022-04-04T12:22:54.333978Z",
     "start_time": "2022-04-04T12:22:54.303049Z"
    }
   },
   "outputs": [],
   "source": [
    "# Get a rolling window of 3 days for share price\n",
    "roll_3_price = share_price_to_roll['Close']\n",
    "gme_price_roll_3_days = pd.DataFrame(roll_3_price)\n",
    "gme_price_roll_3_days.columns = ['gme_price_roll_3_days']\n",
    "gme_price_roll_3_days['gme_price_roll_3_days'] = gme_price_roll_3_days['gme_price_roll_3_days'].shift(3)\n",
    "gme_mention_price_df = gme_mention_price_df.join(gme_price_roll_3_days, on='Date', how='left')\n",
    "gme_mention_price_df['gme_price_roll_3_days'] = gme_mention_price_df['gme_price_roll_3_days'].fillna(method='bfill')"
   ]
  },
  {
   "cell_type": "markdown",
   "id": "3ae437c8",
   "metadata": {},
   "source": [
    "---"
   ]
  },
  {
   "cell_type": "markdown",
   "id": "b9e02d76",
   "metadata": {},
   "source": [
    "### **4 day rolling window for Share price**"
   ]
  },
  {
   "cell_type": "code",
   "execution_count": 258,
   "id": "7a4c0806",
   "metadata": {
    "ExecuteTime": {
     "end_time": "2022-04-04T12:22:54.365860Z",
     "start_time": "2022-04-04T12:22:54.334942Z"
    }
   },
   "outputs": [],
   "source": [
    "# Get a rolling window of 4 days for share price\n",
    "roll_4_price = share_price_to_roll['Close']\n",
    "gme_price_roll_4_days = pd.DataFrame(roll_4_price)\n",
    "gme_price_roll_4_days.columns = ['gme_price_roll_4_days']\n",
    "gme_price_roll_4_days['gme_price_roll_4_days'] = gme_price_roll_4_days['gme_price_roll_4_days'].shift(4)\n",
    "gme_mention_price_df = gme_mention_price_df.join(gme_price_roll_4_days, on='Date', how='left')\n",
    "gme_mention_price_df['gme_price_roll_4_days'] = gme_mention_price_df['gme_price_roll_4_days'].fillna(method='bfill')"
   ]
  },
  {
   "cell_type": "markdown",
   "id": "3e5b8a16",
   "metadata": {},
   "source": [
    "---"
   ]
  },
  {
   "cell_type": "markdown",
   "id": "914fef89",
   "metadata": {},
   "source": [
    "### **5 day rolling window for Share price**"
   ]
  },
  {
   "cell_type": "code",
   "execution_count": 259,
   "id": "ac293da5",
   "metadata": {
    "ExecuteTime": {
     "end_time": "2022-04-04T12:22:54.397803Z",
     "start_time": "2022-04-04T12:22:54.367854Z"
    }
   },
   "outputs": [],
   "source": [
    "# Get a rolling window of 5 days for share price\n",
    "roll_5_price = share_price_to_roll['Close']\n",
    "gme_price_roll_5_days = pd.DataFrame(roll_5_price)\n",
    "gme_price_roll_5_days.columns = ['gme_price_roll_5_days']\n",
    "gme_price_roll_5_days['gme_price_roll_5_days'] = gme_price_roll_5_days['gme_price_roll_5_days'].shift(5)\n",
    "gme_mention_price_df = gme_mention_price_df.join(gme_price_roll_5_days, on='Date', how='left')\n",
    "gme_mention_price_df['gme_price_roll_5_days'] = gme_mention_price_df['gme_price_roll_5_days'].fillna(method='bfill')"
   ]
  },
  {
   "cell_type": "markdown",
   "id": "8e5166f1",
   "metadata": {},
   "source": [
    "---"
   ]
  },
  {
   "cell_type": "markdown",
   "id": "4f5dc173",
   "metadata": {},
   "source": [
    "## **Date Features**"
   ]
  },
  {
   "cell_type": "markdown",
   "id": "f6123e02",
   "metadata": {},
   "source": [
    "---"
   ]
  },
  {
   "cell_type": "markdown",
   "id": "9c8f9dc1",
   "metadata": {},
   "source": [
    "We will be creating two Date columns with the month and day range."
   ]
  },
  {
   "cell_type": "markdown",
   "id": "1489ded7",
   "metadata": {},
   "source": [
    "---"
   ]
  },
  {
   "cell_type": "markdown",
   "id": "f0754108",
   "metadata": {},
   "source": [
    "### **Date Feature by Month**"
   ]
  },
  {
   "cell_type": "code",
   "execution_count": 260,
   "id": "c8c7196f",
   "metadata": {
    "ExecuteTime": {
     "end_time": "2022-04-04T12:22:54.412762Z",
     "start_time": "2022-04-04T12:22:54.398809Z"
    }
   },
   "outputs": [],
   "source": [
    "# Create a month number column\n",
    "gme_mention_price_df['month_number'] = gme_mention_price_df['Date'].dt.month"
   ]
  },
  {
   "cell_type": "markdown",
   "id": "60759827",
   "metadata": {},
   "source": [
    "We now have a column with the month as a feature."
   ]
  },
  {
   "cell_type": "markdown",
   "id": "88af58d0",
   "metadata": {},
   "source": [
    "---"
   ]
  },
  {
   "cell_type": "markdown",
   "id": "d406902a",
   "metadata": {},
   "source": [
    "### **Date Feature by day**"
   ]
  },
  {
   "cell_type": "code",
   "execution_count": 261,
   "id": "a45ccbd0",
   "metadata": {
    "ExecuteTime": {
     "end_time": "2022-04-04T12:22:54.428693Z",
     "start_time": "2022-04-04T12:22:54.413732Z"
    }
   },
   "outputs": [],
   "source": [
    "# Create a month number column\n",
    "gme_mention_price_df['day_number'] = gme_mention_price_df['Date'].dt.day"
   ]
  },
  {
   "cell_type": "markdown",
   "id": "36ebb4ce",
   "metadata": {},
   "source": [
    "We now have a column with the day as a feature."
   ]
  },
  {
   "cell_type": "markdown",
   "id": "ec3de632",
   "metadata": {
    "ExecuteTime": {
     "end_time": "2022-04-02T12:27:50.333915Z",
     "start_time": "2022-04-02T12:27:50.317963Z"
    }
   },
   "source": [
    "---\n",
    "---\n",
    "---"
   ]
  },
  {
   "cell_type": "markdown",
   "id": "810a9ed8",
   "metadata": {},
   "source": [
    "# **Save Updates till now**"
   ]
  },
  {
   "cell_type": "markdown",
   "id": "b6e500b8",
   "metadata": {},
   "source": [
    "---"
   ]
  },
  {
   "cell_type": "markdown",
   "id": "ec3ae4ab",
   "metadata": {},
   "source": [
    "### **Save the new data frame to csv**"
   ]
  },
  {
   "cell_type": "code",
   "execution_count": 262,
   "id": "9fe993c8",
   "metadata": {
    "ExecuteTime": {
     "end_time": "2022-04-04T12:22:56.673000Z",
     "start_time": "2022-04-04T12:22:54.430687Z"
    }
   },
   "outputs": [],
   "source": [
    "# Save the new data frame for modelling.\n",
    "gme_mention_price_df.to_csv('data/capstone_gme_mention_price_df.csv')"
   ]
  },
  {
   "cell_type": "markdown",
   "id": "bfc77c62",
   "metadata": {},
   "source": [
    "---\n",
    "---\n",
    "---"
   ]
  },
  {
   "cell_type": "markdown",
   "id": "39930abf",
   "metadata": {},
   "source": [
    "# **Issues with Data**"
   ]
  },
  {
   "cell_type": "markdown",
   "id": "35ad9a3d",
   "metadata": {},
   "source": [
    "---"
   ]
  },
  {
   "cell_type": "markdown",
   "id": "ff983a34",
   "metadata": {},
   "source": [
    "## **Issue 1: Suspected issue with fillna method**"
   ]
  },
  {
   "cell_type": "markdown",
   "id": "4fdfe726",
   "metadata": {},
   "source": [
    "Near the end of my proejct timeline while I was modelling and my models where not giving good resutls I was invetiagating and I notice that a large number of entries where now on the last day of the year."
   ]
  },
  {
   "cell_type": "markdown",
   "id": "d3522552",
   "metadata": {},
   "source": [
    "Earlier in the notebook when I looked at the count of how many GME metions per month I get the below."
   ]
  },
  {
   "cell_type": "code",
   "execution_count": 263,
   "id": "9d97ebc6",
   "metadata": {
    "ExecuteTime": {
     "end_time": "2022-04-04T12:22:56.688958Z",
     "start_time": "2022-04-04T12:22:56.673998Z"
    },
    "scrolled": true
   },
   "outputs": [
    {
     "data": {
      "text/plain": [
       "created\n",
       "1     69351\n",
       "2     16123\n",
       "3     25631\n",
       "4     10470\n",
       "5      6670\n",
       "6      4286\n",
       "7      3409\n",
       "8      3958\n",
       "9      4193\n",
       "10     4455\n",
       "11     3826\n",
       "12     3133\n",
       "Name: title, dtype: int64"
      ]
     },
     "execution_count": 263,
     "metadata": {},
     "output_type": "execute_result"
    }
   ],
   "source": [
    "#Count per month\n",
    "count_gme_by_year_df"
   ]
  },
  {
   "cell_type": "markdown",
   "id": "caa8f298",
   "metadata": {},
   "source": [
    "When I was far into my modelling having issues I notices somethhing. A large number of rows ended up on the last day of the year. These I suspect is an issue with fillna items but I have not had time to look into this as I wanted to contuine modelling. For my models I dropped this last day. This is also mentioned in the Modelling Notebook."
   ]
  },
  {
   "cell_type": "code",
   "execution_count": 264,
   "id": "7494401b",
   "metadata": {
    "ExecuteTime": {
     "end_time": "2022-04-04T12:22:56.719875Z",
     "start_time": "2022-04-04T12:22:56.689955Z"
    },
    "scrolled": true
   },
   "outputs": [
    {
     "data": {
      "text/plain": [
       "Date\n",
       "2021-01-04    260\n",
       "2021-01-05     51\n",
       "2021-01-06     12\n",
       "2021-01-07     58\n",
       "2021-01-08     21\n",
       "             ... \n",
       "2021-12-27     33\n",
       "2021-12-28     91\n",
       "2021-12-29     48\n",
       "2021-12-30     59\n",
       "2021-12-31     53\n",
       "Name: title, Length: 252, dtype: int64"
      ]
     },
     "execution_count": 264,
     "metadata": {},
     "output_type": "execute_result"
    }
   ],
   "source": [
    "# Look at the end of the year of the \n",
    "gme_mention_price_df.groupby('Date')['title'].count()"
   ]
  },
  {
   "cell_type": "markdown",
   "id": "b08f7547",
   "metadata": {},
   "source": [
    "If I look at the count over the months"
   ]
  },
  {
   "cell_type": "code",
   "execution_count": 265,
   "id": "4201e1b8",
   "metadata": {
    "ExecuteTime": {
     "end_time": "2022-04-04T12:22:56.783137Z",
     "start_time": "2022-04-04T12:22:56.720873Z"
    },
    "scrolled": true
   },
   "outputs": [
    {
     "data": {
      "text/html": [
       "<div>\n",
       "<style scoped>\n",
       "    .dataframe tbody tr th:only-of-type {\n",
       "        vertical-align: middle;\n",
       "    }\n",
       "\n",
       "    .dataframe tbody tr th {\n",
       "        vertical-align: top;\n",
       "    }\n",
       "\n",
       "    .dataframe thead th {\n",
       "        text-align: right;\n",
       "    }\n",
       "</style>\n",
       "<table border=\"1\" class=\"dataframe\">\n",
       "  <thead>\n",
       "    <tr style=\"text-align: right;\">\n",
       "      <th></th>\n",
       "      <th>author</th>\n",
       "      <th>title</th>\n",
       "      <th>upvote_ratio</th>\n",
       "      <th>score</th>\n",
       "      <th>num_comments</th>\n",
       "      <th>Date</th>\n",
       "      <th>Low</th>\n",
       "      <th>Open</th>\n",
       "      <th>Volume</th>\n",
       "      <th>High</th>\n",
       "      <th>...</th>\n",
       "      <th>gme_mention_roll_5_days</th>\n",
       "      <th>gme_mention_roll_1_day_before</th>\n",
       "      <th>gme_mention_roll_2_day_before</th>\n",
       "      <th>gme_mention_roll_3_day_before</th>\n",
       "      <th>gme_price_roll_2_days</th>\n",
       "      <th>gme_price_roll_3_days</th>\n",
       "      <th>gme_price_roll_4_days</th>\n",
       "      <th>gme_price_roll_5_days</th>\n",
       "      <th>month_number</th>\n",
       "      <th>day_number</th>\n",
       "    </tr>\n",
       "    <tr>\n",
       "      <th>Date</th>\n",
       "      <th></th>\n",
       "      <th></th>\n",
       "      <th></th>\n",
       "      <th></th>\n",
       "      <th></th>\n",
       "      <th></th>\n",
       "      <th></th>\n",
       "      <th></th>\n",
       "      <th></th>\n",
       "      <th></th>\n",
       "      <th></th>\n",
       "      <th></th>\n",
       "      <th></th>\n",
       "      <th></th>\n",
       "      <th></th>\n",
       "      <th></th>\n",
       "      <th></th>\n",
       "      <th></th>\n",
       "      <th></th>\n",
       "      <th></th>\n",
       "      <th></th>\n",
       "    </tr>\n",
       "  </thead>\n",
       "  <tbody>\n",
       "    <tr>\n",
       "      <th>1</th>\n",
       "      <td>55657</td>\n",
       "      <td>55657</td>\n",
       "      <td>55657</td>\n",
       "      <td>55657</td>\n",
       "      <td>55657</td>\n",
       "      <td>55657</td>\n",
       "      <td>55657</td>\n",
       "      <td>55657</td>\n",
       "      <td>55657</td>\n",
       "      <td>55657</td>\n",
       "      <td>...</td>\n",
       "      <td>55657</td>\n",
       "      <td>55657</td>\n",
       "      <td>55657</td>\n",
       "      <td>55657</td>\n",
       "      <td>55657</td>\n",
       "      <td>55657</td>\n",
       "      <td>55657</td>\n",
       "      <td>55657</td>\n",
       "      <td>55657</td>\n",
       "      <td>55657</td>\n",
       "    </tr>\n",
       "    <tr>\n",
       "      <th>2</th>\n",
       "      <td>12599</td>\n",
       "      <td>12599</td>\n",
       "      <td>12599</td>\n",
       "      <td>12599</td>\n",
       "      <td>12599</td>\n",
       "      <td>12599</td>\n",
       "      <td>12599</td>\n",
       "      <td>12599</td>\n",
       "      <td>12599</td>\n",
       "      <td>12599</td>\n",
       "      <td>...</td>\n",
       "      <td>12599</td>\n",
       "      <td>12599</td>\n",
       "      <td>12599</td>\n",
       "      <td>12599</td>\n",
       "      <td>12599</td>\n",
       "      <td>12599</td>\n",
       "      <td>12599</td>\n",
       "      <td>12599</td>\n",
       "      <td>12599</td>\n",
       "      <td>12599</td>\n",
       "    </tr>\n",
       "    <tr>\n",
       "      <th>3</th>\n",
       "      <td>21140</td>\n",
       "      <td>21140</td>\n",
       "      <td>21140</td>\n",
       "      <td>21140</td>\n",
       "      <td>21140</td>\n",
       "      <td>21140</td>\n",
       "      <td>21140</td>\n",
       "      <td>21140</td>\n",
       "      <td>21140</td>\n",
       "      <td>21140</td>\n",
       "      <td>...</td>\n",
       "      <td>21140</td>\n",
       "      <td>21140</td>\n",
       "      <td>21140</td>\n",
       "      <td>21140</td>\n",
       "      <td>21140</td>\n",
       "      <td>21140</td>\n",
       "      <td>21140</td>\n",
       "      <td>21140</td>\n",
       "      <td>21140</td>\n",
       "      <td>21140</td>\n",
       "    </tr>\n",
       "    <tr>\n",
       "      <th>4</th>\n",
       "      <td>6949</td>\n",
       "      <td>6949</td>\n",
       "      <td>6949</td>\n",
       "      <td>6949</td>\n",
       "      <td>6949</td>\n",
       "      <td>6949</td>\n",
       "      <td>6949</td>\n",
       "      <td>6949</td>\n",
       "      <td>6949</td>\n",
       "      <td>6949</td>\n",
       "      <td>...</td>\n",
       "      <td>6949</td>\n",
       "      <td>6949</td>\n",
       "      <td>6949</td>\n",
       "      <td>6949</td>\n",
       "      <td>6949</td>\n",
       "      <td>6949</td>\n",
       "      <td>6949</td>\n",
       "      <td>6949</td>\n",
       "      <td>6949</td>\n",
       "      <td>6949</td>\n",
       "    </tr>\n",
       "    <tr>\n",
       "      <th>5</th>\n",
       "      <td>4190</td>\n",
       "      <td>4190</td>\n",
       "      <td>4190</td>\n",
       "      <td>4190</td>\n",
       "      <td>4190</td>\n",
       "      <td>4190</td>\n",
       "      <td>4190</td>\n",
       "      <td>4190</td>\n",
       "      <td>4190</td>\n",
       "      <td>4190</td>\n",
       "      <td>...</td>\n",
       "      <td>4190</td>\n",
       "      <td>4190</td>\n",
       "      <td>4190</td>\n",
       "      <td>4190</td>\n",
       "      <td>4190</td>\n",
       "      <td>4190</td>\n",
       "      <td>4190</td>\n",
       "      <td>4190</td>\n",
       "      <td>4190</td>\n",
       "      <td>4190</td>\n",
       "    </tr>\n",
       "    <tr>\n",
       "      <th>6</th>\n",
       "      <td>3420</td>\n",
       "      <td>3420</td>\n",
       "      <td>3420</td>\n",
       "      <td>3420</td>\n",
       "      <td>3420</td>\n",
       "      <td>3420</td>\n",
       "      <td>3420</td>\n",
       "      <td>3420</td>\n",
       "      <td>3420</td>\n",
       "      <td>3420</td>\n",
       "      <td>...</td>\n",
       "      <td>3420</td>\n",
       "      <td>3420</td>\n",
       "      <td>3420</td>\n",
       "      <td>3420</td>\n",
       "      <td>3420</td>\n",
       "      <td>3420</td>\n",
       "      <td>3420</td>\n",
       "      <td>3420</td>\n",
       "      <td>3420</td>\n",
       "      <td>3420</td>\n",
       "    </tr>\n",
       "    <tr>\n",
       "      <th>7</th>\n",
       "      <td>2548</td>\n",
       "      <td>2548</td>\n",
       "      <td>2548</td>\n",
       "      <td>2548</td>\n",
       "      <td>2548</td>\n",
       "      <td>2548</td>\n",
       "      <td>2548</td>\n",
       "      <td>2548</td>\n",
       "      <td>2548</td>\n",
       "      <td>2548</td>\n",
       "      <td>...</td>\n",
       "      <td>2548</td>\n",
       "      <td>2548</td>\n",
       "      <td>2548</td>\n",
       "      <td>2548</td>\n",
       "      <td>2548</td>\n",
       "      <td>2548</td>\n",
       "      <td>2548</td>\n",
       "      <td>2548</td>\n",
       "      <td>2548</td>\n",
       "      <td>2548</td>\n",
       "    </tr>\n",
       "    <tr>\n",
       "      <th>8</th>\n",
       "      <td>3454</td>\n",
       "      <td>3454</td>\n",
       "      <td>3454</td>\n",
       "      <td>3454</td>\n",
       "      <td>3454</td>\n",
       "      <td>3454</td>\n",
       "      <td>3454</td>\n",
       "      <td>3454</td>\n",
       "      <td>3454</td>\n",
       "      <td>3454</td>\n",
       "      <td>...</td>\n",
       "      <td>3454</td>\n",
       "      <td>3454</td>\n",
       "      <td>3454</td>\n",
       "      <td>3454</td>\n",
       "      <td>3454</td>\n",
       "      <td>3454</td>\n",
       "      <td>3454</td>\n",
       "      <td>3454</td>\n",
       "      <td>3454</td>\n",
       "      <td>3454</td>\n",
       "    </tr>\n",
       "    <tr>\n",
       "      <th>9</th>\n",
       "      <td>3532</td>\n",
       "      <td>3532</td>\n",
       "      <td>3532</td>\n",
       "      <td>3532</td>\n",
       "      <td>3532</td>\n",
       "      <td>3532</td>\n",
       "      <td>3532</td>\n",
       "      <td>3532</td>\n",
       "      <td>3532</td>\n",
       "      <td>3532</td>\n",
       "      <td>...</td>\n",
       "      <td>3532</td>\n",
       "      <td>3532</td>\n",
       "      <td>3532</td>\n",
       "      <td>3532</td>\n",
       "      <td>3532</td>\n",
       "      <td>3532</td>\n",
       "      <td>3532</td>\n",
       "      <td>3532</td>\n",
       "      <td>3532</td>\n",
       "      <td>3532</td>\n",
       "    </tr>\n",
       "    <tr>\n",
       "      <th>10</th>\n",
       "      <td>1490</td>\n",
       "      <td>1490</td>\n",
       "      <td>1490</td>\n",
       "      <td>1490</td>\n",
       "      <td>1490</td>\n",
       "      <td>1490</td>\n",
       "      <td>1490</td>\n",
       "      <td>1490</td>\n",
       "      <td>1490</td>\n",
       "      <td>1490</td>\n",
       "      <td>...</td>\n",
       "      <td>1490</td>\n",
       "      <td>1490</td>\n",
       "      <td>1490</td>\n",
       "      <td>1490</td>\n",
       "      <td>1490</td>\n",
       "      <td>1490</td>\n",
       "      <td>1490</td>\n",
       "      <td>1490</td>\n",
       "      <td>1490</td>\n",
       "      <td>1490</td>\n",
       "    </tr>\n",
       "    <tr>\n",
       "      <th>11</th>\n",
       "      <td>3430</td>\n",
       "      <td>3430</td>\n",
       "      <td>3430</td>\n",
       "      <td>3430</td>\n",
       "      <td>3430</td>\n",
       "      <td>3430</td>\n",
       "      <td>3430</td>\n",
       "      <td>3430</td>\n",
       "      <td>3430</td>\n",
       "      <td>3430</td>\n",
       "      <td>...</td>\n",
       "      <td>3430</td>\n",
       "      <td>3430</td>\n",
       "      <td>3430</td>\n",
       "      <td>3430</td>\n",
       "      <td>3430</td>\n",
       "      <td>3430</td>\n",
       "      <td>3430</td>\n",
       "      <td>3430</td>\n",
       "      <td>3430</td>\n",
       "      <td>3430</td>\n",
       "    </tr>\n",
       "    <tr>\n",
       "      <th>12</th>\n",
       "      <td>2709</td>\n",
       "      <td>2709</td>\n",
       "      <td>2709</td>\n",
       "      <td>2709</td>\n",
       "      <td>2709</td>\n",
       "      <td>2709</td>\n",
       "      <td>2709</td>\n",
       "      <td>2709</td>\n",
       "      <td>2709</td>\n",
       "      <td>2709</td>\n",
       "      <td>...</td>\n",
       "      <td>2709</td>\n",
       "      <td>2709</td>\n",
       "      <td>2709</td>\n",
       "      <td>2709</td>\n",
       "      <td>2709</td>\n",
       "      <td>2709</td>\n",
       "      <td>2709</td>\n",
       "      <td>2709</td>\n",
       "      <td>2709</td>\n",
       "      <td>2709</td>\n",
       "    </tr>\n",
       "  </tbody>\n",
       "</table>\n",
       "<p>12 rows × 25 columns</p>\n",
       "</div>"
      ],
      "text/plain": [
       "      author  title  upvote_ratio  score  num_comments   Date    Low   Open  \\\n",
       "Date                                                                          \n",
       "1      55657  55657         55657  55657         55657  55657  55657  55657   \n",
       "2      12599  12599         12599  12599         12599  12599  12599  12599   \n",
       "3      21140  21140         21140  21140         21140  21140  21140  21140   \n",
       "4       6949   6949          6949   6949          6949   6949   6949   6949   \n",
       "5       4190   4190          4190   4190          4190   4190   4190   4190   \n",
       "6       3420   3420          3420   3420          3420   3420   3420   3420   \n",
       "7       2548   2548          2548   2548          2548   2548   2548   2548   \n",
       "8       3454   3454          3454   3454          3454   3454   3454   3454   \n",
       "9       3532   3532          3532   3532          3532   3532   3532   3532   \n",
       "10      1490   1490          1490   1490          1490   1490   1490   1490   \n",
       "11      3430   3430          3430   3430          3430   3430   3430   3430   \n",
       "12      2709   2709          2709   2709          2709   2709   2709   2709   \n",
       "\n",
       "      Volume   High  ...  gme_mention_roll_5_days  \\\n",
       "Date                 ...                            \n",
       "1      55657  55657  ...                    55657   \n",
       "2      12599  12599  ...                    12599   \n",
       "3      21140  21140  ...                    21140   \n",
       "4       6949   6949  ...                     6949   \n",
       "5       4190   4190  ...                     4190   \n",
       "6       3420   3420  ...                     3420   \n",
       "7       2548   2548  ...                     2548   \n",
       "8       3454   3454  ...                     3454   \n",
       "9       3532   3532  ...                     3532   \n",
       "10      1490   1490  ...                     1490   \n",
       "11      3430   3430  ...                     3430   \n",
       "12      2709   2709  ...                     2709   \n",
       "\n",
       "      gme_mention_roll_1_day_before  gme_mention_roll_2_day_before  \\\n",
       "Date                                                                 \n",
       "1                             55657                          55657   \n",
       "2                             12599                          12599   \n",
       "3                             21140                          21140   \n",
       "4                              6949                           6949   \n",
       "5                              4190                           4190   \n",
       "6                              3420                           3420   \n",
       "7                              2548                           2548   \n",
       "8                              3454                           3454   \n",
       "9                              3532                           3532   \n",
       "10                             1490                           1490   \n",
       "11                             3430                           3430   \n",
       "12                             2709                           2709   \n",
       "\n",
       "      gme_mention_roll_3_day_before  gme_price_roll_2_days  \\\n",
       "Date                                                         \n",
       "1                             55657                  55657   \n",
       "2                             12599                  12599   \n",
       "3                             21140                  21140   \n",
       "4                              6949                   6949   \n",
       "5                              4190                   4190   \n",
       "6                              3420                   3420   \n",
       "7                              2548                   2548   \n",
       "8                              3454                   3454   \n",
       "9                              3532                   3532   \n",
       "10                             1490                   1490   \n",
       "11                             3430                   3430   \n",
       "12                             2709                   2709   \n",
       "\n",
       "      gme_price_roll_3_days  gme_price_roll_4_days  gme_price_roll_5_days  \\\n",
       "Date                                                                        \n",
       "1                     55657                  55657                  55657   \n",
       "2                     12599                  12599                  12599   \n",
       "3                     21140                  21140                  21140   \n",
       "4                      6949                   6949                   6949   \n",
       "5                      4190                   4190                   4190   \n",
       "6                      3420                   3420                   3420   \n",
       "7                      2548                   2548                   2548   \n",
       "8                      3454                   3454                   3454   \n",
       "9                      3532                   3532                   3532   \n",
       "10                     1490                   1490                   1490   \n",
       "11                     3430                   3430                   3430   \n",
       "12                     2709                   2709                   2709   \n",
       "\n",
       "      month_number  day_number  \n",
       "Date                            \n",
       "1            55657       55657  \n",
       "2            12599       12599  \n",
       "3            21140       21140  \n",
       "4             6949        6949  \n",
       "5             4190        4190  \n",
       "6             3420        3420  \n",
       "7             2548        2548  \n",
       "8             3454        3454  \n",
       "9             3532        3532  \n",
       "10            1490        1490  \n",
       "11            3430        3430  \n",
       "12            2709        2709  \n",
       "\n",
       "[12 rows x 25 columns]"
      ]
     },
     "execution_count": 265,
     "metadata": {},
     "output_type": "execute_result"
    }
   ],
   "source": [
    "gme_mention_price_df.groupby(gme_mention_price_df['Date'].dt.month).count()"
   ]
  },
  {
   "cell_type": "markdown",
   "id": "93536cd6",
   "metadata": {},
   "source": [
    "In order to join the GME mention dataframe and the GME share price I had to drop the Hour/Minute/Second parts of the time series in the Reddit data as the GME Share Price only had 252 days for when the markets were open. Then I needed to fill the price for the days the markets were closed with the fillna method. \n",
    "<br><br> \n",
    "It is not ideal to lose this amount of data but since it is take from across all the months, its the weekend days and holidays it should not affect my modelling in the same way as if it was lost in one or two months for example."
   ]
  },
  {
   "cell_type": "code",
   "execution_count": 266,
   "id": "551907cd",
   "metadata": {
    "ExecuteTime": {
     "end_time": "2022-04-04T12:22:56.830012Z",
     "start_time": "2022-04-04T12:22:56.784135Z"
    },
    "scrolled": true
   },
   "outputs": [
    {
     "name": "stdout",
     "output_type": "stream",
     "text": [
      "<class 'pandas.core.frame.DataFrame'>\n",
      "Int64Index: 121118 entries, 0 to 121117\n",
      "Data columns (total 25 columns):\n",
      " #   Column                         Non-Null Count   Dtype         \n",
      "---  ------                         --------------   -----         \n",
      " 0   author                         121118 non-null  object        \n",
      " 1   title                          121118 non-null  object        \n",
      " 2   upvote_ratio                   121118 non-null  float64       \n",
      " 3   score                          121118 non-null  int32         \n",
      " 4   num_comments                   121118 non-null  int32         \n",
      " 5   Date                           121118 non-null  datetime64[ns]\n",
      " 6   Low                            121118 non-null  float64       \n",
      " 7   Open                           121118 non-null  float64       \n",
      " 8   Volume                         121118 non-null  int32         \n",
      " 9   High                           121118 non-null  float64       \n",
      " 10  Close                          121118 non-null  float64       \n",
      " 11  gme_mention_day_count          121118 non-null  int64         \n",
      " 12  gme_mention_roll_2_days        121118 non-null  float64       \n",
      " 13  gme_mention_roll_3_days        121118 non-null  float64       \n",
      " 14  gme_mention_roll_4_days        121118 non-null  float64       \n",
      " 15  gme_mention_roll_5_days        121118 non-null  float64       \n",
      " 16  gme_mention_roll_1_day_before  121118 non-null  float64       \n",
      " 17  gme_mention_roll_2_day_before  121118 non-null  float64       \n",
      " 18  gme_mention_roll_3_day_before  121118 non-null  float64       \n",
      " 19  gme_price_roll_2_days          121118 non-null  float64       \n",
      " 20  gme_price_roll_3_days          121118 non-null  float64       \n",
      " 21  gme_price_roll_4_days          121118 non-null  float64       \n",
      " 22  gme_price_roll_5_days          121118 non-null  float64       \n",
      " 23  month_number                   121118 non-null  int64         \n",
      " 24  day_number                     121118 non-null  int64         \n",
      "dtypes: datetime64[ns](1), float64(16), int32(3), int64(3), object(2)\n",
      "memory usage: 22.6+ MB\n"
     ]
    }
   ],
   "source": [
    "gme_mention_price_df.info()"
   ]
  },
  {
   "cell_type": "markdown",
   "id": "2d976623",
   "metadata": {},
   "source": [
    "---\n",
    "---\n",
    "---"
   ]
  },
  {
   "cell_type": "markdown",
   "id": "e4de9274",
   "metadata": {},
   "source": [
    "# **Future tasks/jobs**"
   ]
  },
  {
   "cell_type": "markdown",
   "id": "ffeb1b28",
   "metadata": {
    "ExecuteTime": {
     "end_time": "2022-04-01T19:54:46.705168Z",
     "start_time": "2022-04-01T19:54:46.705168Z"
    }
   },
   "source": [
    "**1. Fix issues:**\n",
    "- Issue 1: Suspected issue with fillna method.\n",
    "    - Discussed in Section 11.1\n",
    "\n",
    "**2. New Features**\n",
    "- Top Users with Score and num_comments\n",
    "    - We did take the top users but decided not to use them as there was very comments per user.\n",
    "    - However, one future area is to look at the score and the num_comments by these users to get a 'weight' of which users had the most 'affect' on the data. For example, we might find one user might have only a small number of comments (less than others) but they have a large amount of comments. This could potential give them more affect on the users in general.\n",
    "\n",
    "**3. Game Stop Share Price**\n",
    "- We only took one year of the data to match the timeline of the Reddit data. We explain this more but its likley this lead to issues with our modelling of the Train and Test data in our Modelling Notebook. There are another of reason for these issues. However, one future option is to load in the full time range for the Game Stop Shares and and remodel. Especially for the time series section. This is a project in itself."
   ]
  },
  {
   "cell_type": "markdown",
   "id": "7243515d",
   "metadata": {},
   "source": [
    "---\n",
    "---\n",
    "---"
   ]
  },
  {
   "cell_type": "markdown",
   "id": "963c2116",
   "metadata": {
    "ExecuteTime": {
     "end_time": "2022-04-02T10:31:05.958454Z",
     "start_time": "2022-04-02T10:31:05.949477Z"
    }
   },
   "source": [
    "# **Conclusion**"
   ]
  },
  {
   "cell_type": "markdown",
   "id": "209e1de5",
   "metadata": {},
   "source": [
    "- We have now taken the 14 Reddit Datasets, cleaned them, joined them and taken the number of Game Stop Mentions.\n",
    "- We have taken the Game Stop Share Price data and cleaned it.\n",
    "- We have joined the above data into one data set.\n",
    "- We have also added a number of new features.\n",
    "- In the next Notebook we will look into some Natural Language Modelling of the Reddit data to see if we can find some interesting results.\n",
    "- We will also look at some basic Time Series Modelling of the combined data. Although this is a full project in its self so most that will be done in a later project."
   ]
  },
  {
   "cell_type": "markdown",
   "id": "769ec0ef",
   "metadata": {},
   "source": [
    "---\n",
    "---\n",
    "---"
   ]
  }
 ],
 "metadata": {
  "kernelspec": {
   "display_name": "Python (bscapstone)",
   "language": "python",
   "name": "bscapstone"
  },
  "language_info": {
   "codemirror_mode": {
    "name": "ipython",
    "version": 3
   },
   "file_extension": ".py",
   "mimetype": "text/x-python",
   "name": "python",
   "nbconvert_exporter": "python",
   "pygments_lexer": "ipython3",
   "version": "3.9.7"
  },
  "toc": {
   "base_numbering": "1",
   "nav_menu": {},
   "number_sections": true,
   "sideBar": true,
   "skip_h1_title": false,
   "title_cell": "Table of Contents",
   "title_sidebar": "Contents",
   "toc_cell": true,
   "toc_position": {
    "height": "calc(100% - 180px)",
    "left": "10px",
    "top": "150px",
    "width": "383.969px"
   },
   "toc_section_display": true,
   "toc_window_display": false
  }
 },
 "nbformat": 4,
 "nbformat_minor": 5
}
